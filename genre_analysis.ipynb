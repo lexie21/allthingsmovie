{
  "nbformat": 4,
  "nbformat_minor": 0,
  "metadata": {
    "colab": {
      "provenance": [],
      "collapsed_sections": [
        "6xlsoGhe58YL"
      ]
    },
    "kernelspec": {
      "name": "python3",
      "display_name": "Python 3"
    },
    "language_info": {
      "name": "python"
    },
    "widgets": {
      "application/vnd.jupyter.widget-state+json": {
        "466cc109ee6341baa832c42e3bbe73df": {
          "model_module": "@jupyter-widgets/controls",
          "model_name": "HBoxModel",
          "model_module_version": "1.5.0",
          "state": {
            "_dom_classes": [],
            "_model_module": "@jupyter-widgets/controls",
            "_model_module_version": "1.5.0",
            "_model_name": "HBoxModel",
            "_view_count": null,
            "_view_module": "@jupyter-widgets/controls",
            "_view_module_version": "1.5.0",
            "_view_name": "HBoxView",
            "box_style": "",
            "children": [
              "IPY_MODEL_d870ef7ac0634ef086396995347ba689",
              "IPY_MODEL_e3abace0b7544e86991a662aedfcd886",
              "IPY_MODEL_436ac93ed296446b821b87a54f7c3af9"
            ],
            "layout": "IPY_MODEL_f38f81ca5d5e478f803e20bbd2cef8f2"
          }
        },
        "d870ef7ac0634ef086396995347ba689": {
          "model_module": "@jupyter-widgets/controls",
          "model_name": "HTMLModel",
          "model_module_version": "1.5.0",
          "state": {
            "_dom_classes": [],
            "_model_module": "@jupyter-widgets/controls",
            "_model_module_version": "1.5.0",
            "_model_name": "HTMLModel",
            "_view_count": null,
            "_view_module": "@jupyter-widgets/controls",
            "_view_module_version": "1.5.0",
            "_view_name": "HTMLView",
            "description": "",
            "description_tooltip": null,
            "layout": "IPY_MODEL_f08313adf5804cdfa144910dbd4ac7db",
            "placeholder": "​",
            "style": "IPY_MODEL_c2e41a2b7dc84cbeb0e456e887759547",
            "value": "modules.json: 100%"
          }
        },
        "e3abace0b7544e86991a662aedfcd886": {
          "model_module": "@jupyter-widgets/controls",
          "model_name": "FloatProgressModel",
          "model_module_version": "1.5.0",
          "state": {
            "_dom_classes": [],
            "_model_module": "@jupyter-widgets/controls",
            "_model_module_version": "1.5.0",
            "_model_name": "FloatProgressModel",
            "_view_count": null,
            "_view_module": "@jupyter-widgets/controls",
            "_view_module_version": "1.5.0",
            "_view_name": "ProgressView",
            "bar_style": "success",
            "description": "",
            "description_tooltip": null,
            "layout": "IPY_MODEL_2595726b57b14854bafd4f5713bd8ee5",
            "max": 229,
            "min": 0,
            "orientation": "horizontal",
            "style": "IPY_MODEL_deff44f6e36844a0a61d41a69b9f6089",
            "value": 229
          }
        },
        "436ac93ed296446b821b87a54f7c3af9": {
          "model_module": "@jupyter-widgets/controls",
          "model_name": "HTMLModel",
          "model_module_version": "1.5.0",
          "state": {
            "_dom_classes": [],
            "_model_module": "@jupyter-widgets/controls",
            "_model_module_version": "1.5.0",
            "_model_name": "HTMLModel",
            "_view_count": null,
            "_view_module": "@jupyter-widgets/controls",
            "_view_module_version": "1.5.0",
            "_view_name": "HTMLView",
            "description": "",
            "description_tooltip": null,
            "layout": "IPY_MODEL_56cc8e67c9cb40fcb99207e2cb713aa9",
            "placeholder": "​",
            "style": "IPY_MODEL_a940f0b9ab7e4edab3f52beea8571fd0",
            "value": " 229/229 [00:00&lt;00:00, 5.76kB/s]"
          }
        },
        "f38f81ca5d5e478f803e20bbd2cef8f2": {
          "model_module": "@jupyter-widgets/base",
          "model_name": "LayoutModel",
          "model_module_version": "1.2.0",
          "state": {
            "_model_module": "@jupyter-widgets/base",
            "_model_module_version": "1.2.0",
            "_model_name": "LayoutModel",
            "_view_count": null,
            "_view_module": "@jupyter-widgets/base",
            "_view_module_version": "1.2.0",
            "_view_name": "LayoutView",
            "align_content": null,
            "align_items": null,
            "align_self": null,
            "border": null,
            "bottom": null,
            "display": null,
            "flex": null,
            "flex_flow": null,
            "grid_area": null,
            "grid_auto_columns": null,
            "grid_auto_flow": null,
            "grid_auto_rows": null,
            "grid_column": null,
            "grid_gap": null,
            "grid_row": null,
            "grid_template_areas": null,
            "grid_template_columns": null,
            "grid_template_rows": null,
            "height": null,
            "justify_content": null,
            "justify_items": null,
            "left": null,
            "margin": null,
            "max_height": null,
            "max_width": null,
            "min_height": null,
            "min_width": null,
            "object_fit": null,
            "object_position": null,
            "order": null,
            "overflow": null,
            "overflow_x": null,
            "overflow_y": null,
            "padding": null,
            "right": null,
            "top": null,
            "visibility": null,
            "width": null
          }
        },
        "f08313adf5804cdfa144910dbd4ac7db": {
          "model_module": "@jupyter-widgets/base",
          "model_name": "LayoutModel",
          "model_module_version": "1.2.0",
          "state": {
            "_model_module": "@jupyter-widgets/base",
            "_model_module_version": "1.2.0",
            "_model_name": "LayoutModel",
            "_view_count": null,
            "_view_module": "@jupyter-widgets/base",
            "_view_module_version": "1.2.0",
            "_view_name": "LayoutView",
            "align_content": null,
            "align_items": null,
            "align_self": null,
            "border": null,
            "bottom": null,
            "display": null,
            "flex": null,
            "flex_flow": null,
            "grid_area": null,
            "grid_auto_columns": null,
            "grid_auto_flow": null,
            "grid_auto_rows": null,
            "grid_column": null,
            "grid_gap": null,
            "grid_row": null,
            "grid_template_areas": null,
            "grid_template_columns": null,
            "grid_template_rows": null,
            "height": null,
            "justify_content": null,
            "justify_items": null,
            "left": null,
            "margin": null,
            "max_height": null,
            "max_width": null,
            "min_height": null,
            "min_width": null,
            "object_fit": null,
            "object_position": null,
            "order": null,
            "overflow": null,
            "overflow_x": null,
            "overflow_y": null,
            "padding": null,
            "right": null,
            "top": null,
            "visibility": null,
            "width": null
          }
        },
        "c2e41a2b7dc84cbeb0e456e887759547": {
          "model_module": "@jupyter-widgets/controls",
          "model_name": "DescriptionStyleModel",
          "model_module_version": "1.5.0",
          "state": {
            "_model_module": "@jupyter-widgets/controls",
            "_model_module_version": "1.5.0",
            "_model_name": "DescriptionStyleModel",
            "_view_count": null,
            "_view_module": "@jupyter-widgets/base",
            "_view_module_version": "1.2.0",
            "_view_name": "StyleView",
            "description_width": ""
          }
        },
        "2595726b57b14854bafd4f5713bd8ee5": {
          "model_module": "@jupyter-widgets/base",
          "model_name": "LayoutModel",
          "model_module_version": "1.2.0",
          "state": {
            "_model_module": "@jupyter-widgets/base",
            "_model_module_version": "1.2.0",
            "_model_name": "LayoutModel",
            "_view_count": null,
            "_view_module": "@jupyter-widgets/base",
            "_view_module_version": "1.2.0",
            "_view_name": "LayoutView",
            "align_content": null,
            "align_items": null,
            "align_self": null,
            "border": null,
            "bottom": null,
            "display": null,
            "flex": null,
            "flex_flow": null,
            "grid_area": null,
            "grid_auto_columns": null,
            "grid_auto_flow": null,
            "grid_auto_rows": null,
            "grid_column": null,
            "grid_gap": null,
            "grid_row": null,
            "grid_template_areas": null,
            "grid_template_columns": null,
            "grid_template_rows": null,
            "height": null,
            "justify_content": null,
            "justify_items": null,
            "left": null,
            "margin": null,
            "max_height": null,
            "max_width": null,
            "min_height": null,
            "min_width": null,
            "object_fit": null,
            "object_position": null,
            "order": null,
            "overflow": null,
            "overflow_x": null,
            "overflow_y": null,
            "padding": null,
            "right": null,
            "top": null,
            "visibility": null,
            "width": null
          }
        },
        "deff44f6e36844a0a61d41a69b9f6089": {
          "model_module": "@jupyter-widgets/controls",
          "model_name": "ProgressStyleModel",
          "model_module_version": "1.5.0",
          "state": {
            "_model_module": "@jupyter-widgets/controls",
            "_model_module_version": "1.5.0",
            "_model_name": "ProgressStyleModel",
            "_view_count": null,
            "_view_module": "@jupyter-widgets/base",
            "_view_module_version": "1.2.0",
            "_view_name": "StyleView",
            "bar_color": null,
            "description_width": ""
          }
        },
        "56cc8e67c9cb40fcb99207e2cb713aa9": {
          "model_module": "@jupyter-widgets/base",
          "model_name": "LayoutModel",
          "model_module_version": "1.2.0",
          "state": {
            "_model_module": "@jupyter-widgets/base",
            "_model_module_version": "1.2.0",
            "_model_name": "LayoutModel",
            "_view_count": null,
            "_view_module": "@jupyter-widgets/base",
            "_view_module_version": "1.2.0",
            "_view_name": "LayoutView",
            "align_content": null,
            "align_items": null,
            "align_self": null,
            "border": null,
            "bottom": null,
            "display": null,
            "flex": null,
            "flex_flow": null,
            "grid_area": null,
            "grid_auto_columns": null,
            "grid_auto_flow": null,
            "grid_auto_rows": null,
            "grid_column": null,
            "grid_gap": null,
            "grid_row": null,
            "grid_template_areas": null,
            "grid_template_columns": null,
            "grid_template_rows": null,
            "height": null,
            "justify_content": null,
            "justify_items": null,
            "left": null,
            "margin": null,
            "max_height": null,
            "max_width": null,
            "min_height": null,
            "min_width": null,
            "object_fit": null,
            "object_position": null,
            "order": null,
            "overflow": null,
            "overflow_x": null,
            "overflow_y": null,
            "padding": null,
            "right": null,
            "top": null,
            "visibility": null,
            "width": null
          }
        },
        "a940f0b9ab7e4edab3f52beea8571fd0": {
          "model_module": "@jupyter-widgets/controls",
          "model_name": "DescriptionStyleModel",
          "model_module_version": "1.5.0",
          "state": {
            "_model_module": "@jupyter-widgets/controls",
            "_model_module_version": "1.5.0",
            "_model_name": "DescriptionStyleModel",
            "_view_count": null,
            "_view_module": "@jupyter-widgets/base",
            "_view_module_version": "1.2.0",
            "_view_name": "StyleView",
            "description_width": ""
          }
        },
        "6d8602cbe55b4aeea8a8e732fb12c848": {
          "model_module": "@jupyter-widgets/controls",
          "model_name": "HBoxModel",
          "model_module_version": "1.5.0",
          "state": {
            "_dom_classes": [],
            "_model_module": "@jupyter-widgets/controls",
            "_model_module_version": "1.5.0",
            "_model_name": "HBoxModel",
            "_view_count": null,
            "_view_module": "@jupyter-widgets/controls",
            "_view_module_version": "1.5.0",
            "_view_name": "HBoxView",
            "box_style": "",
            "children": [
              "IPY_MODEL_a3a96caedf8e47678b408bdde549403e",
              "IPY_MODEL_1bc58ce021ae47038f6a5e184906d0ac",
              "IPY_MODEL_bc6888f00e074a56941f8b7c6e286381"
            ],
            "layout": "IPY_MODEL_dfd2cdb67cd94df59ed4cd43771cb416"
          }
        },
        "a3a96caedf8e47678b408bdde549403e": {
          "model_module": "@jupyter-widgets/controls",
          "model_name": "HTMLModel",
          "model_module_version": "1.5.0",
          "state": {
            "_dom_classes": [],
            "_model_module": "@jupyter-widgets/controls",
            "_model_module_version": "1.5.0",
            "_model_name": "HTMLModel",
            "_view_count": null,
            "_view_module": "@jupyter-widgets/controls",
            "_view_module_version": "1.5.0",
            "_view_name": "HTMLView",
            "description": "",
            "description_tooltip": null,
            "layout": "IPY_MODEL_40d430fed8074b49b4386064163332e9",
            "placeholder": "​",
            "style": "IPY_MODEL_8fb90ac171d24b25807b33216184c8c4",
            "value": "config_sentence_transformers.json: 100%"
          }
        },
        "1bc58ce021ae47038f6a5e184906d0ac": {
          "model_module": "@jupyter-widgets/controls",
          "model_name": "FloatProgressModel",
          "model_module_version": "1.5.0",
          "state": {
            "_dom_classes": [],
            "_model_module": "@jupyter-widgets/controls",
            "_model_module_version": "1.5.0",
            "_model_name": "FloatProgressModel",
            "_view_count": null,
            "_view_module": "@jupyter-widgets/controls",
            "_view_module_version": "1.5.0",
            "_view_name": "ProgressView",
            "bar_style": "success",
            "description": "",
            "description_tooltip": null,
            "layout": "IPY_MODEL_faa1e458b6674b55850fed8a91739e7e",
            "max": 122,
            "min": 0,
            "orientation": "horizontal",
            "style": "IPY_MODEL_de09f6ef6ad041bda0669d34e7a0d65d",
            "value": 122
          }
        },
        "bc6888f00e074a56941f8b7c6e286381": {
          "model_module": "@jupyter-widgets/controls",
          "model_name": "HTMLModel",
          "model_module_version": "1.5.0",
          "state": {
            "_dom_classes": [],
            "_model_module": "@jupyter-widgets/controls",
            "_model_module_version": "1.5.0",
            "_model_name": "HTMLModel",
            "_view_count": null,
            "_view_module": "@jupyter-widgets/controls",
            "_view_module_version": "1.5.0",
            "_view_name": "HTMLView",
            "description": "",
            "description_tooltip": null,
            "layout": "IPY_MODEL_bd84673c9e1b41c583b6ad18ba2d0698",
            "placeholder": "​",
            "style": "IPY_MODEL_a67d7613b2894b8fad040c26be819488",
            "value": " 122/122 [00:00&lt;00:00, 5.39kB/s]"
          }
        },
        "dfd2cdb67cd94df59ed4cd43771cb416": {
          "model_module": "@jupyter-widgets/base",
          "model_name": "LayoutModel",
          "model_module_version": "1.2.0",
          "state": {
            "_model_module": "@jupyter-widgets/base",
            "_model_module_version": "1.2.0",
            "_model_name": "LayoutModel",
            "_view_count": null,
            "_view_module": "@jupyter-widgets/base",
            "_view_module_version": "1.2.0",
            "_view_name": "LayoutView",
            "align_content": null,
            "align_items": null,
            "align_self": null,
            "border": null,
            "bottom": null,
            "display": null,
            "flex": null,
            "flex_flow": null,
            "grid_area": null,
            "grid_auto_columns": null,
            "grid_auto_flow": null,
            "grid_auto_rows": null,
            "grid_column": null,
            "grid_gap": null,
            "grid_row": null,
            "grid_template_areas": null,
            "grid_template_columns": null,
            "grid_template_rows": null,
            "height": null,
            "justify_content": null,
            "justify_items": null,
            "left": null,
            "margin": null,
            "max_height": null,
            "max_width": null,
            "min_height": null,
            "min_width": null,
            "object_fit": null,
            "object_position": null,
            "order": null,
            "overflow": null,
            "overflow_x": null,
            "overflow_y": null,
            "padding": null,
            "right": null,
            "top": null,
            "visibility": null,
            "width": null
          }
        },
        "40d430fed8074b49b4386064163332e9": {
          "model_module": "@jupyter-widgets/base",
          "model_name": "LayoutModel",
          "model_module_version": "1.2.0",
          "state": {
            "_model_module": "@jupyter-widgets/base",
            "_model_module_version": "1.2.0",
            "_model_name": "LayoutModel",
            "_view_count": null,
            "_view_module": "@jupyter-widgets/base",
            "_view_module_version": "1.2.0",
            "_view_name": "LayoutView",
            "align_content": null,
            "align_items": null,
            "align_self": null,
            "border": null,
            "bottom": null,
            "display": null,
            "flex": null,
            "flex_flow": null,
            "grid_area": null,
            "grid_auto_columns": null,
            "grid_auto_flow": null,
            "grid_auto_rows": null,
            "grid_column": null,
            "grid_gap": null,
            "grid_row": null,
            "grid_template_areas": null,
            "grid_template_columns": null,
            "grid_template_rows": null,
            "height": null,
            "justify_content": null,
            "justify_items": null,
            "left": null,
            "margin": null,
            "max_height": null,
            "max_width": null,
            "min_height": null,
            "min_width": null,
            "object_fit": null,
            "object_position": null,
            "order": null,
            "overflow": null,
            "overflow_x": null,
            "overflow_y": null,
            "padding": null,
            "right": null,
            "top": null,
            "visibility": null,
            "width": null
          }
        },
        "8fb90ac171d24b25807b33216184c8c4": {
          "model_module": "@jupyter-widgets/controls",
          "model_name": "DescriptionStyleModel",
          "model_module_version": "1.5.0",
          "state": {
            "_model_module": "@jupyter-widgets/controls",
            "_model_module_version": "1.5.0",
            "_model_name": "DescriptionStyleModel",
            "_view_count": null,
            "_view_module": "@jupyter-widgets/base",
            "_view_module_version": "1.2.0",
            "_view_name": "StyleView",
            "description_width": ""
          }
        },
        "faa1e458b6674b55850fed8a91739e7e": {
          "model_module": "@jupyter-widgets/base",
          "model_name": "LayoutModel",
          "model_module_version": "1.2.0",
          "state": {
            "_model_module": "@jupyter-widgets/base",
            "_model_module_version": "1.2.0",
            "_model_name": "LayoutModel",
            "_view_count": null,
            "_view_module": "@jupyter-widgets/base",
            "_view_module_version": "1.2.0",
            "_view_name": "LayoutView",
            "align_content": null,
            "align_items": null,
            "align_self": null,
            "border": null,
            "bottom": null,
            "display": null,
            "flex": null,
            "flex_flow": null,
            "grid_area": null,
            "grid_auto_columns": null,
            "grid_auto_flow": null,
            "grid_auto_rows": null,
            "grid_column": null,
            "grid_gap": null,
            "grid_row": null,
            "grid_template_areas": null,
            "grid_template_columns": null,
            "grid_template_rows": null,
            "height": null,
            "justify_content": null,
            "justify_items": null,
            "left": null,
            "margin": null,
            "max_height": null,
            "max_width": null,
            "min_height": null,
            "min_width": null,
            "object_fit": null,
            "object_position": null,
            "order": null,
            "overflow": null,
            "overflow_x": null,
            "overflow_y": null,
            "padding": null,
            "right": null,
            "top": null,
            "visibility": null,
            "width": null
          }
        },
        "de09f6ef6ad041bda0669d34e7a0d65d": {
          "model_module": "@jupyter-widgets/controls",
          "model_name": "ProgressStyleModel",
          "model_module_version": "1.5.0",
          "state": {
            "_model_module": "@jupyter-widgets/controls",
            "_model_module_version": "1.5.0",
            "_model_name": "ProgressStyleModel",
            "_view_count": null,
            "_view_module": "@jupyter-widgets/base",
            "_view_module_version": "1.2.0",
            "_view_name": "StyleView",
            "bar_color": null,
            "description_width": ""
          }
        },
        "bd84673c9e1b41c583b6ad18ba2d0698": {
          "model_module": "@jupyter-widgets/base",
          "model_name": "LayoutModel",
          "model_module_version": "1.2.0",
          "state": {
            "_model_module": "@jupyter-widgets/base",
            "_model_module_version": "1.2.0",
            "_model_name": "LayoutModel",
            "_view_count": null,
            "_view_module": "@jupyter-widgets/base",
            "_view_module_version": "1.2.0",
            "_view_name": "LayoutView",
            "align_content": null,
            "align_items": null,
            "align_self": null,
            "border": null,
            "bottom": null,
            "display": null,
            "flex": null,
            "flex_flow": null,
            "grid_area": null,
            "grid_auto_columns": null,
            "grid_auto_flow": null,
            "grid_auto_rows": null,
            "grid_column": null,
            "grid_gap": null,
            "grid_row": null,
            "grid_template_areas": null,
            "grid_template_columns": null,
            "grid_template_rows": null,
            "height": null,
            "justify_content": null,
            "justify_items": null,
            "left": null,
            "margin": null,
            "max_height": null,
            "max_width": null,
            "min_height": null,
            "min_width": null,
            "object_fit": null,
            "object_position": null,
            "order": null,
            "overflow": null,
            "overflow_x": null,
            "overflow_y": null,
            "padding": null,
            "right": null,
            "top": null,
            "visibility": null,
            "width": null
          }
        },
        "a67d7613b2894b8fad040c26be819488": {
          "model_module": "@jupyter-widgets/controls",
          "model_name": "DescriptionStyleModel",
          "model_module_version": "1.5.0",
          "state": {
            "_model_module": "@jupyter-widgets/controls",
            "_model_module_version": "1.5.0",
            "_model_name": "DescriptionStyleModel",
            "_view_count": null,
            "_view_module": "@jupyter-widgets/base",
            "_view_module_version": "1.2.0",
            "_view_name": "StyleView",
            "description_width": ""
          }
        },
        "641c26dcbf6948faa34ba1e131436b72": {
          "model_module": "@jupyter-widgets/controls",
          "model_name": "HBoxModel",
          "model_module_version": "1.5.0",
          "state": {
            "_dom_classes": [],
            "_model_module": "@jupyter-widgets/controls",
            "_model_module_version": "1.5.0",
            "_model_name": "HBoxModel",
            "_view_count": null,
            "_view_module": "@jupyter-widgets/controls",
            "_view_module_version": "1.5.0",
            "_view_name": "HBoxView",
            "box_style": "",
            "children": [
              "IPY_MODEL_c11e88e591834fddbc9fb84975998b71",
              "IPY_MODEL_c6dcb370c1ce47b5a4d0d46a2235bee3",
              "IPY_MODEL_73e2cd358a5346a3b4d6445b1523a44d"
            ],
            "layout": "IPY_MODEL_4d089805a31247f08f2f298a25aff2c6"
          }
        },
        "c11e88e591834fddbc9fb84975998b71": {
          "model_module": "@jupyter-widgets/controls",
          "model_name": "HTMLModel",
          "model_module_version": "1.5.0",
          "state": {
            "_dom_classes": [],
            "_model_module": "@jupyter-widgets/controls",
            "_model_module_version": "1.5.0",
            "_model_name": "HTMLModel",
            "_view_count": null,
            "_view_module": "@jupyter-widgets/controls",
            "_view_module_version": "1.5.0",
            "_view_name": "HTMLView",
            "description": "",
            "description_tooltip": null,
            "layout": "IPY_MODEL_39961d13835e41659c9b7afb1463775c",
            "placeholder": "​",
            "style": "IPY_MODEL_745c237131e4458e8d7c7737bfbc7e70",
            "value": "README.md: 100%"
          }
        },
        "c6dcb370c1ce47b5a4d0d46a2235bee3": {
          "model_module": "@jupyter-widgets/controls",
          "model_name": "FloatProgressModel",
          "model_module_version": "1.5.0",
          "state": {
            "_dom_classes": [],
            "_model_module": "@jupyter-widgets/controls",
            "_model_module_version": "1.5.0",
            "_model_name": "FloatProgressModel",
            "_view_count": null,
            "_view_module": "@jupyter-widgets/controls",
            "_view_module_version": "1.5.0",
            "_view_name": "ProgressView",
            "bar_style": "success",
            "description": "",
            "description_tooltip": null,
            "layout": "IPY_MODEL_2730d0f6a6ea46efbb40118680301b72",
            "max": 3729,
            "min": 0,
            "orientation": "horizontal",
            "style": "IPY_MODEL_ba4d416f5c674c40aa6964635846379d",
            "value": 3729
          }
        },
        "73e2cd358a5346a3b4d6445b1523a44d": {
          "model_module": "@jupyter-widgets/controls",
          "model_name": "HTMLModel",
          "model_module_version": "1.5.0",
          "state": {
            "_dom_classes": [],
            "_model_module": "@jupyter-widgets/controls",
            "_model_module_version": "1.5.0",
            "_model_name": "HTMLModel",
            "_view_count": null,
            "_view_module": "@jupyter-widgets/controls",
            "_view_module_version": "1.5.0",
            "_view_name": "HTMLView",
            "description": "",
            "description_tooltip": null,
            "layout": "IPY_MODEL_7fb911edac804315a96a1e1d5914eb5c",
            "placeholder": "​",
            "style": "IPY_MODEL_2fddc492988441a09b96041414e46708",
            "value": " 3.73k/3.73k [00:00&lt;00:00, 177kB/s]"
          }
        },
        "4d089805a31247f08f2f298a25aff2c6": {
          "model_module": "@jupyter-widgets/base",
          "model_name": "LayoutModel",
          "model_module_version": "1.2.0",
          "state": {
            "_model_module": "@jupyter-widgets/base",
            "_model_module_version": "1.2.0",
            "_model_name": "LayoutModel",
            "_view_count": null,
            "_view_module": "@jupyter-widgets/base",
            "_view_module_version": "1.2.0",
            "_view_name": "LayoutView",
            "align_content": null,
            "align_items": null,
            "align_self": null,
            "border": null,
            "bottom": null,
            "display": null,
            "flex": null,
            "flex_flow": null,
            "grid_area": null,
            "grid_auto_columns": null,
            "grid_auto_flow": null,
            "grid_auto_rows": null,
            "grid_column": null,
            "grid_gap": null,
            "grid_row": null,
            "grid_template_areas": null,
            "grid_template_columns": null,
            "grid_template_rows": null,
            "height": null,
            "justify_content": null,
            "justify_items": null,
            "left": null,
            "margin": null,
            "max_height": null,
            "max_width": null,
            "min_height": null,
            "min_width": null,
            "object_fit": null,
            "object_position": null,
            "order": null,
            "overflow": null,
            "overflow_x": null,
            "overflow_y": null,
            "padding": null,
            "right": null,
            "top": null,
            "visibility": null,
            "width": null
          }
        },
        "39961d13835e41659c9b7afb1463775c": {
          "model_module": "@jupyter-widgets/base",
          "model_name": "LayoutModel",
          "model_module_version": "1.2.0",
          "state": {
            "_model_module": "@jupyter-widgets/base",
            "_model_module_version": "1.2.0",
            "_model_name": "LayoutModel",
            "_view_count": null,
            "_view_module": "@jupyter-widgets/base",
            "_view_module_version": "1.2.0",
            "_view_name": "LayoutView",
            "align_content": null,
            "align_items": null,
            "align_self": null,
            "border": null,
            "bottom": null,
            "display": null,
            "flex": null,
            "flex_flow": null,
            "grid_area": null,
            "grid_auto_columns": null,
            "grid_auto_flow": null,
            "grid_auto_rows": null,
            "grid_column": null,
            "grid_gap": null,
            "grid_row": null,
            "grid_template_areas": null,
            "grid_template_columns": null,
            "grid_template_rows": null,
            "height": null,
            "justify_content": null,
            "justify_items": null,
            "left": null,
            "margin": null,
            "max_height": null,
            "max_width": null,
            "min_height": null,
            "min_width": null,
            "object_fit": null,
            "object_position": null,
            "order": null,
            "overflow": null,
            "overflow_x": null,
            "overflow_y": null,
            "padding": null,
            "right": null,
            "top": null,
            "visibility": null,
            "width": null
          }
        },
        "745c237131e4458e8d7c7737bfbc7e70": {
          "model_module": "@jupyter-widgets/controls",
          "model_name": "DescriptionStyleModel",
          "model_module_version": "1.5.0",
          "state": {
            "_model_module": "@jupyter-widgets/controls",
            "_model_module_version": "1.5.0",
            "_model_name": "DescriptionStyleModel",
            "_view_count": null,
            "_view_module": "@jupyter-widgets/base",
            "_view_module_version": "1.2.0",
            "_view_name": "StyleView",
            "description_width": ""
          }
        },
        "2730d0f6a6ea46efbb40118680301b72": {
          "model_module": "@jupyter-widgets/base",
          "model_name": "LayoutModel",
          "model_module_version": "1.2.0",
          "state": {
            "_model_module": "@jupyter-widgets/base",
            "_model_module_version": "1.2.0",
            "_model_name": "LayoutModel",
            "_view_count": null,
            "_view_module": "@jupyter-widgets/base",
            "_view_module_version": "1.2.0",
            "_view_name": "LayoutView",
            "align_content": null,
            "align_items": null,
            "align_self": null,
            "border": null,
            "bottom": null,
            "display": null,
            "flex": null,
            "flex_flow": null,
            "grid_area": null,
            "grid_auto_columns": null,
            "grid_auto_flow": null,
            "grid_auto_rows": null,
            "grid_column": null,
            "grid_gap": null,
            "grid_row": null,
            "grid_template_areas": null,
            "grid_template_columns": null,
            "grid_template_rows": null,
            "height": null,
            "justify_content": null,
            "justify_items": null,
            "left": null,
            "margin": null,
            "max_height": null,
            "max_width": null,
            "min_height": null,
            "min_width": null,
            "object_fit": null,
            "object_position": null,
            "order": null,
            "overflow": null,
            "overflow_x": null,
            "overflow_y": null,
            "padding": null,
            "right": null,
            "top": null,
            "visibility": null,
            "width": null
          }
        },
        "ba4d416f5c674c40aa6964635846379d": {
          "model_module": "@jupyter-widgets/controls",
          "model_name": "ProgressStyleModel",
          "model_module_version": "1.5.0",
          "state": {
            "_model_module": "@jupyter-widgets/controls",
            "_model_module_version": "1.5.0",
            "_model_name": "ProgressStyleModel",
            "_view_count": null,
            "_view_module": "@jupyter-widgets/base",
            "_view_module_version": "1.2.0",
            "_view_name": "StyleView",
            "bar_color": null,
            "description_width": ""
          }
        },
        "7fb911edac804315a96a1e1d5914eb5c": {
          "model_module": "@jupyter-widgets/base",
          "model_name": "LayoutModel",
          "model_module_version": "1.2.0",
          "state": {
            "_model_module": "@jupyter-widgets/base",
            "_model_module_version": "1.2.0",
            "_model_name": "LayoutModel",
            "_view_count": null,
            "_view_module": "@jupyter-widgets/base",
            "_view_module_version": "1.2.0",
            "_view_name": "LayoutView",
            "align_content": null,
            "align_items": null,
            "align_self": null,
            "border": null,
            "bottom": null,
            "display": null,
            "flex": null,
            "flex_flow": null,
            "grid_area": null,
            "grid_auto_columns": null,
            "grid_auto_flow": null,
            "grid_auto_rows": null,
            "grid_column": null,
            "grid_gap": null,
            "grid_row": null,
            "grid_template_areas": null,
            "grid_template_columns": null,
            "grid_template_rows": null,
            "height": null,
            "justify_content": null,
            "justify_items": null,
            "left": null,
            "margin": null,
            "max_height": null,
            "max_width": null,
            "min_height": null,
            "min_width": null,
            "object_fit": null,
            "object_position": null,
            "order": null,
            "overflow": null,
            "overflow_x": null,
            "overflow_y": null,
            "padding": null,
            "right": null,
            "top": null,
            "visibility": null,
            "width": null
          }
        },
        "2fddc492988441a09b96041414e46708": {
          "model_module": "@jupyter-widgets/controls",
          "model_name": "DescriptionStyleModel",
          "model_module_version": "1.5.0",
          "state": {
            "_model_module": "@jupyter-widgets/controls",
            "_model_module_version": "1.5.0",
            "_model_name": "DescriptionStyleModel",
            "_view_count": null,
            "_view_module": "@jupyter-widgets/base",
            "_view_module_version": "1.2.0",
            "_view_name": "StyleView",
            "description_width": ""
          }
        },
        "dc3d4f3ba9fc4698b5991b3cc52bd4d7": {
          "model_module": "@jupyter-widgets/controls",
          "model_name": "HBoxModel",
          "model_module_version": "1.5.0",
          "state": {
            "_dom_classes": [],
            "_model_module": "@jupyter-widgets/controls",
            "_model_module_version": "1.5.0",
            "_model_name": "HBoxModel",
            "_view_count": null,
            "_view_module": "@jupyter-widgets/controls",
            "_view_module_version": "1.5.0",
            "_view_name": "HBoxView",
            "box_style": "",
            "children": [
              "IPY_MODEL_0cff01ba450f4f97888aa424817e0834",
              "IPY_MODEL_0f4edf2c40f94bfca3f74fdd4420c969",
              "IPY_MODEL_547893d7c88341fba45b7c0fc825f43b"
            ],
            "layout": "IPY_MODEL_67cdc9d1fec9449198f666b263037ba4"
          }
        },
        "0cff01ba450f4f97888aa424817e0834": {
          "model_module": "@jupyter-widgets/controls",
          "model_name": "HTMLModel",
          "model_module_version": "1.5.0",
          "state": {
            "_dom_classes": [],
            "_model_module": "@jupyter-widgets/controls",
            "_model_module_version": "1.5.0",
            "_model_name": "HTMLModel",
            "_view_count": null,
            "_view_module": "@jupyter-widgets/controls",
            "_view_module_version": "1.5.0",
            "_view_name": "HTMLView",
            "description": "",
            "description_tooltip": null,
            "layout": "IPY_MODEL_6f43e1cf16b04b69a27a3effce9ce533",
            "placeholder": "​",
            "style": "IPY_MODEL_3c39ab418dd64e0d996339edfd7cfd69",
            "value": "sentence_bert_config.json: 100%"
          }
        },
        "0f4edf2c40f94bfca3f74fdd4420c969": {
          "model_module": "@jupyter-widgets/controls",
          "model_name": "FloatProgressModel",
          "model_module_version": "1.5.0",
          "state": {
            "_dom_classes": [],
            "_model_module": "@jupyter-widgets/controls",
            "_model_module_version": "1.5.0",
            "_model_name": "FloatProgressModel",
            "_view_count": null,
            "_view_module": "@jupyter-widgets/controls",
            "_view_module_version": "1.5.0",
            "_view_name": "ProgressView",
            "bar_style": "success",
            "description": "",
            "description_tooltip": null,
            "layout": "IPY_MODEL_638147393bc7475cb5bc8848fcc95c13",
            "max": 53,
            "min": 0,
            "orientation": "horizontal",
            "style": "IPY_MODEL_659c04f5a05342b59eb164daba07d9ef",
            "value": 53
          }
        },
        "547893d7c88341fba45b7c0fc825f43b": {
          "model_module": "@jupyter-widgets/controls",
          "model_name": "HTMLModel",
          "model_module_version": "1.5.0",
          "state": {
            "_dom_classes": [],
            "_model_module": "@jupyter-widgets/controls",
            "_model_module_version": "1.5.0",
            "_model_name": "HTMLModel",
            "_view_count": null,
            "_view_module": "@jupyter-widgets/controls",
            "_view_module_version": "1.5.0",
            "_view_name": "HTMLView",
            "description": "",
            "description_tooltip": null,
            "layout": "IPY_MODEL_2aba8dc8a8484523ad63617717b1a56b",
            "placeholder": "​",
            "style": "IPY_MODEL_5d715c2d3c2d4966a60a8ab57160132a",
            "value": " 53.0/53.0 [00:00&lt;00:00, 2.71kB/s]"
          }
        },
        "67cdc9d1fec9449198f666b263037ba4": {
          "model_module": "@jupyter-widgets/base",
          "model_name": "LayoutModel",
          "model_module_version": "1.2.0",
          "state": {
            "_model_module": "@jupyter-widgets/base",
            "_model_module_version": "1.2.0",
            "_model_name": "LayoutModel",
            "_view_count": null,
            "_view_module": "@jupyter-widgets/base",
            "_view_module_version": "1.2.0",
            "_view_name": "LayoutView",
            "align_content": null,
            "align_items": null,
            "align_self": null,
            "border": null,
            "bottom": null,
            "display": null,
            "flex": null,
            "flex_flow": null,
            "grid_area": null,
            "grid_auto_columns": null,
            "grid_auto_flow": null,
            "grid_auto_rows": null,
            "grid_column": null,
            "grid_gap": null,
            "grid_row": null,
            "grid_template_areas": null,
            "grid_template_columns": null,
            "grid_template_rows": null,
            "height": null,
            "justify_content": null,
            "justify_items": null,
            "left": null,
            "margin": null,
            "max_height": null,
            "max_width": null,
            "min_height": null,
            "min_width": null,
            "object_fit": null,
            "object_position": null,
            "order": null,
            "overflow": null,
            "overflow_x": null,
            "overflow_y": null,
            "padding": null,
            "right": null,
            "top": null,
            "visibility": null,
            "width": null
          }
        },
        "6f43e1cf16b04b69a27a3effce9ce533": {
          "model_module": "@jupyter-widgets/base",
          "model_name": "LayoutModel",
          "model_module_version": "1.2.0",
          "state": {
            "_model_module": "@jupyter-widgets/base",
            "_model_module_version": "1.2.0",
            "_model_name": "LayoutModel",
            "_view_count": null,
            "_view_module": "@jupyter-widgets/base",
            "_view_module_version": "1.2.0",
            "_view_name": "LayoutView",
            "align_content": null,
            "align_items": null,
            "align_self": null,
            "border": null,
            "bottom": null,
            "display": null,
            "flex": null,
            "flex_flow": null,
            "grid_area": null,
            "grid_auto_columns": null,
            "grid_auto_flow": null,
            "grid_auto_rows": null,
            "grid_column": null,
            "grid_gap": null,
            "grid_row": null,
            "grid_template_areas": null,
            "grid_template_columns": null,
            "grid_template_rows": null,
            "height": null,
            "justify_content": null,
            "justify_items": null,
            "left": null,
            "margin": null,
            "max_height": null,
            "max_width": null,
            "min_height": null,
            "min_width": null,
            "object_fit": null,
            "object_position": null,
            "order": null,
            "overflow": null,
            "overflow_x": null,
            "overflow_y": null,
            "padding": null,
            "right": null,
            "top": null,
            "visibility": null,
            "width": null
          }
        },
        "3c39ab418dd64e0d996339edfd7cfd69": {
          "model_module": "@jupyter-widgets/controls",
          "model_name": "DescriptionStyleModel",
          "model_module_version": "1.5.0",
          "state": {
            "_model_module": "@jupyter-widgets/controls",
            "_model_module_version": "1.5.0",
            "_model_name": "DescriptionStyleModel",
            "_view_count": null,
            "_view_module": "@jupyter-widgets/base",
            "_view_module_version": "1.2.0",
            "_view_name": "StyleView",
            "description_width": ""
          }
        },
        "638147393bc7475cb5bc8848fcc95c13": {
          "model_module": "@jupyter-widgets/base",
          "model_name": "LayoutModel",
          "model_module_version": "1.2.0",
          "state": {
            "_model_module": "@jupyter-widgets/base",
            "_model_module_version": "1.2.0",
            "_model_name": "LayoutModel",
            "_view_count": null,
            "_view_module": "@jupyter-widgets/base",
            "_view_module_version": "1.2.0",
            "_view_name": "LayoutView",
            "align_content": null,
            "align_items": null,
            "align_self": null,
            "border": null,
            "bottom": null,
            "display": null,
            "flex": null,
            "flex_flow": null,
            "grid_area": null,
            "grid_auto_columns": null,
            "grid_auto_flow": null,
            "grid_auto_rows": null,
            "grid_column": null,
            "grid_gap": null,
            "grid_row": null,
            "grid_template_areas": null,
            "grid_template_columns": null,
            "grid_template_rows": null,
            "height": null,
            "justify_content": null,
            "justify_items": null,
            "left": null,
            "margin": null,
            "max_height": null,
            "max_width": null,
            "min_height": null,
            "min_width": null,
            "object_fit": null,
            "object_position": null,
            "order": null,
            "overflow": null,
            "overflow_x": null,
            "overflow_y": null,
            "padding": null,
            "right": null,
            "top": null,
            "visibility": null,
            "width": null
          }
        },
        "659c04f5a05342b59eb164daba07d9ef": {
          "model_module": "@jupyter-widgets/controls",
          "model_name": "ProgressStyleModel",
          "model_module_version": "1.5.0",
          "state": {
            "_model_module": "@jupyter-widgets/controls",
            "_model_module_version": "1.5.0",
            "_model_name": "ProgressStyleModel",
            "_view_count": null,
            "_view_module": "@jupyter-widgets/base",
            "_view_module_version": "1.2.0",
            "_view_name": "StyleView",
            "bar_color": null,
            "description_width": ""
          }
        },
        "2aba8dc8a8484523ad63617717b1a56b": {
          "model_module": "@jupyter-widgets/base",
          "model_name": "LayoutModel",
          "model_module_version": "1.2.0",
          "state": {
            "_model_module": "@jupyter-widgets/base",
            "_model_module_version": "1.2.0",
            "_model_name": "LayoutModel",
            "_view_count": null,
            "_view_module": "@jupyter-widgets/base",
            "_view_module_version": "1.2.0",
            "_view_name": "LayoutView",
            "align_content": null,
            "align_items": null,
            "align_self": null,
            "border": null,
            "bottom": null,
            "display": null,
            "flex": null,
            "flex_flow": null,
            "grid_area": null,
            "grid_auto_columns": null,
            "grid_auto_flow": null,
            "grid_auto_rows": null,
            "grid_column": null,
            "grid_gap": null,
            "grid_row": null,
            "grid_template_areas": null,
            "grid_template_columns": null,
            "grid_template_rows": null,
            "height": null,
            "justify_content": null,
            "justify_items": null,
            "left": null,
            "margin": null,
            "max_height": null,
            "max_width": null,
            "min_height": null,
            "min_width": null,
            "object_fit": null,
            "object_position": null,
            "order": null,
            "overflow": null,
            "overflow_x": null,
            "overflow_y": null,
            "padding": null,
            "right": null,
            "top": null,
            "visibility": null,
            "width": null
          }
        },
        "5d715c2d3c2d4966a60a8ab57160132a": {
          "model_module": "@jupyter-widgets/controls",
          "model_name": "DescriptionStyleModel",
          "model_module_version": "1.5.0",
          "state": {
            "_model_module": "@jupyter-widgets/controls",
            "_model_module_version": "1.5.0",
            "_model_name": "DescriptionStyleModel",
            "_view_count": null,
            "_view_module": "@jupyter-widgets/base",
            "_view_module_version": "1.2.0",
            "_view_name": "StyleView",
            "description_width": ""
          }
        },
        "62c15015546343cdbf0dbbf78bf76990": {
          "model_module": "@jupyter-widgets/controls",
          "model_name": "HBoxModel",
          "model_module_version": "1.5.0",
          "state": {
            "_dom_classes": [],
            "_model_module": "@jupyter-widgets/controls",
            "_model_module_version": "1.5.0",
            "_model_name": "HBoxModel",
            "_view_count": null,
            "_view_module": "@jupyter-widgets/controls",
            "_view_module_version": "1.5.0",
            "_view_name": "HBoxView",
            "box_style": "",
            "children": [
              "IPY_MODEL_f8a69044e8bc4d12ae83ddf1f407decd",
              "IPY_MODEL_5464fd0177df479581c706a92a6a98e6",
              "IPY_MODEL_9501ff01b9fa47c2af1d73517492e81b"
            ],
            "layout": "IPY_MODEL_6563069d78ac453ba58fca88cd366d92"
          }
        },
        "f8a69044e8bc4d12ae83ddf1f407decd": {
          "model_module": "@jupyter-widgets/controls",
          "model_name": "HTMLModel",
          "model_module_version": "1.5.0",
          "state": {
            "_dom_classes": [],
            "_model_module": "@jupyter-widgets/controls",
            "_model_module_version": "1.5.0",
            "_model_name": "HTMLModel",
            "_view_count": null,
            "_view_module": "@jupyter-widgets/controls",
            "_view_module_version": "1.5.0",
            "_view_name": "HTMLView",
            "description": "",
            "description_tooltip": null,
            "layout": "IPY_MODEL_da273f1223ef49d5ae3e8fb77d2bfd03",
            "placeholder": "​",
            "style": "IPY_MODEL_c13b0daa23974aa28083b88bd4748430",
            "value": "config.json: 100%"
          }
        },
        "5464fd0177df479581c706a92a6a98e6": {
          "model_module": "@jupyter-widgets/controls",
          "model_name": "FloatProgressModel",
          "model_module_version": "1.5.0",
          "state": {
            "_dom_classes": [],
            "_model_module": "@jupyter-widgets/controls",
            "_model_module_version": "1.5.0",
            "_model_name": "FloatProgressModel",
            "_view_count": null,
            "_view_module": "@jupyter-widgets/controls",
            "_view_module_version": "1.5.0",
            "_view_name": "ProgressView",
            "bar_style": "success",
            "description": "",
            "description_tooltip": null,
            "layout": "IPY_MODEL_8c05a8db7dbc4ce29af34bb562418718",
            "max": 629,
            "min": 0,
            "orientation": "horizontal",
            "style": "IPY_MODEL_fdee98d52db949dbb3db0795bf74b8a5",
            "value": 629
          }
        },
        "9501ff01b9fa47c2af1d73517492e81b": {
          "model_module": "@jupyter-widgets/controls",
          "model_name": "HTMLModel",
          "model_module_version": "1.5.0",
          "state": {
            "_dom_classes": [],
            "_model_module": "@jupyter-widgets/controls",
            "_model_module_version": "1.5.0",
            "_model_name": "HTMLModel",
            "_view_count": null,
            "_view_module": "@jupyter-widgets/controls",
            "_view_module_version": "1.5.0",
            "_view_name": "HTMLView",
            "description": "",
            "description_tooltip": null,
            "layout": "IPY_MODEL_f496778af3ab40a08f18c8187db12ea8",
            "placeholder": "​",
            "style": "IPY_MODEL_5915c31fb8f5417d82f0aa711920c86d",
            "value": " 629/629 [00:00&lt;00:00, 31.4kB/s]"
          }
        },
        "6563069d78ac453ba58fca88cd366d92": {
          "model_module": "@jupyter-widgets/base",
          "model_name": "LayoutModel",
          "model_module_version": "1.2.0",
          "state": {
            "_model_module": "@jupyter-widgets/base",
            "_model_module_version": "1.2.0",
            "_model_name": "LayoutModel",
            "_view_count": null,
            "_view_module": "@jupyter-widgets/base",
            "_view_module_version": "1.2.0",
            "_view_name": "LayoutView",
            "align_content": null,
            "align_items": null,
            "align_self": null,
            "border": null,
            "bottom": null,
            "display": null,
            "flex": null,
            "flex_flow": null,
            "grid_area": null,
            "grid_auto_columns": null,
            "grid_auto_flow": null,
            "grid_auto_rows": null,
            "grid_column": null,
            "grid_gap": null,
            "grid_row": null,
            "grid_template_areas": null,
            "grid_template_columns": null,
            "grid_template_rows": null,
            "height": null,
            "justify_content": null,
            "justify_items": null,
            "left": null,
            "margin": null,
            "max_height": null,
            "max_width": null,
            "min_height": null,
            "min_width": null,
            "object_fit": null,
            "object_position": null,
            "order": null,
            "overflow": null,
            "overflow_x": null,
            "overflow_y": null,
            "padding": null,
            "right": null,
            "top": null,
            "visibility": null,
            "width": null
          }
        },
        "da273f1223ef49d5ae3e8fb77d2bfd03": {
          "model_module": "@jupyter-widgets/base",
          "model_name": "LayoutModel",
          "model_module_version": "1.2.0",
          "state": {
            "_model_module": "@jupyter-widgets/base",
            "_model_module_version": "1.2.0",
            "_model_name": "LayoutModel",
            "_view_count": null,
            "_view_module": "@jupyter-widgets/base",
            "_view_module_version": "1.2.0",
            "_view_name": "LayoutView",
            "align_content": null,
            "align_items": null,
            "align_self": null,
            "border": null,
            "bottom": null,
            "display": null,
            "flex": null,
            "flex_flow": null,
            "grid_area": null,
            "grid_auto_columns": null,
            "grid_auto_flow": null,
            "grid_auto_rows": null,
            "grid_column": null,
            "grid_gap": null,
            "grid_row": null,
            "grid_template_areas": null,
            "grid_template_columns": null,
            "grid_template_rows": null,
            "height": null,
            "justify_content": null,
            "justify_items": null,
            "left": null,
            "margin": null,
            "max_height": null,
            "max_width": null,
            "min_height": null,
            "min_width": null,
            "object_fit": null,
            "object_position": null,
            "order": null,
            "overflow": null,
            "overflow_x": null,
            "overflow_y": null,
            "padding": null,
            "right": null,
            "top": null,
            "visibility": null,
            "width": null
          }
        },
        "c13b0daa23974aa28083b88bd4748430": {
          "model_module": "@jupyter-widgets/controls",
          "model_name": "DescriptionStyleModel",
          "model_module_version": "1.5.0",
          "state": {
            "_model_module": "@jupyter-widgets/controls",
            "_model_module_version": "1.5.0",
            "_model_name": "DescriptionStyleModel",
            "_view_count": null,
            "_view_module": "@jupyter-widgets/base",
            "_view_module_version": "1.2.0",
            "_view_name": "StyleView",
            "description_width": ""
          }
        },
        "8c05a8db7dbc4ce29af34bb562418718": {
          "model_module": "@jupyter-widgets/base",
          "model_name": "LayoutModel",
          "model_module_version": "1.2.0",
          "state": {
            "_model_module": "@jupyter-widgets/base",
            "_model_module_version": "1.2.0",
            "_model_name": "LayoutModel",
            "_view_count": null,
            "_view_module": "@jupyter-widgets/base",
            "_view_module_version": "1.2.0",
            "_view_name": "LayoutView",
            "align_content": null,
            "align_items": null,
            "align_self": null,
            "border": null,
            "bottom": null,
            "display": null,
            "flex": null,
            "flex_flow": null,
            "grid_area": null,
            "grid_auto_columns": null,
            "grid_auto_flow": null,
            "grid_auto_rows": null,
            "grid_column": null,
            "grid_gap": null,
            "grid_row": null,
            "grid_template_areas": null,
            "grid_template_columns": null,
            "grid_template_rows": null,
            "height": null,
            "justify_content": null,
            "justify_items": null,
            "left": null,
            "margin": null,
            "max_height": null,
            "max_width": null,
            "min_height": null,
            "min_width": null,
            "object_fit": null,
            "object_position": null,
            "order": null,
            "overflow": null,
            "overflow_x": null,
            "overflow_y": null,
            "padding": null,
            "right": null,
            "top": null,
            "visibility": null,
            "width": null
          }
        },
        "fdee98d52db949dbb3db0795bf74b8a5": {
          "model_module": "@jupyter-widgets/controls",
          "model_name": "ProgressStyleModel",
          "model_module_version": "1.5.0",
          "state": {
            "_model_module": "@jupyter-widgets/controls",
            "_model_module_version": "1.5.0",
            "_model_name": "ProgressStyleModel",
            "_view_count": null,
            "_view_module": "@jupyter-widgets/base",
            "_view_module_version": "1.2.0",
            "_view_name": "StyleView",
            "bar_color": null,
            "description_width": ""
          }
        },
        "f496778af3ab40a08f18c8187db12ea8": {
          "model_module": "@jupyter-widgets/base",
          "model_name": "LayoutModel",
          "model_module_version": "1.2.0",
          "state": {
            "_model_module": "@jupyter-widgets/base",
            "_model_module_version": "1.2.0",
            "_model_name": "LayoutModel",
            "_view_count": null,
            "_view_module": "@jupyter-widgets/base",
            "_view_module_version": "1.2.0",
            "_view_name": "LayoutView",
            "align_content": null,
            "align_items": null,
            "align_self": null,
            "border": null,
            "bottom": null,
            "display": null,
            "flex": null,
            "flex_flow": null,
            "grid_area": null,
            "grid_auto_columns": null,
            "grid_auto_flow": null,
            "grid_auto_rows": null,
            "grid_column": null,
            "grid_gap": null,
            "grid_row": null,
            "grid_template_areas": null,
            "grid_template_columns": null,
            "grid_template_rows": null,
            "height": null,
            "justify_content": null,
            "justify_items": null,
            "left": null,
            "margin": null,
            "max_height": null,
            "max_width": null,
            "min_height": null,
            "min_width": null,
            "object_fit": null,
            "object_position": null,
            "order": null,
            "overflow": null,
            "overflow_x": null,
            "overflow_y": null,
            "padding": null,
            "right": null,
            "top": null,
            "visibility": null,
            "width": null
          }
        },
        "5915c31fb8f5417d82f0aa711920c86d": {
          "model_module": "@jupyter-widgets/controls",
          "model_name": "DescriptionStyleModel",
          "model_module_version": "1.5.0",
          "state": {
            "_model_module": "@jupyter-widgets/controls",
            "_model_module_version": "1.5.0",
            "_model_name": "DescriptionStyleModel",
            "_view_count": null,
            "_view_module": "@jupyter-widgets/base",
            "_view_module_version": "1.2.0",
            "_view_name": "StyleView",
            "description_width": ""
          }
        },
        "a35c846c19f94cd3a84b1f9325b1ed61": {
          "model_module": "@jupyter-widgets/controls",
          "model_name": "HBoxModel",
          "model_module_version": "1.5.0",
          "state": {
            "_dom_classes": [],
            "_model_module": "@jupyter-widgets/controls",
            "_model_module_version": "1.5.0",
            "_model_name": "HBoxModel",
            "_view_count": null,
            "_view_module": "@jupyter-widgets/controls",
            "_view_module_version": "1.5.0",
            "_view_name": "HBoxView",
            "box_style": "",
            "children": [
              "IPY_MODEL_305f50bf1f19444aa0a1b75fc7c87b10",
              "IPY_MODEL_322b259c5c6b4690abe178b320de7db5",
              "IPY_MODEL_87ba7302f0584565b61a5ea2bec472d2"
            ],
            "layout": "IPY_MODEL_8348b1529f6b4daebb3fd83fd931543c"
          }
        },
        "305f50bf1f19444aa0a1b75fc7c87b10": {
          "model_module": "@jupyter-widgets/controls",
          "model_name": "HTMLModel",
          "model_module_version": "1.5.0",
          "state": {
            "_dom_classes": [],
            "_model_module": "@jupyter-widgets/controls",
            "_model_module_version": "1.5.0",
            "_model_name": "HTMLModel",
            "_view_count": null,
            "_view_module": "@jupyter-widgets/controls",
            "_view_module_version": "1.5.0",
            "_view_name": "HTMLView",
            "description": "",
            "description_tooltip": null,
            "layout": "IPY_MODEL_a84901bb19704620ac6bca61ddd341b8",
            "placeholder": "​",
            "style": "IPY_MODEL_78ea53740ec54c0e8c0357b0dd13d3fc",
            "value": "model.safetensors: 100%"
          }
        },
        "322b259c5c6b4690abe178b320de7db5": {
          "model_module": "@jupyter-widgets/controls",
          "model_name": "FloatProgressModel",
          "model_module_version": "1.5.0",
          "state": {
            "_dom_classes": [],
            "_model_module": "@jupyter-widgets/controls",
            "_model_module_version": "1.5.0",
            "_model_name": "FloatProgressModel",
            "_view_count": null,
            "_view_module": "@jupyter-widgets/controls",
            "_view_module_version": "1.5.0",
            "_view_name": "ProgressView",
            "bar_style": "success",
            "description": "",
            "description_tooltip": null,
            "layout": "IPY_MODEL_7871c7977f194a488fced6807cccebdc",
            "max": 90868373,
            "min": 0,
            "orientation": "horizontal",
            "style": "IPY_MODEL_fdfa85bb322d44728f27aefc42474de9",
            "value": 90868373
          }
        },
        "87ba7302f0584565b61a5ea2bec472d2": {
          "model_module": "@jupyter-widgets/controls",
          "model_name": "HTMLModel",
          "model_module_version": "1.5.0",
          "state": {
            "_dom_classes": [],
            "_model_module": "@jupyter-widgets/controls",
            "_model_module_version": "1.5.0",
            "_model_name": "HTMLModel",
            "_view_count": null,
            "_view_module": "@jupyter-widgets/controls",
            "_view_module_version": "1.5.0",
            "_view_name": "HTMLView",
            "description": "",
            "description_tooltip": null,
            "layout": "IPY_MODEL_4ece1a04fa274d608feb72cf60fdd2bd",
            "placeholder": "​",
            "style": "IPY_MODEL_fbcc8b41b9f3432c9adda681ae94dae5",
            "value": " 90.9M/90.9M [00:01&lt;00:00, 97.6MB/s]"
          }
        },
        "8348b1529f6b4daebb3fd83fd931543c": {
          "model_module": "@jupyter-widgets/base",
          "model_name": "LayoutModel",
          "model_module_version": "1.2.0",
          "state": {
            "_model_module": "@jupyter-widgets/base",
            "_model_module_version": "1.2.0",
            "_model_name": "LayoutModel",
            "_view_count": null,
            "_view_module": "@jupyter-widgets/base",
            "_view_module_version": "1.2.0",
            "_view_name": "LayoutView",
            "align_content": null,
            "align_items": null,
            "align_self": null,
            "border": null,
            "bottom": null,
            "display": null,
            "flex": null,
            "flex_flow": null,
            "grid_area": null,
            "grid_auto_columns": null,
            "grid_auto_flow": null,
            "grid_auto_rows": null,
            "grid_column": null,
            "grid_gap": null,
            "grid_row": null,
            "grid_template_areas": null,
            "grid_template_columns": null,
            "grid_template_rows": null,
            "height": null,
            "justify_content": null,
            "justify_items": null,
            "left": null,
            "margin": null,
            "max_height": null,
            "max_width": null,
            "min_height": null,
            "min_width": null,
            "object_fit": null,
            "object_position": null,
            "order": null,
            "overflow": null,
            "overflow_x": null,
            "overflow_y": null,
            "padding": null,
            "right": null,
            "top": null,
            "visibility": null,
            "width": null
          }
        },
        "a84901bb19704620ac6bca61ddd341b8": {
          "model_module": "@jupyter-widgets/base",
          "model_name": "LayoutModel",
          "model_module_version": "1.2.0",
          "state": {
            "_model_module": "@jupyter-widgets/base",
            "_model_module_version": "1.2.0",
            "_model_name": "LayoutModel",
            "_view_count": null,
            "_view_module": "@jupyter-widgets/base",
            "_view_module_version": "1.2.0",
            "_view_name": "LayoutView",
            "align_content": null,
            "align_items": null,
            "align_self": null,
            "border": null,
            "bottom": null,
            "display": null,
            "flex": null,
            "flex_flow": null,
            "grid_area": null,
            "grid_auto_columns": null,
            "grid_auto_flow": null,
            "grid_auto_rows": null,
            "grid_column": null,
            "grid_gap": null,
            "grid_row": null,
            "grid_template_areas": null,
            "grid_template_columns": null,
            "grid_template_rows": null,
            "height": null,
            "justify_content": null,
            "justify_items": null,
            "left": null,
            "margin": null,
            "max_height": null,
            "max_width": null,
            "min_height": null,
            "min_width": null,
            "object_fit": null,
            "object_position": null,
            "order": null,
            "overflow": null,
            "overflow_x": null,
            "overflow_y": null,
            "padding": null,
            "right": null,
            "top": null,
            "visibility": null,
            "width": null
          }
        },
        "78ea53740ec54c0e8c0357b0dd13d3fc": {
          "model_module": "@jupyter-widgets/controls",
          "model_name": "DescriptionStyleModel",
          "model_module_version": "1.5.0",
          "state": {
            "_model_module": "@jupyter-widgets/controls",
            "_model_module_version": "1.5.0",
            "_model_name": "DescriptionStyleModel",
            "_view_count": null,
            "_view_module": "@jupyter-widgets/base",
            "_view_module_version": "1.2.0",
            "_view_name": "StyleView",
            "description_width": ""
          }
        },
        "7871c7977f194a488fced6807cccebdc": {
          "model_module": "@jupyter-widgets/base",
          "model_name": "LayoutModel",
          "model_module_version": "1.2.0",
          "state": {
            "_model_module": "@jupyter-widgets/base",
            "_model_module_version": "1.2.0",
            "_model_name": "LayoutModel",
            "_view_count": null,
            "_view_module": "@jupyter-widgets/base",
            "_view_module_version": "1.2.0",
            "_view_name": "LayoutView",
            "align_content": null,
            "align_items": null,
            "align_self": null,
            "border": null,
            "bottom": null,
            "display": null,
            "flex": null,
            "flex_flow": null,
            "grid_area": null,
            "grid_auto_columns": null,
            "grid_auto_flow": null,
            "grid_auto_rows": null,
            "grid_column": null,
            "grid_gap": null,
            "grid_row": null,
            "grid_template_areas": null,
            "grid_template_columns": null,
            "grid_template_rows": null,
            "height": null,
            "justify_content": null,
            "justify_items": null,
            "left": null,
            "margin": null,
            "max_height": null,
            "max_width": null,
            "min_height": null,
            "min_width": null,
            "object_fit": null,
            "object_position": null,
            "order": null,
            "overflow": null,
            "overflow_x": null,
            "overflow_y": null,
            "padding": null,
            "right": null,
            "top": null,
            "visibility": null,
            "width": null
          }
        },
        "fdfa85bb322d44728f27aefc42474de9": {
          "model_module": "@jupyter-widgets/controls",
          "model_name": "ProgressStyleModel",
          "model_module_version": "1.5.0",
          "state": {
            "_model_module": "@jupyter-widgets/controls",
            "_model_module_version": "1.5.0",
            "_model_name": "ProgressStyleModel",
            "_view_count": null,
            "_view_module": "@jupyter-widgets/base",
            "_view_module_version": "1.2.0",
            "_view_name": "StyleView",
            "bar_color": null,
            "description_width": ""
          }
        },
        "4ece1a04fa274d608feb72cf60fdd2bd": {
          "model_module": "@jupyter-widgets/base",
          "model_name": "LayoutModel",
          "model_module_version": "1.2.0",
          "state": {
            "_model_module": "@jupyter-widgets/base",
            "_model_module_version": "1.2.0",
            "_model_name": "LayoutModel",
            "_view_count": null,
            "_view_module": "@jupyter-widgets/base",
            "_view_module_version": "1.2.0",
            "_view_name": "LayoutView",
            "align_content": null,
            "align_items": null,
            "align_self": null,
            "border": null,
            "bottom": null,
            "display": null,
            "flex": null,
            "flex_flow": null,
            "grid_area": null,
            "grid_auto_columns": null,
            "grid_auto_flow": null,
            "grid_auto_rows": null,
            "grid_column": null,
            "grid_gap": null,
            "grid_row": null,
            "grid_template_areas": null,
            "grid_template_columns": null,
            "grid_template_rows": null,
            "height": null,
            "justify_content": null,
            "justify_items": null,
            "left": null,
            "margin": null,
            "max_height": null,
            "max_width": null,
            "min_height": null,
            "min_width": null,
            "object_fit": null,
            "object_position": null,
            "order": null,
            "overflow": null,
            "overflow_x": null,
            "overflow_y": null,
            "padding": null,
            "right": null,
            "top": null,
            "visibility": null,
            "width": null
          }
        },
        "fbcc8b41b9f3432c9adda681ae94dae5": {
          "model_module": "@jupyter-widgets/controls",
          "model_name": "DescriptionStyleModel",
          "model_module_version": "1.5.0",
          "state": {
            "_model_module": "@jupyter-widgets/controls",
            "_model_module_version": "1.5.0",
            "_model_name": "DescriptionStyleModel",
            "_view_count": null,
            "_view_module": "@jupyter-widgets/base",
            "_view_module_version": "1.2.0",
            "_view_name": "StyleView",
            "description_width": ""
          }
        },
        "3db0dbd8f50c4a7fb4bd38ca1d85e2ac": {
          "model_module": "@jupyter-widgets/controls",
          "model_name": "HBoxModel",
          "model_module_version": "1.5.0",
          "state": {
            "_dom_classes": [],
            "_model_module": "@jupyter-widgets/controls",
            "_model_module_version": "1.5.0",
            "_model_name": "HBoxModel",
            "_view_count": null,
            "_view_module": "@jupyter-widgets/controls",
            "_view_module_version": "1.5.0",
            "_view_name": "HBoxView",
            "box_style": "",
            "children": [
              "IPY_MODEL_cbddb483705947ca94d7450161830be4",
              "IPY_MODEL_23cc9d8b197243bcae0c8842f0227be8",
              "IPY_MODEL_4f086a6e8be942f9b64bd948ed804f25"
            ],
            "layout": "IPY_MODEL_15b46c20f7ce4679a8377de74a3f0918"
          }
        },
        "cbddb483705947ca94d7450161830be4": {
          "model_module": "@jupyter-widgets/controls",
          "model_name": "HTMLModel",
          "model_module_version": "1.5.0",
          "state": {
            "_dom_classes": [],
            "_model_module": "@jupyter-widgets/controls",
            "_model_module_version": "1.5.0",
            "_model_name": "HTMLModel",
            "_view_count": null,
            "_view_module": "@jupyter-widgets/controls",
            "_view_module_version": "1.5.0",
            "_view_name": "HTMLView",
            "description": "",
            "description_tooltip": null,
            "layout": "IPY_MODEL_7053c97778a94c6d9f1593516ef015e1",
            "placeholder": "​",
            "style": "IPY_MODEL_c0f446a4e1c84a1dac9faa329b85cc19",
            "value": "tokenizer_config.json: 100%"
          }
        },
        "23cc9d8b197243bcae0c8842f0227be8": {
          "model_module": "@jupyter-widgets/controls",
          "model_name": "FloatProgressModel",
          "model_module_version": "1.5.0",
          "state": {
            "_dom_classes": [],
            "_model_module": "@jupyter-widgets/controls",
            "_model_module_version": "1.5.0",
            "_model_name": "FloatProgressModel",
            "_view_count": null,
            "_view_module": "@jupyter-widgets/controls",
            "_view_module_version": "1.5.0",
            "_view_name": "ProgressView",
            "bar_style": "success",
            "description": "",
            "description_tooltip": null,
            "layout": "IPY_MODEL_b57397e10a684defa3de11df8f6b0d90",
            "max": 314,
            "min": 0,
            "orientation": "horizontal",
            "style": "IPY_MODEL_7eac38c31a0648ccad85a985bf96f03b",
            "value": 314
          }
        },
        "4f086a6e8be942f9b64bd948ed804f25": {
          "model_module": "@jupyter-widgets/controls",
          "model_name": "HTMLModel",
          "model_module_version": "1.5.0",
          "state": {
            "_dom_classes": [],
            "_model_module": "@jupyter-widgets/controls",
            "_model_module_version": "1.5.0",
            "_model_name": "HTMLModel",
            "_view_count": null,
            "_view_module": "@jupyter-widgets/controls",
            "_view_module_version": "1.5.0",
            "_view_name": "HTMLView",
            "description": "",
            "description_tooltip": null,
            "layout": "IPY_MODEL_548359e685824cfc9aee60cecfe9d20e",
            "placeholder": "​",
            "style": "IPY_MODEL_53dcd02375cb45d4922f4183ee4d38ef",
            "value": " 314/314 [00:00&lt;00:00, 10.6kB/s]"
          }
        },
        "15b46c20f7ce4679a8377de74a3f0918": {
          "model_module": "@jupyter-widgets/base",
          "model_name": "LayoutModel",
          "model_module_version": "1.2.0",
          "state": {
            "_model_module": "@jupyter-widgets/base",
            "_model_module_version": "1.2.0",
            "_model_name": "LayoutModel",
            "_view_count": null,
            "_view_module": "@jupyter-widgets/base",
            "_view_module_version": "1.2.0",
            "_view_name": "LayoutView",
            "align_content": null,
            "align_items": null,
            "align_self": null,
            "border": null,
            "bottom": null,
            "display": null,
            "flex": null,
            "flex_flow": null,
            "grid_area": null,
            "grid_auto_columns": null,
            "grid_auto_flow": null,
            "grid_auto_rows": null,
            "grid_column": null,
            "grid_gap": null,
            "grid_row": null,
            "grid_template_areas": null,
            "grid_template_columns": null,
            "grid_template_rows": null,
            "height": null,
            "justify_content": null,
            "justify_items": null,
            "left": null,
            "margin": null,
            "max_height": null,
            "max_width": null,
            "min_height": null,
            "min_width": null,
            "object_fit": null,
            "object_position": null,
            "order": null,
            "overflow": null,
            "overflow_x": null,
            "overflow_y": null,
            "padding": null,
            "right": null,
            "top": null,
            "visibility": null,
            "width": null
          }
        },
        "7053c97778a94c6d9f1593516ef015e1": {
          "model_module": "@jupyter-widgets/base",
          "model_name": "LayoutModel",
          "model_module_version": "1.2.0",
          "state": {
            "_model_module": "@jupyter-widgets/base",
            "_model_module_version": "1.2.0",
            "_model_name": "LayoutModel",
            "_view_count": null,
            "_view_module": "@jupyter-widgets/base",
            "_view_module_version": "1.2.0",
            "_view_name": "LayoutView",
            "align_content": null,
            "align_items": null,
            "align_self": null,
            "border": null,
            "bottom": null,
            "display": null,
            "flex": null,
            "flex_flow": null,
            "grid_area": null,
            "grid_auto_columns": null,
            "grid_auto_flow": null,
            "grid_auto_rows": null,
            "grid_column": null,
            "grid_gap": null,
            "grid_row": null,
            "grid_template_areas": null,
            "grid_template_columns": null,
            "grid_template_rows": null,
            "height": null,
            "justify_content": null,
            "justify_items": null,
            "left": null,
            "margin": null,
            "max_height": null,
            "max_width": null,
            "min_height": null,
            "min_width": null,
            "object_fit": null,
            "object_position": null,
            "order": null,
            "overflow": null,
            "overflow_x": null,
            "overflow_y": null,
            "padding": null,
            "right": null,
            "top": null,
            "visibility": null,
            "width": null
          }
        },
        "c0f446a4e1c84a1dac9faa329b85cc19": {
          "model_module": "@jupyter-widgets/controls",
          "model_name": "DescriptionStyleModel",
          "model_module_version": "1.5.0",
          "state": {
            "_model_module": "@jupyter-widgets/controls",
            "_model_module_version": "1.5.0",
            "_model_name": "DescriptionStyleModel",
            "_view_count": null,
            "_view_module": "@jupyter-widgets/base",
            "_view_module_version": "1.2.0",
            "_view_name": "StyleView",
            "description_width": ""
          }
        },
        "b57397e10a684defa3de11df8f6b0d90": {
          "model_module": "@jupyter-widgets/base",
          "model_name": "LayoutModel",
          "model_module_version": "1.2.0",
          "state": {
            "_model_module": "@jupyter-widgets/base",
            "_model_module_version": "1.2.0",
            "_model_name": "LayoutModel",
            "_view_count": null,
            "_view_module": "@jupyter-widgets/base",
            "_view_module_version": "1.2.0",
            "_view_name": "LayoutView",
            "align_content": null,
            "align_items": null,
            "align_self": null,
            "border": null,
            "bottom": null,
            "display": null,
            "flex": null,
            "flex_flow": null,
            "grid_area": null,
            "grid_auto_columns": null,
            "grid_auto_flow": null,
            "grid_auto_rows": null,
            "grid_column": null,
            "grid_gap": null,
            "grid_row": null,
            "grid_template_areas": null,
            "grid_template_columns": null,
            "grid_template_rows": null,
            "height": null,
            "justify_content": null,
            "justify_items": null,
            "left": null,
            "margin": null,
            "max_height": null,
            "max_width": null,
            "min_height": null,
            "min_width": null,
            "object_fit": null,
            "object_position": null,
            "order": null,
            "overflow": null,
            "overflow_x": null,
            "overflow_y": null,
            "padding": null,
            "right": null,
            "top": null,
            "visibility": null,
            "width": null
          }
        },
        "7eac38c31a0648ccad85a985bf96f03b": {
          "model_module": "@jupyter-widgets/controls",
          "model_name": "ProgressStyleModel",
          "model_module_version": "1.5.0",
          "state": {
            "_model_module": "@jupyter-widgets/controls",
            "_model_module_version": "1.5.0",
            "_model_name": "ProgressStyleModel",
            "_view_count": null,
            "_view_module": "@jupyter-widgets/base",
            "_view_module_version": "1.2.0",
            "_view_name": "StyleView",
            "bar_color": null,
            "description_width": ""
          }
        },
        "548359e685824cfc9aee60cecfe9d20e": {
          "model_module": "@jupyter-widgets/base",
          "model_name": "LayoutModel",
          "model_module_version": "1.2.0",
          "state": {
            "_model_module": "@jupyter-widgets/base",
            "_model_module_version": "1.2.0",
            "_model_name": "LayoutModel",
            "_view_count": null,
            "_view_module": "@jupyter-widgets/base",
            "_view_module_version": "1.2.0",
            "_view_name": "LayoutView",
            "align_content": null,
            "align_items": null,
            "align_self": null,
            "border": null,
            "bottom": null,
            "display": null,
            "flex": null,
            "flex_flow": null,
            "grid_area": null,
            "grid_auto_columns": null,
            "grid_auto_flow": null,
            "grid_auto_rows": null,
            "grid_column": null,
            "grid_gap": null,
            "grid_row": null,
            "grid_template_areas": null,
            "grid_template_columns": null,
            "grid_template_rows": null,
            "height": null,
            "justify_content": null,
            "justify_items": null,
            "left": null,
            "margin": null,
            "max_height": null,
            "max_width": null,
            "min_height": null,
            "min_width": null,
            "object_fit": null,
            "object_position": null,
            "order": null,
            "overflow": null,
            "overflow_x": null,
            "overflow_y": null,
            "padding": null,
            "right": null,
            "top": null,
            "visibility": null,
            "width": null
          }
        },
        "53dcd02375cb45d4922f4183ee4d38ef": {
          "model_module": "@jupyter-widgets/controls",
          "model_name": "DescriptionStyleModel",
          "model_module_version": "1.5.0",
          "state": {
            "_model_module": "@jupyter-widgets/controls",
            "_model_module_version": "1.5.0",
            "_model_name": "DescriptionStyleModel",
            "_view_count": null,
            "_view_module": "@jupyter-widgets/base",
            "_view_module_version": "1.2.0",
            "_view_name": "StyleView",
            "description_width": ""
          }
        },
        "c9fc542daa264691a4fdc1a31ae5bc8d": {
          "model_module": "@jupyter-widgets/controls",
          "model_name": "HBoxModel",
          "model_module_version": "1.5.0",
          "state": {
            "_dom_classes": [],
            "_model_module": "@jupyter-widgets/controls",
            "_model_module_version": "1.5.0",
            "_model_name": "HBoxModel",
            "_view_count": null,
            "_view_module": "@jupyter-widgets/controls",
            "_view_module_version": "1.5.0",
            "_view_name": "HBoxView",
            "box_style": "",
            "children": [
              "IPY_MODEL_d7c156da82464bd49b6e101e252e6d60",
              "IPY_MODEL_a10721dd6a7141219ec8aad4c93f5973",
              "IPY_MODEL_300d28717d5641b8b7ee951e02f3e723"
            ],
            "layout": "IPY_MODEL_1653e4961cdd431f82c762eb28d99f88"
          }
        },
        "d7c156da82464bd49b6e101e252e6d60": {
          "model_module": "@jupyter-widgets/controls",
          "model_name": "HTMLModel",
          "model_module_version": "1.5.0",
          "state": {
            "_dom_classes": [],
            "_model_module": "@jupyter-widgets/controls",
            "_model_module_version": "1.5.0",
            "_model_name": "HTMLModel",
            "_view_count": null,
            "_view_module": "@jupyter-widgets/controls",
            "_view_module_version": "1.5.0",
            "_view_name": "HTMLView",
            "description": "",
            "description_tooltip": null,
            "layout": "IPY_MODEL_b029e2441c10408ab537ac302d4377b6",
            "placeholder": "​",
            "style": "IPY_MODEL_a59bb8c4ccbc44d6ae29b471bcc1849f",
            "value": "vocab.txt: 100%"
          }
        },
        "a10721dd6a7141219ec8aad4c93f5973": {
          "model_module": "@jupyter-widgets/controls",
          "model_name": "FloatProgressModel",
          "model_module_version": "1.5.0",
          "state": {
            "_dom_classes": [],
            "_model_module": "@jupyter-widgets/controls",
            "_model_module_version": "1.5.0",
            "_model_name": "FloatProgressModel",
            "_view_count": null,
            "_view_module": "@jupyter-widgets/controls",
            "_view_module_version": "1.5.0",
            "_view_name": "ProgressView",
            "bar_style": "success",
            "description": "",
            "description_tooltip": null,
            "layout": "IPY_MODEL_3fcaa889fc7d46e68783ad13dc21001a",
            "max": 231508,
            "min": 0,
            "orientation": "horizontal",
            "style": "IPY_MODEL_de4ad428cf5e4587896916318810a16c",
            "value": 231508
          }
        },
        "300d28717d5641b8b7ee951e02f3e723": {
          "model_module": "@jupyter-widgets/controls",
          "model_name": "HTMLModel",
          "model_module_version": "1.5.0",
          "state": {
            "_dom_classes": [],
            "_model_module": "@jupyter-widgets/controls",
            "_model_module_version": "1.5.0",
            "_model_name": "HTMLModel",
            "_view_count": null,
            "_view_module": "@jupyter-widgets/controls",
            "_view_module_version": "1.5.0",
            "_view_name": "HTMLView",
            "description": "",
            "description_tooltip": null,
            "layout": "IPY_MODEL_81653ff9b7fe4bd7968fb780f194d0ec",
            "placeholder": "​",
            "style": "IPY_MODEL_9f5538e4433740bf8aa0f224d67beb4f",
            "value": " 232k/232k [00:00&lt;00:00, 2.98MB/s]"
          }
        },
        "1653e4961cdd431f82c762eb28d99f88": {
          "model_module": "@jupyter-widgets/base",
          "model_name": "LayoutModel",
          "model_module_version": "1.2.0",
          "state": {
            "_model_module": "@jupyter-widgets/base",
            "_model_module_version": "1.2.0",
            "_model_name": "LayoutModel",
            "_view_count": null,
            "_view_module": "@jupyter-widgets/base",
            "_view_module_version": "1.2.0",
            "_view_name": "LayoutView",
            "align_content": null,
            "align_items": null,
            "align_self": null,
            "border": null,
            "bottom": null,
            "display": null,
            "flex": null,
            "flex_flow": null,
            "grid_area": null,
            "grid_auto_columns": null,
            "grid_auto_flow": null,
            "grid_auto_rows": null,
            "grid_column": null,
            "grid_gap": null,
            "grid_row": null,
            "grid_template_areas": null,
            "grid_template_columns": null,
            "grid_template_rows": null,
            "height": null,
            "justify_content": null,
            "justify_items": null,
            "left": null,
            "margin": null,
            "max_height": null,
            "max_width": null,
            "min_height": null,
            "min_width": null,
            "object_fit": null,
            "object_position": null,
            "order": null,
            "overflow": null,
            "overflow_x": null,
            "overflow_y": null,
            "padding": null,
            "right": null,
            "top": null,
            "visibility": null,
            "width": null
          }
        },
        "b029e2441c10408ab537ac302d4377b6": {
          "model_module": "@jupyter-widgets/base",
          "model_name": "LayoutModel",
          "model_module_version": "1.2.0",
          "state": {
            "_model_module": "@jupyter-widgets/base",
            "_model_module_version": "1.2.0",
            "_model_name": "LayoutModel",
            "_view_count": null,
            "_view_module": "@jupyter-widgets/base",
            "_view_module_version": "1.2.0",
            "_view_name": "LayoutView",
            "align_content": null,
            "align_items": null,
            "align_self": null,
            "border": null,
            "bottom": null,
            "display": null,
            "flex": null,
            "flex_flow": null,
            "grid_area": null,
            "grid_auto_columns": null,
            "grid_auto_flow": null,
            "grid_auto_rows": null,
            "grid_column": null,
            "grid_gap": null,
            "grid_row": null,
            "grid_template_areas": null,
            "grid_template_columns": null,
            "grid_template_rows": null,
            "height": null,
            "justify_content": null,
            "justify_items": null,
            "left": null,
            "margin": null,
            "max_height": null,
            "max_width": null,
            "min_height": null,
            "min_width": null,
            "object_fit": null,
            "object_position": null,
            "order": null,
            "overflow": null,
            "overflow_x": null,
            "overflow_y": null,
            "padding": null,
            "right": null,
            "top": null,
            "visibility": null,
            "width": null
          }
        },
        "a59bb8c4ccbc44d6ae29b471bcc1849f": {
          "model_module": "@jupyter-widgets/controls",
          "model_name": "DescriptionStyleModel",
          "model_module_version": "1.5.0",
          "state": {
            "_model_module": "@jupyter-widgets/controls",
            "_model_module_version": "1.5.0",
            "_model_name": "DescriptionStyleModel",
            "_view_count": null,
            "_view_module": "@jupyter-widgets/base",
            "_view_module_version": "1.2.0",
            "_view_name": "StyleView",
            "description_width": ""
          }
        },
        "3fcaa889fc7d46e68783ad13dc21001a": {
          "model_module": "@jupyter-widgets/base",
          "model_name": "LayoutModel",
          "model_module_version": "1.2.0",
          "state": {
            "_model_module": "@jupyter-widgets/base",
            "_model_module_version": "1.2.0",
            "_model_name": "LayoutModel",
            "_view_count": null,
            "_view_module": "@jupyter-widgets/base",
            "_view_module_version": "1.2.0",
            "_view_name": "LayoutView",
            "align_content": null,
            "align_items": null,
            "align_self": null,
            "border": null,
            "bottom": null,
            "display": null,
            "flex": null,
            "flex_flow": null,
            "grid_area": null,
            "grid_auto_columns": null,
            "grid_auto_flow": null,
            "grid_auto_rows": null,
            "grid_column": null,
            "grid_gap": null,
            "grid_row": null,
            "grid_template_areas": null,
            "grid_template_columns": null,
            "grid_template_rows": null,
            "height": null,
            "justify_content": null,
            "justify_items": null,
            "left": null,
            "margin": null,
            "max_height": null,
            "max_width": null,
            "min_height": null,
            "min_width": null,
            "object_fit": null,
            "object_position": null,
            "order": null,
            "overflow": null,
            "overflow_x": null,
            "overflow_y": null,
            "padding": null,
            "right": null,
            "top": null,
            "visibility": null,
            "width": null
          }
        },
        "de4ad428cf5e4587896916318810a16c": {
          "model_module": "@jupyter-widgets/controls",
          "model_name": "ProgressStyleModel",
          "model_module_version": "1.5.0",
          "state": {
            "_model_module": "@jupyter-widgets/controls",
            "_model_module_version": "1.5.0",
            "_model_name": "ProgressStyleModel",
            "_view_count": null,
            "_view_module": "@jupyter-widgets/base",
            "_view_module_version": "1.2.0",
            "_view_name": "StyleView",
            "bar_color": null,
            "description_width": ""
          }
        },
        "81653ff9b7fe4bd7968fb780f194d0ec": {
          "model_module": "@jupyter-widgets/base",
          "model_name": "LayoutModel",
          "model_module_version": "1.2.0",
          "state": {
            "_model_module": "@jupyter-widgets/base",
            "_model_module_version": "1.2.0",
            "_model_name": "LayoutModel",
            "_view_count": null,
            "_view_module": "@jupyter-widgets/base",
            "_view_module_version": "1.2.0",
            "_view_name": "LayoutView",
            "align_content": null,
            "align_items": null,
            "align_self": null,
            "border": null,
            "bottom": null,
            "display": null,
            "flex": null,
            "flex_flow": null,
            "grid_area": null,
            "grid_auto_columns": null,
            "grid_auto_flow": null,
            "grid_auto_rows": null,
            "grid_column": null,
            "grid_gap": null,
            "grid_row": null,
            "grid_template_areas": null,
            "grid_template_columns": null,
            "grid_template_rows": null,
            "height": null,
            "justify_content": null,
            "justify_items": null,
            "left": null,
            "margin": null,
            "max_height": null,
            "max_width": null,
            "min_height": null,
            "min_width": null,
            "object_fit": null,
            "object_position": null,
            "order": null,
            "overflow": null,
            "overflow_x": null,
            "overflow_y": null,
            "padding": null,
            "right": null,
            "top": null,
            "visibility": null,
            "width": null
          }
        },
        "9f5538e4433740bf8aa0f224d67beb4f": {
          "model_module": "@jupyter-widgets/controls",
          "model_name": "DescriptionStyleModel",
          "model_module_version": "1.5.0",
          "state": {
            "_model_module": "@jupyter-widgets/controls",
            "_model_module_version": "1.5.0",
            "_model_name": "DescriptionStyleModel",
            "_view_count": null,
            "_view_module": "@jupyter-widgets/base",
            "_view_module_version": "1.2.0",
            "_view_name": "StyleView",
            "description_width": ""
          }
        },
        "9f4d78e889164b729ec206038f875025": {
          "model_module": "@jupyter-widgets/controls",
          "model_name": "HBoxModel",
          "model_module_version": "1.5.0",
          "state": {
            "_dom_classes": [],
            "_model_module": "@jupyter-widgets/controls",
            "_model_module_version": "1.5.0",
            "_model_name": "HBoxModel",
            "_view_count": null,
            "_view_module": "@jupyter-widgets/controls",
            "_view_module_version": "1.5.0",
            "_view_name": "HBoxView",
            "box_style": "",
            "children": [
              "IPY_MODEL_c10a7f05238845f0a525aa139f8ef0e0",
              "IPY_MODEL_620ee60aee604bd3b5254c4d475d407c",
              "IPY_MODEL_e5a3fb45b30d4d0dbaace93168b6c4c7"
            ],
            "layout": "IPY_MODEL_f9a0299f4d5c46c5984fdc2c6c148a27"
          }
        },
        "c10a7f05238845f0a525aa139f8ef0e0": {
          "model_module": "@jupyter-widgets/controls",
          "model_name": "HTMLModel",
          "model_module_version": "1.5.0",
          "state": {
            "_dom_classes": [],
            "_model_module": "@jupyter-widgets/controls",
            "_model_module_version": "1.5.0",
            "_model_name": "HTMLModel",
            "_view_count": null,
            "_view_module": "@jupyter-widgets/controls",
            "_view_module_version": "1.5.0",
            "_view_name": "HTMLView",
            "description": "",
            "description_tooltip": null,
            "layout": "IPY_MODEL_9c306df1e99949b998f158f0bb20e99b",
            "placeholder": "​",
            "style": "IPY_MODEL_43eaffd352f841a78765ec03fc13085f",
            "value": "tokenizer.json: 100%"
          }
        },
        "620ee60aee604bd3b5254c4d475d407c": {
          "model_module": "@jupyter-widgets/controls",
          "model_name": "FloatProgressModel",
          "model_module_version": "1.5.0",
          "state": {
            "_dom_classes": [],
            "_model_module": "@jupyter-widgets/controls",
            "_model_module_version": "1.5.0",
            "_model_name": "FloatProgressModel",
            "_view_count": null,
            "_view_module": "@jupyter-widgets/controls",
            "_view_module_version": "1.5.0",
            "_view_name": "ProgressView",
            "bar_style": "success",
            "description": "",
            "description_tooltip": null,
            "layout": "IPY_MODEL_49af95ec353d41aebea574a0c5c810b5",
            "max": 466081,
            "min": 0,
            "orientation": "horizontal",
            "style": "IPY_MODEL_3aecdd51cab14afc886f4f53ac73a871",
            "value": 466081
          }
        },
        "e5a3fb45b30d4d0dbaace93168b6c4c7": {
          "model_module": "@jupyter-widgets/controls",
          "model_name": "HTMLModel",
          "model_module_version": "1.5.0",
          "state": {
            "_dom_classes": [],
            "_model_module": "@jupyter-widgets/controls",
            "_model_module_version": "1.5.0",
            "_model_name": "HTMLModel",
            "_view_count": null,
            "_view_module": "@jupyter-widgets/controls",
            "_view_module_version": "1.5.0",
            "_view_name": "HTMLView",
            "description": "",
            "description_tooltip": null,
            "layout": "IPY_MODEL_04d974951cff48dc8475476e3c2cd654",
            "placeholder": "​",
            "style": "IPY_MODEL_0f32ff5873884171a0e1281b53d81715",
            "value": " 466k/466k [00:00&lt;00:00, 4.60MB/s]"
          }
        },
        "f9a0299f4d5c46c5984fdc2c6c148a27": {
          "model_module": "@jupyter-widgets/base",
          "model_name": "LayoutModel",
          "model_module_version": "1.2.0",
          "state": {
            "_model_module": "@jupyter-widgets/base",
            "_model_module_version": "1.2.0",
            "_model_name": "LayoutModel",
            "_view_count": null,
            "_view_module": "@jupyter-widgets/base",
            "_view_module_version": "1.2.0",
            "_view_name": "LayoutView",
            "align_content": null,
            "align_items": null,
            "align_self": null,
            "border": null,
            "bottom": null,
            "display": null,
            "flex": null,
            "flex_flow": null,
            "grid_area": null,
            "grid_auto_columns": null,
            "grid_auto_flow": null,
            "grid_auto_rows": null,
            "grid_column": null,
            "grid_gap": null,
            "grid_row": null,
            "grid_template_areas": null,
            "grid_template_columns": null,
            "grid_template_rows": null,
            "height": null,
            "justify_content": null,
            "justify_items": null,
            "left": null,
            "margin": null,
            "max_height": null,
            "max_width": null,
            "min_height": null,
            "min_width": null,
            "object_fit": null,
            "object_position": null,
            "order": null,
            "overflow": null,
            "overflow_x": null,
            "overflow_y": null,
            "padding": null,
            "right": null,
            "top": null,
            "visibility": null,
            "width": null
          }
        },
        "9c306df1e99949b998f158f0bb20e99b": {
          "model_module": "@jupyter-widgets/base",
          "model_name": "LayoutModel",
          "model_module_version": "1.2.0",
          "state": {
            "_model_module": "@jupyter-widgets/base",
            "_model_module_version": "1.2.0",
            "_model_name": "LayoutModel",
            "_view_count": null,
            "_view_module": "@jupyter-widgets/base",
            "_view_module_version": "1.2.0",
            "_view_name": "LayoutView",
            "align_content": null,
            "align_items": null,
            "align_self": null,
            "border": null,
            "bottom": null,
            "display": null,
            "flex": null,
            "flex_flow": null,
            "grid_area": null,
            "grid_auto_columns": null,
            "grid_auto_flow": null,
            "grid_auto_rows": null,
            "grid_column": null,
            "grid_gap": null,
            "grid_row": null,
            "grid_template_areas": null,
            "grid_template_columns": null,
            "grid_template_rows": null,
            "height": null,
            "justify_content": null,
            "justify_items": null,
            "left": null,
            "margin": null,
            "max_height": null,
            "max_width": null,
            "min_height": null,
            "min_width": null,
            "object_fit": null,
            "object_position": null,
            "order": null,
            "overflow": null,
            "overflow_x": null,
            "overflow_y": null,
            "padding": null,
            "right": null,
            "top": null,
            "visibility": null,
            "width": null
          }
        },
        "43eaffd352f841a78765ec03fc13085f": {
          "model_module": "@jupyter-widgets/controls",
          "model_name": "DescriptionStyleModel",
          "model_module_version": "1.5.0",
          "state": {
            "_model_module": "@jupyter-widgets/controls",
            "_model_module_version": "1.5.0",
            "_model_name": "DescriptionStyleModel",
            "_view_count": null,
            "_view_module": "@jupyter-widgets/base",
            "_view_module_version": "1.2.0",
            "_view_name": "StyleView",
            "description_width": ""
          }
        },
        "49af95ec353d41aebea574a0c5c810b5": {
          "model_module": "@jupyter-widgets/base",
          "model_name": "LayoutModel",
          "model_module_version": "1.2.0",
          "state": {
            "_model_module": "@jupyter-widgets/base",
            "_model_module_version": "1.2.0",
            "_model_name": "LayoutModel",
            "_view_count": null,
            "_view_module": "@jupyter-widgets/base",
            "_view_module_version": "1.2.0",
            "_view_name": "LayoutView",
            "align_content": null,
            "align_items": null,
            "align_self": null,
            "border": null,
            "bottom": null,
            "display": null,
            "flex": null,
            "flex_flow": null,
            "grid_area": null,
            "grid_auto_columns": null,
            "grid_auto_flow": null,
            "grid_auto_rows": null,
            "grid_column": null,
            "grid_gap": null,
            "grid_row": null,
            "grid_template_areas": null,
            "grid_template_columns": null,
            "grid_template_rows": null,
            "height": null,
            "justify_content": null,
            "justify_items": null,
            "left": null,
            "margin": null,
            "max_height": null,
            "max_width": null,
            "min_height": null,
            "min_width": null,
            "object_fit": null,
            "object_position": null,
            "order": null,
            "overflow": null,
            "overflow_x": null,
            "overflow_y": null,
            "padding": null,
            "right": null,
            "top": null,
            "visibility": null,
            "width": null
          }
        },
        "3aecdd51cab14afc886f4f53ac73a871": {
          "model_module": "@jupyter-widgets/controls",
          "model_name": "ProgressStyleModel",
          "model_module_version": "1.5.0",
          "state": {
            "_model_module": "@jupyter-widgets/controls",
            "_model_module_version": "1.5.0",
            "_model_name": "ProgressStyleModel",
            "_view_count": null,
            "_view_module": "@jupyter-widgets/base",
            "_view_module_version": "1.2.0",
            "_view_name": "StyleView",
            "bar_color": null,
            "description_width": ""
          }
        },
        "04d974951cff48dc8475476e3c2cd654": {
          "model_module": "@jupyter-widgets/base",
          "model_name": "LayoutModel",
          "model_module_version": "1.2.0",
          "state": {
            "_model_module": "@jupyter-widgets/base",
            "_model_module_version": "1.2.0",
            "_model_name": "LayoutModel",
            "_view_count": null,
            "_view_module": "@jupyter-widgets/base",
            "_view_module_version": "1.2.0",
            "_view_name": "LayoutView",
            "align_content": null,
            "align_items": null,
            "align_self": null,
            "border": null,
            "bottom": null,
            "display": null,
            "flex": null,
            "flex_flow": null,
            "grid_area": null,
            "grid_auto_columns": null,
            "grid_auto_flow": null,
            "grid_auto_rows": null,
            "grid_column": null,
            "grid_gap": null,
            "grid_row": null,
            "grid_template_areas": null,
            "grid_template_columns": null,
            "grid_template_rows": null,
            "height": null,
            "justify_content": null,
            "justify_items": null,
            "left": null,
            "margin": null,
            "max_height": null,
            "max_width": null,
            "min_height": null,
            "min_width": null,
            "object_fit": null,
            "object_position": null,
            "order": null,
            "overflow": null,
            "overflow_x": null,
            "overflow_y": null,
            "padding": null,
            "right": null,
            "top": null,
            "visibility": null,
            "width": null
          }
        },
        "0f32ff5873884171a0e1281b53d81715": {
          "model_module": "@jupyter-widgets/controls",
          "model_name": "DescriptionStyleModel",
          "model_module_version": "1.5.0",
          "state": {
            "_model_module": "@jupyter-widgets/controls",
            "_model_module_version": "1.5.0",
            "_model_name": "DescriptionStyleModel",
            "_view_count": null,
            "_view_module": "@jupyter-widgets/base",
            "_view_module_version": "1.2.0",
            "_view_name": "StyleView",
            "description_width": ""
          }
        },
        "11b193722f904e92b536d6cf74361708": {
          "model_module": "@jupyter-widgets/controls",
          "model_name": "HBoxModel",
          "model_module_version": "1.5.0",
          "state": {
            "_dom_classes": [],
            "_model_module": "@jupyter-widgets/controls",
            "_model_module_version": "1.5.0",
            "_model_name": "HBoxModel",
            "_view_count": null,
            "_view_module": "@jupyter-widgets/controls",
            "_view_module_version": "1.5.0",
            "_view_name": "HBoxView",
            "box_style": "",
            "children": [
              "IPY_MODEL_de1688dabab24d24a1b7a6dd73f006a7",
              "IPY_MODEL_f3b93f775698495a877721cb3400c8cf",
              "IPY_MODEL_bed84fff9c5d453aa3dcce47ce0806bd"
            ],
            "layout": "IPY_MODEL_cab4f50212ef4298b004567e66368e83"
          }
        },
        "de1688dabab24d24a1b7a6dd73f006a7": {
          "model_module": "@jupyter-widgets/controls",
          "model_name": "HTMLModel",
          "model_module_version": "1.5.0",
          "state": {
            "_dom_classes": [],
            "_model_module": "@jupyter-widgets/controls",
            "_model_module_version": "1.5.0",
            "_model_name": "HTMLModel",
            "_view_count": null,
            "_view_module": "@jupyter-widgets/controls",
            "_view_module_version": "1.5.0",
            "_view_name": "HTMLView",
            "description": "",
            "description_tooltip": null,
            "layout": "IPY_MODEL_a94befb250f64967909480e29fb6cc46",
            "placeholder": "​",
            "style": "IPY_MODEL_94ffbd7b3b35417f83bed713bd5f8c45",
            "value": "special_tokens_map.json: 100%"
          }
        },
        "f3b93f775698495a877721cb3400c8cf": {
          "model_module": "@jupyter-widgets/controls",
          "model_name": "FloatProgressModel",
          "model_module_version": "1.5.0",
          "state": {
            "_dom_classes": [],
            "_model_module": "@jupyter-widgets/controls",
            "_model_module_version": "1.5.0",
            "_model_name": "FloatProgressModel",
            "_view_count": null,
            "_view_module": "@jupyter-widgets/controls",
            "_view_module_version": "1.5.0",
            "_view_name": "ProgressView",
            "bar_style": "success",
            "description": "",
            "description_tooltip": null,
            "layout": "IPY_MODEL_b85fd24e86af4d969a55e81d096c28d3",
            "max": 112,
            "min": 0,
            "orientation": "horizontal",
            "style": "IPY_MODEL_f3fac535070941aba68dc3a6e748937e",
            "value": 112
          }
        },
        "bed84fff9c5d453aa3dcce47ce0806bd": {
          "model_module": "@jupyter-widgets/controls",
          "model_name": "HTMLModel",
          "model_module_version": "1.5.0",
          "state": {
            "_dom_classes": [],
            "_model_module": "@jupyter-widgets/controls",
            "_model_module_version": "1.5.0",
            "_model_name": "HTMLModel",
            "_view_count": null,
            "_view_module": "@jupyter-widgets/controls",
            "_view_module_version": "1.5.0",
            "_view_name": "HTMLView",
            "description": "",
            "description_tooltip": null,
            "layout": "IPY_MODEL_c0a0785293c247b0acc05888b2c00829",
            "placeholder": "​",
            "style": "IPY_MODEL_19922515128e414780e512dc416711fe",
            "value": " 112/112 [00:00&lt;00:00, 2.96kB/s]"
          }
        },
        "cab4f50212ef4298b004567e66368e83": {
          "model_module": "@jupyter-widgets/base",
          "model_name": "LayoutModel",
          "model_module_version": "1.2.0",
          "state": {
            "_model_module": "@jupyter-widgets/base",
            "_model_module_version": "1.2.0",
            "_model_name": "LayoutModel",
            "_view_count": null,
            "_view_module": "@jupyter-widgets/base",
            "_view_module_version": "1.2.0",
            "_view_name": "LayoutView",
            "align_content": null,
            "align_items": null,
            "align_self": null,
            "border": null,
            "bottom": null,
            "display": null,
            "flex": null,
            "flex_flow": null,
            "grid_area": null,
            "grid_auto_columns": null,
            "grid_auto_flow": null,
            "grid_auto_rows": null,
            "grid_column": null,
            "grid_gap": null,
            "grid_row": null,
            "grid_template_areas": null,
            "grid_template_columns": null,
            "grid_template_rows": null,
            "height": null,
            "justify_content": null,
            "justify_items": null,
            "left": null,
            "margin": null,
            "max_height": null,
            "max_width": null,
            "min_height": null,
            "min_width": null,
            "object_fit": null,
            "object_position": null,
            "order": null,
            "overflow": null,
            "overflow_x": null,
            "overflow_y": null,
            "padding": null,
            "right": null,
            "top": null,
            "visibility": null,
            "width": null
          }
        },
        "a94befb250f64967909480e29fb6cc46": {
          "model_module": "@jupyter-widgets/base",
          "model_name": "LayoutModel",
          "model_module_version": "1.2.0",
          "state": {
            "_model_module": "@jupyter-widgets/base",
            "_model_module_version": "1.2.0",
            "_model_name": "LayoutModel",
            "_view_count": null,
            "_view_module": "@jupyter-widgets/base",
            "_view_module_version": "1.2.0",
            "_view_name": "LayoutView",
            "align_content": null,
            "align_items": null,
            "align_self": null,
            "border": null,
            "bottom": null,
            "display": null,
            "flex": null,
            "flex_flow": null,
            "grid_area": null,
            "grid_auto_columns": null,
            "grid_auto_flow": null,
            "grid_auto_rows": null,
            "grid_column": null,
            "grid_gap": null,
            "grid_row": null,
            "grid_template_areas": null,
            "grid_template_columns": null,
            "grid_template_rows": null,
            "height": null,
            "justify_content": null,
            "justify_items": null,
            "left": null,
            "margin": null,
            "max_height": null,
            "max_width": null,
            "min_height": null,
            "min_width": null,
            "object_fit": null,
            "object_position": null,
            "order": null,
            "overflow": null,
            "overflow_x": null,
            "overflow_y": null,
            "padding": null,
            "right": null,
            "top": null,
            "visibility": null,
            "width": null
          }
        },
        "94ffbd7b3b35417f83bed713bd5f8c45": {
          "model_module": "@jupyter-widgets/controls",
          "model_name": "DescriptionStyleModel",
          "model_module_version": "1.5.0",
          "state": {
            "_model_module": "@jupyter-widgets/controls",
            "_model_module_version": "1.5.0",
            "_model_name": "DescriptionStyleModel",
            "_view_count": null,
            "_view_module": "@jupyter-widgets/base",
            "_view_module_version": "1.2.0",
            "_view_name": "StyleView",
            "description_width": ""
          }
        },
        "b85fd24e86af4d969a55e81d096c28d3": {
          "model_module": "@jupyter-widgets/base",
          "model_name": "LayoutModel",
          "model_module_version": "1.2.0",
          "state": {
            "_model_module": "@jupyter-widgets/base",
            "_model_module_version": "1.2.0",
            "_model_name": "LayoutModel",
            "_view_count": null,
            "_view_module": "@jupyter-widgets/base",
            "_view_module_version": "1.2.0",
            "_view_name": "LayoutView",
            "align_content": null,
            "align_items": null,
            "align_self": null,
            "border": null,
            "bottom": null,
            "display": null,
            "flex": null,
            "flex_flow": null,
            "grid_area": null,
            "grid_auto_columns": null,
            "grid_auto_flow": null,
            "grid_auto_rows": null,
            "grid_column": null,
            "grid_gap": null,
            "grid_row": null,
            "grid_template_areas": null,
            "grid_template_columns": null,
            "grid_template_rows": null,
            "height": null,
            "justify_content": null,
            "justify_items": null,
            "left": null,
            "margin": null,
            "max_height": null,
            "max_width": null,
            "min_height": null,
            "min_width": null,
            "object_fit": null,
            "object_position": null,
            "order": null,
            "overflow": null,
            "overflow_x": null,
            "overflow_y": null,
            "padding": null,
            "right": null,
            "top": null,
            "visibility": null,
            "width": null
          }
        },
        "f3fac535070941aba68dc3a6e748937e": {
          "model_module": "@jupyter-widgets/controls",
          "model_name": "ProgressStyleModel",
          "model_module_version": "1.5.0",
          "state": {
            "_model_module": "@jupyter-widgets/controls",
            "_model_module_version": "1.5.0",
            "_model_name": "ProgressStyleModel",
            "_view_count": null,
            "_view_module": "@jupyter-widgets/base",
            "_view_module_version": "1.2.0",
            "_view_name": "StyleView",
            "bar_color": null,
            "description_width": ""
          }
        },
        "c0a0785293c247b0acc05888b2c00829": {
          "model_module": "@jupyter-widgets/base",
          "model_name": "LayoutModel",
          "model_module_version": "1.2.0",
          "state": {
            "_model_module": "@jupyter-widgets/base",
            "_model_module_version": "1.2.0",
            "_model_name": "LayoutModel",
            "_view_count": null,
            "_view_module": "@jupyter-widgets/base",
            "_view_module_version": "1.2.0",
            "_view_name": "LayoutView",
            "align_content": null,
            "align_items": null,
            "align_self": null,
            "border": null,
            "bottom": null,
            "display": null,
            "flex": null,
            "flex_flow": null,
            "grid_area": null,
            "grid_auto_columns": null,
            "grid_auto_flow": null,
            "grid_auto_rows": null,
            "grid_column": null,
            "grid_gap": null,
            "grid_row": null,
            "grid_template_areas": null,
            "grid_template_columns": null,
            "grid_template_rows": null,
            "height": null,
            "justify_content": null,
            "justify_items": null,
            "left": null,
            "margin": null,
            "max_height": null,
            "max_width": null,
            "min_height": null,
            "min_width": null,
            "object_fit": null,
            "object_position": null,
            "order": null,
            "overflow": null,
            "overflow_x": null,
            "overflow_y": null,
            "padding": null,
            "right": null,
            "top": null,
            "visibility": null,
            "width": null
          }
        },
        "19922515128e414780e512dc416711fe": {
          "model_module": "@jupyter-widgets/controls",
          "model_name": "DescriptionStyleModel",
          "model_module_version": "1.5.0",
          "state": {
            "_model_module": "@jupyter-widgets/controls",
            "_model_module_version": "1.5.0",
            "_model_name": "DescriptionStyleModel",
            "_view_count": null,
            "_view_module": "@jupyter-widgets/base",
            "_view_module_version": "1.2.0",
            "_view_name": "StyleView",
            "description_width": ""
          }
        },
        "662bc4c89bf04ba69d2735637ce1ac41": {
          "model_module": "@jupyter-widgets/controls",
          "model_name": "HBoxModel",
          "model_module_version": "1.5.0",
          "state": {
            "_dom_classes": [],
            "_model_module": "@jupyter-widgets/controls",
            "_model_module_version": "1.5.0",
            "_model_name": "HBoxModel",
            "_view_count": null,
            "_view_module": "@jupyter-widgets/controls",
            "_view_module_version": "1.5.0",
            "_view_name": "HBoxView",
            "box_style": "",
            "children": [
              "IPY_MODEL_30d486f8f23f497f90da9d4111717957",
              "IPY_MODEL_3047ed6debd04209a079d66067514018",
              "IPY_MODEL_204f63ae1829408bb0256d04c9292052"
            ],
            "layout": "IPY_MODEL_d244cef110f24716b64488f8e855af4e"
          }
        },
        "30d486f8f23f497f90da9d4111717957": {
          "model_module": "@jupyter-widgets/controls",
          "model_name": "HTMLModel",
          "model_module_version": "1.5.0",
          "state": {
            "_dom_classes": [],
            "_model_module": "@jupyter-widgets/controls",
            "_model_module_version": "1.5.0",
            "_model_name": "HTMLModel",
            "_view_count": null,
            "_view_module": "@jupyter-widgets/controls",
            "_view_module_version": "1.5.0",
            "_view_name": "HTMLView",
            "description": "",
            "description_tooltip": null,
            "layout": "IPY_MODEL_eafa0c42c5f54e1a90518470191dc30e",
            "placeholder": "​",
            "style": "IPY_MODEL_89b59b5e4e9f42c198f24aa3ab982486",
            "value": "1_Pooling/config.json: 100%"
          }
        },
        "3047ed6debd04209a079d66067514018": {
          "model_module": "@jupyter-widgets/controls",
          "model_name": "FloatProgressModel",
          "model_module_version": "1.5.0",
          "state": {
            "_dom_classes": [],
            "_model_module": "@jupyter-widgets/controls",
            "_model_module_version": "1.5.0",
            "_model_name": "FloatProgressModel",
            "_view_count": null,
            "_view_module": "@jupyter-widgets/controls",
            "_view_module_version": "1.5.0",
            "_view_name": "ProgressView",
            "bar_style": "success",
            "description": "",
            "description_tooltip": null,
            "layout": "IPY_MODEL_7de3b30ac45647f7b24a7f1d73f57440",
            "max": 190,
            "min": 0,
            "orientation": "horizontal",
            "style": "IPY_MODEL_b8c15ef192eb468fa51856c749181f00",
            "value": 190
          }
        },
        "204f63ae1829408bb0256d04c9292052": {
          "model_module": "@jupyter-widgets/controls",
          "model_name": "HTMLModel",
          "model_module_version": "1.5.0",
          "state": {
            "_dom_classes": [],
            "_model_module": "@jupyter-widgets/controls",
            "_model_module_version": "1.5.0",
            "_model_name": "HTMLModel",
            "_view_count": null,
            "_view_module": "@jupyter-widgets/controls",
            "_view_module_version": "1.5.0",
            "_view_name": "HTMLView",
            "description": "",
            "description_tooltip": null,
            "layout": "IPY_MODEL_282366ef955a4d90a0785a7fc9b85f54",
            "placeholder": "​",
            "style": "IPY_MODEL_bfb38368ee574810bec73b4829c4d084",
            "value": " 190/190 [00:00&lt;00:00, 7.73kB/s]"
          }
        },
        "d244cef110f24716b64488f8e855af4e": {
          "model_module": "@jupyter-widgets/base",
          "model_name": "LayoutModel",
          "model_module_version": "1.2.0",
          "state": {
            "_model_module": "@jupyter-widgets/base",
            "_model_module_version": "1.2.0",
            "_model_name": "LayoutModel",
            "_view_count": null,
            "_view_module": "@jupyter-widgets/base",
            "_view_module_version": "1.2.0",
            "_view_name": "LayoutView",
            "align_content": null,
            "align_items": null,
            "align_self": null,
            "border": null,
            "bottom": null,
            "display": null,
            "flex": null,
            "flex_flow": null,
            "grid_area": null,
            "grid_auto_columns": null,
            "grid_auto_flow": null,
            "grid_auto_rows": null,
            "grid_column": null,
            "grid_gap": null,
            "grid_row": null,
            "grid_template_areas": null,
            "grid_template_columns": null,
            "grid_template_rows": null,
            "height": null,
            "justify_content": null,
            "justify_items": null,
            "left": null,
            "margin": null,
            "max_height": null,
            "max_width": null,
            "min_height": null,
            "min_width": null,
            "object_fit": null,
            "object_position": null,
            "order": null,
            "overflow": null,
            "overflow_x": null,
            "overflow_y": null,
            "padding": null,
            "right": null,
            "top": null,
            "visibility": null,
            "width": null
          }
        },
        "eafa0c42c5f54e1a90518470191dc30e": {
          "model_module": "@jupyter-widgets/base",
          "model_name": "LayoutModel",
          "model_module_version": "1.2.0",
          "state": {
            "_model_module": "@jupyter-widgets/base",
            "_model_module_version": "1.2.0",
            "_model_name": "LayoutModel",
            "_view_count": null,
            "_view_module": "@jupyter-widgets/base",
            "_view_module_version": "1.2.0",
            "_view_name": "LayoutView",
            "align_content": null,
            "align_items": null,
            "align_self": null,
            "border": null,
            "bottom": null,
            "display": null,
            "flex": null,
            "flex_flow": null,
            "grid_area": null,
            "grid_auto_columns": null,
            "grid_auto_flow": null,
            "grid_auto_rows": null,
            "grid_column": null,
            "grid_gap": null,
            "grid_row": null,
            "grid_template_areas": null,
            "grid_template_columns": null,
            "grid_template_rows": null,
            "height": null,
            "justify_content": null,
            "justify_items": null,
            "left": null,
            "margin": null,
            "max_height": null,
            "max_width": null,
            "min_height": null,
            "min_width": null,
            "object_fit": null,
            "object_position": null,
            "order": null,
            "overflow": null,
            "overflow_x": null,
            "overflow_y": null,
            "padding": null,
            "right": null,
            "top": null,
            "visibility": null,
            "width": null
          }
        },
        "89b59b5e4e9f42c198f24aa3ab982486": {
          "model_module": "@jupyter-widgets/controls",
          "model_name": "DescriptionStyleModel",
          "model_module_version": "1.5.0",
          "state": {
            "_model_module": "@jupyter-widgets/controls",
            "_model_module_version": "1.5.0",
            "_model_name": "DescriptionStyleModel",
            "_view_count": null,
            "_view_module": "@jupyter-widgets/base",
            "_view_module_version": "1.2.0",
            "_view_name": "StyleView",
            "description_width": ""
          }
        },
        "7de3b30ac45647f7b24a7f1d73f57440": {
          "model_module": "@jupyter-widgets/base",
          "model_name": "LayoutModel",
          "model_module_version": "1.2.0",
          "state": {
            "_model_module": "@jupyter-widgets/base",
            "_model_module_version": "1.2.0",
            "_model_name": "LayoutModel",
            "_view_count": null,
            "_view_module": "@jupyter-widgets/base",
            "_view_module_version": "1.2.0",
            "_view_name": "LayoutView",
            "align_content": null,
            "align_items": null,
            "align_self": null,
            "border": null,
            "bottom": null,
            "display": null,
            "flex": null,
            "flex_flow": null,
            "grid_area": null,
            "grid_auto_columns": null,
            "grid_auto_flow": null,
            "grid_auto_rows": null,
            "grid_column": null,
            "grid_gap": null,
            "grid_row": null,
            "grid_template_areas": null,
            "grid_template_columns": null,
            "grid_template_rows": null,
            "height": null,
            "justify_content": null,
            "justify_items": null,
            "left": null,
            "margin": null,
            "max_height": null,
            "max_width": null,
            "min_height": null,
            "min_width": null,
            "object_fit": null,
            "object_position": null,
            "order": null,
            "overflow": null,
            "overflow_x": null,
            "overflow_y": null,
            "padding": null,
            "right": null,
            "top": null,
            "visibility": null,
            "width": null
          }
        },
        "b8c15ef192eb468fa51856c749181f00": {
          "model_module": "@jupyter-widgets/controls",
          "model_name": "ProgressStyleModel",
          "model_module_version": "1.5.0",
          "state": {
            "_model_module": "@jupyter-widgets/controls",
            "_model_module_version": "1.5.0",
            "_model_name": "ProgressStyleModel",
            "_view_count": null,
            "_view_module": "@jupyter-widgets/base",
            "_view_module_version": "1.2.0",
            "_view_name": "StyleView",
            "bar_color": null,
            "description_width": ""
          }
        },
        "282366ef955a4d90a0785a7fc9b85f54": {
          "model_module": "@jupyter-widgets/base",
          "model_name": "LayoutModel",
          "model_module_version": "1.2.0",
          "state": {
            "_model_module": "@jupyter-widgets/base",
            "_model_module_version": "1.2.0",
            "_model_name": "LayoutModel",
            "_view_count": null,
            "_view_module": "@jupyter-widgets/base",
            "_view_module_version": "1.2.0",
            "_view_name": "LayoutView",
            "align_content": null,
            "align_items": null,
            "align_self": null,
            "border": null,
            "bottom": null,
            "display": null,
            "flex": null,
            "flex_flow": null,
            "grid_area": null,
            "grid_auto_columns": null,
            "grid_auto_flow": null,
            "grid_auto_rows": null,
            "grid_column": null,
            "grid_gap": null,
            "grid_row": null,
            "grid_template_areas": null,
            "grid_template_columns": null,
            "grid_template_rows": null,
            "height": null,
            "justify_content": null,
            "justify_items": null,
            "left": null,
            "margin": null,
            "max_height": null,
            "max_width": null,
            "min_height": null,
            "min_width": null,
            "object_fit": null,
            "object_position": null,
            "order": null,
            "overflow": null,
            "overflow_x": null,
            "overflow_y": null,
            "padding": null,
            "right": null,
            "top": null,
            "visibility": null,
            "width": null
          }
        },
        "bfb38368ee574810bec73b4829c4d084": {
          "model_module": "@jupyter-widgets/controls",
          "model_name": "DescriptionStyleModel",
          "model_module_version": "1.5.0",
          "state": {
            "_model_module": "@jupyter-widgets/controls",
            "_model_module_version": "1.5.0",
            "_model_name": "DescriptionStyleModel",
            "_view_count": null,
            "_view_module": "@jupyter-widgets/base",
            "_view_module_version": "1.2.0",
            "_view_name": "StyleView",
            "description_width": ""
          }
        }
      }
    }
  },
  "cells": [
    {
      "cell_type": "markdown",
      "source": [
        "<h1><b>Movie Genre Analysis\n",
        "\n",
        "---\n",
        "\n",
        "\n"
      ],
      "metadata": {
        "id": "9aAizrTM5-8C"
      }
    },
    {
      "cell_type": "markdown",
      "source": [
        "<details>\n",
        "<summary><b>Check out my other projects!</b></summary>\n",
        "Links to other projects here"
      ],
      "metadata": {
        "id": "U4RpO5Xe7xrc"
      }
    },
    {
      "cell_type": "markdown",
      "source": [
        "<h3><b> Background </b></h3>\n",
        "\n",
        "In this section I conducted an analysis of the relationship between overview text and movie genre in the imdb dataset. The use case is to predict the correct genre for a movie whose description of the overview is provided."
      ],
      "metadata": {
        "id": "AuW08whC6mP-"
      }
    },
    {
      "cell_type": "markdown",
      "source": [
        "\n",
        "<b>[OpenAI](https://openai.com)</b>\n",
        "> Quote1\n",
        "Quote..................... sssssssssssssssssssssssssssssssssssssssssssssssssssssssssssssssssssssssssssssssssssssssssssssssssssssssssssssssssss\n",
        "\n"
      ],
      "metadata": {
        "id": "eyWTtBE09AhR"
      }
    },
    {
      "cell_type": "code",
      "execution_count": null,
      "metadata": {
        "colab": {
          "base_uri": "https://localhost:8080/"
        },
        "id": "k8SpAS-9okT_",
        "outputId": "1b91072d-6d42-4f6c-c4a5-b6f0e2efacaf"
      },
      "outputs": [
        {
          "output_type": "stream",
          "name": "stdout",
          "text": [
            "--2024-11-12 02:03:38--  https://raw.githubusercontent.com/lexie21/recommender/main/model/movies_data/imdb_folder/movies_metadata.csv\n",
            "Resolving raw.githubusercontent.com (raw.githubusercontent.com)... 185.199.108.133, 185.199.111.133, 185.199.109.133, ...\n",
            "Connecting to raw.githubusercontent.com (raw.githubusercontent.com)|185.199.108.133|:443... connected.\n",
            "HTTP request sent, awaiting response... 200 OK\n",
            "Length: 34445126 (33M) [text/plain]\n",
            "Saving to: ‘movies_metadata.csv’\n",
            "\n",
            "movies_metadata.csv 100%[===================>]  32.85M  12.7MB/s    in 2.6s    \n",
            "\n",
            "2024-11-12 02:03:41 (12.7 MB/s) - ‘movies_metadata.csv’ saved [34445126/34445126]\n",
            "\n"
          ]
        }
      ],
      "source": [
        "!wget \"https://raw.githubusercontent.com/lexie21/recommender/main/model/movies_data/imdb_folder/movies_metadata.csv\""
      ]
    },
    {
      "cell_type": "code",
      "source": [
        "import numpy as np\n",
        "import pandas as pd\n",
        "import matplotlib.pyplot as plt\n",
        "import seaborn as sns\n",
        "from ast import literal_eval\n",
        "from sklearn.linear_model import LogisticRegression\n",
        "from sklearn.preprocessing import MultiLabelBinarizer, LabelBinarizer\n",
        "from sklearn.multioutput import MultiOutputClassifier\n",
        "from sklearn.feature_extraction.text import TfidfVectorizer\n",
        "from sklearn.model_selection import train_test_split\n",
        "from sklearn.decomposition import TruncatedSVD\n",
        "from sklearn.preprocessing import StandardScaler\n",
        "from sklearn.metrics import hamming_loss, accuracy_score, f1_score, confusion_matrix\n",
        "from sklearn.preprocessing import LabelEncoder\n",
        "from xgboost import XGBClassifier\n",
        "import nltk\n",
        "nltk.download('punkt')\n",
        "nltk.download('stopwords')\n",
        "from nltk.tokenize import word_tokenize, sent_tokenize\n",
        "from nltk.corpus import stopwords\n",
        "stop_words = stopwords.words('english')\n",
        "import warnings\n",
        "warnings.filterwarnings(\"ignore\")"
      ],
      "metadata": {
        "colab": {
          "base_uri": "https://localhost:8080/"
        },
        "id": "CKjmeTN2oow4",
        "outputId": "0248c5ad-8eea-4081-a9e6-fe860054a36c"
      },
      "execution_count": null,
      "outputs": [
        {
          "output_type": "stream",
          "name": "stderr",
          "text": [
            "[nltk_data] Downloading package punkt to /root/nltk_data...\n",
            "[nltk_data]   Unzipping tokenizers/punkt.zip.\n",
            "[nltk_data] Downloading package stopwords to /root/nltk_data...\n",
            "[nltk_data]   Unzipping corpora/stopwords.zip.\n"
          ]
        }
      ]
    },
    {
      "cell_type": "markdown",
      "source": [
        "Goal: focusing on all things tokenizing and embedding alone"
      ],
      "metadata": {
        "id": "yLDSKpr049ag"
      }
    },
    {
      "cell_type": "code",
      "source": [
        "data = pd.read_csv(\"movies_metadata.csv\")"
      ],
      "metadata": {
        "id": "as_BGclvoyX7"
      },
      "execution_count": null,
      "outputs": []
    },
    {
      "cell_type": "code",
      "source": [
        "data.head()"
      ],
      "metadata": {
        "colab": {
          "base_uri": "https://localhost:8080/",
          "height": 707
        },
        "id": "N4R9vJhso5ah",
        "outputId": "18b7e504-d2c0-4192-95e3-e646643402f3"
      },
      "execution_count": null,
      "outputs": [
        {
          "output_type": "execute_result",
          "data": {
            "text/plain": [
              "   adult                              belongs_to_collection    budget  \\\n",
              "0  False  {'id': 10194, 'name': 'Toy Story Collection', ...  30000000   \n",
              "1  False                                                NaN  65000000   \n",
              "2  False  {'id': 119050, 'name': 'Grumpy Old Men Collect...         0   \n",
              "3  False                                                NaN  16000000   \n",
              "4  False  {'id': 96871, 'name': 'Father of the Bride Col...         0   \n",
              "\n",
              "                                              genres  \\\n",
              "0  [{'id': 16, 'name': 'Animation'}, {'id': 35, '...   \n",
              "1  [{'id': 12, 'name': 'Adventure'}, {'id': 14, '...   \n",
              "2  [{'id': 10749, 'name': 'Romance'}, {'id': 35, ...   \n",
              "3  [{'id': 35, 'name': 'Comedy'}, {'id': 18, 'nam...   \n",
              "4                     [{'id': 35, 'name': 'Comedy'}]   \n",
              "\n",
              "                               homepage     id    imdb_id original_language  \\\n",
              "0  http://toystory.disney.com/toy-story    862  tt0114709                en   \n",
              "1                                   NaN   8844  tt0113497                en   \n",
              "2                                   NaN  15602  tt0113228                en   \n",
              "3                                   NaN  31357  tt0114885                en   \n",
              "4                                   NaN  11862  tt0113041                en   \n",
              "\n",
              "                original_title  \\\n",
              "0                    Toy Story   \n",
              "1                      Jumanji   \n",
              "2             Grumpier Old Men   \n",
              "3            Waiting to Exhale   \n",
              "4  Father of the Bride Part II   \n",
              "\n",
              "                                            overview  ... release_date  \\\n",
              "0  Led by Woody, Andy's toys live happily in his ...  ...   1995-10-30   \n",
              "1  When siblings Judy and Peter discover an encha...  ...   1995-12-15   \n",
              "2  A family wedding reignites the ancient feud be...  ...   1995-12-22   \n",
              "3  Cheated on, mistreated and stepped on, the wom...  ...   1995-12-22   \n",
              "4  Just when George Banks has recovered from his ...  ...   1995-02-10   \n",
              "\n",
              "       revenue runtime                                   spoken_languages  \\\n",
              "0  373554033.0    81.0           [{'iso_639_1': 'en', 'name': 'English'}]   \n",
              "1  262797249.0   104.0  [{'iso_639_1': 'en', 'name': 'English'}, {'iso...   \n",
              "2          0.0   101.0           [{'iso_639_1': 'en', 'name': 'English'}]   \n",
              "3   81452156.0   127.0           [{'iso_639_1': 'en', 'name': 'English'}]   \n",
              "4   76578911.0   106.0           [{'iso_639_1': 'en', 'name': 'English'}]   \n",
              "\n",
              "     status                                            tagline  \\\n",
              "0  Released                                                NaN   \n",
              "1  Released          Roll the dice and unleash the excitement!   \n",
              "2  Released  Still Yelling. Still Fighting. Still Ready for...   \n",
              "3  Released  Friends are the people who let you be yourself...   \n",
              "4  Released  Just When His World Is Back To Normal... He's ...   \n",
              "\n",
              "                         title  video vote_average vote_count  \n",
              "0                    Toy Story  False          7.7     5415.0  \n",
              "1                      Jumanji  False          6.9     2413.0  \n",
              "2             Grumpier Old Men  False          6.5       92.0  \n",
              "3            Waiting to Exhale  False          6.1       34.0  \n",
              "4  Father of the Bride Part II  False          5.7      173.0  \n",
              "\n",
              "[5 rows x 24 columns]"
            ],
            "text/html": [
              "\n",
              "  <div id=\"df-ec01a381-87b5-48a5-9103-94520aa1e893\" class=\"colab-df-container\">\n",
              "    <div>\n",
              "<style scoped>\n",
              "    .dataframe tbody tr th:only-of-type {\n",
              "        vertical-align: middle;\n",
              "    }\n",
              "\n",
              "    .dataframe tbody tr th {\n",
              "        vertical-align: top;\n",
              "    }\n",
              "\n",
              "    .dataframe thead th {\n",
              "        text-align: right;\n",
              "    }\n",
              "</style>\n",
              "<table border=\"1\" class=\"dataframe\">\n",
              "  <thead>\n",
              "    <tr style=\"text-align: right;\">\n",
              "      <th></th>\n",
              "      <th>adult</th>\n",
              "      <th>belongs_to_collection</th>\n",
              "      <th>budget</th>\n",
              "      <th>genres</th>\n",
              "      <th>homepage</th>\n",
              "      <th>id</th>\n",
              "      <th>imdb_id</th>\n",
              "      <th>original_language</th>\n",
              "      <th>original_title</th>\n",
              "      <th>overview</th>\n",
              "      <th>...</th>\n",
              "      <th>release_date</th>\n",
              "      <th>revenue</th>\n",
              "      <th>runtime</th>\n",
              "      <th>spoken_languages</th>\n",
              "      <th>status</th>\n",
              "      <th>tagline</th>\n",
              "      <th>title</th>\n",
              "      <th>video</th>\n",
              "      <th>vote_average</th>\n",
              "      <th>vote_count</th>\n",
              "    </tr>\n",
              "  </thead>\n",
              "  <tbody>\n",
              "    <tr>\n",
              "      <th>0</th>\n",
              "      <td>False</td>\n",
              "      <td>{'id': 10194, 'name': 'Toy Story Collection', ...</td>\n",
              "      <td>30000000</td>\n",
              "      <td>[{'id': 16, 'name': 'Animation'}, {'id': 35, '...</td>\n",
              "      <td>http://toystory.disney.com/toy-story</td>\n",
              "      <td>862</td>\n",
              "      <td>tt0114709</td>\n",
              "      <td>en</td>\n",
              "      <td>Toy Story</td>\n",
              "      <td>Led by Woody, Andy's toys live happily in his ...</td>\n",
              "      <td>...</td>\n",
              "      <td>1995-10-30</td>\n",
              "      <td>373554033.0</td>\n",
              "      <td>81.0</td>\n",
              "      <td>[{'iso_639_1': 'en', 'name': 'English'}]</td>\n",
              "      <td>Released</td>\n",
              "      <td>NaN</td>\n",
              "      <td>Toy Story</td>\n",
              "      <td>False</td>\n",
              "      <td>7.7</td>\n",
              "      <td>5415.0</td>\n",
              "    </tr>\n",
              "    <tr>\n",
              "      <th>1</th>\n",
              "      <td>False</td>\n",
              "      <td>NaN</td>\n",
              "      <td>65000000</td>\n",
              "      <td>[{'id': 12, 'name': 'Adventure'}, {'id': 14, '...</td>\n",
              "      <td>NaN</td>\n",
              "      <td>8844</td>\n",
              "      <td>tt0113497</td>\n",
              "      <td>en</td>\n",
              "      <td>Jumanji</td>\n",
              "      <td>When siblings Judy and Peter discover an encha...</td>\n",
              "      <td>...</td>\n",
              "      <td>1995-12-15</td>\n",
              "      <td>262797249.0</td>\n",
              "      <td>104.0</td>\n",
              "      <td>[{'iso_639_1': 'en', 'name': 'English'}, {'iso...</td>\n",
              "      <td>Released</td>\n",
              "      <td>Roll the dice and unleash the excitement!</td>\n",
              "      <td>Jumanji</td>\n",
              "      <td>False</td>\n",
              "      <td>6.9</td>\n",
              "      <td>2413.0</td>\n",
              "    </tr>\n",
              "    <tr>\n",
              "      <th>2</th>\n",
              "      <td>False</td>\n",
              "      <td>{'id': 119050, 'name': 'Grumpy Old Men Collect...</td>\n",
              "      <td>0</td>\n",
              "      <td>[{'id': 10749, 'name': 'Romance'}, {'id': 35, ...</td>\n",
              "      <td>NaN</td>\n",
              "      <td>15602</td>\n",
              "      <td>tt0113228</td>\n",
              "      <td>en</td>\n",
              "      <td>Grumpier Old Men</td>\n",
              "      <td>A family wedding reignites the ancient feud be...</td>\n",
              "      <td>...</td>\n",
              "      <td>1995-12-22</td>\n",
              "      <td>0.0</td>\n",
              "      <td>101.0</td>\n",
              "      <td>[{'iso_639_1': 'en', 'name': 'English'}]</td>\n",
              "      <td>Released</td>\n",
              "      <td>Still Yelling. Still Fighting. Still Ready for...</td>\n",
              "      <td>Grumpier Old Men</td>\n",
              "      <td>False</td>\n",
              "      <td>6.5</td>\n",
              "      <td>92.0</td>\n",
              "    </tr>\n",
              "    <tr>\n",
              "      <th>3</th>\n",
              "      <td>False</td>\n",
              "      <td>NaN</td>\n",
              "      <td>16000000</td>\n",
              "      <td>[{'id': 35, 'name': 'Comedy'}, {'id': 18, 'nam...</td>\n",
              "      <td>NaN</td>\n",
              "      <td>31357</td>\n",
              "      <td>tt0114885</td>\n",
              "      <td>en</td>\n",
              "      <td>Waiting to Exhale</td>\n",
              "      <td>Cheated on, mistreated and stepped on, the wom...</td>\n",
              "      <td>...</td>\n",
              "      <td>1995-12-22</td>\n",
              "      <td>81452156.0</td>\n",
              "      <td>127.0</td>\n",
              "      <td>[{'iso_639_1': 'en', 'name': 'English'}]</td>\n",
              "      <td>Released</td>\n",
              "      <td>Friends are the people who let you be yourself...</td>\n",
              "      <td>Waiting to Exhale</td>\n",
              "      <td>False</td>\n",
              "      <td>6.1</td>\n",
              "      <td>34.0</td>\n",
              "    </tr>\n",
              "    <tr>\n",
              "      <th>4</th>\n",
              "      <td>False</td>\n",
              "      <td>{'id': 96871, 'name': 'Father of the Bride Col...</td>\n",
              "      <td>0</td>\n",
              "      <td>[{'id': 35, 'name': 'Comedy'}]</td>\n",
              "      <td>NaN</td>\n",
              "      <td>11862</td>\n",
              "      <td>tt0113041</td>\n",
              "      <td>en</td>\n",
              "      <td>Father of the Bride Part II</td>\n",
              "      <td>Just when George Banks has recovered from his ...</td>\n",
              "      <td>...</td>\n",
              "      <td>1995-02-10</td>\n",
              "      <td>76578911.0</td>\n",
              "      <td>106.0</td>\n",
              "      <td>[{'iso_639_1': 'en', 'name': 'English'}]</td>\n",
              "      <td>Released</td>\n",
              "      <td>Just When His World Is Back To Normal... He's ...</td>\n",
              "      <td>Father of the Bride Part II</td>\n",
              "      <td>False</td>\n",
              "      <td>5.7</td>\n",
              "      <td>173.0</td>\n",
              "    </tr>\n",
              "  </tbody>\n",
              "</table>\n",
              "<p>5 rows × 24 columns</p>\n",
              "</div>\n",
              "    <div class=\"colab-df-buttons\">\n",
              "\n",
              "  <div class=\"colab-df-container\">\n",
              "    <button class=\"colab-df-convert\" onclick=\"convertToInteractive('df-ec01a381-87b5-48a5-9103-94520aa1e893')\"\n",
              "            title=\"Convert this dataframe to an interactive table.\"\n",
              "            style=\"display:none;\">\n",
              "\n",
              "  <svg xmlns=\"http://www.w3.org/2000/svg\" height=\"24px\" viewBox=\"0 -960 960 960\">\n",
              "    <path d=\"M120-120v-720h720v720H120Zm60-500h600v-160H180v160Zm220 220h160v-160H400v160Zm0 220h160v-160H400v160ZM180-400h160v-160H180v160Zm440 0h160v-160H620v160ZM180-180h160v-160H180v160Zm440 0h160v-160H620v160Z\"/>\n",
              "  </svg>\n",
              "    </button>\n",
              "\n",
              "  <style>\n",
              "    .colab-df-container {\n",
              "      display:flex;\n",
              "      gap: 12px;\n",
              "    }\n",
              "\n",
              "    .colab-df-convert {\n",
              "      background-color: #E8F0FE;\n",
              "      border: none;\n",
              "      border-radius: 50%;\n",
              "      cursor: pointer;\n",
              "      display: none;\n",
              "      fill: #1967D2;\n",
              "      height: 32px;\n",
              "      padding: 0 0 0 0;\n",
              "      width: 32px;\n",
              "    }\n",
              "\n",
              "    .colab-df-convert:hover {\n",
              "      background-color: #E2EBFA;\n",
              "      box-shadow: 0px 1px 2px rgba(60, 64, 67, 0.3), 0px 1px 3px 1px rgba(60, 64, 67, 0.15);\n",
              "      fill: #174EA6;\n",
              "    }\n",
              "\n",
              "    .colab-df-buttons div {\n",
              "      margin-bottom: 4px;\n",
              "    }\n",
              "\n",
              "    [theme=dark] .colab-df-convert {\n",
              "      background-color: #3B4455;\n",
              "      fill: #D2E3FC;\n",
              "    }\n",
              "\n",
              "    [theme=dark] .colab-df-convert:hover {\n",
              "      background-color: #434B5C;\n",
              "      box-shadow: 0px 1px 3px 1px rgba(0, 0, 0, 0.15);\n",
              "      filter: drop-shadow(0px 1px 2px rgba(0, 0, 0, 0.3));\n",
              "      fill: #FFFFFF;\n",
              "    }\n",
              "  </style>\n",
              "\n",
              "    <script>\n",
              "      const buttonEl =\n",
              "        document.querySelector('#df-ec01a381-87b5-48a5-9103-94520aa1e893 button.colab-df-convert');\n",
              "      buttonEl.style.display =\n",
              "        google.colab.kernel.accessAllowed ? 'block' : 'none';\n",
              "\n",
              "      async function convertToInteractive(key) {\n",
              "        const element = document.querySelector('#df-ec01a381-87b5-48a5-9103-94520aa1e893');\n",
              "        const dataTable =\n",
              "          await google.colab.kernel.invokeFunction('convertToInteractive',\n",
              "                                                    [key], {});\n",
              "        if (!dataTable) return;\n",
              "\n",
              "        const docLinkHtml = 'Like what you see? Visit the ' +\n",
              "          '<a target=\"_blank\" href=https://colab.research.google.com/notebooks/data_table.ipynb>data table notebook</a>'\n",
              "          + ' to learn more about interactive tables.';\n",
              "        element.innerHTML = '';\n",
              "        dataTable['output_type'] = 'display_data';\n",
              "        await google.colab.output.renderOutput(dataTable, element);\n",
              "        const docLink = document.createElement('div');\n",
              "        docLink.innerHTML = docLinkHtml;\n",
              "        element.appendChild(docLink);\n",
              "      }\n",
              "    </script>\n",
              "  </div>\n",
              "\n",
              "\n",
              "<div id=\"df-30184e8c-2c08-4c61-8d37-2e8c6a7a7a64\">\n",
              "  <button class=\"colab-df-quickchart\" onclick=\"quickchart('df-30184e8c-2c08-4c61-8d37-2e8c6a7a7a64')\"\n",
              "            title=\"Suggest charts\"\n",
              "            style=\"display:none;\">\n",
              "\n",
              "<svg xmlns=\"http://www.w3.org/2000/svg\" height=\"24px\"viewBox=\"0 0 24 24\"\n",
              "     width=\"24px\">\n",
              "    <g>\n",
              "        <path d=\"M19 3H5c-1.1 0-2 .9-2 2v14c0 1.1.9 2 2 2h14c1.1 0 2-.9 2-2V5c0-1.1-.9-2-2-2zM9 17H7v-7h2v7zm4 0h-2V7h2v10zm4 0h-2v-4h2v4z\"/>\n",
              "    </g>\n",
              "</svg>\n",
              "  </button>\n",
              "\n",
              "<style>\n",
              "  .colab-df-quickchart {\n",
              "      --bg-color: #E8F0FE;\n",
              "      --fill-color: #1967D2;\n",
              "      --hover-bg-color: #E2EBFA;\n",
              "      --hover-fill-color: #174EA6;\n",
              "      --disabled-fill-color: #AAA;\n",
              "      --disabled-bg-color: #DDD;\n",
              "  }\n",
              "\n",
              "  [theme=dark] .colab-df-quickchart {\n",
              "      --bg-color: #3B4455;\n",
              "      --fill-color: #D2E3FC;\n",
              "      --hover-bg-color: #434B5C;\n",
              "      --hover-fill-color: #FFFFFF;\n",
              "      --disabled-bg-color: #3B4455;\n",
              "      --disabled-fill-color: #666;\n",
              "  }\n",
              "\n",
              "  .colab-df-quickchart {\n",
              "    background-color: var(--bg-color);\n",
              "    border: none;\n",
              "    border-radius: 50%;\n",
              "    cursor: pointer;\n",
              "    display: none;\n",
              "    fill: var(--fill-color);\n",
              "    height: 32px;\n",
              "    padding: 0;\n",
              "    width: 32px;\n",
              "  }\n",
              "\n",
              "  .colab-df-quickchart:hover {\n",
              "    background-color: var(--hover-bg-color);\n",
              "    box-shadow: 0 1px 2px rgba(60, 64, 67, 0.3), 0 1px 3px 1px rgba(60, 64, 67, 0.15);\n",
              "    fill: var(--button-hover-fill-color);\n",
              "  }\n",
              "\n",
              "  .colab-df-quickchart-complete:disabled,\n",
              "  .colab-df-quickchart-complete:disabled:hover {\n",
              "    background-color: var(--disabled-bg-color);\n",
              "    fill: var(--disabled-fill-color);\n",
              "    box-shadow: none;\n",
              "  }\n",
              "\n",
              "  .colab-df-spinner {\n",
              "    border: 2px solid var(--fill-color);\n",
              "    border-color: transparent;\n",
              "    border-bottom-color: var(--fill-color);\n",
              "    animation:\n",
              "      spin 1s steps(1) infinite;\n",
              "  }\n",
              "\n",
              "  @keyframes spin {\n",
              "    0% {\n",
              "      border-color: transparent;\n",
              "      border-bottom-color: var(--fill-color);\n",
              "      border-left-color: var(--fill-color);\n",
              "    }\n",
              "    20% {\n",
              "      border-color: transparent;\n",
              "      border-left-color: var(--fill-color);\n",
              "      border-top-color: var(--fill-color);\n",
              "    }\n",
              "    30% {\n",
              "      border-color: transparent;\n",
              "      border-left-color: var(--fill-color);\n",
              "      border-top-color: var(--fill-color);\n",
              "      border-right-color: var(--fill-color);\n",
              "    }\n",
              "    40% {\n",
              "      border-color: transparent;\n",
              "      border-right-color: var(--fill-color);\n",
              "      border-top-color: var(--fill-color);\n",
              "    }\n",
              "    60% {\n",
              "      border-color: transparent;\n",
              "      border-right-color: var(--fill-color);\n",
              "    }\n",
              "    80% {\n",
              "      border-color: transparent;\n",
              "      border-right-color: var(--fill-color);\n",
              "      border-bottom-color: var(--fill-color);\n",
              "    }\n",
              "    90% {\n",
              "      border-color: transparent;\n",
              "      border-bottom-color: var(--fill-color);\n",
              "    }\n",
              "  }\n",
              "</style>\n",
              "\n",
              "  <script>\n",
              "    async function quickchart(key) {\n",
              "      const quickchartButtonEl =\n",
              "        document.querySelector('#' + key + ' button');\n",
              "      quickchartButtonEl.disabled = true;  // To prevent multiple clicks.\n",
              "      quickchartButtonEl.classList.add('colab-df-spinner');\n",
              "      try {\n",
              "        const charts = await google.colab.kernel.invokeFunction(\n",
              "            'suggestCharts', [key], {});\n",
              "      } catch (error) {\n",
              "        console.error('Error during call to suggestCharts:', error);\n",
              "      }\n",
              "      quickchartButtonEl.classList.remove('colab-df-spinner');\n",
              "      quickchartButtonEl.classList.add('colab-df-quickchart-complete');\n",
              "    }\n",
              "    (() => {\n",
              "      let quickchartButtonEl =\n",
              "        document.querySelector('#df-30184e8c-2c08-4c61-8d37-2e8c6a7a7a64 button');\n",
              "      quickchartButtonEl.style.display =\n",
              "        google.colab.kernel.accessAllowed ? 'block' : 'none';\n",
              "    })();\n",
              "  </script>\n",
              "</div>\n",
              "\n",
              "    </div>\n",
              "  </div>\n"
            ],
            "application/vnd.google.colaboratory.intrinsic+json": {
              "type": "dataframe",
              "variable_name": "data"
            }
          },
          "metadata": {},
          "execution_count": 8
        }
      ]
    },
    {
      "cell_type": "code",
      "source": [
        "# first task is genre prediction through overview only so extract original title, language, overview, tagline,id,genres\n",
        "df = data[[\"original_title\",\"original_language\",\"overview\",\"id\",\"genres\"]]\n",
        "df.info()"
      ],
      "metadata": {
        "colab": {
          "base_uri": "https://localhost:8080/"
        },
        "id": "fmLGOhNYo88J",
        "outputId": "55155c1b-eef2-4b2f-e9ff-24b240f5e93b"
      },
      "execution_count": null,
      "outputs": [
        {
          "output_type": "stream",
          "name": "stdout",
          "text": [
            "<class 'pandas.core.frame.DataFrame'>\n",
            "RangeIndex: 45466 entries, 0 to 45465\n",
            "Data columns (total 5 columns):\n",
            " #   Column             Non-Null Count  Dtype \n",
            "---  ------             --------------  ----- \n",
            " 0   original_title     45466 non-null  object\n",
            " 1   original_language  45455 non-null  object\n",
            " 2   overview           44512 non-null  object\n",
            " 3   id                 45466 non-null  object\n",
            " 4   genres             45466 non-null  object\n",
            "dtypes: object(5)\n",
            "memory usage: 1.7+ MB\n"
          ]
        }
      ]
    },
    {
      "cell_type": "code",
      "source": [
        "# check na in overview => drop these\n",
        "print(df.shape[0])\n",
        "print(f\"NA values in overview: {df[df['overview'].isnull()].shape[0]/df.shape[0]:.3f}%\")\n",
        "df = df[df[\"overview\"].notnull()]\n",
        "print(df.shape[0])"
      ],
      "metadata": {
        "colab": {
          "base_uri": "https://localhost:8080/"
        },
        "id": "Y77t72zApqb4",
        "outputId": "fc7246d0-8430-44c8-fd64-4572033e58a5"
      },
      "execution_count": null,
      "outputs": [
        {
          "output_type": "stream",
          "name": "stdout",
          "text": [
            "45466\n",
            "NA values in overview: 0.021%\n",
            "44512\n"
          ]
        }
      ]
    },
    {
      "cell_type": "code",
      "source": [
        "# check na in language => drop\n",
        "print(df[df[\"original_language\"].isnull()].shape[0])\n",
        "df = df[df[\"original_language\"].notnull()]\n",
        "print(df.shape[0])"
      ],
      "metadata": {
        "colab": {
          "base_uri": "https://localhost:8080/"
        },
        "id": "A0ur2yPYp77O",
        "outputId": "d538ef2b-b22d-4f15-99b1-8d170102abb3"
      },
      "execution_count": null,
      "outputs": [
        {
          "output_type": "stream",
          "name": "stdout",
          "text": [
            "10\n",
            "44502\n"
          ]
        }
      ]
    },
    {
      "cell_type": "code",
      "source": [
        "df.info()"
      ],
      "metadata": {
        "colab": {
          "base_uri": "https://localhost:8080/"
        },
        "id": "3bVKpcChq8Ku",
        "outputId": "51079c27-112c-4b11-f721-9ee5006e5e82"
      },
      "execution_count": null,
      "outputs": [
        {
          "output_type": "stream",
          "name": "stdout",
          "text": [
            "<class 'pandas.core.frame.DataFrame'>\n",
            "Index: 44502 entries, 0 to 45465\n",
            "Data columns (total 5 columns):\n",
            " #   Column             Non-Null Count  Dtype \n",
            "---  ------             --------------  ----- \n",
            " 0   original_title     44502 non-null  object\n",
            " 1   original_language  44502 non-null  object\n",
            " 2   overview           44502 non-null  object\n",
            " 3   id                 44502 non-null  object\n",
            " 4   genres             44502 non-null  object\n",
            "dtypes: object(5)\n",
            "memory usage: 2.0+ MB\n"
          ]
        }
      ]
    },
    {
      "cell_type": "code",
      "source": [
        "# metrics: length of overview(word) by genre - boxplot, genre distribution (how many for each movie) - barplot\n",
        "df[\"genres\"]"
      ],
      "metadata": {
        "colab": {
          "base_uri": "https://localhost:8080/",
          "height": 458
        },
        "id": "XRS0L1FMrbp2",
        "outputId": "1ef1af87-76d6-4710-91f0-9a7db98973f2"
      },
      "execution_count": null,
      "outputs": [
        {
          "output_type": "execute_result",
          "data": {
            "text/plain": [
              "0        [{'id': 16, 'name': 'Animation'}, {'id': 35, '...\n",
              "1        [{'id': 12, 'name': 'Adventure'}, {'id': 14, '...\n",
              "2        [{'id': 10749, 'name': 'Romance'}, {'id': 35, ...\n",
              "3        [{'id': 35, 'name': 'Comedy'}, {'id': 18, 'nam...\n",
              "4                           [{'id': 35, 'name': 'Comedy'}]\n",
              "                               ...                        \n",
              "45461    [{'id': 18, 'name': 'Drama'}, {'id': 10751, 'n...\n",
              "45462                        [{'id': 18, 'name': 'Drama'}]\n",
              "45463    [{'id': 28, 'name': 'Action'}, {'id': 18, 'nam...\n",
              "45464                                                   []\n",
              "45465                                                   []\n",
              "Name: genres, Length: 44502, dtype: object"
            ],
            "text/html": [
              "<div>\n",
              "<style scoped>\n",
              "    .dataframe tbody tr th:only-of-type {\n",
              "        vertical-align: middle;\n",
              "    }\n",
              "\n",
              "    .dataframe tbody tr th {\n",
              "        vertical-align: top;\n",
              "    }\n",
              "\n",
              "    .dataframe thead th {\n",
              "        text-align: right;\n",
              "    }\n",
              "</style>\n",
              "<table border=\"1\" class=\"dataframe\">\n",
              "  <thead>\n",
              "    <tr style=\"text-align: right;\">\n",
              "      <th></th>\n",
              "      <th>genres</th>\n",
              "    </tr>\n",
              "  </thead>\n",
              "  <tbody>\n",
              "    <tr>\n",
              "      <th>0</th>\n",
              "      <td>[{'id': 16, 'name': 'Animation'}, {'id': 35, '...</td>\n",
              "    </tr>\n",
              "    <tr>\n",
              "      <th>1</th>\n",
              "      <td>[{'id': 12, 'name': 'Adventure'}, {'id': 14, '...</td>\n",
              "    </tr>\n",
              "    <tr>\n",
              "      <th>2</th>\n",
              "      <td>[{'id': 10749, 'name': 'Romance'}, {'id': 35, ...</td>\n",
              "    </tr>\n",
              "    <tr>\n",
              "      <th>3</th>\n",
              "      <td>[{'id': 35, 'name': 'Comedy'}, {'id': 18, 'nam...</td>\n",
              "    </tr>\n",
              "    <tr>\n",
              "      <th>4</th>\n",
              "      <td>[{'id': 35, 'name': 'Comedy'}]</td>\n",
              "    </tr>\n",
              "    <tr>\n",
              "      <th>...</th>\n",
              "      <td>...</td>\n",
              "    </tr>\n",
              "    <tr>\n",
              "      <th>45461</th>\n",
              "      <td>[{'id': 18, 'name': 'Drama'}, {'id': 10751, 'n...</td>\n",
              "    </tr>\n",
              "    <tr>\n",
              "      <th>45462</th>\n",
              "      <td>[{'id': 18, 'name': 'Drama'}]</td>\n",
              "    </tr>\n",
              "    <tr>\n",
              "      <th>45463</th>\n",
              "      <td>[{'id': 28, 'name': 'Action'}, {'id': 18, 'nam...</td>\n",
              "    </tr>\n",
              "    <tr>\n",
              "      <th>45464</th>\n",
              "      <td>[]</td>\n",
              "    </tr>\n",
              "    <tr>\n",
              "      <th>45465</th>\n",
              "      <td>[]</td>\n",
              "    </tr>\n",
              "  </tbody>\n",
              "</table>\n",
              "<p>44502 rows × 1 columns</p>\n",
              "</div><br><label><b>dtype:</b> object</label>"
            ]
          },
          "metadata": {},
          "execution_count": 13
        }
      ]
    },
    {
      "cell_type": "code",
      "source": [
        "def destring(var):\n",
        "      df_ = df.copy()\n",
        "      def generate_list(x):\n",
        "          if isinstance(x, list):\n",
        "              names = [i[\"name\"] for i in x]\n",
        "              return names\n",
        "          return []\n",
        "\n",
        "      def sanitize(x):\n",
        "          if isinstance(x, list):\n",
        "              return [str.lower(i.replace(\" \", \"\")) for i in x]\n",
        "          else:\n",
        "              if isinstance(x, str):\n",
        "                  return str.lower(x.replace(\" \", \"\"))\n",
        "              else:\n",
        "                  return ''\n",
        "\n",
        "      df_[var] = df_[var].fillna('[]').apply(literal_eval)\n",
        "      df_[var] = df_[var].apply(generate_list).apply(sanitize)\n",
        "      return df_"
      ],
      "metadata": {
        "id": "IUeNfjLpsnFW"
      },
      "execution_count": null,
      "outputs": []
    },
    {
      "cell_type": "code",
      "source": [
        "df_final = destring(\"genres\")\n",
        "df_final.head()"
      ],
      "metadata": {
        "colab": {
          "base_uri": "https://localhost:8080/",
          "height": 206
        },
        "id": "A29ceg_ttk02",
        "outputId": "dffb93ea-6907-4736-e3f1-3d25892125f9"
      },
      "execution_count": null,
      "outputs": [
        {
          "output_type": "execute_result",
          "data": {
            "text/plain": [
              "                original_title original_language  \\\n",
              "0                    Toy Story                en   \n",
              "1                      Jumanji                en   \n",
              "2             Grumpier Old Men                en   \n",
              "3            Waiting to Exhale                en   \n",
              "4  Father of the Bride Part II                en   \n",
              "\n",
              "                                            overview     id  \\\n",
              "0  Led by Woody, Andy's toys live happily in his ...    862   \n",
              "1  When siblings Judy and Peter discover an encha...   8844   \n",
              "2  A family wedding reignites the ancient feud be...  15602   \n",
              "3  Cheated on, mistreated and stepped on, the wom...  31357   \n",
              "4  Just when George Banks has recovered from his ...  11862   \n",
              "\n",
              "                         genres  \n",
              "0   [animation, comedy, family]  \n",
              "1  [adventure, fantasy, family]  \n",
              "2             [romance, comedy]  \n",
              "3      [comedy, drama, romance]  \n",
              "4                      [comedy]  "
            ],
            "text/html": [
              "\n",
              "  <div id=\"df-b3edd7c0-d879-4e15-bf37-20ff66a23c1f\" class=\"colab-df-container\">\n",
              "    <div>\n",
              "<style scoped>\n",
              "    .dataframe tbody tr th:only-of-type {\n",
              "        vertical-align: middle;\n",
              "    }\n",
              "\n",
              "    .dataframe tbody tr th {\n",
              "        vertical-align: top;\n",
              "    }\n",
              "\n",
              "    .dataframe thead th {\n",
              "        text-align: right;\n",
              "    }\n",
              "</style>\n",
              "<table border=\"1\" class=\"dataframe\">\n",
              "  <thead>\n",
              "    <tr style=\"text-align: right;\">\n",
              "      <th></th>\n",
              "      <th>original_title</th>\n",
              "      <th>original_language</th>\n",
              "      <th>overview</th>\n",
              "      <th>id</th>\n",
              "      <th>genres</th>\n",
              "    </tr>\n",
              "  </thead>\n",
              "  <tbody>\n",
              "    <tr>\n",
              "      <th>0</th>\n",
              "      <td>Toy Story</td>\n",
              "      <td>en</td>\n",
              "      <td>Led by Woody, Andy's toys live happily in his ...</td>\n",
              "      <td>862</td>\n",
              "      <td>[animation, comedy, family]</td>\n",
              "    </tr>\n",
              "    <tr>\n",
              "      <th>1</th>\n",
              "      <td>Jumanji</td>\n",
              "      <td>en</td>\n",
              "      <td>When siblings Judy and Peter discover an encha...</td>\n",
              "      <td>8844</td>\n",
              "      <td>[adventure, fantasy, family]</td>\n",
              "    </tr>\n",
              "    <tr>\n",
              "      <th>2</th>\n",
              "      <td>Grumpier Old Men</td>\n",
              "      <td>en</td>\n",
              "      <td>A family wedding reignites the ancient feud be...</td>\n",
              "      <td>15602</td>\n",
              "      <td>[romance, comedy]</td>\n",
              "    </tr>\n",
              "    <tr>\n",
              "      <th>3</th>\n",
              "      <td>Waiting to Exhale</td>\n",
              "      <td>en</td>\n",
              "      <td>Cheated on, mistreated and stepped on, the wom...</td>\n",
              "      <td>31357</td>\n",
              "      <td>[comedy, drama, romance]</td>\n",
              "    </tr>\n",
              "    <tr>\n",
              "      <th>4</th>\n",
              "      <td>Father of the Bride Part II</td>\n",
              "      <td>en</td>\n",
              "      <td>Just when George Banks has recovered from his ...</td>\n",
              "      <td>11862</td>\n",
              "      <td>[comedy]</td>\n",
              "    </tr>\n",
              "  </tbody>\n",
              "</table>\n",
              "</div>\n",
              "    <div class=\"colab-df-buttons\">\n",
              "\n",
              "  <div class=\"colab-df-container\">\n",
              "    <button class=\"colab-df-convert\" onclick=\"convertToInteractive('df-b3edd7c0-d879-4e15-bf37-20ff66a23c1f')\"\n",
              "            title=\"Convert this dataframe to an interactive table.\"\n",
              "            style=\"display:none;\">\n",
              "\n",
              "  <svg xmlns=\"http://www.w3.org/2000/svg\" height=\"24px\" viewBox=\"0 -960 960 960\">\n",
              "    <path d=\"M120-120v-720h720v720H120Zm60-500h600v-160H180v160Zm220 220h160v-160H400v160Zm0 220h160v-160H400v160ZM180-400h160v-160H180v160Zm440 0h160v-160H620v160ZM180-180h160v-160H180v160Zm440 0h160v-160H620v160Z\"/>\n",
              "  </svg>\n",
              "    </button>\n",
              "\n",
              "  <style>\n",
              "    .colab-df-container {\n",
              "      display:flex;\n",
              "      gap: 12px;\n",
              "    }\n",
              "\n",
              "    .colab-df-convert {\n",
              "      background-color: #E8F0FE;\n",
              "      border: none;\n",
              "      border-radius: 50%;\n",
              "      cursor: pointer;\n",
              "      display: none;\n",
              "      fill: #1967D2;\n",
              "      height: 32px;\n",
              "      padding: 0 0 0 0;\n",
              "      width: 32px;\n",
              "    }\n",
              "\n",
              "    .colab-df-convert:hover {\n",
              "      background-color: #E2EBFA;\n",
              "      box-shadow: 0px 1px 2px rgba(60, 64, 67, 0.3), 0px 1px 3px 1px rgba(60, 64, 67, 0.15);\n",
              "      fill: #174EA6;\n",
              "    }\n",
              "\n",
              "    .colab-df-buttons div {\n",
              "      margin-bottom: 4px;\n",
              "    }\n",
              "\n",
              "    [theme=dark] .colab-df-convert {\n",
              "      background-color: #3B4455;\n",
              "      fill: #D2E3FC;\n",
              "    }\n",
              "\n",
              "    [theme=dark] .colab-df-convert:hover {\n",
              "      background-color: #434B5C;\n",
              "      box-shadow: 0px 1px 3px 1px rgba(0, 0, 0, 0.15);\n",
              "      filter: drop-shadow(0px 1px 2px rgba(0, 0, 0, 0.3));\n",
              "      fill: #FFFFFF;\n",
              "    }\n",
              "  </style>\n",
              "\n",
              "    <script>\n",
              "      const buttonEl =\n",
              "        document.querySelector('#df-b3edd7c0-d879-4e15-bf37-20ff66a23c1f button.colab-df-convert');\n",
              "      buttonEl.style.display =\n",
              "        google.colab.kernel.accessAllowed ? 'block' : 'none';\n",
              "\n",
              "      async function convertToInteractive(key) {\n",
              "        const element = document.querySelector('#df-b3edd7c0-d879-4e15-bf37-20ff66a23c1f');\n",
              "        const dataTable =\n",
              "          await google.colab.kernel.invokeFunction('convertToInteractive',\n",
              "                                                    [key], {});\n",
              "        if (!dataTable) return;\n",
              "\n",
              "        const docLinkHtml = 'Like what you see? Visit the ' +\n",
              "          '<a target=\"_blank\" href=https://colab.research.google.com/notebooks/data_table.ipynb>data table notebook</a>'\n",
              "          + ' to learn more about interactive tables.';\n",
              "        element.innerHTML = '';\n",
              "        dataTable['output_type'] = 'display_data';\n",
              "        await google.colab.output.renderOutput(dataTable, element);\n",
              "        const docLink = document.createElement('div');\n",
              "        docLink.innerHTML = docLinkHtml;\n",
              "        element.appendChild(docLink);\n",
              "      }\n",
              "    </script>\n",
              "  </div>\n",
              "\n",
              "\n",
              "<div id=\"df-fba6a4a1-90fb-44f6-93a4-6bcdcad82806\">\n",
              "  <button class=\"colab-df-quickchart\" onclick=\"quickchart('df-fba6a4a1-90fb-44f6-93a4-6bcdcad82806')\"\n",
              "            title=\"Suggest charts\"\n",
              "            style=\"display:none;\">\n",
              "\n",
              "<svg xmlns=\"http://www.w3.org/2000/svg\" height=\"24px\"viewBox=\"0 0 24 24\"\n",
              "     width=\"24px\">\n",
              "    <g>\n",
              "        <path d=\"M19 3H5c-1.1 0-2 .9-2 2v14c0 1.1.9 2 2 2h14c1.1 0 2-.9 2-2V5c0-1.1-.9-2-2-2zM9 17H7v-7h2v7zm4 0h-2V7h2v10zm4 0h-2v-4h2v4z\"/>\n",
              "    </g>\n",
              "</svg>\n",
              "  </button>\n",
              "\n",
              "<style>\n",
              "  .colab-df-quickchart {\n",
              "      --bg-color: #E8F0FE;\n",
              "      --fill-color: #1967D2;\n",
              "      --hover-bg-color: #E2EBFA;\n",
              "      --hover-fill-color: #174EA6;\n",
              "      --disabled-fill-color: #AAA;\n",
              "      --disabled-bg-color: #DDD;\n",
              "  }\n",
              "\n",
              "  [theme=dark] .colab-df-quickchart {\n",
              "      --bg-color: #3B4455;\n",
              "      --fill-color: #D2E3FC;\n",
              "      --hover-bg-color: #434B5C;\n",
              "      --hover-fill-color: #FFFFFF;\n",
              "      --disabled-bg-color: #3B4455;\n",
              "      --disabled-fill-color: #666;\n",
              "  }\n",
              "\n",
              "  .colab-df-quickchart {\n",
              "    background-color: var(--bg-color);\n",
              "    border: none;\n",
              "    border-radius: 50%;\n",
              "    cursor: pointer;\n",
              "    display: none;\n",
              "    fill: var(--fill-color);\n",
              "    height: 32px;\n",
              "    padding: 0;\n",
              "    width: 32px;\n",
              "  }\n",
              "\n",
              "  .colab-df-quickchart:hover {\n",
              "    background-color: var(--hover-bg-color);\n",
              "    box-shadow: 0 1px 2px rgba(60, 64, 67, 0.3), 0 1px 3px 1px rgba(60, 64, 67, 0.15);\n",
              "    fill: var(--button-hover-fill-color);\n",
              "  }\n",
              "\n",
              "  .colab-df-quickchart-complete:disabled,\n",
              "  .colab-df-quickchart-complete:disabled:hover {\n",
              "    background-color: var(--disabled-bg-color);\n",
              "    fill: var(--disabled-fill-color);\n",
              "    box-shadow: none;\n",
              "  }\n",
              "\n",
              "  .colab-df-spinner {\n",
              "    border: 2px solid var(--fill-color);\n",
              "    border-color: transparent;\n",
              "    border-bottom-color: var(--fill-color);\n",
              "    animation:\n",
              "      spin 1s steps(1) infinite;\n",
              "  }\n",
              "\n",
              "  @keyframes spin {\n",
              "    0% {\n",
              "      border-color: transparent;\n",
              "      border-bottom-color: var(--fill-color);\n",
              "      border-left-color: var(--fill-color);\n",
              "    }\n",
              "    20% {\n",
              "      border-color: transparent;\n",
              "      border-left-color: var(--fill-color);\n",
              "      border-top-color: var(--fill-color);\n",
              "    }\n",
              "    30% {\n",
              "      border-color: transparent;\n",
              "      border-left-color: var(--fill-color);\n",
              "      border-top-color: var(--fill-color);\n",
              "      border-right-color: var(--fill-color);\n",
              "    }\n",
              "    40% {\n",
              "      border-color: transparent;\n",
              "      border-right-color: var(--fill-color);\n",
              "      border-top-color: var(--fill-color);\n",
              "    }\n",
              "    60% {\n",
              "      border-color: transparent;\n",
              "      border-right-color: var(--fill-color);\n",
              "    }\n",
              "    80% {\n",
              "      border-color: transparent;\n",
              "      border-right-color: var(--fill-color);\n",
              "      border-bottom-color: var(--fill-color);\n",
              "    }\n",
              "    90% {\n",
              "      border-color: transparent;\n",
              "      border-bottom-color: var(--fill-color);\n",
              "    }\n",
              "  }\n",
              "</style>\n",
              "\n",
              "  <script>\n",
              "    async function quickchart(key) {\n",
              "      const quickchartButtonEl =\n",
              "        document.querySelector('#' + key + ' button');\n",
              "      quickchartButtonEl.disabled = true;  // To prevent multiple clicks.\n",
              "      quickchartButtonEl.classList.add('colab-df-spinner');\n",
              "      try {\n",
              "        const charts = await google.colab.kernel.invokeFunction(\n",
              "            'suggestCharts', [key], {});\n",
              "      } catch (error) {\n",
              "        console.error('Error during call to suggestCharts:', error);\n",
              "      }\n",
              "      quickchartButtonEl.classList.remove('colab-df-spinner');\n",
              "      quickchartButtonEl.classList.add('colab-df-quickchart-complete');\n",
              "    }\n",
              "    (() => {\n",
              "      let quickchartButtonEl =\n",
              "        document.querySelector('#df-fba6a4a1-90fb-44f6-93a4-6bcdcad82806 button');\n",
              "      quickchartButtonEl.style.display =\n",
              "        google.colab.kernel.accessAllowed ? 'block' : 'none';\n",
              "    })();\n",
              "  </script>\n",
              "</div>\n",
              "\n",
              "    </div>\n",
              "  </div>\n"
            ],
            "application/vnd.google.colaboratory.intrinsic+json": {
              "type": "dataframe",
              "variable_name": "df_final",
              "summary": "{\n  \"name\": \"df_final\",\n  \"rows\": 44502,\n  \"fields\": [\n    {\n      \"column\": \"original_title\",\n      \"properties\": {\n        \"dtype\": \"string\",\n        \"num_unique_values\": 42436,\n        \"samples\": [\n          \"Forbidden\",\n          \"\\u062c\\u0645\\u0639\\u0647\",\n          \"Tarantella\"\n        ],\n        \"semantic_type\": \"\",\n        \"description\": \"\"\n      }\n    },\n    {\n      \"column\": \"original_language\",\n      \"properties\": {\n        \"dtype\": \"category\",\n        \"num_unique_values\": 92,\n        \"samples\": [\n          \"is\",\n          \"cs\",\n          \"ta\"\n        ],\n        \"semantic_type\": \"\",\n        \"description\": \"\"\n      }\n    },\n    {\n      \"column\": \"overview\",\n      \"properties\": {\n        \"dtype\": \"string\",\n        \"num_unique_values\": 44297,\n        \"samples\": [\n          \"A group of friends go on a roadtrip and come to a stop in a forest where legend has it a group of naked bisexual female monsters lurk. Will they awake them? And if so will they survive?\",\n          \"In Chile's Atacama Desert, astronomers peer deep into the cosmos in search for answers concerning the origins of life. Nearby, a group of women sift through the sand searching for body parts of loved ones, dumped unceremoniously by Pinochet's regime.\",\n          \"The selfish Dr. Andr\\u00e9 Luiz dies and awakes in the limbo called \\\"Umbral\\\". After a painful period in the gruesome swamp, he is rescued and brought in a white light to \\\"Nosso Lar\\\" (meaning \\\"Our Home\\\"). He finds a place of harmony, where people live in peace awaiting\"\n        ],\n        \"semantic_type\": \"\",\n        \"description\": \"\"\n      }\n    },\n    {\n      \"column\": \"id\",\n      \"properties\": {\n        \"dtype\": \"string\",\n        \"num_unique_values\": 44472,\n        \"samples\": [\n          \"29539\",\n          \"110598\",\n          \"114931\"\n        ],\n        \"semantic_type\": \"\",\n        \"description\": \"\"\n      }\n    },\n    {\n      \"column\": \"genres\",\n      \"properties\": {\n        \"dtype\": \"object\",\n        \"semantic_type\": \"\",\n        \"description\": \"\"\n      }\n    }\n  ]\n}"
            }
          },
          "metadata": {},
          "execution_count": 15
        }
      ]
    },
    {
      "cell_type": "code",
      "source": [
        "# check distribution of the 1-genre to see if its representative, will do\n",
        "df_final[df_final[\"genres\"].apply(lambda x: len(x) == 1)][\"genres\"].value_counts()"
      ],
      "metadata": {
        "colab": {
          "base_uri": "https://localhost:8080/",
          "height": 743
        },
        "id": "3XTjBenX5LvZ",
        "outputId": "163e7b98-c7c2-45ca-b145-a46921bf78cf"
      },
      "execution_count": null,
      "outputs": [
        {
          "output_type": "execute_result",
          "data": {
            "text/plain": [
              "genres\n",
              "[drama]             4910\n",
              "[comedy]            3371\n",
              "[documentary]       2682\n",
              "[horror]             971\n",
              "[thriller]           455\n",
              "[western]            317\n",
              "[action]             276\n",
              "[animation]          236\n",
              "[sciencefiction]     195\n",
              "[crime]              127\n",
              "[music]              109\n",
              "[adventure]          107\n",
              "[romance]             94\n",
              "[family]              88\n",
              "[mystery]             69\n",
              "[fantasy]             49\n",
              "[war]                 37\n",
              "[foreign]             19\n",
              "[history]             15\n",
              "[tvmovie]              6\n",
              "Name: count, dtype: int64"
            ],
            "text/html": [
              "<div>\n",
              "<style scoped>\n",
              "    .dataframe tbody tr th:only-of-type {\n",
              "        vertical-align: middle;\n",
              "    }\n",
              "\n",
              "    .dataframe tbody tr th {\n",
              "        vertical-align: top;\n",
              "    }\n",
              "\n",
              "    .dataframe thead th {\n",
              "        text-align: right;\n",
              "    }\n",
              "</style>\n",
              "<table border=\"1\" class=\"dataframe\">\n",
              "  <thead>\n",
              "    <tr style=\"text-align: right;\">\n",
              "      <th></th>\n",
              "      <th>count</th>\n",
              "    </tr>\n",
              "    <tr>\n",
              "      <th>genres</th>\n",
              "      <th></th>\n",
              "    </tr>\n",
              "  </thead>\n",
              "  <tbody>\n",
              "    <tr>\n",
              "      <th>[drama]</th>\n",
              "      <td>4910</td>\n",
              "    </tr>\n",
              "    <tr>\n",
              "      <th>[comedy]</th>\n",
              "      <td>3371</td>\n",
              "    </tr>\n",
              "    <tr>\n",
              "      <th>[documentary]</th>\n",
              "      <td>2682</td>\n",
              "    </tr>\n",
              "    <tr>\n",
              "      <th>[horror]</th>\n",
              "      <td>971</td>\n",
              "    </tr>\n",
              "    <tr>\n",
              "      <th>[thriller]</th>\n",
              "      <td>455</td>\n",
              "    </tr>\n",
              "    <tr>\n",
              "      <th>[western]</th>\n",
              "      <td>317</td>\n",
              "    </tr>\n",
              "    <tr>\n",
              "      <th>[action]</th>\n",
              "      <td>276</td>\n",
              "    </tr>\n",
              "    <tr>\n",
              "      <th>[animation]</th>\n",
              "      <td>236</td>\n",
              "    </tr>\n",
              "    <tr>\n",
              "      <th>[sciencefiction]</th>\n",
              "      <td>195</td>\n",
              "    </tr>\n",
              "    <tr>\n",
              "      <th>[crime]</th>\n",
              "      <td>127</td>\n",
              "    </tr>\n",
              "    <tr>\n",
              "      <th>[music]</th>\n",
              "      <td>109</td>\n",
              "    </tr>\n",
              "    <tr>\n",
              "      <th>[adventure]</th>\n",
              "      <td>107</td>\n",
              "    </tr>\n",
              "    <tr>\n",
              "      <th>[romance]</th>\n",
              "      <td>94</td>\n",
              "    </tr>\n",
              "    <tr>\n",
              "      <th>[family]</th>\n",
              "      <td>88</td>\n",
              "    </tr>\n",
              "    <tr>\n",
              "      <th>[mystery]</th>\n",
              "      <td>69</td>\n",
              "    </tr>\n",
              "    <tr>\n",
              "      <th>[fantasy]</th>\n",
              "      <td>49</td>\n",
              "    </tr>\n",
              "    <tr>\n",
              "      <th>[war]</th>\n",
              "      <td>37</td>\n",
              "    </tr>\n",
              "    <tr>\n",
              "      <th>[foreign]</th>\n",
              "      <td>19</td>\n",
              "    </tr>\n",
              "    <tr>\n",
              "      <th>[history]</th>\n",
              "      <td>15</td>\n",
              "    </tr>\n",
              "    <tr>\n",
              "      <th>[tvmovie]</th>\n",
              "      <td>6</td>\n",
              "    </tr>\n",
              "  </tbody>\n",
              "</table>\n",
              "</div><br><label><b>dtype:</b> int64</label>"
            ]
          },
          "metadata": {},
          "execution_count": 16
        }
      ]
    },
    {
      "cell_type": "code",
      "source": [
        "df_cut = df_final[df_final[\"genres\"].apply(lambda x: len(x) == 1)]\n",
        "df_cut[\"genres\"] = df_cut[\"genres\"].apply(lambda x: x[0])\n",
        "df_cut = df_cut[df_cut[\"genres\"]!=\"tvmovie\"]\n",
        "df_cut.shape[0]"
      ],
      "metadata": {
        "colab": {
          "base_uri": "https://localhost:8080/"
        },
        "id": "AK3qSTri5uT7",
        "outputId": "c61f4738-369b-40f6-bb74-6e0b1ddfb7d3"
      },
      "execution_count": null,
      "outputs": [
        {
          "output_type": "execute_result",
          "data": {
            "text/plain": [
              "14127"
            ]
          },
          "metadata": {},
          "execution_count": 17
        }
      ]
    },
    {
      "cell_type": "code",
      "source": [
        "# counts by genre\n",
        "plt.figure(figsize=(10,5))\n",
        "sns.barplot(data=df_cut[\"genres\"].value_counts().reset_index(),x=\"genres\",y=\"count\",palette=\"Accent\")\n",
        "plt.xticks(rotation=45);"
      ],
      "metadata": {
        "colab": {
          "base_uri": "https://localhost:8080/",
          "height": 528
        },
        "id": "C0d3-F3G6ElL",
        "outputId": "42270716-400a-445a-f765-c6e6749c4d04"
      },
      "execution_count": null,
      "outputs": [
        {
          "output_type": "display_data",
          "data": {
            "text/plain": [
              "<Figure size 1000x500 with 1 Axes>"
            ],
            "image/png": "[encoded data removed]"
          },
          "metadata": {}
        }
      ]
    },
    {
      "cell_type": "code",
      "source": [
        "# check the one with NO overview => drop\n",
        "print(df_cut.shape[0])\n",
        "df_cut = df_cut[df_cut[\"overview\"].apply(lambda x: not x.lower().startswith(\"no overview\"))]\n",
        "print(df_cut.shape[0])"
      ],
      "metadata": {
        "colab": {
          "base_uri": "https://localhost:8080/"
        },
        "id": "e_OELz9s7m25",
        "outputId": "71f364b0-d7c0-4f3d-f831-d4cf1ba8dc1f"
      },
      "execution_count": null,
      "outputs": [
        {
          "output_type": "stream",
          "name": "stdout",
          "text": [
            "14127\n",
            "14056\n"
          ]
        }
      ]
    },
    {
      "cell_type": "code",
      "source": [
        "# ones with <= 2 words? drop id 49788, 47110, 115239\n",
        "df_cut = df_cut[df_cut[\"id\"].apply(lambda x: int(x) not in [49788,47110,115239])]"
      ],
      "metadata": {
        "id": "vOxyO6MU8IXC"
      },
      "execution_count": null,
      "outputs": []
    },
    {
      "cell_type": "code",
      "source": [
        "# length of words in overview by genres\n",
        "plt.figure(figsize=(10,5))\n",
        "# df_cut[\"length\"] = df_cut[\"overview\"].apply(lambda x: len(x.split(\" \")))\n",
        "sns.boxplot(df_cut,x=\"genres\",y=\"length\",palette=\"Accent\")\n",
        "plt.xticks(rotation=45);"
      ],
      "metadata": {
        "colab": {
          "base_uri": "https://localhost:8080/",
          "height": 528
        },
        "id": "KJdiPJ189Cjq",
        "outputId": "5c856993-9ba5-4238-8644-72ba35b0c9a2"
      },
      "execution_count": null,
      "outputs": [
        {
          "output_type": "display_data",
          "data": {
            "text/plain": [
              "<Figure size 1000x500 with 1 Axes>"
            ],
            "image/png": "[encoded data removed]"
          },
          "metadata": {}
        }
      ]
    },
    {
      "cell_type": "code",
      "source": [
        "# label_enc = LabelBinarizer()\n",
        "# label_df = label_enc.fit_transform(df_cut[\"genres\"])\n",
        "# merged_df = pd.merge(df_cut,pd.DataFrame(label_df,columns=label_enc.classes_),left_index=True,right_index=True)\n",
        "# merged_df.head()"
      ],
      "metadata": {
        "id": "03pKvbaGApej"
      },
      "execution_count": null,
      "outputs": []
    },
    {
      "cell_type": "code",
      "source": [
        "# label encoder - integer class for fitting log reg\n",
        "label_enc2 = LabelEncoder()\n",
        "target = label_enc2.fit_transform(df_cut[\"genres\"])\n",
        "target"
      ],
      "metadata": {
        "colab": {
          "base_uri": "https://localhost:8080/"
        },
        "id": "lRgHdvakGxxR",
        "outputId": "feaddec8-da1d-4bf3-8b84-a353148cd020"
      },
      "execution_count": null,
      "outputs": [
        {
          "output_type": "execute_result",
          "data": {
            "text/plain": [
              "array([ 3,  6,  6, ..., 11, 15,  6])"
            ]
          },
          "metadata": {},
          "execution_count": 24
        }
      ]
    },
    {
      "cell_type": "code",
      "source": [
        "df_cut[\"target\"] = target"
      ],
      "metadata": {
        "id": "9NxqL1qgGTqX"
      },
      "execution_count": null,
      "outputs": []
    },
    {
      "cell_type": "code",
      "source": [
        "# merged_df.drop('index',axis=1,inplace=True)"
      ],
      "metadata": {
        "id": "Tt0SXnoEBV8u"
      },
      "execution_count": null,
      "outputs": []
    },
    {
      "cell_type": "code",
      "source": [
        "X_train, X_test, y_train, y_test = train_test_split(df_cut[\"overview\"],target,random_state=110598, test_size=0.2,stratify=target)"
      ],
      "metadata": {
        "id": "n9AoaaPn-A0R"
      },
      "execution_count": null,
      "outputs": []
    },
    {
      "cell_type": "code",
      "source": [
        "tfidf = TfidfVectorizer(analyzer=\"word\",min_df=1,strip_accents='unicode',token_pattern=r'\\w{1,}', use_idf=True, smooth_idf=True, sublinear_tf=True, stop_words='english')\n",
        "overview_embedding = tfidf.fit_transform(X_train)\n",
        "overview_embedding.shape"
      ],
      "metadata": {
        "colab": {
          "base_uri": "https://localhost:8080/"
        },
        "id": "furJxwh-9Stv",
        "outputId": "31133c3d-4a8a-485c-d350-0054d4bf9838"
      },
      "execution_count": null,
      "outputs": [
        {
          "output_type": "execute_result",
          "data": {
            "text/plain": [
              "(11242, 39021)"
            ]
          },
          "metadata": {},
          "execution_count": 27
        }
      ]
    },
    {
      "cell_type": "code",
      "source": [
        "tfidf.get_feature_names_out()[1000:1100]"
      ],
      "metadata": {
        "colab": {
          "base_uri": "https://localhost:8080/"
        },
        "id": "PAuFWFgG9vqY",
        "outputId": "0735ce00-cf06-4e6c-e398-b14bef9028eb"
      },
      "execution_count": null,
      "outputs": [
        {
          "output_type": "execute_result",
          "data": {
            "text/plain": [
              "array(['aerial', 'aero', 'aerobics', 'aeronautics', 'aeroplane',\n",
              "       'aerospace', 'aesthete', 'aesthetic', 'aesthetically',\n",
              "       'aesthetics', 'afar', 'afeta', 'affable', 'affably', 'affair',\n",
              "       'affaires', 'affairs', 'affect', 'affected', 'affecting',\n",
              "       'affection', 'affectionate', 'affectionately', 'affections',\n",
              "       'affects', 'affiches', 'affiliate', 'affiliation', 'affinity',\n",
              "       'affirmative', 'affittata', 'affleck', 'afflict', 'afflicted',\n",
              "       'afflicting', 'affliction', 'afflictions', 'affluent', 'afford',\n",
              "       'affordability', 'affordable', 'afforded', 'affords', 'affronte',\n",
              "       'afghan', 'afghani', 'afghanistan', 'afi', 'afield', 'afin',\n",
              "       'afire', 'afk', 'afkomstig', 'aflame', 'afloat', 'afoot',\n",
              "       'aforementioned', 'afoul', 'afraid', 'afresh', 'africa',\n",
              "       'africaine', 'african', 'africans', 'afrikaner', 'afro',\n",
              "       'afrobeat', 'afshar', 'afshin', 'aftereffects', 'afterlife',\n",
              "       'aftermath', 'afternoon', 'afternoons', 'afterward', 'afzel',\n",
              "       'aga', 'againthis', 'agassiz', 'agatha', 'agathe', 'age', 'aged',\n",
              "       'agee', 'ageing', 'ageless', 'agencies', 'agency', 'agenda',\n",
              "       'agendas', 'agent', 'agente', 'agents', 'agers', 'ages', 'aggi',\n",
              "       'aggravating', 'aggression', 'aggressive', 'aggressively'],\n",
              "      dtype=object)"
            ]
          },
          "metadata": {},
          "execution_count": 28
        }
      ]
    },
    {
      "cell_type": "code",
      "source": [
        "def multiclass_logloss(actual, predicted, eps=1e-15): # implemented by https://github.com/dnouri/nolearn/blob/master/nolearn/lasagne/util.py\n",
        "    \"\"\"\n",
        "    actual: 1d array\n",
        "    predicted: matrix of shape nrow x nclasses\n",
        "    \"\"\"\n",
        "    # Convert 'actual' to a binary array if it's not already:\n",
        "    if len(actual.shape) == 1:\n",
        "        actual2 = np.zeros((actual.shape[0], predicted.shape[1]))\n",
        "        for i, val in enumerate(actual):\n",
        "            actual2[i, val] = 1\n",
        "        actual = actual2\n",
        "\n",
        "    clip = np.clip(predicted, eps, 1 - eps)\n",
        "    rows = actual.shape[0]\n",
        "    vsota = np.sum(actual * np.log(clip))\n",
        "    return -1.0 / rows * vsota"
      ],
      "metadata": {
        "id": "yX4JhnK7Io2v"
      },
      "execution_count": null,
      "outputs": []
    },
    {
      "cell_type": "code",
      "source": [
        "clf = LogisticRegression(multi_class='ovr',max_iter=200)\n",
        "clf.fit(overview_embedding,y_train)"
      ],
      "metadata": {
        "colab": {
          "base_uri": "https://localhost:8080/",
          "height": 80
        },
        "id": "OIVN26Y4AEXp",
        "outputId": "d88d97c7-17a1-4751-8432-016a8f1fd170"
      },
      "execution_count": null,
      "outputs": [
        {
          "output_type": "execute_result",
          "data": {
            "text/plain": [
              "LogisticRegression(max_iter=200, multi_class='ovr')"
            ],
            "text/html": [
              "<style>#sk-container-id-1 {\n",
              "  /* Definition of color scheme common for light and dark mode */\n",
              "  --sklearn-color-text: black;\n",
              "  --sklearn-color-line: gray;\n",
              "  /* Definition of color scheme for unfitted estimators */\n",
              "  --sklearn-color-unfitted-level-0: #fff5e6;\n",
              "  --sklearn-color-unfitted-level-1: #f6e4d2;\n",
              "  --sklearn-color-unfitted-level-2: #ffe0b3;\n",
              "  --sklearn-color-unfitted-level-3: chocolate;\n",
              "  /* Definition of color scheme for fitted estimators */\n",
              "  --sklearn-color-fitted-level-0: #f0f8ff;\n",
              "  --sklearn-color-fitted-level-1: #d4ebff;\n",
              "  --sklearn-color-fitted-level-2: #b3dbfd;\n",
              "  --sklearn-color-fitted-level-3: cornflowerblue;\n",
              "\n",
              "  /* Specific color for light theme */\n",
              "  --sklearn-color-text-on-default-background: var(--sg-text-color, var(--theme-code-foreground, var(--jp-content-font-color1, black)));\n",
              "  --sklearn-color-background: var(--sg-background-color, var(--theme-background, var(--jp-layout-color0, white)));\n",
              "  --sklearn-color-border-box: var(--sg-text-color, var(--theme-code-foreground, var(--jp-content-font-color1, black)));\n",
              "  --sklearn-color-icon: #696969;\n",
              "\n",
              "  @media (prefers-color-scheme: dark) {\n",
              "    /* Redefinition of color scheme for dark theme */\n",
              "    --sklearn-color-text-on-default-background: var(--sg-text-color, var(--theme-code-foreground, var(--jp-content-font-color1, white)));\n",
              "    --sklearn-color-background: var(--sg-background-color, var(--theme-background, var(--jp-layout-color0, #111)));\n",
              "    --sklearn-color-border-box: var(--sg-text-color, var(--theme-code-foreground, var(--jp-content-font-color1, white)));\n",
              "    --sklearn-color-icon: #878787;\n",
              "  }\n",
              "}\n",
              "\n",
              "#sk-container-id-1 {\n",
              "  color: var(--sklearn-color-text);\n",
              "}\n",
              "\n",
              "#sk-container-id-1 pre {\n",
              "  padding: 0;\n",
              "}\n",
              "\n",
              "#sk-container-id-1 input.sk-hidden--visually {\n",
              "  border: 0;\n",
              "  clip: rect(1px 1px 1px 1px);\n",
              "  clip: rect(1px, 1px, 1px, 1px);\n",
              "  height: 1px;\n",
              "  margin: -1px;\n",
              "  overflow: hidden;\n",
              "  padding: 0;\n",
              "  position: absolute;\n",
              "  width: 1px;\n",
              "}\n",
              "\n",
              "#sk-container-id-1 div.sk-dashed-wrapped {\n",
              "  border: 1px dashed var(--sklearn-color-line);\n",
              "  margin: 0 0.4em 0.5em 0.4em;\n",
              "  box-sizing: border-box;\n",
              "  padding-bottom: 0.4em;\n",
              "  background-color: var(--sklearn-color-background);\n",
              "}\n",
              "\n",
              "#sk-container-id-1 div.sk-container {\n",
              "  /* jupyter's `normalize.less` sets `[hidden] { display: none; }`\n",
              "     but bootstrap.min.css set `[hidden] { display: none !important; }`\n",
              "     so we also need the `!important` here to be able to override the\n",
              "     default hidden behavior on the sphinx rendered scikit-learn.org.\n",
              "     See: https://github.com/scikit-learn/scikit-learn/issues/21755 */\n",
              "  display: inline-block !important;\n",
              "  position: relative;\n",
              "}\n",
              "\n",
              "#sk-container-id-1 div.sk-text-repr-fallback {\n",
              "  display: none;\n",
              "}\n",
              "\n",
              "div.sk-parallel-item,\n",
              "div.sk-serial,\n",
              "div.sk-item {\n",
              "  /* draw centered vertical line to link estimators */\n",
              "  background-image: linear-gradient(var(--sklearn-color-text-on-default-background), var(--sklearn-color-text-on-default-background));\n",
              "  background-size: 2px 100%;\n",
              "  background-repeat: no-repeat;\n",
              "  background-position: center center;\n",
              "}\n",
              "\n",
              "/* Parallel-specific style estimator block */\n",
              "\n",
              "#sk-container-id-1 div.sk-parallel-item::after {\n",
              "  content: \"\";\n",
              "  width: 100%;\n",
              "  border-bottom: 2px solid var(--sklearn-color-text-on-default-background);\n",
              "  flex-grow: 1;\n",
              "}\n",
              "\n",
              "#sk-container-id-1 div.sk-parallel {\n",
              "  display: flex;\n",
              "  align-items: stretch;\n",
              "  justify-content: center;\n",
              "  background-color: var(--sklearn-color-background);\n",
              "  position: relative;\n",
              "}\n",
              "\n",
              "#sk-container-id-1 div.sk-parallel-item {\n",
              "  display: flex;\n",
              "  flex-direction: column;\n",
              "}\n",
              "\n",
              "#sk-container-id-1 div.sk-parallel-item:first-child::after {\n",
              "  align-self: flex-end;\n",
              "  width: 50%;\n",
              "}\n",
              "\n",
              "#sk-container-id-1 div.sk-parallel-item:last-child::after {\n",
              "  align-self: flex-start;\n",
              "  width: 50%;\n",
              "}\n",
              "\n",
              "#sk-container-id-1 div.sk-parallel-item:only-child::after {\n",
              "  width: 0;\n",
              "}\n",
              "\n",
              "/* Serial-specific style estimator block */\n",
              "\n",
              "#sk-container-id-1 div.sk-serial {\n",
              "  display: flex;\n",
              "  flex-direction: column;\n",
              "  align-items: center;\n",
              "  background-color: var(--sklearn-color-background);\n",
              "  padding-right: 1em;\n",
              "  padding-left: 1em;\n",
              "}\n",
              "\n",
              "\n",
              "/* Toggleable style: style used for estimator/Pipeline/ColumnTransformer box that is\n",
              "clickable and can be expanded/collapsed.\n",
              "- Pipeline and ColumnTransformer use this feature and define the default style\n",
              "- Estimators will overwrite some part of the style using the `sk-estimator` class\n",
              "*/\n",
              "\n",
              "/* Pipeline and ColumnTransformer style (default) */\n",
              "\n",
              "#sk-container-id-1 div.sk-toggleable {\n",
              "  /* Default theme specific background. It is overwritten whether we have a\n",
              "  specific estimator or a Pipeline/ColumnTransformer */\n",
              "  background-color: var(--sklearn-color-background);\n",
              "}\n",
              "\n",
              "/* Toggleable label */\n",
              "#sk-container-id-1 label.sk-toggleable__label {\n",
              "  cursor: pointer;\n",
              "  display: block;\n",
              "  width: 100%;\n",
              "  margin-bottom: 0;\n",
              "  padding: 0.5em;\n",
              "  box-sizing: border-box;\n",
              "  text-align: center;\n",
              "}\n",
              "\n",
              "#sk-container-id-1 label.sk-toggleable__label-arrow:before {\n",
              "  /* Arrow on the left of the label */\n",
              "  content: \"▸\";\n",
              "  float: left;\n",
              "  margin-right: 0.25em;\n",
              "  color: var(--sklearn-color-icon);\n",
              "}\n",
              "\n",
              "#sk-container-id-1 label.sk-toggleable__label-arrow:hover:before {\n",
              "  color: var(--sklearn-color-text);\n",
              "}\n",
              "\n",
              "/* Toggleable content - dropdown */\n",
              "\n",
              "#sk-container-id-1 div.sk-toggleable__content {\n",
              "  max-height: 0;\n",
              "  max-width: 0;\n",
              "  overflow: hidden;\n",
              "  text-align: left;\n",
              "  /* unfitted */\n",
              "  background-color: var(--sklearn-color-unfitted-level-0);\n",
              "}\n",
              "\n",
              "#sk-container-id-1 div.sk-toggleable__content.fitted {\n",
              "  /* fitted */\n",
              "  background-color: var(--sklearn-color-fitted-level-0);\n",
              "}\n",
              "\n",
              "#sk-container-id-1 div.sk-toggleable__content pre {\n",
              "  margin: 0.2em;\n",
              "  border-radius: 0.25em;\n",
              "  color: var(--sklearn-color-text);\n",
              "  /* unfitted */\n",
              "  background-color: var(--sklearn-color-unfitted-level-0);\n",
              "}\n",
              "\n",
              "#sk-container-id-1 div.sk-toggleable__content.fitted pre {\n",
              "  /* unfitted */\n",
              "  background-color: var(--sklearn-color-fitted-level-0);\n",
              "}\n",
              "\n",
              "#sk-container-id-1 input.sk-toggleable__control:checked~div.sk-toggleable__content {\n",
              "  /* Expand drop-down */\n",
              "  max-height: 200px;\n",
              "  max-width: 100%;\n",
              "  overflow: auto;\n",
              "}\n",
              "\n",
              "#sk-container-id-1 input.sk-toggleable__control:checked~label.sk-toggleable__label-arrow:before {\n",
              "  content: \"▾\";\n",
              "}\n",
              "\n",
              "/* Pipeline/ColumnTransformer-specific style */\n",
              "\n",
              "#sk-container-id-1 div.sk-label input.sk-toggleable__control:checked~label.sk-toggleable__label {\n",
              "  color: var(--sklearn-color-text);\n",
              "  background-color: var(--sklearn-color-unfitted-level-2);\n",
              "}\n",
              "\n",
              "#sk-container-id-1 div.sk-label.fitted input.sk-toggleable__control:checked~label.sk-toggleable__label {\n",
              "  background-color: var(--sklearn-color-fitted-level-2);\n",
              "}\n",
              "\n",
              "/* Estimator-specific style */\n",
              "\n",
              "/* Colorize estimator box */\n",
              "#sk-container-id-1 div.sk-estimator input.sk-toggleable__control:checked~label.sk-toggleable__label {\n",
              "  /* unfitted */\n",
              "  background-color: var(--sklearn-color-unfitted-level-2);\n",
              "}\n",
              "\n",
              "#sk-container-id-1 div.sk-estimator.fitted input.sk-toggleable__control:checked~label.sk-toggleable__label {\n",
              "  /* fitted */\n",
              "  background-color: var(--sklearn-color-fitted-level-2);\n",
              "}\n",
              "\n",
              "#sk-container-id-1 div.sk-label label.sk-toggleable__label,\n",
              "#sk-container-id-1 div.sk-label label {\n",
              "  /* The background is the default theme color */\n",
              "  color: var(--sklearn-color-text-on-default-background);\n",
              "}\n",
              "\n",
              "/* On hover, darken the color of the background */\n",
              "#sk-container-id-1 div.sk-label:hover label.sk-toggleable__label {\n",
              "  color: var(--sklearn-color-text);\n",
              "  background-color: var(--sklearn-color-unfitted-level-2);\n",
              "}\n",
              "\n",
              "/* Label box, darken color on hover, fitted */\n",
              "#sk-container-id-1 div.sk-label.fitted:hover label.sk-toggleable__label.fitted {\n",
              "  color: var(--sklearn-color-text);\n",
              "  background-color: var(--sklearn-color-fitted-level-2);\n",
              "}\n",
              "\n",
              "/* Estimator label */\n",
              "\n",
              "#sk-container-id-1 div.sk-label label {\n",
              "  font-family: monospace;\n",
              "  font-weight: bold;\n",
              "  display: inline-block;\n",
              "  line-height: 1.2em;\n",
              "}\n",
              "\n",
              "#sk-container-id-1 div.sk-label-container {\n",
              "  text-align: center;\n",
              "}\n",
              "\n",
              "/* Estimator-specific */\n",
              "#sk-container-id-1 div.sk-estimator {\n",
              "  font-family: monospace;\n",
              "  border: 1px dotted var(--sklearn-color-border-box);\n",
              "  border-radius: 0.25em;\n",
              "  box-sizing: border-box;\n",
              "  margin-bottom: 0.5em;\n",
              "  /* unfitted */\n",
              "  background-color: var(--sklearn-color-unfitted-level-0);\n",
              "}\n",
              "\n",
              "#sk-container-id-1 div.sk-estimator.fitted {\n",
              "  /* fitted */\n",
              "  background-color: var(--sklearn-color-fitted-level-0);\n",
              "}\n",
              "\n",
              "/* on hover */\n",
              "#sk-container-id-1 div.sk-estimator:hover {\n",
              "  /* unfitted */\n",
              "  background-color: var(--sklearn-color-unfitted-level-2);\n",
              "}\n",
              "\n",
              "#sk-container-id-1 div.sk-estimator.fitted:hover {\n",
              "  /* fitted */\n",
              "  background-color: var(--sklearn-color-fitted-level-2);\n",
              "}\n",
              "\n",
              "/* Specification for estimator info (e.g. \"i\" and \"?\") */\n",
              "\n",
              "/* Common style for \"i\" and \"?\" */\n",
              "\n",
              ".sk-estimator-doc-link,\n",
              "a:link.sk-estimator-doc-link,\n",
              "a:visited.sk-estimator-doc-link {\n",
              "  float: right;\n",
              "  font-size: smaller;\n",
              "  line-height: 1em;\n",
              "  font-family: monospace;\n",
              "  background-color: var(--sklearn-color-background);\n",
              "  border-radius: 1em;\n",
              "  height: 1em;\n",
              "  width: 1em;\n",
              "  text-decoration: none !important;\n",
              "  margin-left: 1ex;\n",
              "  /* unfitted */\n",
              "  border: var(--sklearn-color-unfitted-level-1) 1pt solid;\n",
              "  color: var(--sklearn-color-unfitted-level-1);\n",
              "}\n",
              "\n",
              ".sk-estimator-doc-link.fitted,\n",
              "a:link.sk-estimator-doc-link.fitted,\n",
              "a:visited.sk-estimator-doc-link.fitted {\n",
              "  /* fitted */\n",
              "  border: var(--sklearn-color-fitted-level-1) 1pt solid;\n",
              "  color: var(--sklearn-color-fitted-level-1);\n",
              "}\n",
              "\n",
              "/* On hover */\n",
              "div.sk-estimator:hover .sk-estimator-doc-link:hover,\n",
              ".sk-estimator-doc-link:hover,\n",
              "div.sk-label-container:hover .sk-estimator-doc-link:hover,\n",
              ".sk-estimator-doc-link:hover {\n",
              "  /* unfitted */\n",
              "  background-color: var(--sklearn-color-unfitted-level-3);\n",
              "  color: var(--sklearn-color-background);\n",
              "  text-decoration: none;\n",
              "}\n",
              "\n",
              "div.sk-estimator.fitted:hover .sk-estimator-doc-link.fitted:hover,\n",
              ".sk-estimator-doc-link.fitted:hover,\n",
              "div.sk-label-container:hover .sk-estimator-doc-link.fitted:hover,\n",
              ".sk-estimator-doc-link.fitted:hover {\n",
              "  /* fitted */\n",
              "  background-color: var(--sklearn-color-fitted-level-3);\n",
              "  color: var(--sklearn-color-background);\n",
              "  text-decoration: none;\n",
              "}\n",
              "\n",
              "/* Span, style for the box shown on hovering the info icon */\n",
              ".sk-estimator-doc-link span {\n",
              "  display: none;\n",
              "  z-index: 9999;\n",
              "  position: relative;\n",
              "  font-weight: normal;\n",
              "  right: .2ex;\n",
              "  padding: .5ex;\n",
              "  margin: .5ex;\n",
              "  width: min-content;\n",
              "  min-width: 20ex;\n",
              "  max-width: 50ex;\n",
              "  color: var(--sklearn-color-text);\n",
              "  box-shadow: 2pt 2pt 4pt #999;\n",
              "  /* unfitted */\n",
              "  background: var(--sklearn-color-unfitted-level-0);\n",
              "  border: .5pt solid var(--sklearn-color-unfitted-level-3);\n",
              "}\n",
              "\n",
              ".sk-estimator-doc-link.fitted span {\n",
              "  /* fitted */\n",
              "  background: var(--sklearn-color-fitted-level-0);\n",
              "  border: var(--sklearn-color-fitted-level-3);\n",
              "}\n",
              "\n",
              ".sk-estimator-doc-link:hover span {\n",
              "  display: block;\n",
              "}\n",
              "\n",
              "/* \"?\"-specific style due to the `<a>` HTML tag */\n",
              "\n",
              "#sk-container-id-1 a.estimator_doc_link {\n",
              "  float: right;\n",
              "  font-size: 1rem;\n",
              "  line-height: 1em;\n",
              "  font-family: monospace;\n",
              "  background-color: var(--sklearn-color-background);\n",
              "  border-radius: 1rem;\n",
              "  height: 1rem;\n",
              "  width: 1rem;\n",
              "  text-decoration: none;\n",
              "  /* unfitted */\n",
              "  color: var(--sklearn-color-unfitted-level-1);\n",
              "  border: var(--sklearn-color-unfitted-level-1) 1pt solid;\n",
              "}\n",
              "\n",
              "#sk-container-id-1 a.estimator_doc_link.fitted {\n",
              "  /* fitted */\n",
              "  border: var(--sklearn-color-fitted-level-1) 1pt solid;\n",
              "  color: var(--sklearn-color-fitted-level-1);\n",
              "}\n",
              "\n",
              "/* On hover */\n",
              "#sk-container-id-1 a.estimator_doc_link:hover {\n",
              "  /* unfitted */\n",
              "  background-color: var(--sklearn-color-unfitted-level-3);\n",
              "  color: var(--sklearn-color-background);\n",
              "  text-decoration: none;\n",
              "}\n",
              "\n",
              "#sk-container-id-1 a.estimator_doc_link.fitted:hover {\n",
              "  /* fitted */\n",
              "  background-color: var(--sklearn-color-fitted-level-3);\n",
              "}\n",
              "</style><div id=\"sk-container-id-1\" class=\"sk-top-container\"><div class=\"sk-text-repr-fallback\"><pre>LogisticRegression(max_iter=200, multi_class=&#x27;ovr&#x27;)</pre><b>In a Jupyter environment, please rerun this cell to show the HTML representation or trust the notebook. <br />On GitHub, the HTML representation is unable to render, please try loading this page with nbviewer.org.</b></div><div class=\"sk-container\" hidden><div class=\"sk-item\"><div class=\"sk-estimator fitted sk-toggleable\"><input class=\"sk-toggleable__control sk-hidden--visually\" id=\"sk-estimator-id-1\" type=\"checkbox\" checked><label for=\"sk-estimator-id-1\" class=\"sk-toggleable__label fitted sk-toggleable__label-arrow fitted\">&nbsp;&nbsp;LogisticRegression<a class=\"sk-estimator-doc-link fitted\" rel=\"noreferrer\" target=\"_blank\" href=\"https://scikit-learn.org/1.5/modules/generated/sklearn.linear_model.LogisticRegression.html\">?<span>Documentation for LogisticRegression</span></a><span class=\"sk-estimator-doc-link fitted\">i<span>Fitted</span></span></label><div class=\"sk-toggleable__content fitted\"><pre>LogisticRegression(max_iter=200, multi_class=&#x27;ovr&#x27;)</pre></div> </div></div></div></div>"
            ]
          },
          "metadata": {},
          "execution_count": 30
        }
      ]
    },
    {
      "cell_type": "code",
      "source": [
        "Xtest_embedding = tfidf.transform(X_test)\n",
        "pred_probs = clf.predict_proba(Xtest_embedding)"
      ],
      "metadata": {
        "id": "J_W_yzRgDWDN"
      },
      "execution_count": null,
      "outputs": []
    },
    {
      "cell_type": "code",
      "source": [
        "pred_probs.shape"
      ],
      "metadata": {
        "colab": {
          "base_uri": "https://localhost:8080/"
        },
        "id": "V5mNn-YlDjyl",
        "outputId": "dca6782f-547a-46ad-f26d-e2460c0c8e11"
      },
      "execution_count": null,
      "outputs": [
        {
          "output_type": "execute_result",
          "data": {
            "text/plain": [
              "(2811, 19)"
            ]
          },
          "metadata": {},
          "execution_count": 32
        }
      ]
    },
    {
      "cell_type": "code",
      "source": [
        "multiclass_logloss(y_test,pred_probs)"
      ],
      "metadata": {
        "colab": {
          "base_uri": "https://localhost:8080/"
        },
        "id": "fYVwWK6mD03G",
        "outputId": "da0175ec-f1ac-4711-b2ab-0719eb878e41"
      },
      "execution_count": null,
      "outputs": [
        {
          "output_type": "execute_result",
          "data": {
            "text/plain": [
              "1.290574319436577"
            ]
          },
          "metadata": {},
          "execution_count": 33
        }
      ]
    },
    {
      "cell_type": "code",
      "source": [
        "preds = clf.predict(Xtest_embedding)\n",
        "(preds == y_test).mean() # why suddenly did this well?"
      ],
      "metadata": {
        "colab": {
          "base_uri": "https://localhost:8080/"
        },
        "id": "hqkK91ckJUM3",
        "outputId": "4afe8e9e-f2a4-467d-950d-6d167c62edcd"
      },
      "execution_count": null,
      "outputs": [
        {
          "output_type": "execute_result",
          "data": {
            "text/plain": [
              "0.6286019210245464"
            ]
          },
          "metadata": {},
          "execution_count": 34
        }
      ]
    },
    {
      "cell_type": "code",
      "source": [
        "plt.figure(figsize=(10,6))\n",
        "cm = confusion_matrix(y_test,clf.predict(Xtest_embedding))\n",
        "sns.heatmap(cm, annot=True, fmt='d', cmap='Blues', cbar=True); # redraw this to show percentage as well"
      ],
      "metadata": {
        "colab": {
          "base_uri": "https://localhost:8080/",
          "height": 522
        },
        "id": "fkG5uBlUJhl7",
        "outputId": "9ca6e231-4cbd-4d3c-fe92-80d226e4561a"
      },
      "execution_count": null,
      "outputs": [
        {
          "output_type": "display_data",
          "data": {
            "text/plain": [
              "<Figure size 1000x600 with 2 Axes>"
            ],
            "image/png": "[encoded data removed]"
          },
          "metadata": {}
        }
      ]
    },
    {
      "cell_type": "markdown",
      "source": [
        "We now improve the embeding to achieve better result. First, we'll use the tiktoken library to generate token and just keep it as a one-hot embedding matrix without accounting for sequentiality. Later we'll optimize the embeddings using encoder-based transformer to predict the genres and finally we just use BERT. -- rewrite"
      ],
      "metadata": {
        "id": "iaJBUk6BJNTR"
      }
    },
    {
      "cell_type": "code",
      "source": [
        "!pip install tiktoken"
      ],
      "metadata": {
        "colab": {
          "base_uri": "https://localhost:8080/"
        },
        "id": "OEin1VniKrju",
        "outputId": "eecce220-59b5-49c0-b53c-d8e75778d838"
      },
      "execution_count": null,
      "outputs": [
        {
          "output_type": "stream",
          "name": "stdout",
          "text": [
            "Collecting tiktoken\n",
            "  Downloading tiktoken-0.8.0-cp310-cp310-manylinux_2_17_x86_64.manylinux2014_x86_64.whl.metadata (6.6 kB)\n",
            "Requirement already satisfied: regex>=2022.1.18 in /usr/local/lib/python3.10/dist-packages (from tiktoken) (2024.9.11)\n",
            "Requirement already satisfied: requests>=2.26.0 in /usr/local/lib/python3.10/dist-packages (from tiktoken) (2.32.3)\n",
            "Requirement already satisfied: charset-normalizer<4,>=2 in /usr/local/lib/python3.10/dist-packages (from requests>=2.26.0->tiktoken) (3.4.0)\n",
            "Requirement already satisfied: idna<4,>=2.5 in /usr/local/lib/python3.10/dist-packages (from requests>=2.26.0->tiktoken) (3.10)\n",
            "Requirement already satisfied: urllib3<3,>=1.21.1 in /usr/local/lib/python3.10/dist-packages (from requests>=2.26.0->tiktoken) (2.2.3)\n",
            "Requirement already satisfied: certifi>=2017.4.17 in /usr/local/lib/python3.10/dist-packages (from requests>=2.26.0->tiktoken) (2024.8.30)\n",
            "Downloading tiktoken-0.8.0-cp310-cp310-manylinux_2_17_x86_64.manylinux2014_x86_64.whl (1.2 MB)\n",
            "\u001b[2K   \u001b[90m━━━━━━━━━━━━━━━━━━━━━━━━━━━━━━━━━━━━━━━━\u001b[0m \u001b[32m1.2/1.2 MB\u001b[0m \u001b[31m5.6 MB/s\u001b[0m eta \u001b[36m0:00:00\u001b[0m\n",
            "\u001b[?25hInstalling collected packages: tiktoken\n",
            "Successfully installed tiktoken-0.8.0\n"
          ]
        }
      ]
    },
    {
      "cell_type": "code",
      "source": [
        "# GPT-4 (merges spaces)\n",
        "import tiktoken\n",
        "enc = tiktoken.get_encoding(\"cl100k_base\")\n",
        "print(enc.encode(\"  졸리다\"))"
      ],
      "metadata": {
        "colab": {
          "base_uri": "https://localhost:8080/"
        },
        "id": "Co7v3WSDPtwn",
        "outputId": "2dd54e0f-9e16-4b0d-8a27-83377d5cc2cb"
      },
      "execution_count": null,
      "outputs": [
        {
          "output_type": "stream",
          "name": "stdout",
          "text": [
            "[220, 3396, 94, 116, 29102, 13447]\n"
          ]
        }
      ]
    },
    {
      "cell_type": "code",
      "source": [
        "# test encoder on our corpus, 11 looks like a comma\n",
        "tokenized = [enc.encode(text) for text in X_train.values[:3]]\n",
        "for i, text in enumerate(tokenized):\n",
        "  print(f\"Text: {X_train.values[i]}\")\n",
        "  print(f\"Tokens: {tokenized[i]}\\n\")"
      ],
      "metadata": {
        "colab": {
          "base_uri": "https://localhost:8080/"
        },
        "id": "uIkvqBGiQ26y",
        "outputId": "92e789f3-436c-4e36-c981-695978f44ee5"
      },
      "execution_count": null,
      "outputs": [
        {
          "output_type": "stream",
          "name": "stdout",
          "text": [
            "Text: Incisive comic Jen Kirkman gets real about women's bodies, the value of alone time and an Italian private tour guide who may have been a ghost.\n",
            "Tokens: [40345, 285, 535, 20303, 25937, 32446, 1543, 5334, 1972, 922, 3278, 596, 13162, 11, 279, 907, 315, 7636, 892, 323, 459, 15155, 879, 7364, 8641, 889, 1253, 617, 1027, 264, 20457, 13]\n",
            "\n",
            "Text: The Pope is disturbed by the fact that today's youth are not as spiritually inclined as they should be, and so he decides to set up a Vatican television station and entice them back into the religion of their ancestors. In order to particularly grab the wandering flock, a priest invites the comedians from \"The Other Sunday,\" an actual comedy program on Italian television, to perform on this new channel. He sets up a show that parodies an over-the-hill transvestite group, the Flagg Sisters, played by themselves. This understandably upsets one of the more eminent Cardinals who tries every means he can to stop the show. Nothing succeeds, and he can only assemble with all the other devout men of God to view the first live broadcast. Worked into the plot are several outrageously incongruous scenes that casually juxtapose the secular and sacred, including God at the wheel of a Fiat - what else would He drive?\n",
            "Tokens: [791, 30460, 374, 56507, 555, 279, 2144, 430, 3432, 596, 12822, 527, 539, 439, 88853, 43131, 439, 814, 1288, 387, 11, 323, 779, 568, 28727, 311, 743, 709, 264, 47647, 12707, 8216, 323, 1218, 560, 1124, 1203, 1139, 279, 13901, 315, 872, 38618, 13, 763, 2015, 311, 8104, 11894, 279, 55063, 49816, 11, 264, 28185, 45510, 279, 63113, 5493, 505, 330, 791, 7089, 7418, 1359, 459, 5150, 23160, 2068, 389, 15155, 12707, 11, 311, 2804, 389, 420, 502, 5613, 13, 1283, 7437, 709, 264, 1501, 430, 1370, 10233, 459, 927, 10826, 2902, 484, 1380, 7164, 635, 1912, 11, 279, 3061, 16094, 62088, 11, 6476, 555, 5694, 13, 1115, 88098, 709, 5022, 832, 315, 279, 810, 84629, 44427, 889, 16696, 1475, 3445, 568, 649, 311, 3009, 279, 1501, 13, 12334, 51181, 11, 323, 568, 649, 1193, 42840, 449, 682, 279, 1023, 95662, 3026, 315, 4359, 311, 1684, 279, 1176, 3974, 13195, 13, 5664, 291, 1139, 279, 7234, 527, 3892, 30229, 7162, 28093, 911, 9373, 16451, 430, 65714, 98953, 974, 279, 37019, 323, 32442, 11, 2737, 4359, 520, 279, 13587, 315, 264, 70399, 482, 1148, 775, 1053, 1283, 6678, 30]\n",
            "\n",
            "Text: Arriving at a distant town, a businessman decides to take the identity of a passenger who died during the bus trip.\n",
            "Tokens: [9014, 2299, 520, 264, 29827, 6424, 11, 264, 47378, 28727, 311, 1935, 279, 9764, 315, 264, 24023, 889, 8636, 2391, 279, 5951, 8577, 13]\n",
            "\n"
          ]
        }
      ]
    },
    {
      "cell_type": "code",
      "source": [
        "from itertools import chain\n",
        "flattened = list(chain.from_iterable(tokenized))\n",
        "print(len(flattened))\n",
        "print(len(list(set(flattened)))) # vocab size for the first 3 examples = 214"
      ],
      "metadata": {
        "colab": {
          "base_uri": "https://localhost:8080/"
        },
        "id": "pNbDowP9SS57",
        "outputId": "e7a8446f-6a41-4cf0-c3d3-9ef340549998"
      },
      "execution_count": null,
      "outputs": [
        {
          "output_type": "stream",
          "name": "stdout",
          "text": [
            "244\n",
            "170\n"
          ]
        }
      ]
    },
    {
      "cell_type": "code",
      "source": [
        "train_tokenized = [enc.encode(text) for text in X_train.values]"
      ],
      "metadata": {
        "id": "89zVozCfSOSi"
      },
      "execution_count": null,
      "outputs": []
    },
    {
      "cell_type": "code",
      "source": [
        "test_tokenized = [enc.encode(text) for text in X_test.values]"
      ],
      "metadata": {
        "id": "iXgDZNxqJ4E_"
      },
      "execution_count": null,
      "outputs": []
    },
    {
      "cell_type": "code",
      "source": [
        "for i, text in enumerate(test_tokenized[:3]):\n",
        "  print(f\"Text: {X_test.values[i]}\")\n",
        "  print(f\"Tokens: {test_tokenized[i]}\\n\") # 374 seems to be \"is\""
      ],
      "metadata": {
        "colab": {
          "base_uri": "https://localhost:8080/"
        },
        "id": "c5P_CfAGKOUA",
        "outputId": "3fe8f73a-6e1d-45e7-bf8c-0e2f48d1ccf8"
      },
      "execution_count": null,
      "outputs": [
        {
          "output_type": "stream",
          "name": "stdout",
          "text": [
            "Text: \"Master Harold\" is what the black employees are ordered to call young Hally, the son of a well-to-do white couple who own a fashionable tea room. Hally wanders into the establishment one day and sees two black male workers practicing for an upcoming ballroom competition by dancing together. The two employees and Hally exchange kidding rebukes, not meant to offend anyone. But after Hally receives some bad news about his father, he takes out his anger upon the workers. Efforts to smooth out the situation erupt into an all-out racial conflict.\n",
            "Tokens: [1, 18532, 53215, 1, 374, 1148, 279, 3776, 8420, 527, 11713, 311, 1650, 3995, 473, 750, 11, 279, 4538, 315, 264, 1664, 4791, 30659, 4251, 5743, 889, 1866, 264, 60423, 15600, 3130, 13, 473, 750, 29810, 388, 1139, 279, 21967, 832, 1938, 323, 16008, 1403, 3776, 8762, 7487, 36666, 369, 459, 14827, 5041, 3039, 10937, 555, 29066, 3871, 13, 578, 1403, 8420, 323, 473, 750, 9473, 56825, 12646, 65850, 11, 539, 8967, 311, 85086, 5606, 13, 2030, 1306, 473, 750, 21879, 1063, 3958, 3754, 922, 813, 7126, 11, 568, 5097, 704, 813, 19788, 5304, 279, 7487, 13, 31122, 19491, 311, 11113, 704, 279, 6671, 44779, 1139, 459, 682, 9994, 19739, 12324, 13]\n",
            "\n",
            "Text: Phil Spector is a pioneer of American music, a legendary producer to John Lennon and Tina Turner, and, as of April 13th 2009, a convicted murderer. Yet the Spector who appears in Vikram Jayanti's documentary is not the severe, outlandishly coiffed defendant seen in sensationalistic accounts of his trial, but a charming, savvy music executive with a generous, but arguably accurate, estimation of his place in the history of popular music.\n",
            "Tokens: [30690, 328, 19534, 374, 264, 54047, 315, 3778, 4731, 11, 264, 28812, 17276, 311, 3842, 80840, 323, 64787, 34131, 11, 323, 11, 439, 315, 5936, 220, 1032, 339, 220, 1049, 24, 11, 264, 23959, 69066, 13, 14968, 279, 328, 19534, 889, 8111, 304, 29476, 2453, 19455, 15719, 596, 25999, 374, 539, 279, 15748, 11, 704, 1974, 65923, 1080, 3168, 291, 26884, 3970, 304, 68503, 4633, 9815, 315, 813, 9269, 11, 719, 264, 35509, 11, 64828, 4731, 11145, 449, 264, 28771, 11, 719, 36659, 13687, 11, 42304, 315, 813, 2035, 304, 279, 3925, 315, 5526, 4731, 13]\n",
            "\n",
            "Text: A small business owner is about to lose her shop to a major corporate development.\n",
            "Tokens: [32, 2678, 2626, 6506, 374, 922, 311, 9229, 1077, 8221, 311, 264, 3682, 13166, 4500, 13]\n",
            "\n"
          ]
        }
      ]
    },
    {
      "cell_type": "code",
      "source": [
        "len(train_tokenized), len(test_tokenized)"
      ],
      "metadata": {
        "colab": {
          "base_uri": "https://localhost:8080/"
        },
        "id": "RZFbN9lAWprC",
        "outputId": "16051365-fe86-4a08-f147-d916139f45d3"
      },
      "execution_count": null,
      "outputs": [
        {
          "output_type": "execute_result",
          "data": {
            "text/plain": [
              "(11242, 2811)"
            ]
          },
          "metadata": {},
          "execution_count": 66
        }
      ]
    },
    {
      "cell_type": "code",
      "source": [
        "flattened = list(chain.from_iterable(train_tokenized + test_tokenized)) # both set's vocab\n",
        "print(len(flattened))\n",
        "vocab_size = len(list(set(flattened)))\n",
        "print(vocab_size)\n",
        "vocab_size = vocab_size + 2# 1 for <PAD> and 1 for <CLS>\n",
        "print(vocab_size) # vocab size for the first 3 examples = 34004, 4k smaller than tfidf's"
      ],
      "metadata": {
        "colab": {
          "base_uri": "https://localhost:8080/"
        },
        "id": "LAwYJsWFRUy8",
        "outputId": "ca262518-6051-4f6b-a529-1cc2e2d94406"
      },
      "execution_count": null,
      "outputs": [
        {
          "output_type": "stream",
          "name": "stdout",
          "text": [
            "986245\n",
            "36220\n",
            "36222\n"
          ]
        }
      ]
    },
    {
      "cell_type": "code",
      "source": [
        "# construct the one-hot matrix of shape (corpus size, vocab size) only to show frequency, can't train sth this sparse\n",
        "itok = {idx:token for idx,token in enumerate(pd.Series(flattened).sort_values().unique().tolist())}\n",
        "itok[vocab_size-2] = \"<PAD>\"\n",
        "itok[vocab_size-1] = \"<CLS>\"\n",
        "toki = {token:idx for idx, token in itok.items()}"
      ],
      "metadata": {
        "id": "MeW1q4dSSeWU"
      },
      "execution_count": null,
      "outputs": []
    },
    {
      "cell_type": "code",
      "source": [
        "hold = []\n",
        "for text in train_tokenized:\n",
        "  hold.append([toki[\"<CLS>\"]] + [toki[tok] for tok in text])"
      ],
      "metadata": {
        "id": "V4lMidZNpLot"
      },
      "execution_count": null,
      "outputs": []
    },
    {
      "cell_type": "code",
      "source": [
        "# do same thing for test set\n",
        "test_hold = []\n",
        "for text in test_tokenized:\n",
        "  test_hold.append([toki[\"<CLS>\"]] + [toki[tok] for tok in text])"
      ],
      "metadata": {
        "id": "4CbUFXC3KkFO"
      },
      "execution_count": null,
      "outputs": []
    },
    {
      "cell_type": "code",
      "source": [
        "corpus_size = len(list(set(flattened))) # stats of train set\n",
        "embedding_trainmat = np.zeros((len(train_tokenized),corpus_size)) # then imshow this by genre\n",
        "for i, text in enumerate(train_tokenized):\n",
        "  if i % 1000 == 0:\n",
        "    print(i)\n",
        "  for tok in text:\n",
        "    embedding_trainmat[i,toki[tok]] += 1"
      ],
      "metadata": {
        "colab": {
          "base_uri": "https://localhost:8080/"
        },
        "id": "n__Zlmf3WH4O",
        "outputId": "166fc58f-6436-49b0-8c02-f76c4340c3af"
      },
      "execution_count": null,
      "outputs": [
        {
          "output_type": "stream",
          "name": "stdout",
          "text": [
            "0\n",
            "1000\n",
            "2000\n",
            "3000\n",
            "4000\n",
            "5000\n",
            "6000\n",
            "7000\n",
            "8000\n",
            "9000\n",
            "10000\n",
            "11000\n"
          ]
        }
      ]
    },
    {
      "cell_type": "code",
      "source": [
        "# quick sanity test\n",
        "print(len(train_tokenized[0]))\n",
        "print(embedding_trainmat[0,:].sum())"
      ],
      "metadata": {
        "colab": {
          "base_uri": "https://localhost:8080/"
        },
        "id": "4h7LKRaJaLOb",
        "outputId": "ef21e575-7a73-46c4-a809-b23f4400b420"
      },
      "execution_count": null,
      "outputs": [
        {
          "output_type": "stream",
          "name": "stdout",
          "text": [
            "32\n",
            "32.0\n"
          ]
        }
      ]
    },
    {
      "cell_type": "code",
      "source": [
        "trainmat = pd.DataFrame(embedding_trainmat,columns=pd.Series(flattened).sort_values().unique())\n",
        "trainmat.shape"
      ],
      "metadata": {
        "colab": {
          "base_uri": "https://localhost:8080/"
        },
        "id": "rwZ-QxqRb2n1",
        "outputId": "7873ef02-a347-455b-d8db-bfbe53fe7362"
      },
      "execution_count": null,
      "outputs": [
        {
          "output_type": "execute_result",
          "data": {
            "text/plain": [
              "(11242, 36220)"
            ]
          },
          "metadata": {},
          "execution_count": 75
        }
      ]
    },
    {
      "cell_type": "code",
      "source": [
        "trainmat[\"genre\"] = y_train\n",
        "aggs = trainmat.groupby(\"genre\").sum().reset_index().set_index(\"genre\") # mean?"
      ],
      "metadata": {
        "id": "qifHMCwmcUFO"
      },
      "execution_count": null,
      "outputs": []
    },
    {
      "cell_type": "code",
      "source": [
        "from matplotlib.colors import LogNorm\n",
        "plt.figure(figsize=(15,5))\n",
        "plt.imshow(aggs,aspect=\"auto\",cmap=\"inferno\",norm=LogNorm(vmin=1, vmax=12165))\n",
        "plt.colorbar()\n",
        "plt.yticks(ticks=np.arange(0,label_enc2.classes_.shape[0]),labels=label_enc2.classes_);\n",
        "# white is 0, comedy, drama and documentary are most expressive in token space corresponding to the boxplot above\n",
        "# the less \"expressive\" are fantasy, tvmovie, war"
      ],
      "metadata": {
        "colab": {
          "base_uri": "https://localhost:8080/",
          "height": 431
        },
        "id": "w7-WtrfSeNSg",
        "outputId": "d2644e43-0fca-4b99-eaf8-c8bbfebe04e6"
      },
      "execution_count": null,
      "outputs": [
        {
          "output_type": "display_data",
          "data": {
            "text/plain": [
              "<Figure size 1500x500 with 2 Axes>"
            ],
            "image/png": "[encoded data removed]"
          },
          "metadata": {}
        }
      ]
    },
    {
      "cell_type": "code",
      "source": [
        "# check what the brightest tokens are => this shows up a lot almost univerally in all genres, also class imbalance"
      ],
      "metadata": {
        "id": "tPGjGVRRl_BF"
      },
      "execution_count": null,
      "outputs": []
    },
    {
      "cell_type": "code",
      "source": [
        "# skip over the embedding step now and use sentence bert, we'll train the model from scratch later\n",
        "from sentence_transformers import SentenceTransformer\n",
        "model = SentenceTransformer('paraphrase-MiniLM-L6-v2')\n",
        "trans_embeddings = model.encode(X_train.values)"
      ],
      "metadata": {
        "id": "pmXDy_0_bBAW",
        "colab": {
          "base_uri": "https://localhost:8080/",
          "height": 369,
          "referenced_widgets": [
            "466cc109ee6341baa832c42e3bbe73df",
            "d870ef7ac0634ef086396995347ba689",
            "e3abace0b7544e86991a662aedfcd886",
            "436ac93ed296446b821b87a54f7c3af9",
            "f38f81ca5d5e478f803e20bbd2cef8f2",
            "f08313adf5804cdfa144910dbd4ac7db",
            "c2e41a2b7dc84cbeb0e456e887759547",
            "2595726b57b14854bafd4f5713bd8ee5",
            "deff44f6e36844a0a61d41a69b9f6089",
            "56cc8e67c9cb40fcb99207e2cb713aa9",
            "a940f0b9ab7e4edab3f52beea8571fd0",
            "6d8602cbe55b4aeea8a8e732fb12c848",
            "a3a96caedf8e47678b408bdde549403e",
            "1bc58ce021ae47038f6a5e184906d0ac",
            "bc6888f00e074a56941f8b7c6e286381",
            "dfd2cdb67cd94df59ed4cd43771cb416",
            "40d430fed8074b49b4386064163332e9",
            "8fb90ac171d24b25807b33216184c8c4",
            "faa1e458b6674b55850fed8a91739e7e",
            "de09f6ef6ad041bda0669d34e7a0d65d",
            "bd84673c9e1b41c583b6ad18ba2d0698",
            "a67d7613b2894b8fad040c26be819488",
            "641c26dcbf6948faa34ba1e131436b72",
            "c11e88e591834fddbc9fb84975998b71",
            "c6dcb370c1ce47b5a4d0d46a2235bee3",
            "73e2cd358a5346a3b4d6445b1523a44d",
            "4d089805a31247f08f2f298a25aff2c6",
            "39961d13835e41659c9b7afb1463775c",
            "745c237131e4458e8d7c7737bfbc7e70",
            "2730d0f6a6ea46efbb40118680301b72",
            "ba4d416f5c674c40aa6964635846379d",
            "7fb911edac804315a96a1e1d5914eb5c",
            "2fddc492988441a09b96041414e46708",
            "dc3d4f3ba9fc4698b5991b3cc52bd4d7",
            "0cff01ba450f4f97888aa424817e0834",
            "0f4edf2c40f94bfca3f74fdd4420c969",
            "547893d7c88341fba45b7c0fc825f43b",
            "67cdc9d1fec9449198f666b263037ba4",
            "6f43e1cf16b04b69a27a3effce9ce533",
            "3c39ab418dd64e0d996339edfd7cfd69",
            "638147393bc7475cb5bc8848fcc95c13",
            "659c04f5a05342b59eb164daba07d9ef",
            "2aba8dc8a8484523ad63617717b1a56b",
            "5d715c2d3c2d4966a60a8ab57160132a",
            "62c15015546343cdbf0dbbf78bf76990",
            "f8a69044e8bc4d12ae83ddf1f407decd",
            "5464fd0177df479581c706a92a6a98e6",
            "9501ff01b9fa47c2af1d73517492e81b",
            "6563069d78ac453ba58fca88cd366d92",
            "da273f1223ef49d5ae3e8fb77d2bfd03",
            "c13b0daa23974aa28083b88bd4748430",
            "8c05a8db7dbc4ce29af34bb562418718",
            "fdee98d52db949dbb3db0795bf74b8a5",
            "f496778af3ab40a08f18c8187db12ea8",
            "5915c31fb8f5417d82f0aa711920c86d",
            "a35c846c19f94cd3a84b1f9325b1ed61",
            "305f50bf1f19444aa0a1b75fc7c87b10",
            "322b259c5c6b4690abe178b320de7db5",
            "87ba7302f0584565b61a5ea2bec472d2",
            "8348b1529f6b4daebb3fd83fd931543c",
            "a84901bb19704620ac6bca61ddd341b8",
            "78ea53740ec54c0e8c0357b0dd13d3fc",
            "7871c7977f194a488fced6807cccebdc",
            "fdfa85bb322d44728f27aefc42474de9",
            "4ece1a04fa274d608feb72cf60fdd2bd",
            "fbcc8b41b9f3432c9adda681ae94dae5",
            "3db0dbd8f50c4a7fb4bd38ca1d85e2ac",
            "cbddb483705947ca94d7450161830be4",
            "23cc9d8b197243bcae0c8842f0227be8",
            "4f086a6e8be942f9b64bd948ed804f25",
            "15b46c20f7ce4679a8377de74a3f0918",
            "7053c97778a94c6d9f1593516ef015e1",
            "c0f446a4e1c84a1dac9faa329b85cc19",
            "b57397e10a684defa3de11df8f6b0d90",
            "7eac38c31a0648ccad85a985bf96f03b",
            "548359e685824cfc9aee60cecfe9d20e",
            "53dcd02375cb45d4922f4183ee4d38ef",
            "c9fc542daa264691a4fdc1a31ae5bc8d",
            "d7c156da82464bd49b6e101e252e6d60",
            "a10721dd6a7141219ec8aad4c93f5973",
            "300d28717d5641b8b7ee951e02f3e723",
            "1653e4961cdd431f82c762eb28d99f88",
            "b029e2441c10408ab537ac302d4377b6",
            "a59bb8c4ccbc44d6ae29b471bcc1849f",
            "3fcaa889fc7d46e68783ad13dc21001a",
            "de4ad428cf5e4587896916318810a16c",
            "81653ff9b7fe4bd7968fb780f194d0ec",
            "9f5538e4433740bf8aa0f224d67beb4f",
            "9f4d78e889164b729ec206038f875025",
            "c10a7f05238845f0a525aa139f8ef0e0",
            "620ee60aee604bd3b5254c4d475d407c",
            "e5a3fb45b30d4d0dbaace93168b6c4c7",
            "f9a0299f4d5c46c5984fdc2c6c148a27",
            "9c306df1e99949b998f158f0bb20e99b",
            "43eaffd352f841a78765ec03fc13085f",
            "49af95ec353d41aebea574a0c5c810b5",
            "3aecdd51cab14afc886f4f53ac73a871",
            "04d974951cff48dc8475476e3c2cd654",
            "0f32ff5873884171a0e1281b53d81715",
            "11b193722f904e92b536d6cf74361708",
            "de1688dabab24d24a1b7a6dd73f006a7",
            "f3b93f775698495a877721cb3400c8cf",
            "bed84fff9c5d453aa3dcce47ce0806bd",
            "cab4f50212ef4298b004567e66368e83",
            "a94befb250f64967909480e29fb6cc46",
            "94ffbd7b3b35417f83bed713bd5f8c45",
            "b85fd24e86af4d969a55e81d096c28d3",
            "f3fac535070941aba68dc3a6e748937e",
            "c0a0785293c247b0acc05888b2c00829",
            "19922515128e414780e512dc416711fe",
            "662bc4c89bf04ba69d2735637ce1ac41",
            "30d486f8f23f497f90da9d4111717957",
            "3047ed6debd04209a079d66067514018",
            "204f63ae1829408bb0256d04c9292052",
            "d244cef110f24716b64488f8e855af4e",
            "eafa0c42c5f54e1a90518470191dc30e",
            "89b59b5e4e9f42c198f24aa3ab982486",
            "7de3b30ac45647f7b24a7f1d73f57440",
            "b8c15ef192eb468fa51856c749181f00",
            "282366ef955a4d90a0785a7fc9b85f54",
            "bfb38368ee574810bec73b4829c4d084"
          ]
        },
        "outputId": "3d9e5c24-2696-4666-c68d-334853a7f9ef"
      },
      "execution_count": null,
      "outputs": [
        {
          "output_type": "display_data",
          "data": {
            "text/plain": [
              "modules.json:   0%|          | 0.00/229 [00:00<?, ?B/s]"
            ],
            "application/vnd.jupyter.widget-view+json": {
              "version_major": 2,
              "version_minor": 0,
              "model_id": "466cc109ee6341baa832c42e3bbe73df"
            }
          },
          "metadata": {}
        },
        {
          "output_type": "display_data",
          "data": {
            "text/plain": [
              "config_sentence_transformers.json:   0%|          | 0.00/122 [00:00<?, ?B/s]"
            ],
            "application/vnd.jupyter.widget-view+json": {
              "version_major": 2,
              "version_minor": 0,
              "model_id": "6d8602cbe55b4aeea8a8e732fb12c848"
            }
          },
          "metadata": {}
        },
        {
          "output_type": "display_data",
          "data": {
            "text/plain": [
              "README.md:   0%|          | 0.00/3.73k [00:00<?, ?B/s]"
            ],
            "application/vnd.jupyter.widget-view+json": {
              "version_major": 2,
              "version_minor": 0,
              "model_id": "641c26dcbf6948faa34ba1e131436b72"
            }
          },
          "metadata": {}
        },
        {
          "output_type": "display_data",
          "data": {
            "text/plain": [
              "sentence_bert_config.json:   0%|          | 0.00/53.0 [00:00<?, ?B/s]"
            ],
            "application/vnd.jupyter.widget-view+json": {
              "version_major": 2,
              "version_minor": 0,
              "model_id": "dc3d4f3ba9fc4698b5991b3cc52bd4d7"
            }
          },
          "metadata": {}
        },
        {
          "output_type": "display_data",
          "data": {
            "text/plain": [
              "config.json:   0%|          | 0.00/629 [00:00<?, ?B/s]"
            ],
            "application/vnd.jupyter.widget-view+json": {
              "version_major": 2,
              "version_minor": 0,
              "model_id": "62c15015546343cdbf0dbbf78bf76990"
            }
          },
          "metadata": {}
        },
        {
          "output_type": "display_data",
          "data": {
            "text/plain": [
              "model.safetensors:   0%|          | 0.00/90.9M [00:00<?, ?B/s]"
            ],
            "application/vnd.jupyter.widget-view+json": {
              "version_major": 2,
              "version_minor": 0,
              "model_id": "a35c846c19f94cd3a84b1f9325b1ed61"
            }
          },
          "metadata": {}
        },
        {
          "output_type": "display_data",
          "data": {
            "text/plain": [
              "tokenizer_config.json:   0%|          | 0.00/314 [00:00<?, ?B/s]"
            ],
            "application/vnd.jupyter.widget-view+json": {
              "version_major": 2,
              "version_minor": 0,
              "model_id": "3db0dbd8f50c4a7fb4bd38ca1d85e2ac"
            }
          },
          "metadata": {}
        },
        {
          "output_type": "display_data",
          "data": {
            "text/plain": [
              "vocab.txt:   0%|          | 0.00/232k [00:00<?, ?B/s]"
            ],
            "application/vnd.jupyter.widget-view+json": {
              "version_major": 2,
              "version_minor": 0,
              "model_id": "c9fc542daa264691a4fdc1a31ae5bc8d"
            }
          },
          "metadata": {}
        },
        {
          "output_type": "display_data",
          "data": {
            "text/plain": [
              "tokenizer.json:   0%|          | 0.00/466k [00:00<?, ?B/s]"
            ],
            "application/vnd.jupyter.widget-view+json": {
              "version_major": 2,
              "version_minor": 0,
              "model_id": "9f4d78e889164b729ec206038f875025"
            }
          },
          "metadata": {}
        },
        {
          "output_type": "display_data",
          "data": {
            "text/plain": [
              "special_tokens_map.json:   0%|          | 0.00/112 [00:00<?, ?B/s]"
            ],
            "application/vnd.jupyter.widget-view+json": {
              "version_major": 2,
              "version_minor": 0,
              "model_id": "11b193722f904e92b536d6cf74361708"
            }
          },
          "metadata": {}
        },
        {
          "output_type": "display_data",
          "data": {
            "text/plain": [
              "1_Pooling/config.json:   0%|          | 0.00/190 [00:00<?, ?B/s]"
            ],
            "application/vnd.jupyter.widget-view+json": {
              "version_major": 2,
              "version_minor": 0,
              "model_id": "662bc4c89bf04ba69d2735637ce1ac41"
            }
          },
          "metadata": {}
        }
      ]
    },
    {
      "cell_type": "code",
      "source": [
        "trans_embeddings.shape"
      ],
      "metadata": {
        "colab": {
          "base_uri": "https://localhost:8080/"
        },
        "id": "VOZhwNoHtSSD",
        "outputId": "5d925d59-b547-4194-e436-fb63fe9c9de0"
      },
      "execution_count": null,
      "outputs": [
        {
          "output_type": "execute_result",
          "data": {
            "text/plain": [
              "(11247, 384)"
            ]
          },
          "metadata": {},
          "execution_count": 50
        }
      ]
    },
    {
      "cell_type": "code",
      "source": [
        "logreg2 = LogisticRegression()\n",
        "logreg2.fit(trans_embeddings,y_train)"
      ],
      "metadata": {
        "colab": {
          "base_uri": "https://localhost:8080/",
          "height": 80
        },
        "id": "s1XcjM-6tZOz",
        "outputId": "dc6850b4-a34a-4681-ebc0-9bee8d9641ab"
      },
      "execution_count": null,
      "outputs": [
        {
          "output_type": "execute_result",
          "data": {
            "text/plain": [
              "LogisticRegression()"
            ],
            "text/html": [
              "<style>#sk-container-id-2 {\n",
              "  /* Definition of color scheme common for light and dark mode */\n",
              "  --sklearn-color-text: black;\n",
              "  --sklearn-color-line: gray;\n",
              "  /* Definition of color scheme for unfitted estimators */\n",
              "  --sklearn-color-unfitted-level-0: #fff5e6;\n",
              "  --sklearn-color-unfitted-level-1: #f6e4d2;\n",
              "  --sklearn-color-unfitted-level-2: #ffe0b3;\n",
              "  --sklearn-color-unfitted-level-3: chocolate;\n",
              "  /* Definition of color scheme for fitted estimators */\n",
              "  --sklearn-color-fitted-level-0: #f0f8ff;\n",
              "  --sklearn-color-fitted-level-1: #d4ebff;\n",
              "  --sklearn-color-fitted-level-2: #b3dbfd;\n",
              "  --sklearn-color-fitted-level-3: cornflowerblue;\n",
              "\n",
              "  /* Specific color for light theme */\n",
              "  --sklearn-color-text-on-default-background: var(--sg-text-color, var(--theme-code-foreground, var(--jp-content-font-color1, black)));\n",
              "  --sklearn-color-background: var(--sg-background-color, var(--theme-background, var(--jp-layout-color0, white)));\n",
              "  --sklearn-color-border-box: var(--sg-text-color, var(--theme-code-foreground, var(--jp-content-font-color1, black)));\n",
              "  --sklearn-color-icon: #696969;\n",
              "\n",
              "  @media (prefers-color-scheme: dark) {\n",
              "    /* Redefinition of color scheme for dark theme */\n",
              "    --sklearn-color-text-on-default-background: var(--sg-text-color, var(--theme-code-foreground, var(--jp-content-font-color1, white)));\n",
              "    --sklearn-color-background: var(--sg-background-color, var(--theme-background, var(--jp-layout-color0, #111)));\n",
              "    --sklearn-color-border-box: var(--sg-text-color, var(--theme-code-foreground, var(--jp-content-font-color1, white)));\n",
              "    --sklearn-color-icon: #878787;\n",
              "  }\n",
              "}\n",
              "\n",
              "#sk-container-id-2 {\n",
              "  color: var(--sklearn-color-text);\n",
              "}\n",
              "\n",
              "#sk-container-id-2 pre {\n",
              "  padding: 0;\n",
              "}\n",
              "\n",
              "#sk-container-id-2 input.sk-hidden--visually {\n",
              "  border: 0;\n",
              "  clip: rect(1px 1px 1px 1px);\n",
              "  clip: rect(1px, 1px, 1px, 1px);\n",
              "  height: 1px;\n",
              "  margin: -1px;\n",
              "  overflow: hidden;\n",
              "  padding: 0;\n",
              "  position: absolute;\n",
              "  width: 1px;\n",
              "}\n",
              "\n",
              "#sk-container-id-2 div.sk-dashed-wrapped {\n",
              "  border: 1px dashed var(--sklearn-color-line);\n",
              "  margin: 0 0.4em 0.5em 0.4em;\n",
              "  box-sizing: border-box;\n",
              "  padding-bottom: 0.4em;\n",
              "  background-color: var(--sklearn-color-background);\n",
              "}\n",
              "\n",
              "#sk-container-id-2 div.sk-container {\n",
              "  /* jupyter's `normalize.less` sets `[hidden] { display: none; }`\n",
              "     but bootstrap.min.css set `[hidden] { display: none !important; }`\n",
              "     so we also need the `!important` here to be able to override the\n",
              "     default hidden behavior on the sphinx rendered scikit-learn.org.\n",
              "     See: https://github.com/scikit-learn/scikit-learn/issues/21755 */\n",
              "  display: inline-block !important;\n",
              "  position: relative;\n",
              "}\n",
              "\n",
              "#sk-container-id-2 div.sk-text-repr-fallback {\n",
              "  display: none;\n",
              "}\n",
              "\n",
              "div.sk-parallel-item,\n",
              "div.sk-serial,\n",
              "div.sk-item {\n",
              "  /* draw centered vertical line to link estimators */\n",
              "  background-image: linear-gradient(var(--sklearn-color-text-on-default-background), var(--sklearn-color-text-on-default-background));\n",
              "  background-size: 2px 100%;\n",
              "  background-repeat: no-repeat;\n",
              "  background-position: center center;\n",
              "}\n",
              "\n",
              "/* Parallel-specific style estimator block */\n",
              "\n",
              "#sk-container-id-2 div.sk-parallel-item::after {\n",
              "  content: \"\";\n",
              "  width: 100%;\n",
              "  border-bottom: 2px solid var(--sklearn-color-text-on-default-background);\n",
              "  flex-grow: 1;\n",
              "}\n",
              "\n",
              "#sk-container-id-2 div.sk-parallel {\n",
              "  display: flex;\n",
              "  align-items: stretch;\n",
              "  justify-content: center;\n",
              "  background-color: var(--sklearn-color-background);\n",
              "  position: relative;\n",
              "}\n",
              "\n",
              "#sk-container-id-2 div.sk-parallel-item {\n",
              "  display: flex;\n",
              "  flex-direction: column;\n",
              "}\n",
              "\n",
              "#sk-container-id-2 div.sk-parallel-item:first-child::after {\n",
              "  align-self: flex-end;\n",
              "  width: 50%;\n",
              "}\n",
              "\n",
              "#sk-container-id-2 div.sk-parallel-item:last-child::after {\n",
              "  align-self: flex-start;\n",
              "  width: 50%;\n",
              "}\n",
              "\n",
              "#sk-container-id-2 div.sk-parallel-item:only-child::after {\n",
              "  width: 0;\n",
              "}\n",
              "\n",
              "/* Serial-specific style estimator block */\n",
              "\n",
              "#sk-container-id-2 div.sk-serial {\n",
              "  display: flex;\n",
              "  flex-direction: column;\n",
              "  align-items: center;\n",
              "  background-color: var(--sklearn-color-background);\n",
              "  padding-right: 1em;\n",
              "  padding-left: 1em;\n",
              "}\n",
              "\n",
              "\n",
              "/* Toggleable style: style used for estimator/Pipeline/ColumnTransformer box that is\n",
              "clickable and can be expanded/collapsed.\n",
              "- Pipeline and ColumnTransformer use this feature and define the default style\n",
              "- Estimators will overwrite some part of the style using the `sk-estimator` class\n",
              "*/\n",
              "\n",
              "/* Pipeline and ColumnTransformer style (default) */\n",
              "\n",
              "#sk-container-id-2 div.sk-toggleable {\n",
              "  /* Default theme specific background. It is overwritten whether we have a\n",
              "  specific estimator or a Pipeline/ColumnTransformer */\n",
              "  background-color: var(--sklearn-color-background);\n",
              "}\n",
              "\n",
              "/* Toggleable label */\n",
              "#sk-container-id-2 label.sk-toggleable__label {\n",
              "  cursor: pointer;\n",
              "  display: block;\n",
              "  width: 100%;\n",
              "  margin-bottom: 0;\n",
              "  padding: 0.5em;\n",
              "  box-sizing: border-box;\n",
              "  text-align: center;\n",
              "}\n",
              "\n",
              "#sk-container-id-2 label.sk-toggleable__label-arrow:before {\n",
              "  /* Arrow on the left of the label */\n",
              "  content: \"▸\";\n",
              "  float: left;\n",
              "  margin-right: 0.25em;\n",
              "  color: var(--sklearn-color-icon);\n",
              "}\n",
              "\n",
              "#sk-container-id-2 label.sk-toggleable__label-arrow:hover:before {\n",
              "  color: var(--sklearn-color-text);\n",
              "}\n",
              "\n",
              "/* Toggleable content - dropdown */\n",
              "\n",
              "#sk-container-id-2 div.sk-toggleable__content {\n",
              "  max-height: 0;\n",
              "  max-width: 0;\n",
              "  overflow: hidden;\n",
              "  text-align: left;\n",
              "  /* unfitted */\n",
              "  background-color: var(--sklearn-color-unfitted-level-0);\n",
              "}\n",
              "\n",
              "#sk-container-id-2 div.sk-toggleable__content.fitted {\n",
              "  /* fitted */\n",
              "  background-color: var(--sklearn-color-fitted-level-0);\n",
              "}\n",
              "\n",
              "#sk-container-id-2 div.sk-toggleable__content pre {\n",
              "  margin: 0.2em;\n",
              "  border-radius: 0.25em;\n",
              "  color: var(--sklearn-color-text);\n",
              "  /* unfitted */\n",
              "  background-color: var(--sklearn-color-unfitted-level-0);\n",
              "}\n",
              "\n",
              "#sk-container-id-2 div.sk-toggleable__content.fitted pre {\n",
              "  /* unfitted */\n",
              "  background-color: var(--sklearn-color-fitted-level-0);\n",
              "}\n",
              "\n",
              "#sk-container-id-2 input.sk-toggleable__control:checked~div.sk-toggleable__content {\n",
              "  /* Expand drop-down */\n",
              "  max-height: 200px;\n",
              "  max-width: 100%;\n",
              "  overflow: auto;\n",
              "}\n",
              "\n",
              "#sk-container-id-2 input.sk-toggleable__control:checked~label.sk-toggleable__label-arrow:before {\n",
              "  content: \"▾\";\n",
              "}\n",
              "\n",
              "/* Pipeline/ColumnTransformer-specific style */\n",
              "\n",
              "#sk-container-id-2 div.sk-label input.sk-toggleable__control:checked~label.sk-toggleable__label {\n",
              "  color: var(--sklearn-color-text);\n",
              "  background-color: var(--sklearn-color-unfitted-level-2);\n",
              "}\n",
              "\n",
              "#sk-container-id-2 div.sk-label.fitted input.sk-toggleable__control:checked~label.sk-toggleable__label {\n",
              "  background-color: var(--sklearn-color-fitted-level-2);\n",
              "}\n",
              "\n",
              "/* Estimator-specific style */\n",
              "\n",
              "/* Colorize estimator box */\n",
              "#sk-container-id-2 div.sk-estimator input.sk-toggleable__control:checked~label.sk-toggleable__label {\n",
              "  /* unfitted */\n",
              "  background-color: var(--sklearn-color-unfitted-level-2);\n",
              "}\n",
              "\n",
              "#sk-container-id-2 div.sk-estimator.fitted input.sk-toggleable__control:checked~label.sk-toggleable__label {\n",
              "  /* fitted */\n",
              "  background-color: var(--sklearn-color-fitted-level-2);\n",
              "}\n",
              "\n",
              "#sk-container-id-2 div.sk-label label.sk-toggleable__label,\n",
              "#sk-container-id-2 div.sk-label label {\n",
              "  /* The background is the default theme color */\n",
              "  color: var(--sklearn-color-text-on-default-background);\n",
              "}\n",
              "\n",
              "/* On hover, darken the color of the background */\n",
              "#sk-container-id-2 div.sk-label:hover label.sk-toggleable__label {\n",
              "  color: var(--sklearn-color-text);\n",
              "  background-color: var(--sklearn-color-unfitted-level-2);\n",
              "}\n",
              "\n",
              "/* Label box, darken color on hover, fitted */\n",
              "#sk-container-id-2 div.sk-label.fitted:hover label.sk-toggleable__label.fitted {\n",
              "  color: var(--sklearn-color-text);\n",
              "  background-color: var(--sklearn-color-fitted-level-2);\n",
              "}\n",
              "\n",
              "/* Estimator label */\n",
              "\n",
              "#sk-container-id-2 div.sk-label label {\n",
              "  font-family: monospace;\n",
              "  font-weight: bold;\n",
              "  display: inline-block;\n",
              "  line-height: 1.2em;\n",
              "}\n",
              "\n",
              "#sk-container-id-2 div.sk-label-container {\n",
              "  text-align: center;\n",
              "}\n",
              "\n",
              "/* Estimator-specific */\n",
              "#sk-container-id-2 div.sk-estimator {\n",
              "  font-family: monospace;\n",
              "  border: 1px dotted var(--sklearn-color-border-box);\n",
              "  border-radius: 0.25em;\n",
              "  box-sizing: border-box;\n",
              "  margin-bottom: 0.5em;\n",
              "  /* unfitted */\n",
              "  background-color: var(--sklearn-color-unfitted-level-0);\n",
              "}\n",
              "\n",
              "#sk-container-id-2 div.sk-estimator.fitted {\n",
              "  /* fitted */\n",
              "  background-color: var(--sklearn-color-fitted-level-0);\n",
              "}\n",
              "\n",
              "/* on hover */\n",
              "#sk-container-id-2 div.sk-estimator:hover {\n",
              "  /* unfitted */\n",
              "  background-color: var(--sklearn-color-unfitted-level-2);\n",
              "}\n",
              "\n",
              "#sk-container-id-2 div.sk-estimator.fitted:hover {\n",
              "  /* fitted */\n",
              "  background-color: var(--sklearn-color-fitted-level-2);\n",
              "}\n",
              "\n",
              "/* Specification for estimator info (e.g. \"i\" and \"?\") */\n",
              "\n",
              "/* Common style for \"i\" and \"?\" */\n",
              "\n",
              ".sk-estimator-doc-link,\n",
              "a:link.sk-estimator-doc-link,\n",
              "a:visited.sk-estimator-doc-link {\n",
              "  float: right;\n",
              "  font-size: smaller;\n",
              "  line-height: 1em;\n",
              "  font-family: monospace;\n",
              "  background-color: var(--sklearn-color-background);\n",
              "  border-radius: 1em;\n",
              "  height: 1em;\n",
              "  width: 1em;\n",
              "  text-decoration: none !important;\n",
              "  margin-left: 1ex;\n",
              "  /* unfitted */\n",
              "  border: var(--sklearn-color-unfitted-level-1) 1pt solid;\n",
              "  color: var(--sklearn-color-unfitted-level-1);\n",
              "}\n",
              "\n",
              ".sk-estimator-doc-link.fitted,\n",
              "a:link.sk-estimator-doc-link.fitted,\n",
              "a:visited.sk-estimator-doc-link.fitted {\n",
              "  /* fitted */\n",
              "  border: var(--sklearn-color-fitted-level-1) 1pt solid;\n",
              "  color: var(--sklearn-color-fitted-level-1);\n",
              "}\n",
              "\n",
              "/* On hover */\n",
              "div.sk-estimator:hover .sk-estimator-doc-link:hover,\n",
              ".sk-estimator-doc-link:hover,\n",
              "div.sk-label-container:hover .sk-estimator-doc-link:hover,\n",
              ".sk-estimator-doc-link:hover {\n",
              "  /* unfitted */\n",
              "  background-color: var(--sklearn-color-unfitted-level-3);\n",
              "  color: var(--sklearn-color-background);\n",
              "  text-decoration: none;\n",
              "}\n",
              "\n",
              "div.sk-estimator.fitted:hover .sk-estimator-doc-link.fitted:hover,\n",
              ".sk-estimator-doc-link.fitted:hover,\n",
              "div.sk-label-container:hover .sk-estimator-doc-link.fitted:hover,\n",
              ".sk-estimator-doc-link.fitted:hover {\n",
              "  /* fitted */\n",
              "  background-color: var(--sklearn-color-fitted-level-3);\n",
              "  color: var(--sklearn-color-background);\n",
              "  text-decoration: none;\n",
              "}\n",
              "\n",
              "/* Span, style for the box shown on hovering the info icon */\n",
              ".sk-estimator-doc-link span {\n",
              "  display: none;\n",
              "  z-index: 9999;\n",
              "  position: relative;\n",
              "  font-weight: normal;\n",
              "  right: .2ex;\n",
              "  padding: .5ex;\n",
              "  margin: .5ex;\n",
              "  width: min-content;\n",
              "  min-width: 20ex;\n",
              "  max-width: 50ex;\n",
              "  color: var(--sklearn-color-text);\n",
              "  box-shadow: 2pt 2pt 4pt #999;\n",
              "  /* unfitted */\n",
              "  background: var(--sklearn-color-unfitted-level-0);\n",
              "  border: .5pt solid var(--sklearn-color-unfitted-level-3);\n",
              "}\n",
              "\n",
              ".sk-estimator-doc-link.fitted span {\n",
              "  /* fitted */\n",
              "  background: var(--sklearn-color-fitted-level-0);\n",
              "  border: var(--sklearn-color-fitted-level-3);\n",
              "}\n",
              "\n",
              ".sk-estimator-doc-link:hover span {\n",
              "  display: block;\n",
              "}\n",
              "\n",
              "/* \"?\"-specific style due to the `<a>` HTML tag */\n",
              "\n",
              "#sk-container-id-2 a.estimator_doc_link {\n",
              "  float: right;\n",
              "  font-size: 1rem;\n",
              "  line-height: 1em;\n",
              "  font-family: monospace;\n",
              "  background-color: var(--sklearn-color-background);\n",
              "  border-radius: 1rem;\n",
              "  height: 1rem;\n",
              "  width: 1rem;\n",
              "  text-decoration: none;\n",
              "  /* unfitted */\n",
              "  color: var(--sklearn-color-unfitted-level-1);\n",
              "  border: var(--sklearn-color-unfitted-level-1) 1pt solid;\n",
              "}\n",
              "\n",
              "#sk-container-id-2 a.estimator_doc_link.fitted {\n",
              "  /* fitted */\n",
              "  border: var(--sklearn-color-fitted-level-1) 1pt solid;\n",
              "  color: var(--sklearn-color-fitted-level-1);\n",
              "}\n",
              "\n",
              "/* On hover */\n",
              "#sk-container-id-2 a.estimator_doc_link:hover {\n",
              "  /* unfitted */\n",
              "  background-color: var(--sklearn-color-unfitted-level-3);\n",
              "  color: var(--sklearn-color-background);\n",
              "  text-decoration: none;\n",
              "}\n",
              "\n",
              "#sk-container-id-2 a.estimator_doc_link.fitted:hover {\n",
              "  /* fitted */\n",
              "  background-color: var(--sklearn-color-fitted-level-3);\n",
              "}\n",
              "</style><div id=\"sk-container-id-2\" class=\"sk-top-container\"><div class=\"sk-text-repr-fallback\"><pre>LogisticRegression()</pre><b>In a Jupyter environment, please rerun this cell to show the HTML representation or trust the notebook. <br />On GitHub, the HTML representation is unable to render, please try loading this page with nbviewer.org.</b></div><div class=\"sk-container\" hidden><div class=\"sk-item\"><div class=\"sk-estimator fitted sk-toggleable\"><input class=\"sk-toggleable__control sk-hidden--visually\" id=\"sk-estimator-id-2\" type=\"checkbox\" checked><label for=\"sk-estimator-id-2\" class=\"sk-toggleable__label fitted sk-toggleable__label-arrow fitted\">&nbsp;&nbsp;LogisticRegression<a class=\"sk-estimator-doc-link fitted\" rel=\"noreferrer\" target=\"_blank\" href=\"https://scikit-learn.org/1.5/modules/generated/sklearn.linear_model.LogisticRegression.html\">?<span>Documentation for LogisticRegression</span></a><span class=\"sk-estimator-doc-link fitted\">i<span>Fitted</span></span></label><div class=\"sk-toggleable__content fitted\"><pre>LogisticRegression()</pre></div> </div></div></div></div>"
            ]
          },
          "metadata": {},
          "execution_count": 51
        }
      ]
    },
    {
      "cell_type": "code",
      "source": [
        "test_embeddings = model.encode(X_test.values)"
      ],
      "metadata": {
        "id": "3kGscOW6u5nA"
      },
      "execution_count": null,
      "outputs": []
    },
    {
      "cell_type": "code",
      "source": [
        "(logreg2.predict(test_embeddings) == y_test).mean()"
      ],
      "metadata": {
        "colab": {
          "base_uri": "https://localhost:8080/"
        },
        "id": "x1iWajlTtnAz",
        "outputId": "8e6343eb-a0a0-4bcb-995f-2ac3cfaba800"
      },
      "execution_count": null,
      "outputs": [
        {
          "output_type": "execute_result",
          "data": {
            "text/plain": [
              "0.6386913229018493"
            ]
          },
          "metadata": {},
          "execution_count": 53
        }
      ]
    },
    {
      "cell_type": "code",
      "source": [
        "plt.figure(figsize=(10,6))\n",
        "cm2 = confusion_matrix(y_test,logreg2.predict(test_embeddings))\n",
        "sns.heatmap(cm2, annot=True, fmt='d', cmap='Blues', cbar=True);"
      ],
      "metadata": {
        "colab": {
          "base_uri": "https://localhost:8080/",
          "height": 522
        },
        "id": "8YxTdxgWtyg8",
        "outputId": "8cae9c37-41ca-4b15-cda9-475e204a7f29"
      },
      "execution_count": null,
      "outputs": [
        {
          "output_type": "display_data",
          "data": {
            "text/plain": [
              "<Figure size 1000x600 with 2 Axes>"
            ],
            "image/png": "[encoded data removed]"
          },
          "metadata": {}
        }
      ]
    },
    {
      "cell_type": "code",
      "source": [
        "# train our own embeddings for the task: put through encoder-based transformer = no masking, repeat for n layers, backprop and use the final hidden presentation as embeddings\n",
        "# also let final n_embed = 384 like above. Also, we stick to logistic regression so no need to add the CLS token.... added :)\n",
        "import torch.nn as nn\n",
        "import torch\n",
        "from torch.nn import functional as F"
      ],
      "metadata": {
        "id": "78kDr_-M2fdM"
      },
      "execution_count": null,
      "outputs": []
    },
    {
      "cell_type": "code",
      "source": [
        "block_size = pd.Series([len(tok) for tok in hold]).max() # no text excedes the token limit for one sequence\n",
        "block_size"
      ],
      "metadata": {
        "colab": {
          "base_uri": "https://localhost:8080/"
        },
        "id": "n2oYWg9J4Bon",
        "outputId": "b68a2f03-6133-4db2-aa1a-e69f2c01af09"
      },
      "execution_count": null,
      "outputs": [
        {
          "output_type": "execute_result",
          "data": {
            "text/plain": [
              "418"
            ]
          },
          "metadata": {},
          "execution_count": 55
        }
      ]
    },
    {
      "cell_type": "markdown",
      "source": [
        "ToDo:\n",
        "- Masking: just broadcasting, but add condition, row i = 0 if token i = 0 in the original mask. original mask = BxT, broadcasted masks = BxTxT.\n",
        "- Optimize embedding to predict genre, only use train set.\n",
        "- last approach: fine-tune the pretrained language model.\n",
        "summarize in readme."
      ],
      "metadata": {
        "id": "cfxugLDzT2Fs"
      }
    },
    {
      "cell_type": "code",
      "source": [
        "class ScaledDotProductAttention(nn.Module):\n",
        "  def __init__(self):\n",
        "    super().__init__()\n",
        "\n",
        "  def forward(self, q,k,v, mask=None):\n",
        "    scores = q@k.transpose(-1,2) * (1.0/np.sqrt(k.size(-1)))\n",
        "    if mask != None:\n",
        "      scores = scores.masked_fill(mask==False, float(\"-inf\"))\n",
        "      # check if this is working properly\n",
        "    weights = F.softmax(scores,dim=-1)\n",
        "    attention_value = weights @ v\n",
        "    return attention_value\n",
        "\n",
        "class MultiHeadAttention(nn.Module):\n",
        "  def __init__(self,n_embed, num_head):\n",
        "    super().__init__()\n",
        "\n",
        "    assert n_embed % num_head == 0, \"verify if n_embed is divisible by num_head\"\n",
        "    self.num_head = num_head\n",
        "    self.head_size = n_embed//num_head\n",
        "    self.scores = ScaledDotProductAttention()\n",
        "    self.q = nn.Linear(n_embed, n_embed)\n",
        "    self.k = nn.Linear(n_embed, n_embed)\n",
        "    self.v = nn.Linear(n_embed, n_embed)\n",
        "\n",
        "  def forward(self,q,k,v,mask=None):\n",
        "    B,T = q.shape[:-1]\n",
        "    q = self.q(q)\n",
        "    k = self.k(k)\n",
        "    v = self.v(v)\n",
        "    q = q.view(B,T,self.num_head, self.head_size).transpose(1,2) # B,nh,T,head_size\n",
        "    k = k.view(B,T,self.num_head, self.head_size).transpose(1,2)\n",
        "    v = v.view(B,T,self.num_head, self.head_size).transpose(1,2)\n",
        "    output = self.scores(q,k,v,mask)\n",
        "    output = output.transpose(1,2).contiguous().view(B,T,self.num_head*self.head_size)\n",
        "    return output\n",
        "\n",
        "class FF(nn.Module):\n",
        "  def __init__(self,n_embed):\n",
        "    super().__init__()\n",
        "    self.fc1 = nn.Linear(n_embed, 4*n_embed)\n",
        "    self.relu = nn.ReLU()\n",
        "    self.fc2 = nn.Linear(4*n_embed, n_embed)\n",
        "    # self.dropout = nn.Dropout(dropout)\n",
        "\n",
        "  def forward(self, x):\n",
        "    x = self.fc1(x)\n",
        "    x = self.relu(x)\n",
        "    x = self.fc2(x)\n",
        "    return x\n",
        "\n",
        "class Masking(nn.Module): # done padding\n",
        "  def __init__(self,padding_idx=vocab_size-2, max_len=block_size): # padding\n",
        "    super().__init__()\n",
        "    self.max_len = max_len\n",
        "    self.pad_token = padding_idx\n",
        "\n",
        "  def forward(self, x): # x is a list\n",
        "    with torch.no_grad():\n",
        "      x_padded = [seq + [self.pad_token] * (self.max_len - len(seq)) for seq in x]\n",
        "      x_padded = torch.tensor(x_padded)\n",
        "      B,T = x_padded.shape\n",
        "      mask = (x_padded != self.pad_token) # returns bool\n",
        "      mask_broadcasted = mask.unsqueeze(1).expand(B,T,T) # T masks of shape BxT\n",
        "      mask_cond = mask_broadcasted.clone() # refactor later\n",
        "      ridx, cidx = torch.where(mask == False)\n",
        "      conditions = torch.stack((ridx, cidx), dim=1)\n",
        "\n",
        "      for cond in conditions:\n",
        "        mask_cond[cond[0],cond[1],:] = False\n",
        "    return x_padded, mask_cond.view(B,1,T,T) # need to have shape B,nh,T,T?\n",
        "\n",
        "class EncoderLayer(nn.Module): # communication and computation\n",
        "  def __init__(self, n_embed, num_head, drop_prob):\n",
        "    super().__init__()\n",
        "    self.self_attention = MultiHeadAttention(n_embed, num_head)\n",
        "    self.ffwd = FF(n_embed)\n",
        "    self.ln1 = nn.LayerNorm(n_embed)\n",
        "    self.ln2 = nn.LayerNorm(n_embed)\n",
        "\n",
        "  def forward(self,enc): # duplicate k and v here or what? just do the same thing first and change later\n",
        "    enc = self.ln1(enc + self.self_attention(enc,enc,enc))\n",
        "    enc = self.ln2(enc + self.ffwd(enc))\n",
        "    return enc\n",
        "\n",
        "class Encoder(nn.Module):\n",
        "  def __init__(self, drop_prob=0, n_embed=384,n_layers=3,vocab_size=vocab_size,num_head=4, max_len=block_size, padding_idx=vocab_size-2): # add device,drop_prob later\n",
        "    super().__init__()\n",
        "    self.max_len = max_len\n",
        "    self.token_padding = Masking(padding_idx = padding_idx)\n",
        "    self.token_embedding = nn.Embedding(vocab_size, n_embed, padding_idx = padding_idx)\n",
        "    print(f\"Vocab size: {self.token_embedding.num_embeddings}\")\n",
        "    self.positional_embedding = nn.Embedding(max_len, n_embed)\n",
        "    self.blocks = nn.ModuleList([EncoderLayer(n_embed, num_head, drop_prob) for _ in range(n_layers)])\n",
        "    self.ln = nn.LayerNorm(n_embed) # final layer norm\n",
        "    self.enc_cls = nn.Linear(n_embed, label_enc2.classes_.shape[0]) # don't have to care about masking here becos does not affect directly\n",
        "\n",
        "  def forward(self, idx, targets=None):\n",
        "    idx, mask = self.token_padding(idx)\n",
        "    tok_emb = self.token_embedding(idx)\n",
        "\n",
        "    pos_emb = self.positional_embedding(torch.arange(self.max_len, device=device))\n",
        "    x = tok_emb + pos_emb\n",
        "\n",
        "    for block in self.blocks:\n",
        "      x = block(x)\n",
        "\n",
        "    x = self.ln(x) # B,T,C only take the first t\n",
        "    x_cls = x[:,0,:]\n",
        "    logits = self.enc_cls(x_cls)\n",
        "    if targets == None:\n",
        "      loss = None\n",
        "    loss = F.cross_entropy(logits, targets)\n",
        "    return logits, loss"
      ],
      "metadata": {
        "id": "yKiHxayz5QU2"
      },
      "execution_count": null,
      "outputs": []
    },
    {
      "cell_type": "code",
      "source": [
        "mask_test = [[1,2,4],[5,6,3,2,7],[5,4,2,6,5,47]]\n",
        "m = Masking(max_len = 7)\n",
        "play = m(mask_test)\n",
        "play[1]"
      ],
      "metadata": {
        "colab": {
          "base_uri": "https://localhost:8080/"
        },
        "id": "AmYmwVOuI-6n",
        "outputId": "e173b386-7eab-4a39-a19a-abebc7bf59ae"
      },
      "execution_count": null,
      "outputs": [
        {
          "output_type": "execute_result",
          "data": {
            "text/plain": [
              "tensor([[[[ True,  True,  True, False, False, False, False],\n",
              "          [ True,  True,  True, False, False, False, False],\n",
              "          [ True,  True,  True, False, False, False, False],\n",
              "          [False, False, False, False, False, False, False],\n",
              "          [False, False, False, False, False, False, False],\n",
              "          [False, False, False, False, False, False, False],\n",
              "          [False, False, False, False, False, False, False]]],\n",
              "\n",
              "\n",
              "        [[[ True,  True,  True,  True,  True, False, False],\n",
              "          [ True,  True,  True,  True,  True, False, False],\n",
              "          [ True,  True,  True,  True,  True, False, False],\n",
              "          [ True,  True,  True,  True,  True, False, False],\n",
              "          [ True,  True,  True,  True,  True, False, False],\n",
              "          [False, False, False, False, False, False, False],\n",
              "          [False, False, False, False, False, False, False]]],\n",
              "\n",
              "\n",
              "        [[[ True,  True,  True,  True,  True,  True, False],\n",
              "          [ True,  True,  True,  True,  True,  True, False],\n",
              "          [ True,  True,  True,  True,  True,  True, False],\n",
              "          [ True,  True,  True,  True,  True,  True, False],\n",
              "          [ True,  True,  True,  True,  True,  True, False],\n",
              "          [ True,  True,  True,  True,  True,  True, False],\n",
              "          [False, False, False, False, False, False, False]]]])"
            ]
          },
          "metadata": {},
          "execution_count": 79
        }
      ]
    },
    {
      "cell_type": "code",
      "source": [
        "device = torch.device(\"cuda:0\" if torch.cuda.is_available() else \"cpu\") # gpu won't work now :D\n",
        "model = Encoder().to(device)\n",
        "optimizer = torch.optim.AdamW(model.parameters(), lr=1e-3)"
      ],
      "metadata": {
        "id": "jfXepwOef8fn"
      },
      "execution_count": null,
      "outputs": []
    },
    {
      "cell_type": "code",
      "source": [
        "y_train = torch.tensor(y_train).to(device)\n",
        "y_test = torch.tensor(y_test).to(device)"
      ],
      "metadata": {
        "id": "tVcCbyV3PWts"
      },
      "execution_count": null,
      "outputs": []
    },
    {
      "cell_type": "code",
      "source": [
        "def get_batch(split,batch_size=32):\n",
        "  # list so a bit inefficient, consider putting this after padding\n",
        "  dat_x = hold if split == \"train\" else test_hold\n",
        "  dat_y = y_train if split == \"train\" else y_test\n",
        "  idx = np.random.randint(0, len(dat_x),size=batch_size)\n",
        "  batch = [dat_x[i] for i in idx]\n",
        "  batch_target = dat_y[idx]\n",
        "  return batch, batch_target"
      ],
      "metadata": {
        "id": "72wZsRcR4jHL"
      },
      "execution_count": null,
      "outputs": []
    },
    {
      "cell_type": "code",
      "source": [
        "y = torch.tensor(target[200:300])\n",
        "x = hold[200:300]\n",
        "for i in range(10):\n",
        "  logs, loss = model(x,y)\n",
        "  optimizer.zero_grad(set_to_none=True)\n",
        "  loss.backward()\n",
        "  optimizer.step()\n",
        "  print(loss.item()) # successfully overfitted a batch"
      ],
      "metadata": {
        "colab": {
          "base_uri": "https://localhost:8080/"
        },
        "id": "-h5D6WLRkX3O",
        "outputId": "b6f17d84-ffec-4aea-e015-90f583bc97f8"
      },
      "execution_count": null,
      "outputs": [
        {
          "output_type": "stream",
          "name": "stdout",
          "text": [
            "2.7295119762420654\n",
            "3.958966016769409\n",
            "3.4411816596984863\n",
            "2.311124324798584\n",
            "1.9896910190582275\n",
            "2.1206881999969482\n",
            "2.071389675140381\n",
            "1.9365599155426025\n",
            "1.8786790370941162\n",
            "1.8852561712265015\n"
          ]
        }
      ]
    },
    {
      "cell_type": "code",
      "source": [
        "model = Encoder().to(device)\n",
        "print(sum(param.numel() for param in model.parameters())/1e6, 'M params')\n",
        "optimizer = torch.optim.AdamW(model.parameters(), lr=1e-3)\n",
        "n_iters = 200\n",
        "interval = 20\n",
        "for i in range(n_iters):\n",
        "  if i % interval == 0 or i == n_iters - 1:\n",
        "    with torch.no_grad():\n",
        "  #     out = {}\n",
        "      model.eval()\n",
        "  #     for split in ['train','test']:\n",
        "  #       losses = torch.zeros(n_iters)\n",
        "  #       for j in range(n_iters):\n",
        "      xb, yb = get_batch('test')\n",
        "      print(xb)\n",
        "      logits, loss = model(xb, yb)\n",
        "      print(f\"Test loss: {loss.item()}\")\n",
        "  #         losses[j] = loss.item()\n",
        "  #       out[split] = losses.mean()\n",
        "  #     model.train()\n",
        "  #     print(out)\n",
        "  xb, yb = get_batch('train')\n",
        "  logits, loss = model(xb,yb)\n",
        "  if i % interval == 0 or i == n_iters - 1:\n",
        "    print(loss.item())\n",
        "  optimizer.zero_grad(set_to_none=True)\n",
        "  loss.backward()\n",
        "  optimizer.step()\n"
      ],
      "metadata": {
        "colab": {
          "base_uri": "https://localhost:8080/"
        },
        "id": "HIVGmPmoSB5U",
        "outputId": "a63674aa-65f5-400a-d897-b0c1400e7666"
      },
      "execution_count": null,
      "outputs": [
        {
          "output_type": "stream",
          "name": "stdout",
          "text": [
            "Vocab size: 36222\n",
            "18.957715 M params\n",
            "[[36221, 27, 9014, 406, 3901, 9, 1965, 152, 632, 3324, 334, 14636, 2190, 19285, 177, 28029, 9, 2493, 294, 12451, 8286, 9, 653, 4037, 6610, 3515, 833], [36221, 444, 127, 18130, 17815, 8875, 1031, 3075, 3517, 7368, 1282, 9, 16170, 377, 23078, 1264, 788, 1685, 162, 127, 2320, 1416, 9, 11652, 1372, 997, 11739, 177, 644, 350, 3776, 260, 1416, 799, 654, 746, 11, 2143, 9950, 168, 2564, 788, 19811, 5822, 177, 141, 22112, 172, 141, 938, 1613, 788, 162, 127, 14837, 645, 268, 4405, 18845, 177, 600, 132, 2922, 11], [36221, 32636, 3394, 340, 625, 3903, 162, 294, 1709, 9, 13658, 14471, 23880, 217, 127, 9409, 5979, 14879, 11, 11554, 745, 333, 141, 3465, 1399, 374, 127, 7622, 14607, 9, 9254, 5195, 3617, 1136, 2516, 141, 1396, 177, 598, 374, 598, 582, 16592, 11], [36221, 27, 12799, 16219, 235, 1029, 1376, 3394, 9, 8559, 177, 1173, 4882, 9, 644, 3119, 168, 6741, 3285, 7231, 162, 629, 4360, 959, 8559, 3675, 11848, 177, 493, 127, 5845, 11], [36221, 27, 20404, 919, 6204, 505, 1896, 9128, 285, 141, 8467, 345, 294, 476, 27339, 16664, 2127, 162, 7876, 3082, 11], [36221, 36, 4216, 222, 671, 168, 3705, 10826, 11, 1218, 382, 7029, 1738, 3895, 9, 3175, 168, 5238, 745, 127, 8893, 9, 127, 2699, 11653, 127, 17847, 10329, 745, 141, 8893, 11, 941, 5662, 168, 1107, 788, 9, 177, 4037, 285, 788, 168, 141, 5850, 11, 2143, 493, 13824, 1111, 847, 788, 601, 222, 9, 177, 382, 10310, 73, 788, 1685, 11, 941, 2632, 495, 127, 601, 217, 788, 177, 6992, 788, 177, 141, 9818, 268, 582, 2801, 2729, 276, 127, 3938, 217, 2219, 1219, 11, 390, 6701, 4037, 235, 217, 127, 1039, 326], [36221, 15605, 235, 127, 602, 2452, 9, 162, 653, 17822, 3611, 4180, 1471, 11363, 4931, 8932, 13833, 1388, 16173, 162, 101, 1841, 22, 217, 8514, 146, 581, 34761, 1552, 2974, 168, 5284, 8928, 2230, 11], [36221, 27, 4187, 13928, 172, 13345, 4854, 523, 1728, 581, 645, 276, 127, 5230, 3821, 162, 1139, 3048, 3082, 11], [36221, 563, 2452, 172, 141, 6568, 172, 31472, 8196, 7219, 9, 653, 25595, 604, 141, 1685, 172, 8196, 7664, 11], [36221, 1568, 12394, 494, 222, 294, 1709, 18642, 644, 493, 4125, 1577, 168, 5605, 168, 581, 3164, 9, 644, 222, 15281, 724, 4091, 11, 941, 1860, 2497, 5961, 581, 1709, 2705, 9, 1031, 141, 3674, 644, 386, 2228, 581, 5022, 1533, 4360, 9, 285, 581, 6450, 2492, 16284, 177, 28208, 11, 390, 10945, 268, 29523, 1069, 24132, 127, 20074, 10814, 11, 449, 378, 8374, 27158, 4170, 579, 5976, 141, 2705, 9, 10473, 28131, 15931, 172, 13482, 11, 101, 818, 1219, 959, 31184, 827, 9, 1251, 12394, 494, 9950, 168, 3503, 887, 162, 177, 2593, 581, 2183, 11], [36221, 46, 1033, 3249, 792, 26402, 22743, 141, 3554, 1454, 1789, 34953, 20116, 177, 141, 2598, 5428, 172, 26515, 19770, 162, 141, 368, 583, 11, 345, 141, 19403, 172, 141, 101, 1240, 130, 6153, 11], [36221, 563, 3221, 222, 671, 141, 2076, 12534, 14659, 20334, 1488, 10716, 3647, 162, 15348, 19692, 9, 13193, 9, 177, 582, 423, 127, 2541, 11, 1758, 1123, 699, 423, 1239, 9166, 345, 476, 177, 1845, 1472, 233, 2073, 11, 1781, 141, 1377, 645, 9, 571, 193, 7317, 159, 880, 222, 127, 1938, 20519, 959, 581, 12980, 493, 1578, 1069, 9, 177, 551, 382, 4360, 235, 16005, 2610, 11, 3726, 1376, 3032, 17216, 21563, 1069, 168, 1864, 2305, 168, 141, 2076, 12534, 14659, 20334, 1488, 10716, 3647, 11, 3339, 9, 141, 28948, 1400, 7746, 11], [36221, 3200, 141, 11255, 1839, 172, 127, 17397, 2699, 222, 1292, 235, 141, 8788, 172, 141, 7116, 34583, 74, 7374, 9, 270, 222, 4261, 6910, 168, 127, 3159, 6511, 598, 1671, 1165, 11, 16876, 9, 27937, 350, 9953, 162, 141, 8835, 8875, 172, 2871, 286, 18125, 11, 1611, 260, 141, 725, 172, 127, 14945, 3222, 13807, 308, 222, 270, 141, 2223, 11272, 209, 9, 141, 2457, 34405, 22101, 352, 172, 9147, 404, 26003, 25, 101, 21598, 212, 1290, 483, 5508, 17346, 7453, 141, 5872, 9, 3294, 788, 887, 168, 141, 3370, 172, 141, 9147, 404, 2296, 1031, 997, 386, 6109, 9, 177, 1031, 997, 14096, 1900, 168, 304, 11, 1058, 395, 6444, 162, 5742, 177, 13028, 374, 520, 2027, 10464, 312, 18339, 9, 270, 222, 127, 1489, 172, 31871, 14345, 177, 127, 10510, 4311, 333, 212, 1290, 483, 531, 11722, 268, 484, 1864, 887, 168, 32715, 788, 11, 101, 272, 3162, 285, 141, 35001, 4126, 172, 141, 8875, 9, 212, 1290, 483, 1472, 3119, 141, 21422, 172, 788, 2387, 168, 10234, 141, 5822, 172, 127, 4249, 13807, 235, 141, 11811, 11, 1484, 276, 997, 222, 9191, 11310, 840, 141, 5872, 9, 997, 7196, 141, 6197, 172, 1845, 19623, 32306, 162, 141, 17929, 1445], [36221, 10356, 12077, 26823, 34293, 17969, 598, 172, 141, 30845, 2764, 172, 141, 5030, 285, 239, 3358, 11, 14706, 13099, 20910, 172, 141, 12522, 3111, 162, 311, 21089, 483, 9, 6274, 127, 15189, 13040, 1775, 172, 28359, 374, 10238, 177, 25771, 162, 101, 3121, 13, 11], [36221, 20467, 177, 32981, 9, 127, 1183, 247, 8449, 4322, 3938, 162, 629, 2416, 101, 706, 73, 9, 2668, 294, 1709, 2705, 162, 141, 2296, 285, 4559, 168, 3567, 270, 495, 676, 141, 4979, 11, 32981, 222, 2428, 3298, 168, 629, 645, 2729, 1017, 551, 729, 7219, 21563, 581, 5986, 6935, 9, 31694, 9, 644, 222, 10418, 20519, 676, 141, 5312, 172, 1623, 581, 1886, 177, 581, 7069, 9, 168, 3620, 827, 9, 997, 222, 13751, 374, 141, 32102, 11, 11038, 6318, 9, 17885, 9, 177, 2232, 1036, 9, 7219, 14289, 168, 3883, 12439, 141, 6248, 947, 11571, 285, 294, 2311, 154, 6096, 30321, 172, 3989, 9, 505, 32981, 16137, 73, 840, 136, 20492, 1558, 177, 34252, 723, 374, 8102, 162, 788, 166, 238, 293, 2815, 6501, 2224, 30210, 2243, 1857, 7074, 3903, 491, 11, 30210, 531, 27827, 1367, 1400, 493, 2944, 505, 127, 27768, 3798, 235, 7219, 9, 3383, 9, 4587, 18133, 33418, 19800, 824, 2660, 141, 4981, 11], [36221, 444, 141, 3804, 172, 368, 2535, 483, 9, 1168, 172, 141, 2788, 4767, 7302, 127, 5364, 141, 4786, 9, 141, 10288, 350, 1388, 141, 35973, 2439, 1385, 217, 141, 4767, 177, 2598, 101, 2412, 15245, 141, 4818, 24, 5932, 9, 141, 2213, 15137, 168, 999, 159, 827, 11, 18773, 3207, 399, 274, 185, 222, 3018, 141, 334, 1626, 11, 941, 222, 10110, 168, 16665, 18057, 132, 406, 281, 4012, 406, 6450, 11, 941, 3675, 840, 141, 3804, 9, 162, 127, 34782, 314, 1205, 9, 168, 1093, 168, 141, 5522, 141, 3515, 1558, 172, 629, 4876, 5254, 1317, 151, 22634, 11], [36221, 563, 6599, 8618, 172, 127, 35503, 28528, 30724, 127, 17072, 833, 187, 382, 448, 1095, 653, 6851, 270, 406, 5488, 162, 11], [36221, 20168, 18642, 9653, 14959, 406, 5022, 5819, 162, 35578, 9, 177, 629, 5845, 3617, 959, 11, 390, 5022, 406, 2183, 2681, 887, 141, 25417, 647, 997, 4860, 168, 629, 7069, 9, 505, 9653, 14959, 493, 1964, 1100, 1065, 172, 270, 217, 10824, 345, 141, 5856, 11, 9653, 14959, 406, 1685, 5661, 1556, 29924, 276, 382, 26633, 168, 9885, 11], [36221, 1551, 16116, 13358, 172, 141, 3798, 141, 5178, 16355, 2292, 493, 761, 235, 141, 11258, 406, 1065, 14948, 8298, 23, 7932, 1058, 129, 894, 177, 20266, 22269, 1669, 11, 3017, 1029, 6426, 423, 18340, 31246, 141, 29555, 13456, 162, 141, 19249, 18722, 9560, 24, 1058, 129, 894, 276, 13762, 12324, 5251, 200, 11, 16696, 9, 177, 22269, 1669, 276, 11643, 17459, 9, 3063, 34880, 3133, 11, 2250, 882, 11], [36221, 9404, 4854, 3062, 217, 9, 847, 9536, 382, 493, 2355, 9, 177, 581, 1440, 10940, 11, 1057, 328, 1018, 168, 1055, 141, 8318, 177, 2830, 1133, 476, 141, 21725, 9, 260, 222, 141, 3221, 217, 328, 11], [36221, 563, 9838, 32985, 8780, 6553, 26387, 2291, 5807, 184, 42, 468, 79, 406, 1, 0], [36221, 7785, 4670, 6936, 817, 11599, 18335, 5041, 12583, 9071, 251, 27409, 6305, 788, 31559, 6874, 235, 1833, 2216, 162, 260, 1847, 3686, 2396, 20472, 2801, 345, 3249, 23581, 1215, 3575, 406, 25663, 716, 1585, 19055, 11], [36221, 25166, 1125, 1152, 18009, 3821, 7138, 10487, 493, 9828, 168, 4451, 2552, 1828, 997, 1911, 141, 17807, 235, 127, 3791, 4979, 3279, 11, 2248, 788, 1709, 3394, 2959, 238, 4866, 788, 217, 1243, 127, 7297, 9, 177, 788, 4507, 1655, 8300, 168, 3720, 788, 17948, 9, 997, 26655, 840, 7552, 9, 3175, 168, 6712, 788, 4311, 23, 268, 4647, 6564, 13936, 19751, 788, 345, 141, 3279, 11, 1484, 7138, 10487, 1154, 6621, 168, 1095, 1526, 392, 162, 788, 1453, 359, 11437, 374, 3133, 11, 23272, 11], [36221, 9899, 356, 35831, 354, 28760, 9, 4860, 495, 374, 581, 30059, 4780, 162, 3930, 3326, 168, 3635, 168, 4127, 127, 5022, 11, 3177, 4520, 11126, 33678, 1069, 168, 1188, 217, 10258, 276, 127, 10436, 6066, 285, 662, 4173, 172, 7143, 11, 7126, 2274, 887, 25000, 276, 382, 9217, 177, 5353, 4901, 3655, 127, 9228, 27010, 755, 11], [36221, 563, 31854, 7873, 11683, 350, 141, 1139, 3048, 2966, 16102, 7396, 175, 8466, 6116, 6, 8561, 172, 141, 101, 3572, 13, 73, 177, 101, 1485, 73, 9, 644, 9239, 2278, 333, 141, 24300, 31425, 177, 141, 14244, 12917, 9, 29964, 168, 141, 2666, 21985, 9, 4434, 285, 6215, 177, 2258, 177, 12939, 34543, 2575, 9, 177, 169, 26670, 141, 2483, 172, 3819, 177, 141, 7661, 1454, 6597, 9, 10945, 9, 177, 14310, 11, 6892, 5251, 3238, 1120, 493, 34319, 11881, 20575, 6632, 5564, 333, 11416, 175, 3004, 4129, 69, 22255, 344, 9, 8274, 263, 10068, 9, 177, 2738, 492, 4933, 177, 12561, 172, 17035, 1173, 13104, 9, 5331, 941, 2288, 9, 5615, 6028, 686, 9, 17816, 26149, 9, 177, 9276, 11938, 3018, 2738, 345, 725, 235, 629, 23051, 24317, 11], [36221, 444, 127, 22020, 7446, 7550, 17563, 9, 127, 2815, 646, 285, 127, 4310, 14050, 5213, 222, 1911, 3655, 168, 957, 141, 10164, 14926, 729, 127, 11654, 12069, 22692, 11], [36221, 830, 4764, 59, 127, 891, 4064, 364, 17759, 9, 127, 180, 4, 3641, 9515, 9, 127, 891, 6083, 694, 4980, 2476, 2048, 1296, 9, 127, 10071, 2712, 5233, 10386, 5764, 755, 9, 341, 455, 160, 8034, 26462, 9, 6181, 8020, 465, 21722, 180, 4, 139, 7689, 479, 2768, 22354, 17690, 693, 1370, 341, 14422, 251, 3164, 1223, 1015, 145, 479, 9, 6668, 1022, 5764, 755, 251, 13748, 35801, 11, 206, 10446, 891, 5764, 183, 447, 251, 26462, 11, 3057, 35809, 15567, 9, 1002, 35809, 16865, 9, 2570, 4684, 2409, 341, 17341, 2768, 16576, 5480, 123, 11], [36221, 1270, 499, 34150, 302, 412, 197, 14997, 31446, 1613, 127, 1396, 172, 12715, 12161, 162, 1029, 1608, 17487, 9, 1352, 2502, 629, 1360, 2387, 177, 127, 2106, 217, 629, 4063, 11, 390, 1065, 11928, 3018, 1108, 12715, 222, 141, 2153, 2706, 1454, 17293, 2779, 138, 175, 36, 1599, 492, 1748, 366, 10029, 1599, 175, 1551, 64, 5345, 6, 177, 141, 746, 1454, 11895, 202, 175, 45, 139, 16530, 275, 62, 6, 177, 2410, 462, 3020, 175, 1551, 13608, 384, 36, 1599, 222, 127, 5666, 2815, 1268, 644, 3062, 276, 127, 21461, 177, 20596, 9717, 581, 12599, 1134, 64, 5345, 9, 505, 1134, 64, 5345, 222, 294, 5988, 9296, 2699, 177, 8605, 268, 2153, 5069, 2317, 699, 30893, 1685, 11, 390, 9503, 172, 629, 2153, 1133, 1108, 5126, 141, 1155, 1637, 172, 629, 3554, 1442], [36221, 27, 2665, 5852, 4101, 10224, 15237, 162, 10413, 11], [36221, 15312, 31274, 235, 581, 5022, 9, 27243, 589, 9, 127, 14608, 6199, 9, 7026, 491, 9, 505, 493, 168, 1095, 127, 4350, 235, 935, 168, 1533, 1356, 581, 2183, 9, 177, 3895, 11], [36221, 27, 12446, 25532, 493, 788, 4965, 8819, 153, 1786, 1626, 729, 997, 5661, 7900, 14181, 9, 12705, 3229, 4621, 11], [36221, 44, 63, 42, 18348, 212, 23425, 19745, 69, 222, 127, 101, 763, 21, 1333, 1868, 13991, 3221, 671, 141, 184, 1329, 6579, 4956, 172, 4741, 1, 9583, 374, 19652, 311, 8820, 11]]\n",
            "Test loss: 3.1098392009735107\n",
            "2.7827727794647217\n",
            "[[36221, 1551, 7533, 13226, 6188, 30049, 175, 28707, 2507, 8709, 137, 947, 6, 8662, 141, 12961, 172, 581, 28055, 18232, 242, 8006, 729, 382, 1472, 9843, 127, 25102, 28369, 175, 28, 6747, 9316, 123, 6, 285, 1779, 6125, 16730, 26635, 11], [36221, 26461, 447, 21612, 35644, 23254, 414, 177, 32344, 311, 4934, 7203, 127, 14336, 1146, 4658, 1647, 907, 4647, 162, 260, 866, 2666, 1117, 25905, 172, 141, 14547, 5331, 206, 5585, 1429, 3221, 1588, 13833, 11, 3880, 25954, 168, 141, 3083, 10125, 9, 333, 4083, 21144, 811, 168, 127, 1152, 33862, 9, 333, 31935, 34950, 168, 127, 6436, 7432, 8430, 531, 29545, 10122, 25698, 9, 333, 6057, 9151, 7549, 168, 127, 15853, 12221, 9, 23254, 414, 9067, 127, 1986, 172, 1440, 7941, 9, 12076, 73, 127, 1986, 172, 9128, 11], [36221, 27, 14478, 8527, 333, 2947, 222, 12381, 374, 788, 1360, 4780, 168, 4494, 581, 27254, 1613, 4349, 11, 2143, 4621, 3655, 7552, 168, 1107, 598, 172, 827, 11], [36221, 1858, 2452, 172, 141, 8484, 15344, 644, 11925, 168, 5818, 14227, 217, 788, 1092, 589, 1763, 17808, 3793, 11], [36221, 27, 28903, 3674, 3525, 6236, 172, 192, 426, 931, 2156, 168, 14174, 495, 141, 2598, 18411, 11], [36221, 1568, 300, 31800, 1669, 222, 127, 20434, 25084, 644, 15137, 168, 606, 581, 1685, 9, 505, 866, 15137, 168, 2842, 581, 3394, 162, 7787, 598, 1144, 645, 9, 162, 294, 3390, 345, 6136, 127, 2106, 168, 2231, 3776, 11], [36221, 27023, 28510, 126, 177, 581, 5022, 9, 24508, 9, 350, 15247, 1139, 33808, 285, 1623, 26284, 177, 4110, 3739, 11, 390, 9450, 3052, 6001, 127, 14165, 3486, 729, 582, 4788, 268, 629, 30589, 493, 726, 1022, 6795, 604, 7585, 177, 22644, 141, 11007, 235, 827, 11, 32632, 168, 516, 235, 141, 16812, 9, 10320, 177, 24508, 606, 495, 162, 294, 2410, 587, 2245, 172, 11624, 177, 6722, 168, 10319, 276, 2614, 172, 141, 6783, 1396, 168, 31024, 141, 17488, 11, 1218, 141, 1029, 6863, 168, 141, 3068, 2410, 587, 11194, 9, 582, 2309, 168, 23429, 11], [36221, 3100, 168, 6375, 294, 17609, 79, 162, 127, 9305, 8795, 222, 671, 127, 1396, 172, 3394, 644, 2801, 162, 141, 30341, 4349, 172, 34524, 531, 17800, 12483, 28338, 440, 172, 14103, 4355, 271, 177, 2702, 2183, 2026, 11, 7126, 32983, 1685, 222, 18790, 374, 141, 1577, 3509, 172, 14202, 447, 28367, 5202, 175, 36, 215, 159, 26430, 437, 492, 5811, 582, 19405, 5086, 2609, 840, 6206, 4349, 729, 997, 386, 127, 16784, 11, 3339, 127, 1779, 24489, 1367, 4738, 9, 14202, 447, 3326, 1577, 168, 2591, 294, 9321, 3996, 13156, 374, 788, 3366, 3394, 9, 177, 8662, 294, 4551, 168, 4127, 18515, 374, 3126, 127, 1710, 671, 827, 729, 582, 1878, 788, 262, 997, 3342, 1107, 827, 2274, 294, 32906, 11], [36221, 4049, 598, 172, 127, 10802, 13991, 671, 11579, 27491, 247, 11], [36221, 3200, 127, 13074, 172, 26492, 10610, 294, 5930, 2447, 235, 629, 26627, 3802, 582, 1472, 1627, 629, 4360, 840, 141, 4209, 172, 898, 15298, 15900, 9, 127, 2979, 646, 644, 493, 7819, 285, 141, 898, 32358, 1065, 172, 581, 1685, 177, 222, 3426, 217, 141, 6511, 172, 1721, 2156, 11], [36221, 444, 127, 2521, 2397, 4360, 127, 180, 2303, 440, 9, 101, 1451, 3320, 1709, 3674, 11, 10369, 3394, 9, 997, 493, 18820, 2580, 162, 2610, 177, 16792, 1655, 1309, 177, 493, 2627, 127, 1987, 23139, 11, 539, 2066, 9, 997, 222, 13751, 172, 788, 1685, 11, 2721, 1416, 997, 9626, 127, 2815, 177, 21346, 21157, 3904, 177, 12547, 10329, 162, 2153, 285, 1069, 11, 539, 127, 1191, 2066, 645, 9, 997, 8662, 491, 476, 671, 1069, 177, 6334, 2632, 2634, 285, 1069, 11], [36221, 444, 101, 2651, 15, 141, 17669, 2735, 2095, 101, 710, 3320, 4346, 33328, 9950, 168, 4222, 177, 2564, 141, 3111, 172, 141, 2387, 27898, 141, 14834, 172, 141, 2221], [36221, 17520, 242, 3251, 280, 1492, 162, 127, 1422, 29030, 4341, 1513, 9, 1721, 18237, 9140, 168, 3169, 294, 11920, 7288, 1513, 911, 1863, 1851, 1165, 270, 8097, 723, 141, 1335, 1399, 2947, 11], [36221, 35183, 11749, 25760, 9, 8395, 8227, 162, 101, 2651, 13, 9, 222, 127, 101, 713, 15316, 7958, 3221, 15875, 177, 9583, 374, 269, 1303, 31770, 272, 240, 56, 4012, 333, 141, 20499, 263, 2158, 1512, 123, 7458, 172, 141, 1377, 601, 9, 177, 6426, 31873, 248, 125, 20391, 22612, 9, 32981, 3546, 22993, 17746, 9, 16615, 30301, 8537, 9, 34264, 10481, 872, 770, 4882, 139, 177, 28795, 35869, 2708, 11, 390, 3259, 3221, 222, 101, 627, 14461, 2946, 966, 11], [36221, 1551, 184, 10392, 1, 19890, 7657, 222, 9795, 374, 127, 8641, 11529, 29780, 1770, 653, 4095, 799, 127, 17397, 2699, 268, 382, 222, 141, 184, 709, 5565, 598, 1, 168, 4742, 127, 9074, 27594, 293, 168, 2593, 141, 6116, 11], [36221, 2762, 767, 270, 233, 799, 262, 490, 1144, 601, 386, 16383, 25, 6892, 8486, 20258, 513, 14289, 268, 3022, 374, 35458, 36069, 127, 10200, 1396, 172, 5234, 285, 268, 1377, 17573, 601, 11], [36221, 444, 127, 8875, 162, 13174, 10300, 9, 18669, 172, 141, 4767, 1769, 172, 29762, 162, 15767, 16424, 10665, 17768, 168, 14832, 581, 5022, 232, 511, 189, 268, 582, 1472, 516, 11, 941, 16477, 629, 23685, 177, 1922, 4847, 172, 3054, 162, 6149, 217, 12205, 217, 1029, 11, 941, 4664, 168, 3710, 629, 5434, 2085, 162, 141, 1814, 172, 141, 30242, 177, 581, 4507, 24, 581, 4780, 29053, 1069, 168, 1413, 598, 3164, 168, 233, 16972, 162, 3205, 9, 276, 4767, 5448, 11, 390, 1721, 523, 745, 217, 24502, 9, 19527, 9, 177, 15767, 9, 207, 13189, 2278, 235, 127, 5550, 11, 1781, 7555, 21982, 9, 582, 1695, 141, 2012, 172, 629, 2351, 168, 452, 451, 3990, 604, 2156, 644, 9474, 827, 345, 294, 32244, 1109, 1165, 127, 1114, 19313, 11, 11869, 177, 3164, 350, 11072, 333, 232, 511, 189, 11, 3434, 3843, 3882, 141, 3054, 172, 7284, 25], [36221, 12806, 145, 24316, 3221, 671, 141, 4360, 172, 127, 1790, 938, 6478, 235, 141, 1377, 3802, 11], [36221, 34, 12608, 177, 2064, 6708, 11716, 1911, 10599, 22630, 15887, 168, 127, 3054, 29189, 374, 578, 5933, 31008, 31060, 11, 2335, 141, 10599, 22630, 10454, 168, 141, 20226, 8875, 9, 582, 21021, 141, 31060, 2278, 177, 13901, 1110, 162, 141, 8875, 11, 2721, 172, 141, 31060, 9, 5514, 63, 9, 127, 17404, 20226, 2699, 9, 3326, 168, 141, 8875, 168, 957, 127, 5933, 285, 141, 10599, 22630, 11, 390, 10599, 22630, 455, 360, 5503, 168, 5514, 63, 406, 5933, 8670, 9, 505, 997, 6001, 3394, 285, 127, 10599, 2322, 1911, 269, 2158, 19952, 11, 808, 6001, 629, 5952, 168, 7522, 141, 7761, 1454, 141, 31060, 177, 141, 10599, 22630, 11], [36221, 563, 1065, 32365, 3029, 1219, 162, 141, 1685, 172, 127, 17755, 3674, 23, 14924, 101, 4717, 18, 9, 1031, 16965, 8220, 447, 2905, 285, 18865, 8220, 447, 168, 24094, 168, 233, 12331, 141, 22405, 16643, 217, 141, 10907, 172, 141, 5916, 4893, 9, 177, 101, 5007, 14, 9, 1031, 997, 12249, 788, 1555, 22405, 16643, 9, 959, 10296, 6351, 406, 5736, 34145, 8928, 12296, 1623, 276, 127, 15059, 177, 127, 3674, 11], [36221, 563, 9763, 172, 214, 11386, 1125, 19761, 909, 2579, 18013, 4635, 25, 3245, 3221, 6152, 141, 1402, 172, 3139, 172, 141, 4091, 143, 459, 184, 11386, 1125, 19761, 1, 3987, 9, 268, 386, 168, 233, 9583, 374, 6192, 24582, 177, 4647, 23988, 25858, 276, 141, 646, 172, 6296, 3895, 9, 19146, 11, 390, 1766, 2834, 1133, 1219, 172, 3139, 1165, 141, 11543, 386, 8411, 9, 177, 260, 13991, 11416, 141, 2603, 3015, 23, 9980, 6028, 9, 6192, 24582, 9, 7885, 16641, 9, 7487, 12081, 2445, 9, 3044, 19857, 1781, 4567, 9, 30191, 1378, 8545, 245, 164, 3980, 177, 1239, 1239, 578, 11], [36221, 27, 3674, 15660, 294, 14126, 32717, 1031, 22341, 2085, 735, 2942, 5822, 3812, 168, 32449, 28101, 11], [36221, 28848, 150, 162, 101, 3572, 13, 9, 12607, 12438, 386, 2228, 127, 7030, 30389, 285, 1029, 5211, 6876, 9, 162, 14489, 4074, 9, 235, 3029, 28209, 11, 3880, 19449, 28355, 162, 127, 1922, 32534, 3854, 3085, 9, 12607, 12438, 6334, 4229, 141, 3370, 177, 8566, 172, 141, 3290, 1399, 9, 177, 127, 5370, 3754, 162, 141, 3290, 3508, 11, 539, 101, 1841, 22, 9, 12607, 12438, 1388, 244, 14, 4850, 11, 539, 101, 763, 19, 9, 141, 2072, 8130, 217, 18356, 11, 2579, 2834, 3515, 25, 12387, 9555, 582, 1055, 847, 5039, 12607, 12438, 23, 390, 5398, 11, 1484, 268, 406, 360, 141, 2452, 11, 1500, 11770, 9546, 6549, 222, 127, 3245, 13991, 3221, 19199, 260, 14547, 2072, 406, 17350, 18006, 9, 17788, 25853, 9, 177, 11526, 24450, 374, 886, 20404, 919, 11242, 9, 3206, 23345, 11], [36221, 1230, 162, 16597, 162, 101, 3572, 18, 9, 141, 2452, 7163, 141, 32941, 6096, 3554, 1454, 1029, 2156, 644, 4229, 17001, 177, 8630, 28903, 4207, 6886, 1418, 162, 127, 30010, 7298, 33481, 162, 141, 2144, 846, 172, 6436, 2764, 11, 3297, 127, 2521, 8246, 2429, 3686, 268, 6902, 18207, 9, 141, 1029, 2156, 1472, 15035, 11, 808, 222, 360, 966, 1165, 141, 3066, 350, 9101, 141, 3374, 582, 350, 162, 177, 582, 1472, 10234, 629, 21422, 168, 10610, 11], [36221, 27, 34899, 646, 9, 20344, 374, 581, 11722, 7434, 9, 11811, 162, 17442, 9, 15650, 2815, 2336, 177, 3525, 629, 13573, 1264, 276, 24525, 11, 3434, 382, 1095, 141, 3357, 3674, 162, 15630, 13212, 9, 177, 606, 581, 8348, 31521, 25], [36221, 8739, 32368, 460, 184, 2035, 146, 495, 127, 9894, 27009, 172, 260, 1399, 177, 32550, 168, 5531, 847, 926, 6701, 13556, 141, 4981, 2383], [36221, 27, 13111, 1076, 3463, 150, 1183, 63, 21509, 3849, 3675, 127, 1555, 4173, 168, 12969, 581, 1152, 2127, 34495, 9, 127, 21047, 5852, 4519, 32322, 9, 729, 997, 3326, 217, 629, 4036, 3320, 25681, 11], [36221, 27, 586, 222, 162, 788, 3595, 1647, 219, 371, 177, 17703, 729, 127, 11660, 34557, 172, 11384, 222, 8056, 168, 788, 1577, 11, 1484, 141, 2024, 4555, 493, 662, 3217, 644, 168, 6391, 1017, 598, 2314, 222, 217, 1990, 24, 788, 20178, 6551, 9, 212, 660, 9, 222, 360, 141, 6443, 26266, 947, 11, 1218, 1108, 11347, 138, 3233, 3703, 9, 1970, 235, 127, 5245, 177, 1970, 285, 294, 12705, 3305, 9, 212, 586, 531, 1685, 3525, 235, 127, 331, 3599, 11, 390, 1685, 172, 281, 256, 4048, 222, 807, 2343, 840, 27163, 374, 4310, 16041, 34371, 172, 11384, 23, 5807, 141, 3235, 172, 788, 6551, 162, 127, 6251, 7394, 9, 11384, 423, 748, 24535, 9563, 345, 141, 4226, 11, 281, 256, 4048, 352, 4503, 2492, 16284, 9, 200, 317, 9, 222, 7050, 168, 438, 168, 141, 3935, 172, 141, 12705, 11384, 11, 7885, 311, 3575, 9071, 177, 21161, 15612, 4162, 131, 7981, 531, 3245, 3221, 10440, 12280, 17885, 28520, 168, 1721, 1471, 3214, 2336, 177, 141, 1743, 172, 11384, 11], [36221, 20168, 18642, 9653, 14959, 406, 5022, 5819, 162, 35578, 9, 177, 629, 5845, 3617, 959, 11, 390, 5022, 406, 2183, 2681, 887, 141, 25417, 647, 997, 4860, 168, 629, 7069, 9, 505, 9653, 14959, 493, 1964, 1100, 1065, 172, 270, 217, 10824, 345, 141, 5856, 11, 9653, 14959, 406, 1685, 5661, 1556, 29924, 276, 382, 26633, 168, 9885, 11], [36221, 20679, 141, 33541, 164, 8947, 172, 141, 6135, 26996, 23880, 9, 141, 24362, 177, 581, 18452, 2965, 10693, 28218, 423, 7216, 141, 2451, 172, 4680, 331, 1685, 11, 1218, 141, 24362, 406, 14694, 7746, 168, 3631, 495, 285, 35220, 1839, 3834, 9, 141, 24362, 271, 27374, 371, 285, 141, 6784, 79, 331, 23164, 450, 344, 177, 3617, 141, 33541, 164, 9, 591, 25569, 8669, 222, 14424, 374, 294, 24837, 9, 17027, 9, 177, 20058, 32906, 172, 3235, 177, 600, 6342, 310, 11], [36221, 28, 4630, 350, 141, 2434, 2080, 20591, 11364, 172, 26101, 531, 4611, 31501, 11, 11049, 10020, 32214, 9, 15344, 6648, 55, 177, 3904, 1353, 13915, 7424, 676, 827, 4965, 345, 1071, 35405, 3291, 11, 16630, 141, 1721, 1007, 598, 172, 101, 752, 23595, 4940, 5525, 8277, 168, 676, 1029, 2557, 938, 11, 1758, 9592, 1613, 141, 2397, 235, 1487, 15568, 333, 598, 8199, 168, 141, 1335, 11, 208, 34601, 4299, 3608, 531, 4324, 222, 360, 11474, 345, 1372, 162, 888, 172, 1107, 1017, 629, 19196, 5651, 17564, 11, 941, 13324, 3213, 3655, 141, 10383, 1552, 10020, 32214, 9, 6648, 55, 177, 1353, 13915, 177, 629, 5607, 16653, 2837, 141, 2397, 235, 127, 1900, 28472, 5412, 285, 645, 1017, 127, 7918, 3241, 7727, 1523, 25710, 11, 390, 23595, 1552, 3119, 1738, 127, 10679, 683, 23914, 2076, 1375, 285, 7554, 9, 458, 16937, 177, 4807, 2294, 21292, 11, 101, 208, 34601, 4299, 2514, 13538, 141, 17699, 217, 578, 813, 1029, 1219, 168, 1095, 3749, 268, 957, 16663, 172, 141, 2695, 4835, 177, 260, 29986, 172, 5822, 11], [36221, 8513, 4450, 18227, 20827, 141, 623, 5163, 849, 6760, 23795, 276, 127, 27951, 22844, 1031, 1922, 6493, 17257, 7819, 162, 14133, 285, 4785, 11, 101, 1484, 7916, 4115, 6992, 127, 1191, 1608, 2452, 23, 2335, 16893, 13715, 13482, 296, 162, 101, 6539, 15, 9, 7585, 172, 938, 765, 1964, 3776, 782, 11, 3635, 3993, 1049, 4726, 127, 1139, 3098, 9, 505, 127, 1191, 1709, 598, 4587, 19858, 761, 4047, 127, 8151, 8671, 172, 6400, 9, 20010, 1737, 9, 448, 846, 177, 3687, 1691, 11]]\n",
            "Test loss: 2.0365939140319824\n",
            "1.6560157537460327\n",
            "[[36221, 27, 2183, 285, 3029, 4686, 162, 141, 101, 1086, 73, 438, 840, 127, 7302, 729, 15033, 11825, 3137, 162, 2153, 285, 141, 1377, 2699, 11], [36221, 19568, 2371, 2837, 141, 5363, 6644, 172, 19077, 833, 27, 11275, 4462, 2307, 9, 285, 127, 2695, 14288, 268, 448, 9695, 127, 16862, 0], [36221, 46, 437, 1271, 222, 127, 11599, 2888, 2524, 374, 16010, 21450, 2781, 73, 1125, 1386, 530, 175, 5341, 601, 28487, 14717, 6118, 6, 26391, 141, 1685, 172, 127, 2815, 5482, 175, 1329, 1678, 406, 3559, 514, 200, 437, 1271, 9, 184, 936, 204, 1015, 1, 162, 141, 4392, 9039, 6, 177, 581, 7230, 172, 141, 4582, 1399, 419, 841, 24, 12350, 1302, 276, 2153, 9, 1367, 9, 7102, 1953, 177, 25461, 671, 141, 5119, 11, 101, 539, 260, 3221, 9, 200, 437, 1271, 175, 10867, 32053, 20167, 6, 222, 745, 235, 127, 331, 35178, 10738, 0, 11770, 438, 10281, 729, 17999, 483, 175, 19671, 11328, 8894, 947, 6, 2317, 1049, 12359, 200, 437, 1271, 168, 788, 9409, 3279, 9, 653, 222, 12408, 141, 1065, 14910, 3168, 172, 581, 1685, 11, 8408, 966, 9, 200, 437, 1271, 531, 3114, 1685, 222, 4481, 18437, 1110, 729, 581, 4507, 350, 4794, 28550, 11, 11771, 6314, 168, 20359, 491, 172, 1863, 1111, 162, 141, 17861, 172, 200, 437, 1271, 531, 29948, 8581, 168, 957, 8198, 963, 11], [36221, 3200, 6204, 20703, 437, 11070, 8118, 8626, 175, 14944, 1737, 6, 177, 20344, 2788, 2699, 17875, 447, 200, 29164, 175, 17671, 10420, 6, 26994, 11156, 26910, 5517, 27327, 11930, 175, 30, 20855, 6, 172, 10186, 9, 382, 406, 12460, 374, 141, 2127, 9, 10541, 374, 141, 4349, 9, 177, 7029, 168, 438, 581, 1685, 887, 11, 2721, 4264, 175, 28, 12810, 6, 16037, 14139, 9, 505, 3078, 222, 847, 270, 3517, 833], [36221, 15110, 164, 12799, 671, 127, 5284, 2296, 15114, 5371, 644, 4037, 168, 10413, 168, 957, 1244, 11], [36221, 15339, 483, 182, 34308, 6992, 141, 12517, 141, 1204, 31050, 671, 141, 1905, 645, 162, 788, 1685, 729, 788, 6935, 11925, 285, 6210, 177, 997, 386, 807, 15556, 285, 127, 5893, 1007, 172, 6210, 11], [36221, 7517, 7298, 35899, 9, 6684, 177, 12465, 350, 1911, 168, 127, 10794, 10977, 4349, 374, 127, 7537, 168, 169, 9344, 127, 4543, 11945, 9, 4050, 244, 1892, 11, 677, 653, 386, 5488, 162, 141, 1144, 2090, 172, 141, 10000, 3536, 9, 374, 127, 25376, 9255, 159, 177, 938, 423, 748, 2428, 217, 270, 2552, 1828, 11], [36221, 5367, 9053, 168, 141, 4349, 1031, 581, 8241, 9, 2109, 4087, 9, 4360, 9, 1779, 24489, 29738, 5738, 15896, 222, 27162, 374, 127, 3674, 644, 3525, 3075, 382, 493, 9, 1965, 581, 9357, 177, 127, 1886, 1635, 4050, 7585, 172, 7264, 11, 5738, 6334, 17990, 2612, 285, 2109, 4087, 9, 644, 222, 162, 127, 124, 34348, 1168, 997, 9555, 629, 2203, 13105, 493, 748, 5039, 11, 4151, 3175, 168, 5531, 262, 581, 8241, 222, 963, 9, 5738, 1472, 807, 438, 887, 581, 9393, 21648, 11], [36221, 47, 6954, 300, 177, 581, 19326, 350, 24783, 79, 11, 1758, 2668, 4543, 285, 476, 629, 2351, 9, 177, 6712, 270, 3385, 141, 23100, 172, 127, 4791, 345, 629, 2296, 2705, 11, 5138, 147, 9, 581, 8564, 1522, 9, 177, 581, 16386, 175, 9124, 9964, 79, 222, 141, 29627, 300, 406, 5022, 6, 1123, 699, 1055, 260, 1564, 177, 1304, 582, 423, 141, 2351, 5488, 9161, 11, 2335, 29627, 300, 177, 581, 19326, 6722, 168, 5110, 141, 4543, 175, 3004, 141, 2705, 9956, 168, 15767, 9, 162, 1473, 168, 1695, 1977, 2698, 9, 127, 8937, 17140, 7746, 11], [36221, 10409, 269, 1283, 4037, 2457, 9362, 12561, 352, 2616, 36091, 162, 127, 20880, 2266, 172, 141, 17928, 3676, 4086, 3460, 2666, 331, 12385, 7765, 11, 212, 1396, 172, 2662, 2967, 29172, 235, 127, 13991, 1766, 10851, 2457, 33587, 11503, 352, 313, 19567, 938, 6624, 11192, 7000, 12561, 2098, 168, 5815, 629, 13191, 1816, 11, 1187, 582, 1095, 598, 2266, 551, 20423, 141, 12517, 423, 476, 5659, 162, 14181, 8372, 11, 1484, 847, 4726, 222, 235, 260, 33268, 5398, 12561, 25, 7126, 1993, 7453, 168, 294, 19811, 6057, 172, 6293, 1418, 974, 2794, 276, 141, 7868, 3470, 9, 127, 6232, 185, 3067, 19961, 3485, 333, 141, 9388, 539, 10394, 177, 127, 33065, 1743, 582, 2978, 7969, 333, 11], [36221, 27878, 6164, 13973, 350, 3175, 168, 1836, 776, 7339, 2438, 840, 127, 16117, 17091, 9, 177, 127, 4393, 4294, 4958, 491, 168, 735, 222, 4493, 172, 10978, 170, 19364, 285, 141, 1107, 172, 2742, 1640, 184, 1022, 420, 152, 9278, 371, 30551, 730, 2145, 827, 11], [36221, 1551, 16448, 19243, 36218, 2066, 3221, 671, 294, 1709, 646, 644, 1898, 3710, 581, 5856, 505, 8601, 127, 4311, 11], [36221, 550, 774, 1709, 35569, 20945, 4360, 162, 127, 11248, 417, 6384, 16950, 4349, 11, 941, 222, 162, 2153, 285, 294, 5986, 3674, 9, 294, 7632, 726, 25272, 333, 11124, 11, 941, 9162, 162, 7632, 6019, 168, 438, 2351, 177, 222, 15950, 374, 127, 646, 3079, 127, 3382, 1886, 11, 12102, 146, 260, 646, 406, 2195, 2451, 6823, 127, 8381, 2649, 9, 505, 260, 1051, 1596, 1069, 168, 127, 12484, 7477, 217, 581, 12980, 10462, 5221, 11], [36221, 48, 240, 2821, 222, 294, 11609, 28117, 285, 13807, 27034, 11, 941, 8662, 294, 19842, 2815, 646, 162, 141, 11721, 172, 16112, 612, 586, 177, 3525, 1069, 1577, 11, 3339, 17001, 177, 25694, 19032, 9, 141, 1029, 2156, 2627, 127, 3938, 162, 23327, 177, 14684, 333, 629, 5524, 11, 1187, 2607, 9, 2156, 1801, 172, 26608, 3710, 141, 3938, 285, 662, 4019, 505, 168, 7969, 333, 7787, 11, 390, 34382, 7746, 833], [36221, 3570, 71, 31861, 23, 9305, 9, 263, 468, 177, 20790, 440], [36221, 3200, 141, 3029, 25470, 30395, 3655, 141, 12142, 5036, 22178, 172, 16089, 1829, 175, 25065, 18148, 13085, 235, 6116, 101, 609, 1219, 2962, 492, 582, 476, 1651, 1672, 8516, 9, 177, 350, 28920, 162, 12324, 2171, 314, 406, 5412, 1738, 141, 8789, 7868, 126, 11529, 17775, 263, 19080, 11, 12324, 2171, 314, 222, 15296, 172, 2575, 5550, 15011, 6977, 177, 222, 333, 141, 7497, 16089, 1829, 11, 941, 222, 141, 23034, 6085, 172, 141, 17775, 263, 19080, 11, 539, 4634, 172, 12723, 15845, 428, 132, 4198, 177, 141, 12142, 5036, 22178, 333, 263, 19080, 9, 15011, 6977, 5068, 141, 13822, 162, 14029, 235, 141, 7497, 6116, 9, 177, 3525, 141, 1007, 172, 127, 4129, 26053, 9, 32887, 168, 3350, 235, 6215, 162, 1191, 3878, 2493, 11, 33105, 150, 374, 26212, 2815, 11599, 1710, 6597, 15401, 1058, 4120, 2152, 9, 177, 14986, 12324, 2171, 314, 9, 382, 18908, 101, 609, 4322, 1219, 235, 6116, 9, 276, 15401, 35264, 141, 4988, 172, 581, 2575, 16555, 11, 1484, 729, 141, 3029, 11022, 371, 4788, 141, 5036, 22178, 177, 12547, 1651, 1672, 31197, 9, 12324, 2171, 314, 493, 168, 3802, 827, 1191, 4261, 8183, 313, 217, 17775, 263, 19080, 222, 11437, 887, 168, 6215, 9, 177, 260, 645, 382, 406, 7050, 168, 7726, 11], [36221, 15948, 101, 710, 9, 101, 2651, 13, 9, 101, 19, 23, 664, 142, 527, 1893, 15050, 5337, 1725, 162, 25593, 9, 16849, 11, 1426, 260, 143, 12107, 2689, 294, 13657, 15650, 294, 4502, 7587, 3176, 177, 15497, 141, 4360, 172, 3548, 235, 141, 1725, 11, 10063, 146, 162, 235, 127, 2320, 857, 172, 551, 11195, 768, 14149, 1088, 6183, 4992, 177, 5235, 35938, 11584, 9829, 235, 127, 6208, 3819, 1738, 141, 35550, 344, 6786, 9454, 18868, 162, 141, 2630, 2993, 352, 11341, 7300, 24307, 3435, 1728, 141, 13190, 3536, 11], [36221, 27, 14427, 1494, 172, 141, 3968, 3739, 1462, 1965, 2788, 6038, 9, 11517, 4, 2076, 9, 2947, 2294, 141, 19567, 6833, 9, 177, 578, 1462, 653, 28047, 141, 19567, 172, 31662, 3339, 9, 5192, 4822, 177, 4794, 17221, 141, 1685, 177, 4749, 172, 14070, 8814, 32086, 5327, 11], [36221, 1742, 3089, 699, 12232, 9, 4966, 9196, 1046, 11331, 7683, 10444, 14772, 8978, 3290, 17615, 390, 18258, 17362, 3169, 629, 2861, 1079, 1817, 242, 32080, 2801, 1093, 168, 141, 1779, 2988, 217, 141, 866, 645, 9, 177, 162, 4569, 1274, 11, 212, 1175, 172, 1453, 25529, 4501, 345, 4368, 406, 33546, 11956, 10447, 162, 2917, 172, 101, 836, 9, 677, 273, 31926, 4910, 9, 3089, 699, 12232, 17112, 141, 18258, 17362, 23480, 10863, 31165, 4458, 8978, 6776, 177, 14697, 9442, 17461, 285, 5320, 1682, 4793, 24385, 11, 31173, 374, 629, 18281, 6050, 7257, 620, 9328, 6028, 9, 177, 4501, 235, 101, 336, 10822, 9, 3089, 699, 12232, 222, 141, 866, 12103, 3221, 168, 3245, 13681, 1267, 101, 20, 23, 14, 5976, 3603, 9, 101, 6303, 217, 141, 2988, 374, 141, 4827, 9, 177, 3951, 101, 15, 331, 18258, 17362, 8766, 11, 3089, 699, 1304, 9, 801, 270, 4412, 9, 16874, 168, 141, 522, 11], [36221, 1551, 21488, 3320, 4346, 13440, 5482, 9, 1029, 2815, 2156, 333, 127, 1922, 4349, 9, 177, 127, 32149, 150, 31505, 333, 141, 17382, 476, 1095, 629, 1205, 168, 11658, 235, 2349, 4201, 9, 1031, 9, 162, 141, 6150, 172, 15981, 3656, 5204, 9, 12290, 1864, 168, 141, 21310, 1077, 774, 11], [36221, 123, 9995, 406, 25802, 13977, 670, 32287, 1089, 3067, 101, 15, 9, 141, 12799, 268, 406, 127, 2717, 172, 24837, 1822, 217, 141, 3114, 2183, 11, 35423, 926, 15736, 6902, 141, 4360, 172, 8620, 28618, 670, 32287, 1089, 3067, 4507, 239, 1542, 177, 26291, 18437, 1110, 729, 629, 273, 2163, 11695, 919, 9, 4040, 3826, 25731, 25470, 2221, 598, 5768, 959, 1805, 11, 1484, 729, 629, 2695, 5266, 606, 495, 162, 7873, 9, 141, 8641, 34164, 484, 2145, 345, 3078, 168, 2593, 827, 313, 1168, 162, 1244, 2218, 177, 1905, 2218, 9, 141, 2183, 1970, 17382, 2729, 11, 1531, 239, 1542, 9, 26291, 177, 141, 25470, 29172, 235, 127, 25052, 10738, 9, 19529, 2228, 1151, 268, 1779, 13047, 1864, 162, 1922, 8901, 11, 23830, 294, 476, 12031, 4364, 9, 1965, 6487, 21489, 175, 6489, 172, 239, 1542, 492, 177, 3259, 285, 127, 19473, 172, 7750, 3152, 9, 260, 3370, 77, 17296, 13233, 172, 141, 4959, 172, 2183, 9, 14652, 177, 16883, 222, 127, 2396, 15193, 172, 1822, 313, 2218, 3029, 11], [36221, 27, 3970, 35368, 6949, 222, 4501, 3914, 177, 897, 173, 2001, 285, 581, 6061, 250, 587, 12259, 162, 141, 16425, 172, 294, 13085, 11732, 172, 127, 6854, 5850, 11, 21385, 1219, 2146, 9, 127, 14181, 3674, 222, 9896, 285, 803, 35861, 9, 177, 788, 11057, 222, 8205, 374, 294, 18995, 313, 653, 21716, 141, 14163, 168, 141, 9318, 19609, 9, 28455, 141, 8789, 6949, 168, 2231, 581, 725, 11], [36221, 27, 13991, 1045, 345, 141, 6579, 25766, 172, 141, 866, 14929, 172, 141, 368, 583, 11, 10552, 313, 4709, 177, 3830, 3568, 268, 423, 28897, 4907, 4635, 177, 30068, 141, 14929, 406, 6060, 172, 1423, 5867, 177, 9119, 11, 390, 3221, 406, 10478, 222, 268, 1297, 10, 22, 12, 576, 141, 2213, 493, 16361, 16116, 4001, 168, 9517, 176, 9, 34157, 9, 5383, 9, 177, 21957, 6725, 177, 22539, 14430, 11, 390, 3221, 807, 4095, 887, 168, 141, 17935, 21457, 4, 857, 177, 20850, 270, 168, 3568, 1828, 101, 22, 12, 576, 9079, 285, 1152, 2127, 2967, 4, 5867, 177, 14319, 26835, 162, 1139, 3048, 3082, 1728, 141, 101, 763, 17, 6194, 12304, 11, 7867, 2905, 333, 127, 1557, 172, 16465, 9, 31403, 9, 177, 15008, 11], [36221, 15312, 2465, 268, 1204, 361, 14531, 386, 1900, 2341, 9, 127, 9389, 27298, 16489, 4749, 3674, 926, 423, 168, 2591, 788, 13203, 729, 997, 11739, 127, 1244, 5031, 11], [36221, 25339, 4101, 2526, 7770, 18314, 177, 581, 10224, 33828, 350, 1627, 162, 294, 8918, 4489, 729, 294, 4301, 199, 15971, 3525, 676, 629, 8824, 11], [36221, 27, 24940, 18615, 222, 3160, 168, 294, 8240, 29189, 374, 127, 8168, 15059, 177, 581, 3063, 11185, 2099, 9, 3063, 29056, 24317, 11], [36221, 1819, 127, 4693, 26033, 6258, 645, 168, 893, 127, 2183, 9, 505, 382, 4360, 285, 581, 4503, 11, 2335, 7343, 483, 15137, 168, 15980, 335, 35555, 7069, 9, 581, 2841, 1344, 18546, 840, 27189, 1789, 4647, 11], [36221, 27, 4693, 22176, 8581, 168, 6163, 1110, 127, 2033, 22479, 382, 8605, 222, 15186, 168, 141, 6854, 2076, 172, 2085, 11], [36221, 4182, 13595, 581, 127, 5364, 5022, 15889, 162, 127, 1814, 1577, 15654, 8928, 5251, 3879, 123, 4037, 168, 3350, 345, 127, 2312, 1146, 491, 5784, 16224, 6292, 653, 582, 1100, 168, 2842, 2729, 11, 19634, 235, 127, 32390, 7339, 382, 8662, 127, 6599, 285, 127, 11468, 23610, 9, 5504, 22389, 276, 6840, 1611, 819, 6840, 1611, 19931, 11, 941, 3525, 141, 6599, 887, 168, 141, 6292, 505, 345, 2689, 382, 24085, 10461, 33311, 235, 581, 4168, 9, 10191, 2546, 382, 222, 141, 8451, 5763, 9, 158, 1216, 276, 6048, 127, 2979, 16414, 183, 17445, 478, 235, 141, 7339, 23857, 222, 12939, 141, 7589, 172, 11669, 242, 18515, 313, 505, 644, 222, 141, 1354, 6574, 25], [36221, 1236, 350, 235, 141, 523, 172, 184, 10417, 12725, 308, 141, 101, 3055, 2090, 172, 182, 32982, 2383, 13575, 35266, 9490, 127, 1922, 4324, 1552, 4204, 374, 141, 13008, 311, 36217, 20385, 10544, 1340, 1069, 1613, 12898, 1069, 162, 127, 966, 177, 13446, 4864, 16657, 12783, 11, 390, 4864, 6902, 840, 127, 966, 9, 2059, 990, 27811, 177, 10002, 2447, 235, 5522, 268, 22767, 4933, 172, 141, 523, 162, 127, 9242, 35938, 1576, 172, 3221, 177, 5822, 9, 16416, 13575, 35266, 406, 21887, 693, 17341, 172, 4458, 318, 11], [36221, 4182, 3776, 235, 141, 7178, 8989, 172, 8256, 217, 127, 1039, 9, 4627, 9808, 268, 1077, 5572, 14879, 125, 484, 2455, 581, 22112, 11, 539, 260, 857, 23543, 222, 127, 2665, 9, 101, 19, 3184, 9, 1152, 17857, 7855, 9, 4190, 168, 956, 9, 7100, 15252, 285, 294, 11202, 177, 127, 5623, 1489, 162, 788, 3370, 217, 13094, 5572, 8285, 11], [36221, 27, 3534, 5784, 21027, 22188, 523, 1738, 141, 20935, 19435, 172, 7001, 29573, 63, 7448, 11, 21803, 79, 222, 127, 2815, 18397, 4702, 693, 3821, 4587, 2861, 222, 1655, 1833, 172, 20045, 671, 141, 1399, 268, 4613, 3465, 141, 10232, 172, 21825, 27428, 11, 28494, 3441, 581, 24573, 9, 21803, 79, 406, 7200, 8405, 268, 382, 2842, 127, 28117, 168, 438, 270, 491, 172, 581, 1375, 11, 1484, 235, 127, 143, 12107, 2689, 9, 729, 382, 11739, 19003, 55, 9, 127, 33078, 5694, 999, 1746, 199, 9, 644, 3062, 162, 127, 13014, 28205, 19223, 3401, 9, 581, 19056, 217, 3465, 2292, 878, 15172, 9923, 11]]\n",
            "Test loss: 2.1798319816589355\n",
            "2.101412773132324\n",
            "[[36221, 27, 1045, 345, 141, 11292, 177, 8706, 5051, 172, 390, 8455, 686, 18749, 9, 3776, 162, 141, 3878, 6454, 1728, 141, 2954, 703, 172, 141, 101, 336, 191, 6153, 11], [36221, 32, 715, 4183, 715, 9, 127, 2702, 177, 7949, 3674, 9, 28588, 162, 9759, 162, 16523, 683, 9527, 11, 2143, 17581, 73, 2278, 333, 5822, 729, 788, 101, 713, 3320, 4346, 3164, 3675, 840, 294, 7394, 11, 539, 6020, 16523, 683, 9527, 9, 997, 15604, 234, 162, 127, 1399, 172, 3290, 419, 11093, 833, 2243, 2153, 23625, 7962, 788, 887, 168, 1685, 11], [36221, 1742, 214, 25094, 13521, 4, 17642, 28747, 11005, 4164, 19581, 671, 141, 5822, 172, 141, 551, 11195, 184, 6306, 12276, 327, 23968, 200, 28428, 17217, 1932, 22055, 177, 5634, 34512, 168, 1102, 1151, 141, 2650, 172, 184, 563, 20361, 34655, 1748, 285, 2721, 3685, 28542, 1, 162, 776, 7954, 16555, 11, 1500, 260, 168, 2145, 141, 5872, 840, 141, 3235, 172, 23968, 19527, 11], [36221, 444, 101, 2651, 15, 141, 17669, 2735, 2095, 101, 710, 3320, 4346, 33328, 9950, 168, 4222, 177, 2564, 141, 3111, 172, 141, 2387, 27898, 141, 14834, 172, 141, 2221], [36221, 7785, 587, 30712, 11850, 13978, 266, 8014, 1073, 406, 4780, 1578, 127, 17072, 168, 581, 7255, 344, 6935, 20886, 177, 127, 142, 33575, 168, 13978, 24, 582, 4063, 3736, 25231, 11], [36221, 27, 11222, 9454, 34048, 14859, 168, 7796, 268, 3096, 8861, 18322, 350, 1243, 31274, 11], [36221, 4899, 493, 5251, 12141, 2649, 406, 601, 3742, 476, 676, 270, 9, 177, 382, 807, 493, 581, 3370, 523, 235, 581, 8497, 406, 6450, 11, 212, 236, 6597, 29808, 1069, 168, 1107, 491, 235, 127, 4207, 8203, 9, 505, 917, 1151, 9, 5251, 484, 455, 2944, 168, 438, 6026, 177, 233, 141, 1065, 4693, 22176, 162, 3817, 826, 34539, 262, 270, 2451, 6511, 7773], [36221, 39, 3095, 311, 17036, 455, 22045, 9, 9775, 9, 141, 2221, 11, 2335, 127, 2815, 19616, 3894, 9734, 1599, 213, 1459, 3674, 20516, 10826, 9, 288, 1459, 29766, 7453, 581, 2838, 168, 1007, 127, 5782, 2268, 235, 141, 13472, 172, 127, 1640, 5856, 268, 13103, 235, 629, 31272, 24890, 3477, 11], [36221, 25339, 4101, 2526, 7770, 18314, 177, 581, 10224, 33828, 350, 1627, 162, 294, 8918, 4489, 729, 294, 4301, 199, 15971, 3525, 676, 629, 8824, 11], [36221, 21812, 23253, 4749, 3674, 5691, 311, 4953, 3212, 7746, 127, 13312, 3554, 285, 30826, 1087, 6597, 8934, 2871, 5371, 9, 4920, 5285, 268, 382, 406, 807, 35458, 4413, 285, 4252, 25517, 6949, 9369, 31742, 683, 11, 1308, 1623, 5691, 177, 9369, 9, 141, 9139, 646, 7071, 127, 1071, 285, 629, 169, 28915, 2387, 73, 9, 177, 2546, 1623, 1055, 268, 8934, 222, 6048, 1623, 172, 827, 9, 8741, 222, 6471, 168, 801, 516, 172, 141, 8021, 177, 30516, 382, 7962, 168, 629, 4128, 9395, 4360, 11], [36221, 25208, 5883, 518, 21204, 8854, 9583, 260, 11524, 671, 127, 14141, 139, 29654, 4498, 268, 127, 3955, 23778, 9014, 21685, 840, 127, 14265, 560, 2452, 177, 3617, 30794, 127, 3830, 857, 11], [36221, 48, 30381, 9, 127, 101, 3060, 774, 1709, 646, 9, 3675, 491, 172, 10535, 162, 141, 10222, 172, 3177, 8272, 147, 9, 16597, 11, 6358, 4099, 9, 382, 4664, 168, 1095, 581, 1067, 4582, 6450, 9, 644, 4360, 162, 127, 28270, 79, 177, 5804, 2245, 11, 1504, 438, 782, 9, 382, 1472, 3736, 1660, 14673, 162, 127, 1922, 9481, 235, 141, 18321, 9, 11647, 3878, 840, 141, 21567, 11, 449, 30381, 222, 127, 7346, 177, 458, 35364, 646, 11, 941, 23160, 141, 25991, 172, 1372, 3776, 2385, 168, 4785, 11, 212, 3878, 12883, 29386, 1069, 9, 141, 938, 382, 17682, 177, 141, 5068, 382, 4037, 1133, 9, 476, 268, 3294, 162, 141, 452, 18982, 312, 1399, 382, 8662, 3241, 18067, 959, 581, 966, 1219, 172, 29074, 11], [36221, 3200, 5230, 3394, 17990, 437, 959, 101, 627, 1219, 676, 141, 6608, 13760, 9, 582, 4788, 824, 935, 2963, 270, 222, 217, 966, 1647, 1324, 6729, 12068, 2894, 177, 6498, 2204, 168, 233, 16277, 1196, 11], [36221, 1742, 581, 1685, 1964, 162, 376, 2163, 445, 883, 581, 12980, 824, 22849, 1069, 9, 382, 406, 3893, 581, 9494, 12904, 9, 177, 581, 5529, 222, 8767, 4091, 883, 7955, 990, 307, 15219, 21699, 943, 175, 19062, 23935, 1463, 5204, 6, 2905, 1577, 1139, 6414, 406, 16703, 168, 1095, 127, 5572, 16042, 8703, 175, 38, 2096, 11930, 9892, 139, 6, 553, 7461, 581, 8367, 11, 18430, 141, 6905, 17190, 25993, 9, 15219, 22692, 168, 31223, 581, 11818, 3686, 17311, 235, 141, 767, 9385, 25822, 505, 3213, 7746, 168, 7036, 285, 581, 26438, 11], [36221, 11639, 581, 11136, 10144, 9, 12612, 8919, 13978, 30628, 454, 222, 127, 11988, 911, 21608, 264, 177, 493, 1900, 2844, 7790, 19599, 11, 212, 3194, 374, 581, 6556, 1401, 1376, 3032, 9, 13978, 18899, 127, 1180, 3561, 168, 957, 141, 7715, 345, 13274, 6052, 11, 1484, 127, 4310, 331, 7200, 4587, 18274, 4647, 22692, 168, 25107, 1069, 27101, 495, 13978, 406, 4559, 11], [36221, 49, 18069, 10374, 172, 3241, 662, 1429, 9, 177, 847, 1429, 1154, 7823, 222, 8690, 457, 3194, 11, 1057, 141, 3221, 1051, 233, 783, 168, 423, 127, 12038, 4847, 9, 260, 767, 18299, 5556, 168, 141, 1721, 768, 11343, 622, 9835, 11, 11196, 531, 5010, 217, 141, 3221, 386, 768, 55, 17828, 216, 172, 617, 12910, 1375, 9, 6783, 32228, 593, 177, 18694, 4598, 1788, 382, 783, 172, 141, 101, 1299, 13325, 13468, 9592, 268, 24014, 162, 886, 645, 2901, 2219, 2695, 3111, 9, 1965, 127, 646, 531, 3235, 11, 539, 141, 866, 4226, 1029, 938, 2686, 127, 2227, 9, 4312, 14761, 9, 177, 5890, 168, 768, 1899, 470, 9493, 13839, 24874, 622, 235, 141, 5916, 11, 13958, 9, 127, 646, 175, 23694, 374, 25341, 13798, 145, 28001, 11120, 6, 15660, 17562, 257, 2088, 177, 5819, 235, 141, 4423, 11, 1187, 1144, 9, 141, 5852, 4396, 172, 141, 8367, 222, 4541, 177, 2797, 235, 141, 3229, 9, 7786, 9, 285, 9254, 11393, 9, 671, 141, 3914, 646, 162, 788, 8367, 5811, 997, 493, 1900, 2797, 1165, 11], [36221, 27, 8497, 172, 127, 12341, 14723, 9, 25500, 61, 446, 9065, 9, 9950, 168, 1471, 887, 168, 20440, 8622, 168, 10934, 141, 5647, 1139, 6414, 285, 581, 2183, 11, 3109, 9, 4559, 1123, 699, 516, 276, 19410, 959, 382, 23233, 8123, 285, 127, 17697, 9, 311, 599, 288, 11114, 11], [36221, 27, 1045, 345, 1297, 10, 22, 12, 576, 3635, 374, 141, 21306, 1635, 5877, 11], [36221, 27, 28208, 172, 127, 4124, 20903, 33996, 12011, 127, 4310, 5852, 1885, 332, 10709, 217, 788, 23439, 9, 644, 2228, 15726, 141, 19205, 11], [36221, 27, 15247, 21919, 8594, 29887, 177, 788, 101, 503, 3320, 4346, 6450, 644, 406, 12757, 333, 35359, 9, 8377, 495, 127, 34643, 14652, 285, 127, 4819, 18472, 11, 5807, 141, 2699, 493, 878, 3367, 3890, 308, 1977, 168, 2801, 9, 141, 17699, 7424, 168, 1139, 3048, 3082, 1031, 141, 6450, 1417, 723, 141, 6484, 273, 545, 345, 32950, 4070, 9, 12401, 141, 2180, 162, 390, 10926, 3588, 6378, 29372, 9, 177, 8773, 179, 147, 1065, 172, 141, 2397, 11], [36221, 19748, 383, 18210, 14289, 18515, 1738, 28530, 200, 10838, 730, 177, 581, 2183, 217, 581, 303, 129, 712, 6935, 11], [36221, 45, 9185, 483, 25195, 222, 127, 16372, 7200, 345, 1139, 3048, 406, 6087, 24489, 23721, 13531, 4456, 3611, 23, 788, 8294, 4692, 350, 33558, 6444, 9, 127, 2365, 222, 7068, 9, 782, 406, 662, 20812, 9, 4450, 10454, 2416, 11, 390, 5720, 222, 7542, 9091, 285, 5126, 177, 3919, 175, 10999, 406, 294, 495, 177, 177, 127, 1110, 27019, 913, 26713, 6599, 345, 141, 3515, 645, 11, 17696, 9, 997, 9950, 11, 1903, 997, 8536, 141, 14834, 177, 788, 22057, 162, 788, 866, 17389, 2632, 495, 141, 3221, 23, 127, 14182, 3821, 12179, 491, 9, 1805, 29669, 1133, 359, 9, 127, 2699, 285, 127, 3557, 235, 127, 5736, 7200, 3675, 27972, 9, 177, 127, 6514, 505, 31220, 3821, 34140, 73, 33843, 406, 11115, 491, 11, 212, 6686, 172, 34840, 9, 4507, 4, 2689, 9, 177, 127, 5290, 6034, 7249, 141, 3306, 11, 2171, 997, 957, 270, 25], [36221, 27, 7641, 722, 59, 15033, 15650, 141, 6551, 644, 1578, 788, 11, 390, 11160, 423, 168, 6722, 262, 997, 222, 13141, 172, 6511, 9, 935, 448, 582, 16591, 788, 8241, 9, 644, 761, 3078, 168, 455, 285, 141, 6436, 25], [36221, 10337, 140, 222, 127, 7589, 172, 141, 101, 2651, 17, 26487, 9, 4860, 495, 374, 127, 11603, 11, 7421, 140, 12428, 168, 3853, 141, 3045, 7156, 560, 3066, 6258, 644, 761, 5039, 581, 4507, 177, 581, 12288, 8241, 11, 941, 3525, 13046, 162, 141, 2705, 172, 294, 6995, 3066, 6258, 177, 10329, 162, 2153, 285, 127, 8127, 406, 34516, 11, 3434, 382, 233, 2155, 168, 12658, 581, 18515, 25], [36221, 444, 141, 887, 7237, 172, 10794, 9489, 531, 9951, 560, 3877, 172, 2423, 218, 3008, 9, 294, 1709, 34328, 7453, 581, 22979, 168, 33830, 2305, 8123, 162, 141, 17772, 653, 423, 12117, 840, 600, 585, 11, 4909, 4504, 9, 141, 5874, 2705, 11172, 16297, 127, 13074, 172, 141, 5874, 531, 9713, 217, 776, 172, 141, 34328, 531, 5203, 8852, 11, 4909, 7419, 9, 141, 15654, 34328, 8691, 10845, 141, 184, 19046, 1, 10163, 162, 2199, 177, 12167, 260, 12166, 168, 19665, 581, 127, 5696, 177, 23472, 11, 2721, 1416, 9, 382, 2317, 1049, 1093, 495, 217, 629, 4505, 11, 390, 1335, 1416, 9, 382, 5819, 162, 581, 3438, 276, 581, 29532, 1853, 19024, 676, 581, 7894, 11, 212, 6778, 3525, 886, 866, 4994, 9, 505, 382, 222, 15459, 813, 141, 2012, 172, 141, 22979, 177, 10329, 3419, 11, 941, 10329, 840, 127, 23087, 162, 141, 4252, 172, 141, 8623, 11, 20484, 168, 14174, 491, 9, 382, 7956, 1385, 217, 1107, 9, 505, 8741, 141, 331, 34328, 9, 4373, 581, 3896, 9, 4612, 1069, 11, 2335, 382, 3849, 26062, 333, 141, 23087, 9, 382, 8662, 268, 382, 222, 5069, 11, 941, 15604, 234, 6106, 9687, 2243, 9, 276, 2689, 7746, 168, 3137, 9, 382, 207, 25623, 5759, 127, 31912, 17711, 3482, 162, 653, 382, 14289, 13046, 11], [36221, 25724, 9, 222, 3160, 162, 374, 141, 306, 8995, 125, 2183, 168, 5795, 276, 127, 101, 4871, 13, 73, 2705, 21850, 551, 268, 997, 448, 3952, 9652, 840, 127, 1685, 172, 23327, 11, 9783, 406, 1946, 28979, 177, 10437, 222, 1302, 268, 476, 2156, 3137, 217, 788, 9, 177, 9783, 5857, 270, 11, 2143, 448, 699, 1107, 7552, 333, 2678, 840, 7873, 285, 2156, 11], [36221, 563, 7130, 24032, 172, 127, 15247, 29738, 406, 5022, 21716, 1333, 127, 32826, 146, 1399, 172, 4311, 10028, 11960, 9, 15032, 8840, 177, 18479, 251, 18104, 11], [36221, 13787, 141, 5802, 4814, 29251, 598, 2689, 162, 101, 4254, 22, 7787, 9, 294, 11609, 9, 127, 5364, 17681, 1125, 790, 11724, 294, 27414, 10178, 148, 415, 333, 581, 4036, 132, 27379, 11, 20381, 9, 127, 2815, 7787, 826, 1655, 9017, 168, 2668, 127, 5974, 172, 8326, 20439, 168, 4612, 1372, 5612, 11, 16876, 582, 484, 1007, 127, 14652, 268, 30794, 127, 1180, 11959, 172, 17755, 162, 5099, 5926, 35211, 31917, 947], [36221, 9813, 141, 10577, 8700, 9, 127, 2183, 27590, 127, 1779, 20627, 11, 1758, 893, 4407, 127, 6026, 1685, 27967, 847, 141, 1065, 2179, 2026, 172, 350, 11, 1781, 141, 606, 9, 582, 4788, 582, 484, 360, 3701, 268, 20627, 24, 141, 2183, 222, 9019, 177, 21030, 29859, 11, 1758, 1472, 3242, 629, 1577, 177, 893, 3776, 799, 10442, 218, 23396, 11], [36221, 46, 4431, 2742, 4988, 172, 23327, 1613, 141, 1399, 11, 390, 13991, 31446, 1613, 141, 4360, 177, 2766, 9808, 9, 2793, 177, 7411, 172, 141, 2336, 11], [36221, 16303, 2381, 773, 202, 9, 127, 2815, 8651, 16267, 125, 1067, 3776, 235, 4002, 6979, 9, 8662, 3895, 26757, 374, 141, 14181, 2387, 177, 31645, 11194, 172, 581, 6325, 9, 141, 20807, 273, 7768, 11203, 311, 18319, 11, 941, 222, 9191, 840, 311, 18319, 406, 8096, 9, 6823, 127, 7327, 168, 22923, 177, 16498, 11], [36221, 20168, 177, 2311, 25844, 10027, 14661, 4360, 285, 788, 25084, 4503, 177, 9, 5205, 374, 22057, 9, 997, 484, 455, 2944, 168, 6741, 127, 1926, 11]]\n",
            "Test loss: 1.5075098276138306\n",
            "2.258596181869507\n",
            "[[36221, 4182, 8387, 581, 4507, 162, 127, 1344, 7394, 9, 29117, 3070, 14677, 345, 581, 29376, 406, 2705, 162, 12631, 11, 2138, 12147, 162, 127, 1244, 217, 3078, 2415, 162, 5230, 382, 8662, 5933, 374, 3932, 17224, 345, 141, 1640, 25975, 9, 141, 2012, 172, 141, 2218, 382, 18890, 676, 3856, 168, 957, 127, 3776, 177, 3294, 1814, 172, 581, 15849, 11, 214, 28, 641, 33719, 4, 222, 127, 2452, 2428, 345, 141, 11021, 7284, 172, 127, 331, 1685, 11, 2335, 29117, 3070, 11739, 8622, 7445, 214, 55, 2772, 447, 4, 345, 127, 31794, 3279, 9, 1938, 1154, 382, 1055, 172, 141, 2397, 177, 270, 406, 3856, 177, 2451, 168, 10610, 11, 8622, 7445, 7102, 27169, 29117, 3070, 9, 17063, 177, 31582, 382, 10329, 217, 788, 11, 2579, 7163, 222, 127, 14715, 172, 22112, 9, 127, 2253, 172, 2452, 268, 5342, 162, 141, 3955, 231, 2453, 276, 214, 229, 26714, 8840, 172, 6436, 4], [36221, 18528, 13928, 172, 5694, 6484, 14847, 8292, 2939, 16451, 518, 8269, 13459, 628, 333, 2954, 11722, 9, 9833, 168, 141, 36067, 172, 141, 6888, 177, 581, 8320, 174, 724, 3235], [36221, 4518, 4475, 127, 3209, 7388, 9, 184, 39, 18125, 10413, 1, 20013, 141, 35362, 172, 10413, 374, 28515, 127, 3168, 162, 645, 175, 3572, 18, 10, 2192, 492, 729, 294, 162, 6103, 2481, 4763, 162, 141, 6443, 386, 30195, 9, 2810, 217, 141, 2774, 386, 23189, 177, 1685, 386, 4050, 3776, 235, 141, 24929, 11, 1134, 9205, 1204, 31050, 11353, 3840, 222, 1100, 4673, 141, 3221, 9, 1031, 1352, 7963, 1268, 4688, 360, 878, 4550, 235, 847, 582, 3426, 168, 233, 20472, 2690, 9, 505, 807, 8506, 459, 629, 1360, 9835, 11, 390, 3221, 9750, 285, 311, 33835, 21923, 175, 1329, 2896, 21257, 447, 15781, 313, 13372, 34708, 27025, 31469, 492, 177, 35681, 13056, 447, 7770, 9, 2362, 491, 214, 49, 741, 63, 7326, 4, 13556, 141, 214, 34, 8870, 4, 1369, 883, 4407, 840, 141, 214, 73, 20421, 2838, 4, 11736, 172, 11992, 8125, 30228, 9021, 9, 141, 182, 14895, 24, 34, 5276, 24925, 23562, 9, 644, 7819, 162, 127, 244, 413, 127, 1671, 11383, 1039, 20062, 127, 9951, 16137, 162, 5614, 25582, 11], [36221, 15338, 14693, 493, 1900, 748, 4248, 604, 11, 10043, 1510, 734, 56, 1447, 1999, 14693, 1693, 141, 7916, 3489, 5415, 25, 10043, 288, 5118, 12761, 294, 32993, 6521, 168, 1864, 887, 333, 141, 3914, 177, 3119, 5251, 476, 141, 1205, 168, 141, 1144, 4768, 172, 141, 2338, 25, 101, 819, 5370, 2452, 20013, 141, 3370, 172, 141, 101, 3121, 13, 73, 313, 2355, 1133, 27413, 12561, 177, 8682, 11416, 285, 141, 938, 644, 765, 1616, 782, 313, 141, 1552, 11576, 9, 5693, 9, 12884, 177, 3394, 644, 765, 162, 141, 2917, 2064, 172, 141, 2338, 268, 3847, 16496, 101, 14, 9654, 11], [36221, 4182, 141, 4627, 172, 5825, 138, 6685, 531, 9481, 3972, 9, 141, 2666, 13372, 172, 141, 4131, 7549, 9, 177, 141, 7876, 172, 141, 26506, 172, 3854, 18517, 9, 31515, 1212, 11008, 10027, 63, 493, 4550, 168, 2404, 141, 13233, 172, 127, 703, 172, 581, 1360, 2296, 9, 28858, 177, 19567, 217, 676, 1029, 1219, 162, 127, 976, 15006, 235, 12499, 531, 9074, 6599, 3944, 12483, 18687, 269, 3181, 23843, 1134, 210, 367, 9, 308, 27663, 23259, 4788, 141, 15905, 13492, 177, 2341, 18806, 28916, 2202, 162, 260, 2245, 172, 4654, 27163, 11, 2871, 12638, 4025, 177, 35386, 17445, 4126, 17308, 333, 141, 2884, 172, 141, 24602, 6644, 23, 127, 17873, 1125, 333, 141, 12008, 189, 24157, 3877, 177, 581, 5230, 3821, 6450, 7484, 127, 598, 22657, 9320, 162, 127, 4458, 8367, 3374, 2305, 141, 27663, 11], [36221, 38, 6118, 17114, 1643, 177, 2939, 21211, 1226, 1172, 1466, 350, 2043, 24845, 162, 127, 3460, 2666, 6188, 11, 17402, 9, 127, 20608, 9, 222, 1292, 9809, 172, 31390, 10293, 177, 2939, 21211, 222, 127, 3504, 20638, 11, 1504, 7969, 5822, 17402, 10310, 73, 13312, 6295, 9, 1039, 2939, 21211, 9950, 168, 1853, 581, 2861, 235, 141, 4489, 382, 406, 162, 11, 7703, 141, 645, 582, 5576, 2729, 9, 141, 1029, 2156, 1864, 168, 2564, 177, 3592, 598, 1805, 11], [36221, 563, 774, 222, 101, 3572, 21, 11, 1504, 127, 1922, 4349, 162, 141, 6454, 172, 4651, 9, 6573, 29189, 374, 35095, 11709, 9, 127, 1790, 5693, 333, 4627, 10454, 9, 9329, 217, 127, 1961, 1685, 162, 141, 6396, 11, 390, 16384, 9915, 5642, 8802, 408, 18239, 372, 141, 184, 7415, 1, 15891, 9, 1039, 141, 7346, 15891, 1106, 141, 5642, 8802, 408, 276, 17637, 132, 344, 177, 23171, 11, 539, 260, 8140, 2947, 1029, 5119, 9, 35095, 177, 5216, 9, 4788, 141, 4929, 8700, 172, 141, 101, 1026, 406, 11], [36221, 15312, 2465, 268, 1204, 361, 14531, 386, 1900, 2341, 9, 127, 9389, 27298, 16489, 4749, 3674, 926, 423, 168, 2591, 788, 13203, 729, 997, 11739, 127, 1244, 5031, 11], [36221, 27, 13991, 3221, 671, 1721, 3568, 172, 10186, 9, 268, 3951, 141, 4988, 172, 1029, 2666, 1152, 2127, 2967, 9, 9343, 4923, 239, 1281, 177, 29363, 23232, 11, 1781, 141, 645, 172, 141, 4929, 25536, 9, 239, 1281, 386, 101, 627, 177, 23232, 386, 101, 713, 1219, 1709, 11, 3297, 141, 25536, 9, 141, 7951, 177, 629, 5693, 765, 18884, 168, 7434, 177, 12111, 9863, 4601, 11], [36221, 1742, 127, 2947, 235, 177, 1065, 2156, 1243, 19245, 9, 11673, 9577, 16052, 5496, 493, 662, 4545, 3972, 1578, 11, 1531, 6450, 11579, 8270, 141, 3944, 177, 1154, 360, 957, 598, 4342, 11, 2143, 3849, 3675, 598, 30640, 4342, 285, 141, 3685, 13977, 9577, 2568, 1893, 505, 22537, 4664, 8738, 285, 788, 11, 2248, 141, 19318, 172, 7579, 2974, 168, 141, 2947, 9, 11579, 2793, 127, 4341, 6551, 168, 438, 127, 1489, 168, 3350, 162, 16721, 1888, 9, 653, 222, 1335, 168, 6298, 16721, 11, 2143, 3675, 20646, 11, 16719, 477, 168, 869, 276, 788, 6551, 824, 168, 2981, 11, 3537, 1857, 516, 3515, 276, 581, 27758, 6258, 222, 782, 177, 8605, 827, 168, 233, 7851, 11, 808, 3675, 7123, 276, 3089, 406, 4503, 3493, 495, 177, 917, 11579, 406, 4780, 11], [36221, 563, 3221, 18208, 235, 2282, 709, 177, 581, 3534, 5784, 21027, 2292, 162, 6927, 13582, 162, 101, 4871, 19, 11, 2282, 709, 19468, 127, 2385, 3554, 285, 581, 7200, 3089, 9826, 23358, 644, 19582, 141, 5482, 168, 1608, 1857, 162, 141, 1399, 11, 4151, 141, 2452, 18208, 235, 2282, 709, 406, 11312, 3534, 5784, 21027, 7411, 9, 19409, 3809, 168, 141, 27796, 9388, 10000, 3536, 22565, 8094, 2282, 709, 406, 3104, 4477, 177, 4965, 1685, 11], [36221, 444, 141, 3370, 172, 22264, 3008, 141, 26566, 7960, 7858, 9, 1111, 959, 629, 23034, 9985, 9, 6568, 333, 629, 6668, 955, 16145, 8789, 162, 141, 22369, 162, 629, 19995, 217, 5203, 4495, 11, 24362, 13044, 361, 4587, 2183, 350, 476, 7951, 172, 26566, 7960, 26191, 247, 1598, 9, 9750, 629, 26854, 177, 11785, 127, 10880, 1133, 629, 1378, 24333, 693, 12940, 11, 2721, 13653, 382, 2978, 13810, 222, 268, 172, 141, 15170, 4310, 232, 1804, 12131, 26566, 7960, 11, 12781, 172, 5933, 1340, 268, 33247, 242, 2689, 2243, 232, 1804, 12131, 169, 17504, 1156, 168, 127, 24137, 788, 2183, 406, 1210, 3825, 177, 14674, 788, 8050, 217, 4495, 11], [36221, 4182, 127, 4478, 291, 345, 141, 1328, 2492, 9, 212, 7359, 12583, 12528, 11941, 127, 18883, 7169, 4679, 217, 141, 19869, 8240, 172, 25467, 9, 13763, 9, 3213, 172, 141, 539, 3147, 985, 1447, 11776, 16947, 382, 406, 11433, 217, 11, 808, 406, 141, 2954, 2090, 172, 4372, 16559, 9, 177, 382, 222, 1655, 17063, 177, 16125, 1282, 168, 1616, 2463, 491, 654, 172, 581, 3739, 1462, 127, 33730, 6678, 285, 2336, 406, 9357, 9, 127, 24277, 129, 919, 5852, 29145, 9, 177, 662, 2351, 168, 2668, 2610, 1828, 382, 386, 6586, 217, 1833, 2227, 419, 841, 24, 3185, 162, 18088, 11], [36221, 44, 440, 69, 1251, 25005, 9, 127, 14985, 3776, 162, 127, 1922, 9951, 4349, 162, 2913, 10742, 9, 493, 6112, 581, 6450, 2871, 10341, 285, 141, 3217, 268, 2228, 997, 6902, 101, 710, 9, 997, 484, 3710, 168, 2820, 177, 2801, 12695, 11, 3726, 2274, 222, 2385, 168, 30004, 11, 2871, 10341, 493, 2032, 127, 17372, 168, 2820, 16091, 162, 141, 4424, 11, 2143, 824, 493, 168, 1109, 788, 1180, 19865, 1017, 127, 1007, 2000, 217, 1302, 127, 1244, 3821, 11, 1426, 141, 1416, 1165, 788, 866, 3742, 4792, 9, 2871, 10341, 222, 21953, 162, 294, 2447, 268, 1051, 24079, 372, 788, 3170, 2774, 11, 3339, 29367, 493, 168, 957, 127, 3835, 11, 1927, 350, 3856, 172, 12549, 141, 4489, 9, 505, 4698, 172, 827, 1247, 141, 9888, 382, 9, 276, 127, 4780, 9, 493, 9610, 581, 6450, 11], [36221, 27, 2979, 2300, 222, 24140, 840, 127, 3944, 5622, 1133, 141, 3370, 235, 10151, 2666, 8869, 374, 127, 22623, 4216, 12694, 177, 581, 1376, 3032, 13972, 141, 2300, 840, 127, 3878, 5779, 172, 11092, 6493, 1685, 11], [36221, 486, 18952, 222, 16687, 172, 6412, 1558, 55, 9, 141, 331, 11057, 345, 788, 23069, 2127, 11, 1484, 222, 21585, 824, 20178, 172, 6412, 1558, 55, 406, 7036, 285, 8697, 447, 9, 308, 1154, 141, 331, 2699, 6239, 9424, 127, 4365, 4311, 25], [36221, 27, 1396, 172, 3394, 893, 127, 4761, 4827, 9, 505, 276, 582, 893, 629, 6568, 162, 141, 3290, 1399, 9, 582, 438, 6303, 495, 285, 7136, 11], [36221, 27, 2815, 3674, 22155, 172, 788, 13736, 177, 6334, 29183, 788, 1724, 5063, 1926, 177, 4037, 235, 127, 7519, 168, 1095, 788, 4902, 4503, 11], [36221, 35696, 127, 1987, 448, 2566, 676, 141, 2415, 172, 127, 2320, 1416, 162, 281, 641, 1893, 177, 729, 7074, 1763, 16035, 17981, 6597, 16919, 15137, 168, 1856, 127, 22945, 3279, 217, 581, 1376, 3032, 5738, 141, 3111, 172, 141, 1416, 1413, 127, 17027, 1836, 11, 1218, 141, 31689, 438, 18905, 9, 141, 7207, 172, 127, 1010, 4802, 437, 28117, 9, 127, 5492, 2080, 7238, 334, 9240, 9, 177, 127, 21047, 2534, 7432, 5552, 268, 260, 3163, 699, 1556, 168, 233, 127, 8933, 2689, 491, 11], [36221, 34552, 3320, 4346, 5416, 4317, 9, 6109, 127, 19774, 9, 23938, 268, 997, 2317, 699, 423, 141, 1685, 997, 15962, 177, 15137, 268, 141, 878, 22112, 14992, 172, 788, 222, 268, 172, 127, 15825, 19830, 11], [36221, 27, 13008, 406, 5022, 20804, 235, 22645, 294, 13085, 1257, 11], [36221, 10737, 172, 141, 2666, 29565, 276, 270, 386, 729, 8151, 788, 3760, 172, 152, 2432, 177, 31071, 23701, 150, 11], [36221, 9041, 3394, 1828, 582, 765, 4686, 9, 29542, 13808, 3546, 1770, 177, 11869, 10338, 17741, 350, 5827, 177, 3791, 2815, 2156, 3776, 177, 2362, 235, 1139, 3048, 406, 16411, 3083, 10125, 11, 2335, 13212, 764, 8995, 9, 2228, 629, 11722, 3032, 177, 1067, 9163, 840, 127, 4310, 8208, 7091, 9, 9231, 3326, 168, 141, 2397, 9, 997, 169, 164, 234, 16983, 177, 10338, 406, 4360, 177, 12940, 285, 127, 29745, 11, 35049, 7424, 177, 294, 10984, 177, 10281, 2153, 12406, 3251, 854, 11], [36221, 27, 3955, 23778, 4435, 23383, 127, 2815, 11222, 168, 7522, 127, 6511, 141, 4435, 7246, 3895, 11], [36221, 40, 422, 447, 266, 242, 9, 127, 101, 1040, 774, 4346, 11222, 217, 9368, 35478, 9, 4037, 25740, 162, 141, 21047, 3685, 6076, 406, 6979, 2336, 406, 17723, 17020, 162, 1473, 168, 15362, 12285, 9, 7434, 177, 6511, 11], [36221, 27, 1110, 6754, 2080, 145, 2093, 1447, 2666, 5216, 4124, 4099, 333, 10535, 222, 5923, 141, 4173, 168, 184, 7660, 1, 276, 141, 7589, 172, 127, 2959, 1015, 3221, 9, 141, 8251, 1695, 172, 653, 1051, 11180, 1107, 581, 11248, 417, 6384, 2183, 11], [36221, 2757, 141, 5099, 172, 266, 3202, 14473, 125, 32919, 2905, 294, 11192, 1045, 345, 676, 33617, 4507, 162, 6473, 11, 390, 3221, 10328, 141, 2483, 184, 3789, 396, 1018, 847, 406, 1376, 217, 771, 2085, 25, 1862, 455, 396, 824, 1018, 827, 168, 233, 141, 1376, 5089, 14559, 172, 260, 3221, 765, 1100, 162, 141, 11944, 172, 7177, 16440, 406, 20998, 2888, 2360, 172, 4826, 11], [36221, 35152, 212, 6855, 16568, 101, 6307, 22, 313, 26289, 4505, 222, 7632, 11, 1927, 222, 127, 27912, 235, 127, 11886, 5550, 313, 10332, 2219, 2156, 3119, 217, 629, 4360, 11, 3123, 1753, 19253, 9, 141, 27912, 9068, 505, 127, 1555, 29167, 222, 8232, 11], [36221, 18724, 311, 1951, 7076, 28161, 887, 235, 141, 4226, 285, 260, 27192, 15760, 7592, 12799, 2396, 11, 10343, 2001, 141, 184, 17553, 172, 6339, 21333, 1, 374, 390, 6411, 4584, 6529, 9, 7372, 406, 22923, 285, 476, 1857, 2610, 2905, 168, 35002, 235, 23561, 12495, 276, 382, 20853, 127, 8694, 1310, 15949, 172, 331, 2610, 8471, 333, 8695, 168, 24171, 168, 1123, 4238, 11, 1588, 3869, 217, 101, 1485, 3153, 172, 1830, 20410, 22832, 345, 7372, 406, 19151, 7747, 154, 12071, 2969, 4635, 13432, 235, 141, 12939, 28982, 8471, 268, 423, 1388, 1069, 127, 8003, 162, 141, 12799, 1399, 217, 16081, 172, 476, 10113, 11], [36221, 563, 12629, 222, 127, 5290, 843, 460, 12799, 3221, 1388, 162, 101, 763, 13, 9, 9583, 374, 10801, 518, 31096, 9, 19762, 15602, 571, 9441, 276, 294, 6282, 3221, 13673, 9, 644, 2632, 1938, 12318, 266, 6295, 285, 9473, 799, 29119, 31317, 7160, 177, 127, 11996, 11, 390, 3221, 11465, 18522, 6282, 15015, 177, 6282, 3221, 11, 390, 3221, 3152, 12396, 1600, 7837, 785, 8017, 9, 5072, 2616, 4645, 9, 177, 2670, 274, 374, 15262, 232, 480, 55, 9, 8971, 11673, 9, 15512, 206, 27342, 9, 7177, 20522, 18198, 23456, 9, 2708, 9777, 9310, 9, 4995, 571, 9441, 9, 13936, 12894, 9, 15068, 16503, 125, 9, 13228, 31144, 9, 15068, 28935, 9, 17993, 3685, 9, 9304, 14202, 245, 35355, 9, 20396, 3207, 300, 177, 4582, 3221, 13404, 28603, 21616, 11, 390, 21269, 4749, 172, 12646, 79, 3953, 9790, 175, 430, 9441, 6, 222, 783, 168, 423, 1388, 101, 11674, 7921, 11, 808, 222, 360, 3652, 276, 168, 2495, 382, 9583, 827, 476, 9, 308, 262, 270, 11371, 168, 7921, 5948, 308, 3742, 374, 141, 3953, 9790, 2650, 11], [36221, 1237, 4794, 101, 2449, 9952, 9, 26251, 21053, 2432, 222, 127, 4718, 1618, 11, 2335, 382, 4958, 491, 168, 12969, 581, 5314, 172, 9494, 9, 141, 15967, 21509, 8662, 294, 25055, 172, 938, 5729, 168, 13519, 581, 11093, 11, 10249, 270, 476, 9, 26251, 5651, 13950, 1395, 4461, 32963, 9, 12711, 382, 406, 23617, 217, 1845, 1779, 11], [36221, 44, 2545, 234, 162, 1139, 7876, 423, 168, 2591, 15891, 177, 4827, 899, 11]]\n",
            "Test loss: 1.5760799646377563\n",
            "2.0934560298919678\n",
            "[[36221, 34596, 495, 285, 788, 4507, 4, 152, 632, 3324, 9, 5284, 2093, 1756, 20263, 27339, 23526, 175, 30, 18673, 8557, 6, 7026, 162, 285, 788, 14364, 644, 222, 25735, 956, 162, 294, 1709, 9, 19229, 3374, 235, 15641, 406, 15092, 4370, 10125, 11, 2248, 11094, 268, 350, 12199, 9128, 9, 16005, 371, 177, 3697, 574, 723, 9, 260, 18452, 2965, 9199, 8898, 222, 1111, 578, 12105, 813, 270, 5342, 23, 3297, 127, 10179, 6109, 333, 629, 7061, 662, 15830, 7888, 177, 14379, 17503, 73, 141, 3374, 406, 7041, 9, 598, 374, 598, 9, 582, 11748, 2576, 168, 127, 20423, 1350, 7572, 268, 6902, 827, 840, 4495, 191, 631, 79, 9, 12770, 2948, 26506, 177, 15497, 629, 3374, 840, 127, 29829, 19892, 5175, 11], [36221, 32636, 17159, 2815, 24966, 162, 294, 10895, 17159, 2397, 11, 212, 12799, 671, 19325, 9, 22030, 177, 4458, 26706, 11, 101, 208, 1112, 158, 16009, 162, 22030, 4119, 581, 331, 16870, 4749, 276, 768, 834, 5593, 73, 352, 5663, 7272, 3726, 1396, 10374, 172, 4462, 2967, 172, 10588, 9, 13696, 629, 6412, 32265, 162, 464, 271, 21283, 5118, 11, 16876, 208, 1112, 158, 7895, 141, 20847, 146, 13677, 172, 141, 2967, 644, 6967, 127, 1416, 13468, 7027, 308, 127, 2842, 168, 127, 29783, 813, 127, 5663, 168, 141, 4402, 24786, 11, 14388, 9, 382, 11739, 887, 285, 581, 2228, 175, 4403, 813, 824, 127, 6, 1376, 3032, 8939, 73, 4526, 11, 872, 3973, 1454, 127, 3032, 644, 29764, 9626, 1069, 1977, 177, 1977, 276, 127, 3032, 177, 127, 1396, 268, 9626, 1069, 1977, 177, 1977, 276, 127, 5663, 9, 208, 1112, 158, 484, 423, 168, 2162, 294, 3022, 168, 476, 581, 3104, 3377, 5879, 581, 19325, 177, 581, 4749, 11], [36221, 4182, 127, 2699, 4037, 5021, 9, 1029, 172, 788, 3394, 177, 127, 14181, 523, 172, 19847, 1095, 3903, 9191, 168, 141, 8491, 162, 141, 17161, 1031, 997, 15460, 11, 1758, 484, 8029, 9, 582, 484, 4808, 9, 582, 484, 12190, 9, 582, 484, 957, 2153, 9, 177, 27225, 15182, 8339, 29676, 11], [36221, 563, 1862, 620, 175, 41, 1470, 20761, 1897, 1166, 6, 222, 127, 11092, 11524, 671, 13909, 9, 24082, 177, 2153, 11, 9305, 162, 31014, 177, 19449, 9, 25587, 63, 4360, 127, 3068, 1685, 285, 581, 15045, 5022, 177, 6450, 162, 294, 13658, 9, 5747, 8875, 162, 141, 15722, 172, 33534, 11, 32632, 168, 4176, 581, 3054, 177, 2183, 9, 25587, 63, 1472, 2591, 581, 13203, 177, 4127, 141, 963, 168, 4451, 495, 217, 1372, 382, 9717, 11], [36221, 15983, 77, 13866, 150, 22774, 23529, 1066, 168, 7969, 127, 15189, 6218, 13521, 644, 406, 8387, 581, 2861, 11], [36221, 563, 1726, 9702, 9, 3419, 6917, 31724, 1093, 24897, 35597, 16311, 4037, 911, 141, 12371, 1462, 551, 168, 4451, 1462, 162, 260, 7100, 12799, 11, 184, 30479, 3434, 2078, 11761, 1, 25277, 1721, 5736, 21566, 162, 141, 8160, 172, 6807, 447, 12202, 175, 17193, 14448, 11901, 492, 127, 493, 9385, 131, 4647, 861, 172, 141, 214, 1485, 73, 644, 493, 1828, 5411, 168, 6749, 162, 788, 1210, 10427, 10413, 1577, 24, 788, 1376, 3032, 177, 8129, 20124, 9, 32650, 175, 23488, 1470, 16899, 913, 177, 5825, 3047, 175, 19488, 5424, 3467, 948, 492, 141, 6450, 172, 127, 20903, 9000, 5009, 2833, 172, 6807, 447, 406, 644, 3493, 495, 168, 5391, 491, 127, 2227, 162, 788, 1577, 11, 390, 13329, 3018, 141, 17699, 172, 2336, 14619, 723, 276, 6807, 447, 22550, 217, 127, 4674, 6446, 12794, 6917, 3833, 2684, 7958, 2396, 31843, 817, 788, 2387, 4749, 2036, 1799, 9, 653, 2137, 23615, 647, 12069, 6295, 177, 4101, 5409, 3493, 11, 2579, 6807, 447, 2317, 699, 1055, 222, 268, 141, 35289, 400, 5254, 30314, 5825, 3047, 493, 127, 7531, 168, 13901, 217, 788, 20903, 2456, 9, 177, 484, 2145, 345, 3078, 168, 4127, 29745, 11], [36221, 563, 23767, 4239, 2502, 748, 4099, 333, 581, 8725, 6188, 14289, 168, 7906, 141, 8566, 172, 141, 3674, 644, 7216, 1069, 9, 15070, 5721, 127, 13163, 177, 28455, 581, 7925, 23767, 4239, 168, 1413, 676, 141, 6215, 11], [36221, 958, 167, 3904, 24451, 63, 553, 11584, 581, 1926, 11, 28384, 2146, 9, 141, 6985, 1031, 581, 5022, 5104, 4610, 3062, 276, 127, 1471, 7440, 471, 222, 5298, 11, 13844, 7949, 9, 168, 3701, 2351, 333, 141, 2598, 12925, 1375, 9, 582, 11808, 1066, 168, 1095, 331, 4720, 11, 1484, 582, 350, 4522, 33871, 177, 34913, 9, 598, 12069, 222, 5444, 374, 141, 1335, 11, 10468, 9, 629, 13909, 9, 7805, 9, 177, 629, 452, 5956, 312, 2153, 19058, 676, 141, 13740, 11], [36221, 145, 127, 2452, 671, 12034, 1152, 2127, 18974, 9, 141, 1422, 101, 14, 8489, 644, 350, 6586, 168, 516, 168, 29023, 168, 438, 840, 20064, 13151, 11, 212, 3821, 644, 493, 12172, 1023, 598, 345, 294, 35634, 2127, 5819, 162, 127, 5804, 9951, 11, 20975, 491, 2316, 177, 141, 10164, 3798, 172, 581, 3235, 957, 495, 141, 11523, 172, 260, 24499, 531, 18479, 11353, 9, 4587, 17580, 10141, 1051, 2180, 411, 168, 2867, 9, 768, 1236, 2869, 2797, 127, 19122, 1483, 10619, 127, 4133, 268, 14255, 396, 3337, 2729, 2387, 177, 2221, 9, 177, 127, 4364, 172, 17052, 11517, 1965, 7770, 4663, 9, 311, 1630, 7614, 177, 8559, 518, 65, 204, 1079, 63, 9, 141, 1065, 12995, 2314, 671, 141, 3221, 222, 141, 4735, 3590, 11, 808, 15567, 235, 177, 13959, 141, 5991, 3052, 172, 141, 10829, 172, 7655, 531, 4618, 1375, 9, 653, 350, 6823, 578, 8918, 177, 9152, 374, 141, 1416, 11], [36221, 17900, 15900, 222, 127, 18744, 10224, 11713, 168, 5499, 141, 3221, 11, 17266, 141, 3098, 162, 101, 1086, 12251, 11, 539, 7876, 9, 13282, 31398, 9, 127, 2815, 13038, 1303, 222, 11713, 168, 438, 776, 3592, 9, 177, 382, 15680, 168, 2627, 127, 4647, 11, 212, 14715, 172, 6497, 2632, 827, 5708, 11, 16630, 582, 2032, 141, 16448, 217, 4856, 13835, 11], [36221, 444, 127, 101, 3572, 13, 73, 23862, 4196, 5373, 217, 294, 6020, 23387, 17132, 32815, 2653, 268, 9, 20520, 921, 2986, 130, 168, 141, 2526, 9, 1898, 423, 127, 11018, 5040, 11], [36221, 27, 13991, 235, 25341, 15612, 8078, 239, 1265, 55, 9, 276, 997, 10234, 73, 788, 3669, 172, 30550, 406, 16518, 11], [36221, 5367, 235, 17022, 9, 127, 1396, 172, 4040, 15817, 177, 21967, 234, 423, 168, 2388, 127, 4483, 168, 141, 3404, 14019, 847, 222, 3515, 285, 141, 4618, 1375, 11, 1927, 222, 878, 598, 2541, 9, 141, 3404, 9717, 270, 0, 16585, 9, 141, 1396, 1472, 4063, 168, 4479, 168, 2455, 141, 3340, 1748, 11], [36221, 27, 1922, 1886, 4396, 222, 671, 168, 6004, 788, 5420, 168, 127, 2603, 8208, 3139, 11], [36221, 17338, 11093, 172, 17167, 11, 3880, 141, 16563, 1079, 4086, 20041, 4244, 4126, 168, 141, 15168, 774, 8321, 13411, 9, 19454, 3611, 20013, 141, 162, 9209, 177, 345, 13743, 11524, 9, 6970, 9, 3370, 5956, 9, 177, 19058, 1728, 598, 2127, 774, 345, 141, 6361, 7677, 4338, 3611, 4180, 217, 141, 10528, 9, 807, 2794, 276, 19454, 3611, 11], [36221, 563, 1555, 3987, 1718, 9, 1067, 162, 1411, 9, 172, 27664, 587, 175, 11978, 129, 27091, 2254, 26787, 25369, 147, 4, 15656, 7458, 9, 13943, 959, 141, 15884, 175, 30, 8844, 214, 1329, 4056, 343, 12642, 168, 127, 21546, 5736, 6, 172, 141, 1406, 2650, 11, 390, 5239, 505, 24370, 5856, 33769, 3164, 406, 18021, 35088, 9, 369, 2903, 177, 34548, 1365, 4494, 581, 26704, 175, 18114, 8467, 9, 2183, 177, 4780, 406, 805, 4630, 11321, 9, 127, 6026, 18642, 9, 505, 807, 11094, 177, 1111, 141, 2253, 2089, 199, 4587, 8294, 25452, 2567, 382, 222, 6, 177, 26517, 168, 22057, 162, 127, 645, 729, 127, 5482, 406, 13616, 386, 1533, 16253, 9, 15874, 177, 2572, 9508, 24, 5645, 729, 581, 4503, 19198, 1069, 22629, 33244, 997, 3525, 476, 581, 9357, 1577, 9, 13972, 1069, 168, 127, 966, 3023, 172, 12162, 9, 153, 4258, 10644, 406, 27457, 476, 141, 1205, 11, 819, 1718, 807, 26045, 141, 2452, 406, 2598, 177, 2178, 4452, 344, 8585, 11], [36221, 22418, 7787, 16739, 3956, 12188, 25164, 9, 168, 11402, 141, 1144, 2794, 7207, 172, 141, 7298, 23580, 23411, 577, 18246, 1728, 141, 34944, 172, 101, 7158, 19, 11], [36221, 27, 1396, 172, 1367, 1332, 7778, 5131, 10319, 276, 4083, 27118, 824, 168, 27053, 3662, 172, 553, 650, 371, 162, 3700, 3727, 172, 1515, 471, 11, 18944, 9, 582, 1701, 2542, 178, 1117, 840, 3534, 495, 285, 294, 3562, 3987, 11], [36221, 27, 3534, 5784, 21027, 22188, 523, 1738, 141, 20935, 19435, 172, 7001, 29573, 63, 7448, 11, 21803, 79, 222, 127, 2815, 18397, 4702, 693, 3821, 4587, 2861, 222, 1655, 1833, 172, 20045, 671, 141, 1399, 268, 4613, 3465, 141, 10232, 172, 21825, 27428, 11, 28494, 3441, 581, 24573, 9, 21803, 79, 406, 7200, 8405, 268, 382, 2842, 127, 28117, 168, 438, 270, 491, 172, 581, 1375, 11, 1484, 235, 127, 143, 12107, 2689, 9, 729, 382, 11739, 19003, 55, 9, 127, 33078, 5694, 999, 1746, 199, 9, 644, 3062, 162, 127, 13014, 28205, 19223, 3401, 9, 581, 19056, 217, 3465, 2292, 878, 15172, 9923, 11], [36221, 3200, 4450, 4837, 19244, 1176, 21562, 840, 4949, 268, 581, 3032, 16349, 5857, 476, 782, 222, 168, 1055, 671, 6665, 9, 582, 350, 32664, 177, 7418, 168, 2180, 21562, 177, 788, 163, 11619, 3972, 168, 294, 7533, 17558, 162, 1993, 172, 127, 17072, 162, 33046, 11], [36221, 444, 294, 8725, 645, 729, 31912, 2836, 34634, 11263, 33273, 1133, 141, 23185, 9, 127, 22274, 4756, 35420, 2905, 2591, 168, 2591, 177, 3370, 168, 3370, 285, 141, 1144, 14061, 235, 6116, 9, 29748, 11, 18430, 495, 7576, 168, 14961, 127, 20673, 344, 7432, 9, 35420, 3617, 23938, 581, 2466, 484, 233, 9691, 813, 382, 2989, 17967, 23, 1057, 382, 15650, 141, 7432, 9, 29748, 484, 2023, 276, 1216, 11], [36221, 563, 28628, 15362, 172, 141, 1019, 13917, 172, 8401, 9, 4951, 177, 5577, 162, 141, 8982, 24243, 162, 4370, 6192, 132, 11], [36221, 563, 31854, 7873, 11683, 350, 141, 1139, 3048, 2966, 16102, 7396, 175, 8466, 6116, 6, 8561, 172, 141, 101, 3572, 13, 73, 177, 101, 1485, 73, 9, 644, 9239, 2278, 333, 141, 24300, 31425, 177, 141, 14244, 12917, 9, 29964, 168, 141, 2666, 21985, 9, 4434, 285, 6215, 177, 2258, 177, 12939, 34543, 2575, 9, 177, 169, 26670, 141, 2483, 172, 3819, 177, 141, 7661, 1454, 6597, 9, 10945, 9, 177, 14310, 11, 6892, 5251, 3238, 1120, 493, 34319, 11881, 20575, 6632, 5564, 333, 11416, 175, 3004, 4129, 69, 22255, 344, 9, 8274, 263, 10068, 9, 177, 2738, 492, 4933, 177, 12561, 172, 17035, 1173, 13104, 9, 5331, 941, 2288, 9, 5615, 6028, 686, 9, 17816, 26149, 9, 177, 9276, 11938, 3018, 2738, 345, 725, 235, 629, 23051, 24317, 11], [36221, 4182, 581, 2183, 222, 2628, 8153, 333, 629, 1577, 9, 7949, 177, 15032, 5428, 7657, 17982, 15039, 9950, 168, 2312, 581, 1577, 887, 374, 12278, 127, 2538, 285, 141, 19122, 177, 2362, 217, 12815, 2381, 264, 9, 141, 12597, 1440, 7941, 12782, 644, 2628, 8153, 1069, 11], [36221, 27, 1396, 172, 26212, 2815, 11517, 2726, 8073, 345, 127, 1139, 3048, 3082, 6985, 11], [36221, 563, 5099, 17491, 21760, 14295, 15268, 222, 10860, 374, 127, 4101, 8824, 168, 11318, 127, 12753, 172, 581, 1376, 12318, 3221, 9, 141, 18165, 3852, 24414, 7388, 214, 38, 183, 297, 1378, 136, 6990, 4490, 3158, 1484, 14295, 15268, 222, 32142, 168, 4788, 268, 581, 2665, 6435, 9738, 13233, 172, 1685, 162, 11248, 222, 9293, 18790, 374, 5000, 587, 7979, 27227, 9, 177, 1111, 578, 32142, 729, 127, 1743, 2830, 162, 141, 8824, 7235, 3221, 177, 27227, 168, 233, 6303, 495, 313, 55, 30826, 1203, 8662, 7552, 162, 141, 7576, 172, 294, 23040, 4855, 2525, 9, 1039, 581, 5022, 8662, 7552, 162, 7449, 12758, 11, 1531, 14295, 15268, 493, 168, 1071, 840, 141, 3221, 168, 1066, 168, 2463, 3075, 491], [36221, 3200, 8474, 3845, 35144, 272, 6081, 33805, 5462, 126, 222, 432, 19742, 333, 141, 4427, 177, 2343, 168, 34720, 9, 997, 177, 746, 16779, 1095, 3903, 8058, 168, 127, 10510, 2466, 1017, 1247, 629, 17692, 168, 21130, 1329, 7925, 14931, 644, 350, 15773, 168, 2023, 162, 141, 4677, 24129, 11], [36221, 48, 240, 2821, 222, 294, 11609, 28117, 285, 13807, 27034, 11, 941, 8662, 294, 19842, 2815, 646, 162, 141, 11721, 172, 16112, 612, 586, 177, 3525, 1069, 1577, 11, 3339, 17001, 177, 25694, 19032, 9, 141, 1029, 2156, 2627, 127, 3938, 162, 23327, 177, 14684, 333, 629, 5524, 11, 1187, 2607, 9, 2156, 1801, 172, 26608, 3710, 141, 3938, 285, 662, 4019, 505, 168, 7969, 333, 7787, 11, 390, 34382, 7746, 833], [36221, 14849, 235, 141, 17476, 172, 3791, 6204, 990, 22088, 12385, 6295, 9, 285, 35713, 24476, 12799, 177, 28547, 32180, 11, 2109, 7845, 177, 25131, 7810, 408, 9, 24586, 12055, 177, 29308, 6499, 708, 6359, 162, 168, 20154, 125, 776, 172, 10413, 406, 5700, 1852, 30735, 9, 1965, 182, 22088, 9, 208, 8902, 2579, 1075, 9088, 5378, 11161, 9, 390, 7527, 9, 2666, 19960, 177, 390, 20645, 19386, 4041, 11], [36221, 27, 2815, 646, 8662, 1526, 392, 285, 127, 2815, 3674, 9, 581, 4503, 9, 177, 127, 1152, 18009, 5958, 4931, 644, 25009, 1069, 168, 11478, 127, 3367, 11934, 1552, 11], [36221, 21885, 769, 774, 1709, 232, 16343, 32924, 218, 380, 62, 8091, 222, 671, 168, 233, 10681, 840, 27165, 774, 1709, 5416, 63, 25596, 406, 2183, 11, 232, 16343, 8776, 495, 162, 127, 5694, 8138, 265, 24, 5416, 63, 386, 6109, 177, 6112, 162, 11919, 177, 493, 748, 141, 8682, 3690, 172, 788, 4507, 4, 2153, 788, 3114, 1685, 11, 390, 1402, 172, 232, 16343, 6823, 703, 172, 141, 25596, 2183, 222, 1556, 168, 1699, 1623, 5119, 9654, 11, 390, 7868, 17477, 172, 6959, 7163, 232, 16343, 276, 997, 7089, 5592, 168, 141, 5576, 788, 866, 774, 276, 703, 172, 141, 25596, 2183, 9, 644, 423, 807, 10681, 3029, 774, 1709, 15033, 8285, 23033, 177, 34682, 174, 11, 2335, 141, 5822, 172, 27400, 285, 2085, 644, 423, 9163, 495, 162, 8975, 6902, 491, 168, 233, 578, 3533, 813, 582, 2552, 17967, 9, 141, 25596, 406, 10757, 1029, 172, 141, 1399, 406, 1376, 22383, 30113, 168, 1107, 827, 1443, 629, 331, 2183, 313, 1133, 5403, 11, 10604, 20058, 9, 4807, 31855, 9, 390, 7868, 17477, 172, 6959, 29426, 73, 141, 2452, 172, 141, 25596, 2183, 4683, 168, 2153, 9, 285, 5893, 10819, 12561, 172, 5403, 12259, 13553, 1973, 13321, 2153, 11], [36221, 563, 21596, 13233, 2452, 172, 141, 13404, 644, 4229, 127, 19830, 222, 2355, 162, 260, 22487, 268, 17874, 788, 6568, 333, 11413, 2598, 437, 168, 10413, 3987, 4647, 11]]\n",
            "Test loss: 1.9192135334014893\n",
            "1.874271273612976\n",
            "[[36221, 1920, 2189, 1900, 6239, 6750, 141, 1399, 2243, 328, 423, 2797, 270, 1133, 141, 4419, 172, 294, 11670, 2979, 9, 22169, 9, 5736, 11, 2645, 595, 1310, 79, 5946, 299, 9, 703, 27736, 16333, 150, 458, 24226, 9, 260, 553, 13454, 5482, 2224, 15567, 235, 8471, 13568, 333, 141, 6381, 172, 141, 1399, 168, 24480, 1367, 11, 941, 406, 32463, 11, 941, 406, 17885, 11, 905, 22113, 382, 406, 172, 4035, 3026, 11, 22580, 13073, 222, 7606, 1161, 11], [36221, 23463, 2752, 3143, 14134, 11658, 125, 6152, 581, 866, 18206, 9, 141, 19708, 19283, 12550, 30645, 10063, 193, 9, 276, 382, 11748, 9703, 168, 21220, 406, 11], [36221, 27, 3221, 333, 21022, 526, 7809, 493, 1069, 3932, 127, 34081, 644, 1154, 127, 1790, 15627, 1965, 2379, 127, 3674, 16592, 11], [36221, 22399, 146, 217, 127, 11433, 2705, 345, 182, 1289, 225, 1501, 19055, 162, 4073, 10908, 9, 23696, 35335, 28031, 2295, 15005, 127, 32009, 146, 1847, 3686, 523, 162, 581, 16705, 11875, 172, 1202, 20139, 151, 19010, 177, 35447, 8589, 32872, 1400, 11, 3726, 8471, 2137, 127, 4718, 993, 172, 4458, 3348, 9, 333, 141, 2774, 172, 771, 4786, 168, 25438, 12, 26418, 35451, 5411, 3515, 11], [36221, 27, 14323, 19890, 7657, 7163, 788, 17142, 14364, 168, 24253, 1031, 997, 3525, 18287, 1298, 5964, 10922, 333, 127, 15170, 505, 21479, 3162, 17142, 27536, 11], [36221, 563, 3221, 7163, 141, 11844, 177, 20968, 19096, 10910, 268, 21334, 162, 25164, 9, 4819, 1728, 141, 101, 3121, 13, 73, 11], [36221, 444, 788, 866, 235, 5485, 10738, 9, 13008, 12, 23852, 20504, 27902, 10340, 175, 3713, 168, 788, 8128, 276, 184, 31, 1125, 16100, 659, 17794, 168, 6665, 235, 9959, 11, 13283, 172, 788, 1360, 11342, 177, 4929, 6328, 1864, 168, 127, 1471, 276, 997, 31884, 141, 20344, 7069, 172, 788, 10951, 9, 6160, 177, 9512, 20920, 9369, 63, 11, 25670, 350, 10281, 3286, 729, 302, 1125, 16100, 8662, 7552, 162, 12622, 285, 1623, 172, 827, 9, 959, 653, 997, 8258, 147, 6665, 9, 878, 168, 233, 5032, 2380, 374, 9512, 20920, 9, 644, 761, 4659, 10541, 788, 177, 11715, 5644, 788, 16083, 11], [36221, 1482, 222, 127, 2452, 671, 141, 5412, 217, 127, 5850, 3374, 162, 10710, 80, 2760, 175, 14800, 1587, 5221, 6, 162, 4200, 101, 1841, 18, 1454, 5694, 8288, 5634, 177, 5633, 5090, 18362, 4932, 374, 29967, 14799, 1089, 391, 131, 177, 4462, 36089, 11, 6755, 141, 2452, 222, 21269, 9, 1065, 172, 141, 4025, 350, 2273, 235, 1440, 14367, 22281, 177, 3111, 350, 141, 15585, 172, 602, 3111, 1728, 141, 10710, 80, 2760, 33524, 162, 141, 3857, 5633, 5090, 3536, 11], [36221, 1591, 531, 141, 101, 1240, 130, 6153, 9, 141, 9577, 9291, 423, 1388, 127, 6246, 172, 141, 7497, 177, 141, 3054, 3465, 2603, 6400, 222, 1724, 1282, 11, 3297, 13164, 2905, 168, 141, 7892, 172, 3177, 7490, 9, 644, 493, 1188, 2278, 333, 141, 19631, 560, 3207, 3143, 9, 382, 3525, 788, 168, 141, 14286, 2838, 172, 7741, 8273, 11, 11065, 217, 141, 6725, 172, 7741, 8273, 9, 3207, 3143, 4920, 21153, 168, 438, 3177, 7490, 887, 11], [36221, 29, 23080, 222, 294, 2666, 8728, 5567, 644, 222, 3552, 162, 11338, 10854, 7081, 3741, 1332, 25600, 10631, 23540, 11, 539, 1473, 168, 3169, 1110, 23540, 177, 581, 6077, 4977, 9, 997, 4940, 495, 285, 1640, 20762, 17807, 4663, 177, 16919, 11], [36221, 444, 101, 4254, 14, 9, 18384, 11098, 894, 9, 127, 2362, 9209, 8474, 3821, 333, 1139, 9736, 9, 30368, 127, 1922, 8981, 5230, 9, 1031, 382, 15237, 285, 4876, 27900, 9, 4929, 29673, 9, 177, 141, 8905, 9871, 3536, 11], [36221, 1436, 141, 1205, 168, 4819, 9, 127, 2183, 493, 141, 4040, 32682, 168, 423, 629, 1344, 1071, 1110, 162, 294, 2245, 5298, 168, 141, 398, 9, 177, 29189, 374, 10002, 7255, 851, 3869, 168, 2447, 11], [36221, 2757, 141, 9324, 168, 141, 7396, 16482, 222, 127, 3221, 671, 141, 5286, 8628, 1388, 333, 101, 758, 1219, 172, 771, 3221, 15226, 6431, 162, 141, 5286, 10108, 6554, 3157, 9, 11322, 374, 24364, 22187, 18934, 285, 127, 21731, 374, 5286, 9324, 5036], [36221, 9813, 127, 7947, 8532, 9, 29325, 205, 4211, 13046, 168, 1029, 308, 32881, 9, 311, 24583, 330, 5585, 177, 23221, 55, 24, 776, 1219, 2146, 9, 582, 350, 1533, 3776, 2729, 11, 311, 24583, 330, 5585, 493, 2627, 127, 7298, 4647, 9, 505, 581, 1769, 22692, 581, 7661, 285, 23221, 55, 177, 29325, 205, 11], [36221, 27, 12105, 19544, 4030, 1405, 127, 4310, 9, 3914, 27806, 471, 644, 9, 285, 141, 1107, 172, 788, 11722, 3032, 9, 1472, 678, 11619, 788, 1223, 129, 1609, 23280, 217, 4495], [36221, 563, 26499, 79, 172, 6740, 21525, 12248, 15137, 268, 141, 878, 1205, 168, 438, 491, 172, 629, 4767, 31049, 222, 168, 9764, 2947, 235, 141, 2630, 2993, 9, 6004, 177, 3001, 4912, 7892, 11, 1758, 2620, 294, 15766, 3754, 168, 1139, 3048, 175, 16263, 285, 966, 24851, 6, 653, 16009, 1728, 127, 7300, 16380, 268, 493, 13070, 141, 8989, 11], [36221, 39, 193, 2881, 9, 127, 5284, 2815, 646, 3776, 162, 21379, 406, 10605, 6001, 127, 10203, 13947, 168, 7969, 31153, 11], [36221, 1819, 141, 866, 645, 598, 172, 10413, 406, 7839, 6426, 6992, 581, 1360, 2452, 9, 162, 581, 1360, 3037, 11, 3880, 127, 11722, 172, 11248, 168, 2633, 17167, 9, 34544, 13441, 9, 141, 10164, 458, 14813, 4647, 9, 20076, 581, 1360, 2988, 1617, 177, 847, 270, 2784, 168, 1380, 270, 11], [36221, 1482, 222, 127, 11092, 143, 312, 27212, 2273, 235, 272, 79, 23054, 263, 358, 1669, 3608, 14732, 406, 184, 34550, 177, 16340, 9817, 2383, 9783, 11890, 222, 23735, 242, 127, 3357, 177, 3791, 6204, 11, 3109, 9, 788, 1617, 222, 14029, 141, 7434, 345, 788, 2203, 13105, 406, 4209, 9, 177, 997, 15137, 168, 1413, 18515, 11, 390, 3111, 268, 1340, 350, 127, 4478, 172, 4365, 15028, 177, 294, 14603, 172, 4458, 21622, 276, 9783, 11890, 7895, 360, 878, 127, 7925, 21841, 437, 644, 5857, 9, 505, 788, 1360, 20490, 276, 1216, 11], [36221, 15029, 29418, 69, 4506, 1053, 840, 141, 13570, 30780, 164, 36212, 172, 8918, 18819, 10, 4815, 168, 1095, 581, 6935, 406, 13807, 285, 141, 1107, 172, 29505, 25053, 29574, 177, 581, 6935, 406, 476, 1253, 334, 14636, 264, 162, 260, 1297, 21819, 28965, 4812, 477, 172, 25214, 177, 18515, 523, 162, 162, 101, 6934, 13, 6361, 7677, 11], [36221, 16483, 172, 33990, 9, 15889, 12188, 141, 18233, 9995, 6773, 2227, 11], [36221, 27, 1045, 345, 141, 3111, 4407, 495, 168, 141, 20201, 406, 2447, 235, 141, 2815, 21583, 2127, 2699, 9, 5614, 4198, 584, 560, 1897, 80, 1599, 9, 217, 7786, 491, 235, 5119, 4, 4618, 177, 141, 19834, 9, 1965, 788, 5867, 168, 141, 2630, 11323, 11], [36221, 444, 9799, 12108, 217, 141, 4979, 9, 127, 2815, 3674, 23751, 141, 6888, 172, 25824, 883, 177, 127, 2183, 4311, 276, 1216, 11], [36221, 958, 167, 3904, 24451, 63, 553, 11584, 581, 1926, 11, 28384, 2146, 9, 141, 6985, 1031, 581, 5022, 5104, 4610, 3062, 276, 127, 1471, 7440, 471, 222, 5298, 11, 13844, 7949, 9, 168, 3701, 2351, 333, 141, 2598, 12925, 1375, 9, 582, 11808, 1066, 168, 1095, 331, 4720, 11, 1484, 582, 350, 4522, 33871, 177, 34913, 9, 598, 12069, 222, 5444, 374, 141, 1335, 11, 10468, 9, 629, 13909, 9, 7805, 9, 177, 629, 452, 5956, 312, 2153, 19058, 676, 141, 13740, 11], [36221, 30, 1015, 23264, 175, 8327, 200, 11, 18029, 492, 141, 9139, 9, 34245, 1325, 6935, 172, 7518, 175, 14231, 1058, 2903, 492, 448, 699, 1107, 3895, 333, 19257, 127, 5893, 14127, 268, 406, 748, 5745, 162, 127, 15972, 374, 127, 10151, 2666, 14127, 13249, 175, 13834, 22062, 492, 177, 653, 493, 168, 1340, 776, 3919, 23, 1123, 699, 801, 270, 491, 172, 141, 15972, 9, 917, 1123, 699, 801, 270, 5490, 2944, 2944, 3776, 9, 177, 1900, 5793, 141, 3370, 172, 141, 14127, 11], [36221, 39, 307, 25552, 13842, 380, 177, 16919, 10562, 4647, 276, 141, 7706, 7499, 3155, 9, 458, 6477, 12302, 184, 2870, 185, 34600, 177, 141, 18795, 479, 16794, 1, 172, 18435, 162, 260, 4754, 16, 2557, 19001, 7431, 671, 1029, 2440, 66, 32382, 285, 3230, 10931, 1367, 4360, 644, 4389, 17782, 168, 3700, 9591, 177, 6845, 10214, 11], [36221, 28077, 383, 177, 581, 101, 22, 12766, 4346, 3164, 423, 748, 1578, 374, 581, 5022, 217, 18838, 5352, 11, 390, 13792, 172, 581, 3164, 222, 1243, 12178, 374, 581, 1335, 15837, 11], [36221, 444, 24094, 9, 141, 7243, 15630, 9945, 11890, 6135, 20788, 788, 7851, 16386, 35987, 28666, 159, 6075, 268, 4360, 162, 4162, 2473, 6715, 285, 581, 5022, 177, 2085, 9, 177, 141, 23301, 10332, 1219, 1709, 1203, 13679, 145, 493, 127, 20344, 3554, 285, 788, 5482, 3032, 239, 3573, 239, 2295, 11, 9945, 11890, 18785, 127, 2737, 172, 4498, 21290, 162, 4162, 2473, 6715, 285, 13679, 145, 9, 177, 2228, 782, 9, 997, 4621, 35987, 217, 294, 8186, 11, 14388, 9, 13679, 145, 11739, 294, 14337, 4252, 3026, 21810, 235, 141, 5735, 9, 141, 4961, 210, 28218, 182, 2158, 660, 1267, 9, 644, 23263, 7376, 11994, 217, 788, 23, 127, 5688, 9, 127, 4605, 172, 9216, 18286, 177, 9393, 29224, 24826, 11, 1758, 5576, 141, 8477, 2729, 162, 294, 26908, 4230, 177, 2146, 582, 516, 168, 28218, 406, 23880, 9, 1031, 582, 350, 18790, 374, 581, 21423, 6450, 2109, 27470, 11, 9945, 11890, 493, 127, 2153, 16090, 285, 35987, 162, 788, 2227, 9, 505, 582, 350, 18790, 374, 581, 29236, 5022, 11, 390, 13348, 162, 1108, 17682, 5252, 629, 8315, 172, 2153, 11], [36221, 27, 2815, 3674, 9079, 285, 294, 296, 28576, 11739, 294, 30053, 6949, 644, 7457, 788, 168, 2591, 788, 2165, 177, 14749, 1685, 11], [36221, 27, 13991, 3221, 671, 127, 1396, 172, 22736, 644, 6327, 15750, 168, 11287, 3234, 712, 2294, 1748, 18901, 9125, 9, 17752, 11], [36221, 15312, 457, 19016, 141, 7316, 959, 127, 2888, 172, 33247, 242, 20689, 9, 141, 4605, 1095, 23596, 345, 141, 7059, 12836, 1577, 172, 33800, 20621, 9, 294, 24934, 25787, 649, 228, 644, 25367, 141, 3687, 172, 184, 12999, 26925, 2383, 1484, 1111, 13188, 184, 15908, 1, 141, 4605, 3617, 1095, 3903, 2502, 168, 10234, 629, 32835, 2387, 11], [36221, 1237, 294, 8682, 8285, 4, 2127, 9, 127, 331, 11152, 7200, 222, 9191, 840, 127, 25502, 1454, 1029, 5986, 24631, 9, 177, 382, 23751, 268, 3075, 345, 141, 2127, 222, 360, 3540, 276, 207, 2724, 9, 28508, 177, 24358, 276, 270, 3517, 11]]\n",
            "Test loss: 2.0936713218688965\n",
            "1.934550404548645\n",
            "[[36221, 5892, 11, 17431, 26166, 9, 127, 6403, 902, 9, 2905, 168, 127, 1922, 4349, 9, 8188, 3895, 127, 5312, 162, 581, 3390, 168, 423, 127, 12829, 4749, 162, 1139, 3048, 11, 941, 13959, 581, 3164, 15219, 276, 1216, 276, 4644, 1401, 9, 127, 5845, 4587, 4503, 493, 5659, 162, 35578, 177, 4587, 4780, 33236, 26166, 177, 467, 275, 1761, 141, 1257, 11, 26166, 11093, 172, 8527, 168, 455, 2489, 5264, 9, 505, 1970, 1845, 3675, 162, 141, 1205, 23, 294, 20511, 9, 581, 2085, 406, 2793, 9, 308, 141, 2793, 172, 581, 5858, 452, 661, 12107, 4684, 11, 5546, 285, 141, 7894, 1219, 1154, 382, 1864, 168, 1095, 268, 581, 2774, 3163, 699, 676, 177, 581, 2387, 3163, 699, 3540, 141, 5312, 382, 7500, 11], [36221, 44, 11224, 311, 450, 2046, 13038, 1296, 127, 2801, 6937, 162, 581, 866, 1847, 3686, 8819, 11], [36221, 5367, 32498, 6387, 162, 21192, 1598, 9, 3204, 8402, 7960, 28167, 73, 232, 1804, 12131, 26566, 7960, 644, 8097, 723, 1069, 840, 26191, 247, 1598, 11, 1218, 127, 25343, 172, 9985, 2558, 25401, 141, 8875, 9, 22955, 245, 141, 1471, 172, 9072, 8197, 1396, 7453, 581, 2156, 168, 4127, 491, 177, 4742, 141, 21349, 176, 542, 11, 2721, 172, 581, 15033, 7336, 1192, 493, 2627, 28815, 285, 141, 18635, 5198, 505, 22955, 245, 406, 28980, 177, 30288, 493, 16399, 141, 13680, 13104, 9, 14785, 788, 285, 127, 10011, 6096, 7338, 9, 13490, 16252, 55, 5651, 1423, 168, 2231, 788, 32906, 172, 8789, 11], [36221, 34, 20384, 222, 294, 1709, 646, 644, 493, 9163, 6997, 333, 581, 2085, 11, 20328, 12446, 729, 581, 5022, 3675, 4091, 382, 9950, 168, 27489, 285, 827, 177, 168, 345, 414, 217, 581, 6127, 34870, 162, 141, 2387, 11], [36221, 23183, 20536, 581, 30746, 57, 5305, 200, 24709, 55, 493, 748, 6778, 4700, 150, 9, 9387, 75, 177, 581, 3032, 518, 1585, 523, 491, 217, 127, 10025, 222, 135, 1031, 476, 19847, 350, 168, 233, 5039, 235, 11057, 177, 141, 19858, 9, 644, 350, 8713, 28473, 168, 294, 10987, 28024, 6501, 9, 13522, 141, 134, 15672, 11, 390, 8240, 222, 12306, 676, 374, 200, 24709, 55, 406, 8789, 15033, 288, 11272, 9, 141, 32916, 13802, 9, 644, 9, 15187, 2502, 9022, 235, 788, 331, 20638, 9387, 75, 9, 807, 16565, 168, 12502, 654, 6970, 333, 788, 11610, 29583, 8241, 11], [36221, 27, 1396, 172, 20023, 6708, 5230, 5131, 644, 448, 699, 2065, 168, 3244, 285, 5119, 629, 1360, 3026, 4788, 141, 14977, 172, 6392, 146, 495, 285, 7080, 5986, 2336, 11], [36221, 4182, 127, 101, 20, 774, 2726, 9, 5099, 5331, 35752, 150, 10516, 899, 141, 1377, 1396, 172, 5286, 19677, 2085, 333, 16107, 2291, 0, 390, 9250, 350, 15739, 276, 168, 141, 3103, 268, 423, 6578, 162, 629, 4360, 1728, 141, 1144, 5434, 1219, 11], [36221, 995, 5165, 11, 15375, 125, 11, 4588, 17364, 11, 927, 296, 11, 35058, 177, 7102, 26126, 9, 36162, 222, 7050, 168, 523, 141, 2375, 5177, 671, 1367, 11, 1218, 997, 12169, 7552, 9, 4286, 8966, 22517, 9, 997, 807, 25967, 141, 646, 644, 222, 27870, 788, 11, 10604, 28220, 177, 30554, 9, 4807, 15118, 9, 34736, 177, 7080, 9, 3685, 419, 841, 24, 4056, 419, 841, 24, 4588, 3525, 328, 3419, 141, 9835, 177, 840, 5033, 371, 1191, 2396, 1399, 11, 1927, 406, 127, 2483, 1178, 217, 1077, 646, 177, 294, 3022, 217, 1077, 3674, 11, 17162, 644, 12280, 222, 6896, 313, 505, 3710, 490, 10130, 345, 141, 4168, 1367, 222, 1900, 2665, 177, 2979, 11, 17679, 374, 36162, 11776], [36221, 27, 8474, 3674, 4756, 428, 32989, 2691, 4645, 8258, 147, 16730, 6486, 285, 788, 6450, 29237, 9, 168, 3620, 788, 6551, 9, 17035, 9, 235, 127, 5856, 162, 18737, 11, 1781, 866, 9, 428, 32989, 20187, 168, 5079, 168, 788, 331, 8372, 9, 8102, 285, 788, 127, 523, 172, 17158, 14338, 177, 294, 7419, 27782, 11, 4151, 29237, 19490, 1896, 16261, 168, 260, 331, 1399, 9, 15745, 127, 2702, 7036, 285, 788, 4780, 406, 3074, 9, 294, 7533, 4756, 20248, 75, 132, 11], [36221, 444, 101, 5007, 20, 9, 1721, 34328, 2085, 3776, 824, 3465, 14162, 5091, 9, 17452, 423, 25685, 172, 127, 10142, 10207, 162, 127, 6248, 11, 390, 33543, 1143, 693, 2213, 13677, 168, 5478, 159, 185, 141, 6129, 24, 4581, 172, 6783, 7411, 350, 3687, 217, 4164, 3302, 11, 9127, 141, 2085, 1847, 374, 629, 2452, 9, 177, 141, 1448, 172, 5933, 177, 2810, 141, 11998, 7962, 11, 539, 141, 1144, 7230, 9, 10840, 374, 5998, 172, 938, 9, 141, 11998, 18409, 788, 5822, 285, 127, 15168, 21434, 268, 222, 2797, 374, 3548, 2221, 11, 11823, 235, 3562, 3111, 345, 14162, 5091, 162, 141, 4979, 172, 101, 5007, 20, 11], [36221, 37, 9844, 587, 12398, 4514, 826, 19708, 20678, 159, 493, 824, 748, 4099, 333, 127, 14489, 3320, 6188, 7538, 162, 6709, 11, 3339, 141, 598, 2314, 6724, 1069, 1556, 222, 141, 2465, 172, 6136, 581, 5022, 9, 644, 9555, 382, 406, 748, 3914, 217, 676, 10332, 1219, 11], [36221, 563, 3987, 3525, 1489, 162, 141, 1721, 2090, 4407, 495, 168, 31771, 406, 6511, 177, 222, 6916, 168, 233, 294, 14603, 172, 26428, 406, 33725, 9, 1523, 6958, 7691, 13872, 235, 141, 6511, 11, 390, 1678, 184, 14018, 101, 1126, 1, 8405, 127, 20388, 172, 428, 669, 11, 5508, 3619, 406, 7458, 390, 12144, 125, 162, 141, 269, 5984, 9, 653, 493, 101, 1186, 15986, 9, 177, 653, 26428, 386, 9483, 729, 382, 4501, 31771, 11, 26428, 386, 21359, 285, 141, 1710, 9, 168, 141, 1083], [36221, 563, 3221, 222, 523, 162, 127, 1399, 9, 141, 16718, 7378, 3804, 172, 266, 238, 209, 586, 9, 162, 653, 2336, 2429, 141, 1743, 177, 2156, 350, 6331, 168, 6481, 3666, 5785, 177, 3350, 345, 1577, 11], [36221, 563, 13871, 6095, 4347, 222, 2273, 235, 212, 11, 428, 11, 25212, 123, 406, 101, 4871, 18, 7458, 172, 141, 1377, 601, 9, 671, 35895, 914, 162, 127, 7550, 2838, 162, 3398, 4370, 6253, 11, 101, 4151, 141, 7458, 7163, 141, 3139, 172, 1721, 2815, 2156, 162, 141, 1922, 7550, 4349, 9, 141, 3221, 13324, 235, 824, 598, 172, 827, 24, 141, 5239, 4663, 21525, 12248, 644, 3675, 127, 17372, 168, 7790, 9, 11739, 127, 2699, 644, 878, 2601, 2894, 1069, 1168, 788, 3366, 14364, 493, 13085, 788, 9, 177, 6334, 3326, 168, 141, 6843, 4349, 276, 127, 7200, 177, 3525, 703, 162, 127, 32931, 10383, 3561, 729, 141, 6843, 222, 23001, 9, 34785, 1623, 581, 4780, 177, 581, 9139, 6935, 11], [36221, 9404, 4854, 3062, 217, 9, 847, 9536, 382, 493, 2355, 9, 177, 581, 1440, 10940, 11, 1057, 328, 1018, 168, 1055, 141, 8318, 177, 2830, 1133, 476, 141, 21725, 9, 260, 222, 141, 3221, 217, 328, 11], [36221, 23162, 11, 16043, 154, 222, 7050, 168, 1095, 26771, 217, 788, 3029, 16064, 11, 390, 11057, 172, 127, 331, 15247, 6325, 3517, 799, 141, 3022, 168, 788, 31437, 2083, 11, 1484, 1039, 30242, 6450, 12396, 19198, 3133, 11, 266, 1621, 79, 406, 5320, 9, 4252, 1257, 6699, 493, 788, 11324, 9664, 162, 127, 1710, 9, 177, 19458, 5119, 9, 28300, 177, 34484, 9, 17140, 959, 6346, 162, 8701, 24, 12055, 9, 141, 484, 942, 9, 13804, 9, 177, 6260, 459, 1555, 6450, 9, 222, 2959, 238, 2001, 374, 4405, 18320, 21810, 3133, 11, 263, 35619, 833, 539, 260, 359, 17459, 5522, 9, 448, 2153, 19058, 676, 12521, 177, 22634, 25], [36221, 563, 12799, 671, 2156, 177, 629, 15237, 162, 1685, 177, 2153, 11], [36221, 34362, 14247, 17615, 16794, 419, 841, 24, 4826, 304, 162, 141, 1555, 1340, 3686, 168, 629, 101, 1841, 13, 2988, 10440, 3329, 5713, 11, 16794, 175, 30358, 184, 36074, 1, 19134, 6, 222, 3294, 141, 28411, 177, 31294, 581, 12980, 449, 8723, 175, 6993, 5555, 26395, 492, 1039, 581, 3032, 4826, 175, 30358, 7488, 6, 222, 33244, 581, 21641, 840, 141, 3290, 1886, 9, 10828, 127, 7248, 27185, 5852, 4980, 869, 1911, 4588, 276, 127, 15195, 11, 4826, 4450, 141, 12986, 217, 127, 12103, 285, 5870, 2080, 9215, 369], [36221, 4416, 371, 4788, 268, 141, 2691, 5647, 423, 4047, 127, 184, 2173, 4755, 965, 3963, 1, 8212, 172, 17221, 141, 4981, 172, 141, 6116, 9, 177, 268, 582, 2274, 168, 735, 270, 2110, 127, 3486, 172, 2090, 11, 14388, 9, 4041, 212, 8469, 9, 127, 33845, 368, 583, 11, 2575, 5952, 168, 23070, 9, 222, 162, 886, 1180, 2946, 1165, 4823, 729, 270, 222, 3160, 676, 374, 141, 4341, 177, 4794, 3063, 172, 886, 476, 1076, 1166, 8616, 222, 8041, 374, 2336, 11, 390, 2106, 217, 260, 6001, 6558, 729, 9, 11538, 959, 212, 8469, 7089, 14650, 9, 141, 6116, 222, 4522, 9019, 162, 127, 2633, 16168, 32840, 2584, 0, 1611, 141, 2695, 4768, 25786, 25, 2579, 18478, 177, 19638, 1870, 141, 8616, 172, 141, 212, 8469, 235, 629, 7519, 168, 23070, 25], [36221, 4068, 34278, 374, 788, 16386, 9, 127, 3674, 6001, 141, 1406, 184, 2732, 271, 1, 162, 127, 33541, 164, 29251, 9, 505, 9950, 168, 1627, 788, 2387, 3419, 788, 235, 127, 2930, 9427, 168, 33978, 202, 11], [36221, 563, 184, 14800, 2331, 374, 141, 2304, 3974, 1, 8616, 222, 887, 9, 9566, 1802, 34303, 24803, 11, 281, 27871, 222, 11713, 168, 957, 6759, 2455, 1523, 788, 6551, 406, 5319, 9, 1039, 15262, 9, 23715, 9, 177, 1111, 26787, 314, 1095, 15837, 11], [36221, 26063, 222, 6546, 168, 233, 127, 645, 172, 9752, 9, 5933, 177, 32233, 11, 1484, 217, 776, 9480, 162, 141, 1922, 4349, 172, 20760, 32965, 9, 270, 6902, 840, 1845, 1309, 1977, 26132, 11], [36221, 27, 28032, 10224, 6305, 9642, 581, 1360, 1769, 168, 5224, 141, 4749, 172, 127, 13134, 12979, 11], [36221, 2751, 1966, 1196, 374, 141, 368, 583, 11, 2213, 168, 233, 127, 2396, 5567, 9, 20023, 6708, 16784, 25680, 19171, 1472, 438, 7801, 168, 11162, 359, 10788, 27382, 162, 1473, 168, 2853, 671, 294, 8789, 2274, 163, 17821, 374, 788, 4780, 11, 1484, 5875, 141, 5567, 15278, 9, 25680, 15237, 285, 6204, 34316, 11], [36221, 20083, 175, 15029, 15896, 6, 177, 581, 18749, 423, 127, 3938, 172, 3739, 11, 3857, 745, 9, 629, 2930, 412, 1038, 73, 350, 694, 9605, 2088, 8789, 11, 29582, 9, 582, 6174, 168, 423, 5039, 827, 11, 3339, 260, 6303, 495, 6246, 172, 3063, 990, 6159, 177, 2203, 1079, 157, 2175, 423, 168, 4835, 491, 935, 168, 15030, 172, 141, 8206, 9, 2493, 495, 141, 20689, 9, 4486, 629, 19205, 406, 20627, 177, 10259, 6107, 2729, 276, 127, 2183, 883, 476, 1523, 2678, 6899, 11, 2067, 168, 4348, 8196, 406, 34618, 344, 888, 168, 1853, 12821, 235, 581, 1992, 2497, 6096, 8241, 9, 294, 5320, 235, 141, 4071, 31165, 1938, 4273, 177, 127, 19995, 942, 2694, 235, 141, 2699, 1335, 25620, 11, 26387, 495, 493, 886, 18282, 11, 23872, 406, 824, 598, 172, 827, 11], [36221, 45, 769, 175, 627, 6, 484, 233, 5099, 177, 493, 748, 8300, 19567, 11, 941, 7921, 581, 3394, 9, 3734, 1372, 168, 455, 1423, 3079, 177, 1627, 141, 4666, 235, 8485, 11, 941, 10328, 7640, 274, 67, 2044, 35055, 168, 725, 235, 581, 866, 3245, 3221, 11, 1758, 926, 360, 1055, 268, 382, 3675, 127, 5868, 11277, 345, 1577, 9563, 11, 941, 15680, 581, 35883, 217, 3843, 168, 6712, 2243, 382, 598, 1416, 551, 13836, 268, 382, 2635, 5280, 285, 581, 19326, 11, 8953, 382, 20788, 581, 9409, 11, 7640, 274, 67, 2044, 35055, 9555, 382, 8364, 788, 9096, 177, 581, 3394, 350, 10987, 285, 1069, 11, 941, 15137, 168, 2228, 177, 217, 476, 168, 2538, 285, 581, 4780, 2243, 382, 7216, 2316, 581, 4780, 17461, 1069, 11], [36221, 27, 1910, 447, 4664, 168, 957, 270, 1779, 177, 493, 4580, 3549, 1309, 3075, 162, 1473, 168, 455, 551, 11, 3726, 1335, 3217, 23, 1836, 581, 18206, 406, 11383, 840, 127, 21646, 6726, 11, 1504, 957, 270, 17052, 9, 582, 1651, 127, 1191, 1191, 1191, 2396, 11340, 11, 1484, 32753, 9, 141, 7432, 172, 3496, 2610, 9, 16823, 28119, 8934, 9, 222, 491, 168, 438, 827, 833], [36221, 11549, 21841, 4392, 5693, 4, 4360, 31823, 314, 285, 17788, 9767, 11], [36221, 5367, 235, 788, 152, 9194, 10838, 465, 3279, 29292, 9, 21612, 9, 141, 20459, 168, 233, 9, 3675, 127, 12939, 24358, 12965, 333, 294, 6443, 14429, 11, 3297, 8527, 1577, 285, 6127, 5102, 9, 21612, 9950, 168, 1206, 745, 788, 8286, 505, 1165, 997, 406, 2155, 168, 9, 997, 5661, 33440, 14429, 799, 13599, 11, 14924, 788, 4769, 10760, 177, 788, 8286, 10791, 9, 21612, 11748, 9703, 168, 788, 331, 27034, 177, 7746, 4680, 127, 28108, 268, 360, 878, 9290, 788, 32871, 11145, 9, 505, 17880, 235, 141, 13992, 172, 2738, 11, 1218, 788, 10760, 6001, 3259, 9, 21612, 23751, 268, 3075, 448, 1699, 285, 127, 2320, 12965, 11], [36221, 27, 4605, 172, 18244, 150, 4761, 35014, 1472, 2853, 168, 725, 2729, 168, 23594, 598, 172, 141, 1399, 406, 1065, 3045, 7156, 560, 13327, 162, 260, 10738, 13233, 11, 3297, 8235, 5061, 127, 15247, 646, 9, 8567, 35014, 5331, 177, 29844, 350, 21377, 285, 127, 4173, 168, 15702, 6806, 670, 4831, 24883, 11, 16674, 1763, 3143, 29844, 23909, 285, 4878, 28125, 5331, 9, 505, 162, 1473, 168, 2801, 1133, 141, 30282, 582, 1472, 725, 276, 127, 1552, 11], [36221, 27, 13077, 1472, 455, 5876, 270, 3525, 168, 2593, 581, 24940, 31619, 177, 2145, 127, 11603, 2447, 4987, 67, 10089, 374, 127, 10697, 25771, 1396, 11], [36221, 145, 294, 28540, 16639, 2066, 3221, 374, 31770, 24281, 361, 1388, 162, 101, 2651, 19, 11, 24281, 361, 6992, 4988, 671, 581, 1685, 177, 4749, 11, 101, 390, 3221, 3924, 32652, 177, 16409, 235, 2742, 24281, 361, 7921, 9, 1965, 25894, 172, 6229, 9, 10748, 172, 12057, 9, 272, 295, 31368, 2450, 9, 3270, 12134, 128, 9, 141, 34122, 172, 3051, 9, 390, 5690, 18532, 30018, 172, 7802, 4739, 264, 2448, 6822, 9, 18745, 57, 839, 19664, 9, 177, 141, 7518, 20841, 13991, 7931, 3647, 172, 24272, 11, 101, 2067, 312, 222, 12561, 172, 127, 6812, 1454, 24281, 361, 177, 581, 18291, 12514, 465, 35727, 894, 9, 127, 15630, 11, 539, 1805, 2719, 9, 382, 8519, 285, 4453, 5585, 125, 22111, 4344, 11098, 894, 9, 162, 653, 582, 3050, 127, 3308, 3221, 1766, 162, 141, 30686, 35821, 168, 4647, 32112, 518, 24351, 11]]\n",
            "Test loss: 2.0283758640289307\n",
            "2.078725576400757\n",
            "[[36221, 16747, 222, 127, 101, 763, 21, 11524, 3221, 9583, 374, 11374, 27123, 177, 5948, 374, 101, 2298, 191, 419, 841, 24, 25039, 11, 390, 32984, 374, 11673, 212, 11, 8450, 1125, 13324, 235, 1029, 11825, 9, 16870, 8144, 7431, 17876, 11447, 168, 1853, 629, 2072, 127, 2637, 276, 141, 3913, 2244, 7746, 168, 10841, 162, 4260, 101, 763, 14, 9, 598, 1671, 3451, 168, 141, 101, 22, 12, 576, 5849, 11], [36221, 20402, 101, 336, 191, 6153, 6253, 23, 1039, 168, 9173, 581, 6450, 20527, 406, 11637, 9, 15119, 22899, 6739, 22155, 141, 15825, 21873, 21190, 28315, 581, 101, 713, 3320, 4346, 3164, 9, 32724, 9, 217, 19257, 3029, 376, 315, 593, 11, 11869, 10328, 3164, 262, 270, 222, 602, 24, 729, 141, 25783, 22238, 270, 9, 15119, 9454, 17072, 9, 2076, 9, 8129, 5933, 9, 177, 20527, 406, 14804, 168, 12969, 7818, 11], [36221, 27, 24194, 20072, 9881, 3994, 7136, 177, 9225, 168, 1066, 168, 11265, 285, 127, 15122, 5493, 4206, 800, 465, 644, 222, 1292, 3776, 162, 127, 1640, 14184, 431, 29131, 9881, 2139, 11, 22592, 555, 175, 12864, 138, 24443, 6, 452, 480, 10245, 127, 5493, 4206, 800, 465, 175, 138, 11697, 8328, 2457, 16413, 1956, 622, 3063, 1332, 245, 9790, 9, 3063, 10, 1514, 6, 177, 15680, 168, 30198, 5656, 1069, 1017, 2243, 382, 531, 801, 11811, 374, 294, 4301, 199, 3054, 9692, 9, 177, 4037, 235, 127, 34883, 9, 5770, 3441, 141, 1640, 12567, 647, 11], [36221, 27, 1640, 5663, 3525, 127, 2815, 3938, 1133, 127, 19151, 17379, 146, 5622, 2837, 141, 33392, 22844, 11], [36221, 20168, 19626, 34843, 1143, 15137, 168, 2627, 127, 3382, 4130, 31469, 9, 177, 222, 294, 6382, 1769, 11, 11771, 3517, 168, 233, 1556, 1660, 2243, 382, 23751, 782, 406, 578, 168, 260, 1886, 177, 581, 8497, 27565, 8734, 813, 382, 5739, 13471, 11], [36221, 1551, 13233, 172, 18515, 9, 9648, 177, 27616, 9, 2956, 146, 235, 127, 11248, 20552, 6384, 6543, 22716, 644, 23751, 141, 13740, 172, 581, 273, 126, 123, 3164, 2492, 16284, 9, 4319, 162, 7368, 127, 20935, 29728, 172, 29745, 1738, 141, 2705, 172, 127, 35175, 18843, 11], [36221, 18702, 9, 127, 7851, 20335, 489, 26246, 9, 177, 32843, 9, 127, 4519, 7222, 1884, 9, 423, 748, 10110, 162, 294, 16090, 172, 26363, 21235, 177, 11948, 162, 294, 182, 14895, 24, 39, 20840, 1031, 582, 1472, 25652, 374, 141, 3919, 11, 3339, 9, 1372, 3919, 350, 671, 168, 233, 7068, 729, 582, 5080, 168, 1106, 1352, 746, 235, 141, 3465, 11, 1218, 7177, 6001, 9187, 21359, 285, 141, 20344, 32843, 9, 582, 29172, 235, 127, 136, 362, 165, 20335, 21273, 7519, 840, 629, 25247, 2387, 73, 1133, 629, 1065, 19380, 140, 16565, 11], [36221, 1230, 162, 101, 4331, 13, 406, 6351, 9, 127, 331, 7200, 345, 127, 2127, 217, 26961, 8285, 4589, 2810, 177, 11617, 11], [36221, 3200, 8772, 177, 26575, 2842, 21414, 168, 5576, 141, 33371, 333, 8772, 406, 3875, 239, 4276, 2312, 9, 141, 8285, 350, 3617, 10351, 374, 127, 8381, 172, 1640, 32464, 234, 11], [36221, 27, 3955, 23778, 4435, 23383, 127, 2815, 11222, 168, 7522, 127, 6511, 141, 4435, 7246, 3895, 11], [36221, 1996, 7820, 4392, 1176, 127, 13008, 491, 172, 776, 2351, 11, 941, 10192, 217, 127, 1926, 345, 581, 10198, 11, 4151, 141, 13008, 222, 6838, 127, 16399, 5908, 228, 9, 26171, 26942, 141, 4324, 285, 141, 4665, 172, 141, 7394, 177, 35151, 887, 168, 141, 3899, 285, 270, 11, 941, 26942, 141, 16173, 11, 212, 2066, 17081, 285, 141, 3066, 3251, 854, 11], [36221, 563, 19523, 17615, 172, 4162, 29595, 12028, 123, 177, 11591, 3020, 6073, 123, 957, 127, 22254, 162, 260, 18036, 9, 1031, 582, 350, 10860, 168, 141, 3830, 172, 141, 31742, 399, 269, 11272, 175, 30989, 4298, 492, 217, 629, 10662, 4998, 11, 1758, 423, 168, 2015, 345, 141, 14049, 406, 31678, 27394, 17030, 579, 11, 1484, 3534, 168, 141, 14049, 9, 582, 735, 629, 4058, 19416, 177, 20045, 168, 1095, 491, 268, 476, 222, 360, 1216, 162, 141, 14049, 11, 1927, 222, 19856, 172, 5284, 11876, 177, 12732, 8501, 234, 11, 1927, 350, 136, 2433, 3613, 344, 3830, 3417, 177, 28903, 22374, 11, 1187, 782, 222, 127, 8168, 15059, 285, 260, 16286, 1936, 11277, 3963, 11, 2248, 141, 1107, 172, 294, 22946, 2127, 23727, 9, 4162, 29595, 177, 11591, 3020, 523, 491, 168, 3135, 141, 33240, 833, 285, 141, 1107, 172, 629, 11669, 1753, 1545, 4998, 9, 3496, 4949, 177, 294, 2311, 587, 3871, 172, 25710, 11], [36221, 27, 13232, 4987, 7453, 127, 2661, 4835, 177, 746, 22800, 168, 127, 9951, 172, 26213, 13259, 2156, 11], [36221, 29977, 16111, 23, 208, 3434, 2067, 3682, 1197, 372, 222, 127, 2801, 1847, 3686, 3581, 374, 16111, 162, 6675, 11, 7703, 581, 101, 14, 12274, 523, 9, 13978, 9067, 127, 11607, 172, 8471, 9, 1302, 276, 127, 13745, 141, 5736, 18590, 276, 1216, 276, 127, 16180, 9367, 1987, 671, 938, 9, 1965, 127, 2642, 3366, 3386, 172, 141, 2630, 2993, 9, 268, 382, 8605, 350, 184, 1263, 528, 35823, 892, 941, 807, 1154, 294, 26447, 169, 12071, 355, 310, 172, 776, 9835, 333, 101, 2208, 11, 16111, 4037, 235, 168, 26690, 141, 8540, 21187, 12722, 29737, 333, 16344, 6904, 967, 20809, 175, 59, 972, 1893, 7138, 21218, 177, 5331, 24383, 492, 15961, 268, 294, 2292, 285, 428, 33508, 333, 18878, 222, 141, 878, 1205, 168, 14484, 1108, 938, 172, 629, 36129, 11, 571, 9937, 285, 19763, 9, 382, 5494, 268, 3817, 2507, 35091, 406, 9254, 10293, 162, 101, 763, 20, 10, 1680, 386, 5913, 374, 788, 1243, 20972, 374, 141, 5929, 172, 12815, 5251, 11, 539, 3699, 9, 13978, 8270, 235, 5822, 7958, 9, 2379, 1822, 172, 141, 13909, 175, 132, 4697, 17433, 6, 172, 8929, 141, 35143, 13164, 276, 1216, 276, 294, 22923, 285, 390, 8929, 35750, 125, 11], [36221, 4182, 629, 4044, 29465, 2370, 27004, 448, 1049, 957, 270, 9, 141, 14083, 2183, 6902, 168, 788, 3032, 13212, 168, 36202, 629, 2085, 1039, 141, 4507, 516, 491, 168, 10934, 629, 12445, 11, 1781, 866, 13212, 3517, 799, 127, 5314, 1864, 602, 168, 141, 4686, 9, 6960, 827, 168, 5490, 3510, 5547, 177, 1102, 285, 1857, 268, 350, 4160, 745, 2093, 13029, 9, 505, 276, 788, 5195, 6001, 9187, 6751, 9, 141, 4686, 3617, 1095, 491, 268, 788, 17419, 350, 4365, 177, 19151, 9, 177, 997, 222, 360, 644, 997, 3517, 168, 233, 11], [36221, 444, 260, 12103, 3221, 9, 5738, 34647, 2251, 147, 235, 581, 32384, 141, 1779, 101, 18, 10, 13, 177, 935, 268, 3026, 12407, 2156, 9, 629, 19484, 9, 177, 629, 2085, 11], [36221, 38, 399, 683, 5471, 222, 127, 26700, 3320, 4346, 2699, 644, 4360, 285, 788, 2183, 162, 127, 1922, 30819, 235, 127, 9951, 162, 23067, 11, 2335, 141, 30686, 21386, 1204, 494, 1761, 7362, 2278, 476, 268, 5651, 172, 141, 2183, 406, 16389, 9, 22623, 683, 5471, 406, 4780, 2007, 997, 1472, 3710, 1577, 177, 1413, 127, 1926, 168, 1356, 788, 2183, 11, 941, 19582, 788, 168, 127, 30826, 17697, 644, 6992, 788, 997, 484, 1095, 788, 127, 1926, 276, 127, 20718, 162, 141, 2397, 11, 23946, 168, 233, 2155, 168, 1107, 9, 22623, 683, 5471, 27596, 168, 4627, 177, 16009, 345, 184, 34, 28329, 3329, 1, 1833, 172, 2810, 11, 1484, 997, 3617, 22155, 141, 35417, 5410, 23, 997, 493, 748, 4215, 840, 23327, 833], [36221, 1, 7057, 19875, 5954, 222, 127, 5893, 3419, 6917, 31724, 11988, 1999, 172, 127, 12995, 2338, 217, 141, 6082, 20855, 19875, 1152, 2127, 5958, 1552, 9, 4380, 491, 162, 127, 1922, 13133, 30812, 4349, 268, 14712, 886, 6328, 333, 5958, 11, 7703, 141, 2415, 172, 141, 2338, 9, 8832, 584, 3564, 33, 2828, 10325, 17308, 644, 350, 6331, 168, 4650, 141, 12776, 172, 141, 4349, 177, 629, 16832, 276, 582, 10234, 629, 18180, 2774, 11], [36221, 444, 65, 238, 205, 6992, 141, 2452, 172, 127, 15901, 8616, 2362, 141, 1180, 4417, 345, 127, 3617, 168, 233, 30821, 3066, 5417, 11, 390, 2689, 3525, 127, 33268, 1836, 729, 141, 4765, 9, 20355, 238, 205, 9, 29840, 12859, 840, 141, 5417, 6544, 141, 32641, 1471, 172, 127, 16712, 2699, 11, 20355, 238, 205, 13132, 285, 141, 8616, 9, 6960, 3895, 168, 233, 30908, 9, 177, 7746, 168, 21702, 22526, 168, 581, 8294, 2716, 172, 10126, 9, 776, 3485, 887, 168, 141, 8051, 23081, 11, 5628, 25, 20355, 238, 205, 493, 127, 3820, 168, 13901, 285, 141, 598, 21468, 268, 3241, 1627, 1069, 2278, 776, 26700, 1219, 2962, 11, 1504, 629, 29818, 9, 141, 17807, 4261, 2627, 142, 19959, 162, 20355, 238, 205, 4, 15189, 6139, 924, 14199, 172, 6511, 9, 34337, 9, 177, 926, 15736, 11, 1758, 8630, 8330, 270, 406, 581, 1399, 9, 582, 878, 2023, 162, 270, 11, 17679, 374, 16341, 175, 1594, 7760, 1493, 666, 6], [36221, 22491, 16036, 172, 20845, 222, 127, 3245, 15858, 13991, 268, 7163, 1029, 20845, 1751, 12503, 235, 294, 13446, 7519, 333, 6665, 168, 3635, 11, 1862, 6532, 150, 276, 2815, 8285, 162, 598, 172, 6665, 406, 1155, 211, 26223, 5542, 13983, 9, 7177, 21250, 177, 13041, 2420, 26812, 132, 14383, 19624, 5849, 177, 25771, 31062, 168, 3882, 127, 17396, 2268, 162, 18737, 2305, 285, 5998, 172, 746, 2085, 11, 3880, 782, 9, 22957, 9, 582, 765, 7666, 168, 1864, 168, 3635, 11, 12768, 345, 1144, 333, 4769, 5363, 177, 17647, 9, 127, 1399, 2278, 333, 1577, 9, 582, 1095, 3903, 20207, 285, 141, 18640, 177, 11529, 216, 172, 11092, 2666, 23804, 483], [36221, 27, 1396, 172, 3394, 893, 127, 4761, 4827, 9, 505, 276, 582, 893, 629, 6568, 162, 141, 3290, 1399, 9, 582, 438, 6303, 495, 285, 7136, 11], [36221, 1591, 406, 4073, 8215, 162, 101, 4254, 20, 9, 177, 294, 2666, 26104, 222, 1627, 235, 6034, 11, 1903, 66, 9, 141, 3221, 9, 35264, 260, 4365, 3168, 1247, 1721, 701, 77, 9928, 9087, 23, 141, 32941, 6096, 1685, 3111, 268, 4204, 127, 2815, 11758, 33220, 5204, 168, 1095, 581, 602, 5213, 276, 294, 6597, 9, 5522, 406, 8124, 175, 1329, 14284, 25143, 6034, 492, 177, 2861, 10929, 14259, 6773, 268, 29307, 141, 28728, 2896, 318, 172, 141, 17258, 3590, 11, 1500, 1721, 790, 30152, 162, 127, 10451, 1079, 1817, 14003, 268, 31415, 20013, 127, 26409, 3168, 6917, 4902, 172, 127, 1314, 2159, 6869, 11], [36221, 444, 141, 101, 3121, 13, 73, 9, 127, 2815, 8484, 5482, 9, 21588, 9, 8662, 3895, 12546, 11, 941, 10329, 217, 141, 13521, 172, 141, 5958, 1552, 11, 2579, 7163, 3493, 476, 8585, 172, 127, 3554, 9, 9556, 172, 6468, 308, 4929, 12605, 11, 26061, 9, 26905, 9, 177, 127, 4639, 12776, 653, 484, 5252, 1077, 8223, 172, 629, 4360, 11], [36221, 37, 1283, 9433, 2194, 4430, 26282, 45, 7163, 1721, 938, 34167, 285, 141, 1905, 7416, 177, 19819, 9767, 172, 141, 368, 583, 8062, 29013, 768, 30005, 2947, 7272, 10003, 2752, 3143, 8894, 11930, 34202, 396, 3337, 2729, 141, 12939, 19644, 4988, 172, 294, 15223, 15343, 162, 10418, 12767, 863, 27959, 5424, 9, 7876, 9, 127, 368, 583, 11, 7806, 5567, 235, 141, 2800, 9, 177, 127, 3366, 5533, 20224, 1143, 168, 10001, 141, 2695, 2265, 172, 294, 2572, 1076, 145, 5377, 23962, 7761, 268, 493, 11249, 162, 141, 768, 3036, 35675, 622, 172, 578, 813, 101, 1040, 9, 677, 938, 162, 7876, 15297, 5267, 2695, 2329, 7302, 268, 878, 4124, 493, 1388, 4462, 16173, 11], [36221, 34, 20384, 222, 294, 1709, 646, 644, 493, 9163, 6997, 333, 581, 2085, 11, 20328, 12446, 729, 581, 5022, 3675, 4091, 382, 9950, 168, 27489, 285, 827, 177, 168, 345, 414, 217, 581, 6127, 34870, 162, 141, 2387, 11], [36221, 1482, 31881, 9, 21549, 13991, 35264, 141, 19456, 6034, 9, 15341, 177, 20593, 11380, 32338, 172, 9976, 6493, 20605, 24495, 217, 141, 101, 763, 20, 6511, 172, 127, 5286, 6149, 3821, 162, 9489, 11], [36221, 3200, 8710, 13135, 5659, 141, 1399, 396, 259, 11, 1484, 847, 20228, 217, 141, 18985, 172, 7585, 172, 938, 644, 2342, 1049, 1055, 1069, 25, 819, 2628, 339, 1036, 3221, 17497, 723, 13135, 4, 1350, 333, 127, 1922, 2705, 162, 141, 22387, 9, 168, 24533, 25563, 162, 4368, 9, 168, 141, 7814, 406, 3636, 172, 141, 1399, 406, 25379, 2072, 9, 13553, 935, 13135, 352, 1685, 177, 725, 14545, 771, 3554, 285, 141, 4393, 11, 390, 1748, 162, 141, 8257, 222, 127, 28220, 177, 4807, 28728, 169, 3959, 13478, 172, 141, 11526, 172, 294, 3274, 11], [36221, 15312, 31274, 235, 581, 5022, 9, 27243, 589, 9, 127, 14608, 6199, 9, 7026, 491, 9, 505, 493, 168, 1095, 127, 4350, 235, 935, 168, 1533, 1356, 581, 2183, 9, 177, 3895, 11], [36221, 123, 9995, 406, 25802, 13977, 670, 32287, 1089, 3067, 101, 15, 9, 141, 12799, 268, 406, 127, 2717, 172, 24837, 1822, 217, 141, 3114, 2183, 11, 35423, 926, 15736, 6902, 141, 4360, 172, 8620, 28618, 670, 32287, 1089, 3067, 4507, 239, 1542, 177, 26291, 18437, 1110, 729, 629, 273, 2163, 11695, 919, 9, 4040, 3826, 25731, 25470, 2221, 598, 5768, 959, 1805, 11, 1484, 729, 629, 2695, 5266, 606, 495, 162, 7873, 9, 141, 8641, 34164, 484, 2145, 345, 3078, 168, 2593, 827, 313, 1168, 162, 1244, 2218, 177, 1905, 2218, 9, 141, 2183, 1970, 17382, 2729, 11, 1531, 239, 1542, 9, 26291, 177, 141, 25470, 29172, 235, 127, 25052, 10738, 9, 19529, 2228, 1151, 268, 1779, 13047, 1864, 162, 1922, 8901, 11, 23830, 294, 476, 12031, 4364, 9, 1965, 6487, 21489, 175, 6489, 172, 239, 1542, 492, 177, 3259, 285, 127, 19473, 172, 7750, 3152, 9, 260, 3370, 77, 17296, 13233, 172, 141, 4959, 172, 2183, 9, 14652, 177, 16883, 222, 127, 2396, 15193, 172, 1822, 313, 2218, 3029, 11], [36221, 29233, 24221, 14911, 222, 2794, 217, 1239, 1857, 1017, 1660, 10588, 9, 890, 2190, 356, 162, 24118, 15753, 1453, 9, 177, 3504, 24741, 11, 941, 493, 807, 1911, 217, 4821, 14966, 235, 141, 703, 172, 141, 5647, 1175, 11, 6892, 28349, 518, 4561, 1125, 14427, 3101, 141, 32569, 172, 25262, 531, 1685, 217, 1721, 1219, 9, 4886, 285, 581, 6568, 168, 398, 29346, 3246, 3541, 177, 4337, 959, 382, 15440, 141, 9985, 172, 578, 813, 101, 18, 9, 677, 2967, 162, 141, 101, 763, 21, 182, 504, 6786, 18995, 11, 390, 2375, 6314, 1133, 581, 8588, 398, 1117, 5383, 162, 14671, 162, 4060, 172, 101, 474, 14, 11, 1218, 25262, 22550, 3700, 3062, 172, 1453, 217, 2603, 4462, 29260, 9, 581, 24741, 31004, 495, 9, 177, 581, 1188, 12562, 285, 3930, 531, 7316, 2627, 578, 177, 578, 12065, 11], [36221, 444, 141, 8623, 9, 997, 222, 15857, 374, 1029, 2521, 4209, 11, 16989, 146, 141, 4209, 168, 233, 5138, 406, 9, 997, 222, 9032, 168, 2455, 23568, 175, 8327, 13954, 62, 1050, 492, 127, 2521, 9, 156, 1897, 587, 19878, 11, 3297, 141, 35790, 28349, 9188, 788, 4489, 285, 5138, 168, 1069, 9, 23568, 30972, 168, 1107, 788, 184, 12983, 1814, 1, 172, 1069, 11, 23568, 493, 5352, 172, 581, 1360, 217, 600, 5154, 146, 5138, 313, 1243, 127, 19878, 11, 5138, 493, 1970, 4580, 168, 1853, 1069, 745, 141, 2438, 653, 23568, 406, 2183, 493, 31653, 235, 217, 12533, 11], [36221, 27, 1045, 345, 141, 13446, 1399, 172, 12924, 5175, 11242, 9, 33382, 177, 20470, 7044, 8934, 3249, 28336, 11]]\n",
            "Test loss: 1.6991746425628662\n",
            "1.9702684879302979\n",
            "[[36221, 563, 8875, 172, 10258, 3621, 412, 414, 177, 3089, 5416, 12530, 9, 959, 1309, 14027, 9, 3675, 8058, 127, 8241, 8875, 162, 5592, 11, 2335, 3621, 412, 414, 177, 581, 28252, 6722, 168, 6231, 141, 12427, 235, 141, 746, 2265, 172, 141, 7152, 22013, 9, 3089, 5416, 12530, 4664, 168, 3620, 11, 3621, 412, 414, 222, 14213, 1738, 260, 505, 959, 3089, 5416, 12530, 22692, 1069, 168, 18226, 1490, 671, 294, 4659, 2265, 2203, 141, 10258, 17300, 11, 3089, 5416, 12530, 2118, 3863, 217, 655, 9657, 23, 941, 222, 1067, 303, 23112, 13547, 339, 4087, 11, 5546, 3621, 412, 414, 177, 141, 746, 26759, 1055, 644, 382, 1616, 222, 11, 539, 5592, 141, 10940, 3951, 3700, 8140, 3111, 23, 33443, 9, 19472, 9, 127, 11704, 6970, 177, 3700, 6372, 833], [36221, 2856, 22038, 5403, 13008, 175, 46, 734, 6, 177, 127, 15503, 7958, 2526, 175, 28, 10424, 384, 6000, 1191, 1608, 938, 4587, 3554, 222, 11324, 20830, 168, 438, 141, 4551, 168, 2292, 1685, 162, 629, 5708, 9464, 729, 582, 9390, 495, 598, 4504, 162, 1352, 2738, 8206, 11, 2939, 8354, 10922, 350, 6290, 374, 1352, 276, 582, 1623, 423, 168, 5079, 168, 1191, 1608, 4360, 11], [36221, 27, 23576, 646, 177, 141, 4396, 172, 127, 21805, 1153, 5412, 217, 1863, 172, 127, 10085, 9951, 1109, 11], [36221, 27, 6551, 177, 5022, 350, 9832, 3385, 127, 2320, 6292, 2227, 285, 127, 17697, 4756, 239, 1486, 11, 2682, 7293, 31488, 1443, 495, 168, 31765, 276, 141, 2815, 3674, 16469, 17039, 9767, 217, 141, 3938, 11], [36221, 27, 2815, 3674, 162, 141, 8288, 1472, 957, 7178, 7256, 729, 788, 2153, 217, 294, 5986, 3674, 7235, 788, 168, 2483, 824, 1031, 997, 222, 1556, 11, 26017, 150, 333, 18302, 1058, 8563, 406, 101, 474, 14, 2066, 3221, 172, 141, 1377, 601, 11], [36221, 3100, 141, 1649, 217, 294, 32341, 2374, 10589, 3103, 141, 10589, 19878, 9, 217, 1244, 308, 4091, 11], [36221, 563, 19523, 17615, 172, 4162, 29595, 12028, 123, 177, 11591, 3020, 6073, 123, 957, 127, 22254, 162, 260, 18036, 9, 1031, 582, 350, 10860, 168, 141, 3830, 172, 141, 31742, 399, 269, 11272, 175, 30989, 4298, 492, 217, 629, 10662, 4998, 11, 1758, 423, 168, 2015, 345, 141, 14049, 406, 31678, 27394, 17030, 579, 11, 1484, 3534, 168, 141, 14049, 9, 582, 735, 629, 4058, 19416, 177, 20045, 168, 1095, 491, 268, 476, 222, 360, 1216, 162, 141, 14049, 11, 1927, 222, 19856, 172, 5284, 11876, 177, 12732, 8501, 234, 11, 1927, 350, 136, 2433, 3613, 344, 3830, 3417, 177, 28903, 22374, 11, 1187, 782, 222, 127, 8168, 15059, 285, 260, 16286, 1936, 11277, 3963, 11, 2248, 141, 1107, 172, 294, 22946, 2127, 23727, 9, 4162, 29595, 177, 11591, 3020, 523, 491, 168, 3135, 141, 33240, 833, 285, 141, 1107, 172, 629, 11669, 1753, 1545, 4998, 9, 3496, 4949, 177, 294, 2311, 587, 3871, 172, 25710, 11], [36221, 33355, 235, 141, 28802, 22779, 141, 21364, 177, 16807, 13246, 268, 423, 12628, 333, 1139, 3048, 531, 15170, 14656, 9080, 11, 6358, 4475, 294, 8320, 2209, 312, 9, 520, 2027, 10464, 312, 12298, 217, 9851, 9, 8561, 9, 16779, 177, 155, 4936, 4042, 9, 270, 493, 748, 4124, 7543, 276, 127, 24096, 6292, 14097, 217, 127, 4316, 2072, 268, 3493, 25815, 217, 886, 24605, 2764, 11, 1017, 29, 20384, 10108, 10447], [36221, 4182, 2678, 8755, 333, 581, 1099, 1926, 276, 127, 10615, 177, 22849, 374, 581, 1099, 5022, 9, 382, 14289, 168, 1095, 127, 331, 1926, 11, 3123, 172, 30172, 235, 141, 1926, 2244, 382, 20240, 3476, 3895, 276, 127, 3674, 162, 1473, 168, 438, 127, 1926, 333, 9307, 9, 127, 2072, 7081, 127, 5852, 10615, 11, 390, 3614, 1454, 581, 5852, 177, 5736, 1685, 276, 1216, 276, 581, 3104, 177, 2153, 1685, 5661, 168, 2627, 127, 15514, 653, 382, 6334, 2978, 2675, 11], [36221, 1551, 1709, 21468, 1154, 360, 1018, 168, 9714, 11, 390, 878, 1205, 491, 222, 168, 7796, 168, 581, 8497, 268, 382, 1533, 448, 1693, 16783, 11, 390, 2541, 222, 268, 782, 765, 662, 10126, 4124, 168, 725, 235, 11, 16630, 285, 581, 12446, 3032, 382, 15137, 168, 3705, 127, 3357, 6436, 3895, 177, 917, 4261, 7522, 270, 11, 5865, 3739, 893, 729, 127, 1440, 6077, 26942, 2351, 382, 493, 12788, 11], [36221, 13542, 3621, 225, 20724, 1089, 406, 9139, 8241, 14428, 1470, 55, 7177, 20004, 2090, 333, 629, 11722, 177, 2586, 671, 141, 3621, 225, 20724, 1089, 2183, 11, 9539, 265, 172, 788, 4864, 222, 701, 6698, 285, 9835, 333, 3621, 225, 20724, 1089, 406, 6295, 177, 141, 10945, 172, 141, 2245, 172, 4819, 1031, 382, 8776, 495, 11, 14428, 1470, 55, 14712, 29668, 1454, 2614, 172, 141, 3621, 225, 20724, 1089, 2183, 177, 4025, 162, 3621, 225, 20724, 1089, 406, 101, 3572, 15, 3245, 9, 20292, 141, 3611, 8869, 11], [36221, 35612, 6350, 516, 959, 127, 1922, 32534, 35147, 729, 997, 20187, 168, 5946, 127, 1710, 11, 2143, 406, 4261, 16056, 127, 18821, 11], [36221, 563, 3221, 406, 21731, 222, 294, 2896, 10662, 10777, 5948, 285, 14981, 3603, 313, 1133, 6736, 146, 10984, 24232, 12095, 177, 3079, 827, 1133, 294, 15425, 3603, 1471, 11, 390, 3749, 350, 294, 16807, 12128, 172, 260, 21731, 11], [36221, 563, 19523, 17615, 172, 4162, 29595, 12028, 123, 177, 11591, 3020, 6073, 123, 957, 127, 22254, 162, 260, 18036, 9, 1031, 582, 350, 10860, 168, 141, 3830, 172, 141, 31742, 399, 269, 11272, 175, 30989, 4298, 492, 217, 629, 10662, 4998, 11, 1758, 423, 168, 2015, 345, 141, 14049, 406, 31678, 27394, 17030, 579, 11, 1484, 3534, 168, 141, 14049, 9, 582, 735, 629, 4058, 19416, 177, 20045, 168, 1095, 491, 268, 476, 222, 360, 1216, 162, 141, 14049, 11, 1927, 222, 19856, 172, 5284, 11876, 177, 12732, 8501, 234, 11, 1927, 350, 136, 2433, 3613, 344, 3830, 3417, 177, 28903, 22374, 11, 1187, 782, 222, 127, 8168, 15059, 285, 260, 16286, 1936, 11277, 3963, 11, 2248, 141, 1107, 172, 294, 22946, 2127, 23727, 9, 4162, 29595, 177, 11591, 3020, 523, 491, 168, 3135, 141, 33240, 833, 285, 141, 1107, 172, 629, 11669, 1753, 1545, 4998, 9, 3496, 4949, 177, 294, 2311, 587, 3871, 172, 25710, 11], [36221, 563, 7563, 9871, 8714, 268, 222, 33929, 162, 182, 945, 126, 2707, 222, 141, 698, 172, 15267, 31020, 2794, 276, 27600, 8603, 9, 5067, 276, 127, 10662, 890, 3314, 216, 172, 3460, 26739, 7655, 406, 12512, 18985, 177, 9658, 313, 162, 746, 3037, 9, 127, 2253, 172, 21277, 11, 390, 3221, 406, 1721, 5755, 4025, 350, 270, 6822, 344, 27600, 8603, 28532, 162, 141, 101, 4254, 13, 73, 9, 127, 645, 729, 1239, 8585, 172, 9871, 5174, 2670, 911, 23965, 333, 7008, 177, 10977, 17472, 11, 390, 2452, 34152, 1133, 5513, 13623, 11], [36221, 27, 8241, 177, 6935, 2591, 141, 23203, 172, 35793, 7598, 276, 582, 2309, 168, 1814, 217, 629, 127, 5364, 4780, 11], [36221, 563, 21596, 13233, 2452, 172, 141, 13404, 644, 4229, 127, 19830, 222, 2355, 162, 260, 22487, 268, 17874, 788, 6568, 333, 11413, 2598, 437, 168, 10413, 3987, 4647, 11], [36221, 31, 297, 175, 39, 1385, 238, 3575, 6, 222, 127, 1152, 2127, 3821, 644, 222, 12705, 11652, 788, 3032, 26352, 29588, 175, 51, 380, 1669, 2211, 6, 644, 222, 141, 1618, 172, 803, 11836, 16083, 333, 629, 7200, 9, 14374, 3368, 175, 46, 1469, 2209, 63, 384, 302, 297, 2905, 2837, 127, 7458, 1205, 168, 4176, 26352, 29588, 23, 1095, 127, 27340, 1822, 125, 460, 28212, 268, 3924, 28241, 34651, 168, 3687, 3235, 177, 2162, 783, 28241, 168, 7200, 11], [36221, 34, 939, 11739, 872, 75, 23971, 235, 21792, 3212, 4201, 177, 6001, 21359, 285, 7102, 25903, 788, 11, 390, 2274, 222, 168, 438, 788, 168, 141, 34822, 34159, 11, 239, 620, 222, 360, 20342, 9, 3734, 262, 788, 3032, 15448, 2905, 2305, 217, 141, 7665, 11, 1531, 745, 582, 516, 9, 1110, 141, 2296, 11364, 172, 127, 9017, 177, 7068, 6351, 11, 5695, 350, 1905, 535, 25812, 141, 2213, 27177, 1501, 127, 1671, 172, 4979, 11, 12387, 887, 168, 725, 0, 212, 148, 183, 172, 5587, 177, 1029, 4190, 9286, 2146, 9, 141, 1396, 20126, 162, 1029, 799, 6351, 3590, 11, 1484, 1814, 3324, 2278, 333, 725, 162, 662, 1205, 2182, 18845, 141, 6365, 17699, 9, 3914, 523, 235, 30433, 817, 141, 21792, 3212, 7357, 177, 12689, 146, 162, 294, 14297, 4979, 11], [36221, 563, 5532, 172, 141, 7298, 5694, 184, 27691, 570, 2282, 154, 1, 6985, 350, 6331, 168, 2389, 629, 1886, 168, 7787, 11], [36221, 25845, 5442, 222, 127, 31882, 1399, 1031, 476, 23559, 2801, 177, 938, 333, 746, 2218, 177, 5068, 10454, 333, 1608, 5352, 11], [36221, 4182, 581, 13828, 285, 141, 23157, 10258, 3621, 412, 414, 9, 3089, 5416, 12530, 222, 2343, 162, 26483, 374, 581, 24455, 162, 127, 5804, 8875, 11, 3621, 412, 414, 2465, 382, 1975, 141, 8875, 162, 581, 4209, 11, 1484, 729, 141, 25535, 6722, 168, 1443, 127, 1378, 277, 1738, 141, 19382, 26545, 9, 141, 34638, 172, 141, 3054, 20187, 11, 3536, 1454, 141, 8875, 33279, 222, 671, 168, 2309, 11, 6963, 878, 141, 2702, 1062, 172, 141, 14903, 1051, 23389, 141, 20011, 168, 1699, 581, 2861, 11, 3434, 3621, 412, 414, 4065, 676, 581, 12521, 177, 2620, 217, 581, 6085, 25], [36221, 30744, 8450, 882, 222, 127, 7178, 9425, 19284, 125, 644, 6017, 495, 13133, 6126, 3617, 276, 1045, 345, 827, 11, 15786, 491, 172, 11624, 9, 8710, 10317, 8662, 270, 1905, 168, 438, 1100, 168, 8450, 882, 406, 3856, 9, 5308, 382, 3525, 294, 8770, 17108, 168, 581, 10701, 2699, 428, 339, 8952, 11], [36221, 15607, 9, 2336, 9, 177, 2947, 11, 428, 159, 4882, 32735, 222, 127, 2815, 3674, 162, 5268, 4753, 162, 141, 2954, 101, 1841, 13, 73, 9, 1728, 26097, 406, 2947, 285, 25654, 24, 997, 406, 2379, 127, 1710, 172, 788, 19326, 406, 1378, 3807, 333, 141, 606, 172, 3098, 3536, 5337, 11, 2143, 3525, 495, 285, 20522, 18198, 9, 127, 2815, 14478, 20434, 333, 2947, 17390, 11, 941, 5749, 788, 285, 788, 19326, 406, 2452, 9, 127, 17788, 12406, 9740, 788, 2402, 5199, 177, 1216, 33689, 6551, 177, 294, 452, 28061, 2603, 9, 127, 5633, 65, 228, 644, 493, 9, 5597, 9, 141, 1743, 168, 2593, 127, 3504, 20638, 644, 222, 141, 19326, 406, 3032, 11, 1218, 428, 159, 4882, 19638, 653, 646, 386, 788, 19205, 175, 1329, 5633, 65, 228, 308, 141, 6551, 492, 20522, 18198, 1041, 5961, 333, 581, 17390, 177, 1472, 6722, 2495, 168, 304, 168, 141, 2917, 11, 428, 159, 4882, 4853, 5168, 24, 8903, 4621, 11], [36221, 17561, 12464, 33001, 7611, 14920, 14289, 29745, 1738, 26676, 9, 127, 8168, 1125, 644, 16712, 141, 2265, 62, 6378, 406, 35142, 59, 11], [36221, 33076, 11339, 449, 128, 10814, 9239, 2278, 333, 127, 35664, 1685, 172, 14245, 168, 2627, 127, 29814, 22328, 27281, 11, 6740, 686, 172, 15170, 34225, 4435, 9, 21562, 449, 128, 10814, 9, 177, 9891, 374, 25039, 8557, 168, 2627, 127, 15630, 9, 19868, 4, 1685, 3847, 22666, 3655, 4433, 127, 29814, 4987, 9, 598, 172, 141, 8467, 172, 141, 15348, 1599, 32444, 11, 16876, 21766, 9, 382, 4500, 495, 581, 30826, 1685, 168, 2801, 162, 127, 32980, 162, 4627, 9, 1031, 382, 11477, 26567, 217, 27165, 1219, 11, 539, 294, 26025, 14715, 172, 13740, 9, 19868, 2834, 887, 168, 13451, 168, 1107, 581, 7925, 28068, 16759, 629, 32980, 11, 20328, 9, 141, 15348, 1599, 32444, 12099, 19868, 276, 2656, 4374, 172, 141, 32980, 9, 2379, 1069, 141, 866, 7070, 125, 162, 29814, 22328, 2764, 9, 168, 18408, 1302, 127, 5106, 14582, 1708, 11], [36221, 27, 2815, 31472, 222, 3160, 911, 141, 11732, 172, 127, 8052, 8497, 959, 581, 4503, 5819, 177, 581, 4780, 222, 1188, 491, 172, 4349, 217, 1243, 294, 20879, 25084, 11], [36221, 10839, 2439, 406, 1926, 222, 14014, 938, 276, 582, 2686, 127, 2521, 2213, 3374, 11, 3297, 725, 9, 382, 177, 581, 5022, 1850, 27442, 6701, 235, 141, 14497, 833], [36221, 27, 13991, 3221, 671, 127, 1396, 172, 22736, 644, 6327, 15750, 168, 11287, 3234, 712, 2294, 1748, 18901, 9125, 9, 17752, 11], [36221, 24534, 36154, 28259, 260, 3987, 671, 2708, 9, 127, 646, 172, 1239, 17692, 9, 1965, 598, 18802, 6535, 23, 382, 448, 1005, 11, 2335, 382, 17291, 127, 2815, 11886, 2699, 4756, 182, 1404, 79, 168, 1005, 177, 2388, 9, 997, 22155, 294, 26488, 10641, 671, 141, 1743, 172, 3037, 177, 141, 602, 4959, 172, 7321, 11, 212, 7226, 3987, 671, 141, 1743, 172, 24060, 177, 141, 3669, 270, 2784, 168, 19288, 16839, 162, 141, 4633, 59, 5172, 422, 220, 3460, 1165, 141, 3370, 5956, 172, 141, 10000, 3536, 11], [36221, 18724, 8879, 2152, 371, 23, 208, 3196, 480, 168, 3051, 23, 390, 4597, 24425, 1898, 455, 1376, 168, 3952, 7372, 8879, 2152, 371, 352, 9371, 2327, 79, 9, 22089, 15028, 175, 132, 345, 2368, 29894, 13349, 141, 1029, 11054, 545, 5395, 23766, 492, 505, 141, 8484, 19677, 23696, 3991, 7309, 172, 22832, 217, 3548, 549, 162, 260, 20998, 2396, 11, 539, 208, 3196, 480, 168, 3051, 9, 8879, 2152, 371, 6314, 581, 27264, 4624, 172, 12799, 268, 2228, 1975, 1069, 26785, 374, 294, 6937, 3176, 9, 13745, 141, 20196, 17666, 172, 662, 3321, 6996, 7693, 9, 25768, 4266, 11, 33189, 9, 177, 581, 4780, 531, 21097, 16727, 11], [36221, 21602, 18869, 222, 127, 101, 763, 21, 27764, 20084, 3987, 9, 9583, 374, 7487, 9137, 9, 19762, 8772, 10856, 632, 9, 9628, 11, 390, 3221, 222, 2273, 235, 141, 602, 1685, 2452, 172, 2139, 11, 17982, 4696, 16502, 177, 141, 1710, 9630, 10, 15, 23, 390, 13699, 172, 4326, 1101, 123, 9, 127, 28412, 16516, 217, 25425, 14080, 374, 5615, 34583, 422, 11, 20345, 14226, 11991, 65, 1373, 4246, 141, 3221, 3738, 9, 177, 222, 807, 598, 172, 141, 3221, 406, 7091, 13243, 11, 8693, 5305, 1386, 422, 77, 1398, 222, 1805, 7091, 10224, 9, 2729, 285, 17371, 5836, 126, 177, 15469, 1386, 24579, 11, 15687, 1778, 34523, 383, 9, 20605, 266, 32600, 9, 15994, 13531, 4456, 9, 36162, 19855, 9, 2708, 15854, 306, 30598, 9, 29237, 4298, 9, 182, 845, 274, 447, 21017, 80, 9, 26849, 206, 1166, 21083, 1022, 9, 15596, 6275, 7076, 9, 8894, 183, 4490, 16641, 9, 177, 872, 462, 447, 22264, 1143, 350, 9192, 162, 141, 8063, 4364, 11, 390, 3221, 32821, 235, 4484, 101, 710, 9, 101, 763, 21, 9, 217, 27764, 406, 184, 6953, 25425, 14080, 217, 6229, 1, 398, 1827, 177, 18065, 3405, 9, 1728, 141, 3574, 25425, 14080, 27104, 11443]]\n",
            "Test loss: 1.9691792726516724\n",
            "1.7900314331054688\n",
            "[[36221, 23162, 11, 16043, 154, 222, 7050, 168, 1095, 26771, 217, 788, 3029, 16064, 11, 390, 11057, 172, 127, 331, 15247, 6325, 3517, 799, 141, 3022, 168, 788, 31437, 2083, 11, 1484, 1039, 30242, 6450, 12396, 19198, 3133, 11, 266, 1621, 79, 406, 5320, 9, 4252, 1257, 6699, 493, 788, 11324, 9664, 162, 127, 1710, 9, 177, 19458, 5119, 9, 28300, 177, 34484, 9, 17140, 959, 6346, 162, 8701, 24, 12055, 9, 141, 484, 942, 9, 13804, 9, 177, 6260, 459, 1555, 6450, 9, 222, 2959, 238, 2001, 374, 4405, 18320, 21810, 3133, 11, 263, 35619, 833, 539, 260, 359, 17459, 5522, 9, 448, 2153, 19058, 676, 12521, 177, 22634, 25], [36221, 563, 13871, 6095, 4347, 222, 2273, 235, 212, 11, 428, 11, 25212, 123, 406, 101, 4871, 18, 7458, 172, 141, 1377, 601, 9, 671, 35895, 914, 162, 127, 7550, 2838, 162, 3398, 4370, 6253, 11, 101, 4151, 141, 7458, 7163, 141, 3139, 172, 1721, 2815, 2156, 162, 141, 1922, 7550, 4349, 9, 141, 3221, 13324, 235, 824, 598, 172, 827, 24, 141, 5239, 4663, 21525, 12248, 644, 3675, 127, 17372, 168, 7790, 9, 11739, 127, 2699, 644, 878, 2601, 2894, 1069, 1168, 788, 3366, 14364, 493, 13085, 788, 9, 177, 6334, 3326, 168, 141, 6843, 4349, 276, 127, 7200, 177, 3525, 703, 162, 127, 32931, 10383, 3561, 729, 141, 6843, 222, 23001, 9, 34785, 1623, 581, 4780, 177, 581, 9139, 6935, 11], [36221, 1237, 4794, 101, 2449, 9952, 9, 26251, 21053, 2432, 222, 127, 4718, 1618, 11, 2335, 382, 4958, 491, 168, 12969, 581, 5314, 172, 9494, 9, 141, 15967, 21509, 8662, 294, 25055, 172, 938, 5729, 168, 13519, 581, 11093, 11, 10249, 270, 476, 9, 26251, 5651, 13950, 1395, 4461, 32963, 9, 12711, 382, 406, 23617, 217, 1845, 1779, 11], [36221, 23241, 182, 2331, 5202, 28259, 260, 5310, 7519, 671, 127, 1396, 172, 2815, 5911, 644, 6722, 168, 1878, 141, 3026, 1709, 2483, 162, 1685, 9, 184, 8032, 455, 771, 26704, 423, 168, 1109, 1110, 168, 411, 5089], [36221, 52, 420, 31608, 147, 581, 12980, 168, 1693, 788, 20585, 9, 505, 3675, 776, 17039, 21918, 268, 33906, 840, 1845, 31248, 11, 101, 20, 1219, 2146, 9, 127, 21468, 12169, 268, 141, 184, 5341, 1, 5410, 222, 1309, 7123, 813, 3843, 19054, 285, 141, 1065, 17674, 2033, 2552, 2797, 11], [36221, 10013, 2018, 437, 21597, 9, 127, 2815, 3938, 285, 127, 5845, 177, 127, 1257, 350, 13427, 2278, 374, 141, 31177, 2574, 172, 629, 4360, 11], [36221, 7517, 1376, 3394, 2627, 18059, 729, 629, 11490, 24756, 350, 17099, 17318, 217, 141, 1377, 1416, 11], [36221, 27, 3904, 177, 127, 21461, 4063, 1613, 141, 2630, 2993, 34708, 333, 7100, 8454, 168, 7100, 8454, 162, 127, 101, 4254, 18, 25687, 5268, 4586, 247, 33649, 11, 1758, 4768, 217, 2351, 9, 14090, 285, 629, 15100, 11, 390, 4605, 5818, 127, 2815, 177, 2232, 1036, 5852, 207, 213, 8679, 11, 16902, 141, 1205, 582, 29182, 528, 6171, 127, 1216, 3334, 15952, 1008, 19142, 6478, 127, 331, 19894, 10547, 311, 3665, 11, 819, 5986, 646, 9, 2428, 217, 4485, 9, 20731, 3378, 629, 5906, 11], [36221, 1, 23560, 8044, 1, 386, 2273, 235, 141, 1964, 4384, 5916, 1513, 162, 653, 127, 10198, 4435, 767, 20025, 141, 214, 20460, 2452, 4, 172, 776, 1987, 10198, 2452, 9, 177, 2146, 4229, 127, 7958, 2888, 11], [36221, 5892, 11, 13398, 182, 13401, 686, 4559, 168, 9432, 141, 2806, 34230, 3409, 172, 141, 6116, 406, 9205, 374, 2451, 172, 127, 5957, 1227, 6357, 2653, 24898, 459, 3878, 2110, 141, 6116, 15619, 6187, 7235, 127, 10514, 168, 1007, 177, 2233, 2110, 141, 6215, 406, 19843, 9, 653, 22692, 168, 4606, 141, 6215, 162, 1029, 262, 270, 222, 360, 6852, 162, 645, 11], [36221, 35155, 306, 7171, 9, 333, 127, 5550, 36073, 2183, 9, 11216, 581, 12757, 4503, 382, 4, 337, 957, 270, 168, 1134, 13475, 21998, 9725, 11, 7224, 168, 4036, 394, 8449, 152, 18234, 127, 29411, 9, 382, 406, 2931, 5875, 27115, 15133, 11, 6358, 3385, 9, 16983, 3617, 18409, 890, 24632, 6798, 189, 1967, 11, 11396, 242, 15688, 168, 581, 8493, 9, 11157, 1388, 141, 214, 1474, 12855, 225, 79, 4, 2106, 217, 141, 3170, 359, 168, 5176, 9, 16983, 4794, 29183, 9, 505, 959, 8216, 581, 19074, 452, 25251, 356, 4780, 406, 8652, 817, 3326, 824, 162, 645, 11, 28422, 9801, 16983, 8662, 1356, 285, 73, 24845, 276, 1216, 276, 3763, 132, 9095, 9, 581, 16386, 3334, 9385, 9, 177, 127, 14171, 382, 926, 13819, 162, 23, 141, 214, 32318, 755, 4, 21845, 9870, 9, 1333, 168, 476, 12087, 11], [36221, 32929, 16098, 182, 365, 201, 222, 294, 16713, 2820, 172, 598, 172, 141, 1065, 16743, 177, 28220, 28799, 172, 141, 101, 336, 191, 6153, 11, 2862, 9687, 12733, 177, 31485, 29130, 4673, 788, 4749, 9, 16098, 182, 365, 201, 4229, 598, 172, 141, 1065, 2179, 16706, 9, 3504, 9, 177, 18838, 13456, 172, 788, 6267, 11, 17816, 518, 723, 352, 162, 16283, 13991, 8766, 182, 365, 201, 531, 34155, 9, 1685, 23029, 8779, 1133, 35089, 4925, 9, 6348, 333, 3394, 9, 2183, 9, 10586, 9, 177, 17001, 9, 276, 1216, 276, 788, 1360, 3037, 9, 276, 1005, 374, 24671, 34905, 11], [36221, 97, 92, 35, 97, 92, 29605, 0, 17281, 141, 35872, 276, 382, 1155, 770, 15664, 147, 141, 13523, 9, 12321, 333, 1139, 3048, 3082, 16395, 23868, 9, 1133, 141, 8989, 172, 28813, 27844, 9, 177, 1111, 12885, 345, 1577, 162, 281, 64, 238, 24305, 2450, 9, 31407, 11, 1500, 141, 1039, 14396, 92, 63, 7826, 921, 25051, 2286, 12169, 141, 15905, 31385, 172, 17550, 1133, 581, 3478, 11875, 172, 24706, 30484, 20335, 17919, 9, 32484, 9, 177, 20883, 172, 1789, 5174, 11], [36221, 1551, 18133, 1396, 447, 35853, 162, 235, 788, 34655, 447, 8104, 22717, 959, 141, 12979, 10279, 168, 3736, 788, 14650, 235, 127, 20922, 4914, 11, 12537, 1364, 629, 4360, 31823, 314, 276, 9, 285, 2294, 26056, 552, 11995, 9, 141, 3221, 1183, 1733, 840, 141, 8940, 13590, 235, 1623, 7194, 172, 16344, 5174, 11], [36221, 29961, 222, 127, 2815, 3674, 644, 662, 3550, 4664, 168, 2801, 285, 141, 4780, 172, 788, 1257, 11, 2143, 7026, 840, 127, 2705, 162, 653, 4360, 232, 13389, 9, 127, 4164, 646, 644, 1154, 360, 1814, 217, 30975, 11, 390, 7598, 172, 11005, 127, 1257, 235, 788, 1360, 2905, 495, 1738, 141, 888, 168, 725, 177, 141, 4425, 168, 2801, 127, 1814, 6911, 1685, 11], [36221, 1230, 162, 8599, 361, 147, 9, 141, 3987, 6992, 141, 2452, 172, 184, 11001, 3164, 1, 16497, 225, 175, 36, 140, 176, 7518, 30952, 492, 644, 3326, 168, 581, 21063, 168, 455, 127, 3802, 1589, 34279, 26411, 162, 141, 7210, 9906, 6151, 172, 141, 5761, 1031, 581, 18873, 9, 26264, 137, 243, 4780, 493, 4434, 217, 101, 1040, 1219, 11], [36221, 2651, 22, 8205, 141, 10841, 172, 29342, 162, 10774, 177, 6955, 3205, 177, 294, 606, 168, 127, 1205, 172, 1685, 217, 7585, 172, 938, 11, 11745, 7819, 1133, 13446, 2218, 9, 582, 2404, 629, 4988, 172, 1685, 3419, 141, 10075, 32693, 9, 2428, 5248, 141, 16173, 172, 29032, 177, 12377, 9, 4311, 3066, 177, 3504, 29673, 9, 168, 10001, 127, 6026, 10284, 3282, 172, 2292, 11], [36221, 1551, 23121, 17492, 172, 101, 2130, 2066, 7921, 374, 127, 19613, 15015, 2273, 235, 24272, 11], [36221, 27, 13991, 8616, 333, 141, 10802, 16009, 162, 281, 641, 11, 5010, 235, 27870, 32276, 22306, 770, 9, 127, 774, 959, 788, 5383, 217, 3079, 127, 21727, 159, 505, 1165, 788, 6034, 11, 14306, 2846, 457, 5064, 1165, 141, 4864, 9, 551, 141, 8616, 14635, 217, 3843, 644, 2394, 2232, 671, 141, 2815, 3674, 11, 6000, 938, 423, 127, 1986, 168, 1476, 168, 141, 4324, 23, 127, 12446, 8168, 167, 4756, 5691, 217, 5811, 22306, 770, 2228, 4434, 177, 22306, 770, 406, 598, 4930, 14364, 9, 20478, 15744, 79, 9, 644, 7464, 788, 168, 5691, 11, 5691, 177, 15744, 79, 1123, 699, 799, 1352, 746, 9, 551, 141, 8616, 6163, 74, 445, 1454, 827, 285, 184, 16594, 783, 1, 177, 184, 229, 783, 892, 2335, 582, 3849, 4864, 22306, 770, 9, 582, 5576, 629, 645, 1041, 4086, 847, 5691, 177, 15744, 79, 423, 761, 168, 1476, 177, 6656, 788, 8124, 11], [36221, 14143, 12202, 3062, 345, 127, 1922, 2489, 7988, 235, 141, 29378, 172, 6675, 11, 3297, 127, 5979, 320, 409, 285, 127, 790, 28110, 7089, 1069, 11350, 578, 9, 581, 452, 2031, 387, 15161, 459, 16565, 14443, 15491, 840, 294, 16045, 2960, 129, 2882, 11, 2335, 29729, 3525, 2013, 162, 127, 331, 15059, 345, 141, 14694, 9, 4727, 406, 24979, 22223, 1020, 177, 35268, 1183, 18392, 3849, 2627, 16164, 25444, 9, 23907, 127, 22159, 2415, 172, 3111, 268, 36219, 242, 31051, 127, 25247, 2387, 177, 22774, 2481, 2221, 11], [36221, 7785, 990, 14731, 162, 1685, 177, 4693, 162, 1886, 9, 5900, 177, 4269, 5514, 447, 13060, 126, 193, 135, 175, 31, 650, 1394, 3733, 147, 6, 4664, 824, 598, 578, 2314, 9, 127, 1257, 11, 2335, 997, 10328, 168, 7090, 8138, 19626, 18476, 4832, 175, 33196, 14693, 492, 505, 22155, 268, 997, 484, 866, 423, 168, 423, 127, 6551, 9, 5514, 447, 6902, 168, 788, 6325, 9, 16768, 24024, 175, 16785, 1963, 8814, 384, 10560, 382, 493, 662, 2013, 162, 7069, 9, 16768, 4211, 168, 1107, 5514, 447, 1095, 127, 6551, 374, 22022, 788, 840, 127, 4310, 177, 8417, 3674, 9, 598, 644, 19198, 141, 5320, 172, 1029, 10303, 152, 9194, 811, 9, 1965, 141, 8138, 265, 406, 3386, 11], [36221, 2651, 22, 8205, 141, 10841, 172, 29342, 162, 10774, 177, 6955, 3205, 177, 294, 606, 168, 127, 1205, 172, 1685, 217, 7585, 172, 938, 11, 11745, 7819, 1133, 13446, 2218, 9, 582, 2404, 629, 4988, 172, 1685, 3419, 141, 10075, 32693, 9, 2428, 5248, 141, 16173, 172, 29032, 177, 12377, 9, 4311, 3066, 177, 3504, 29673, 9, 168, 10001, 127, 6026, 10284, 3282, 172, 2292, 11], [36221, 9813, 141, 10000, 3536, 9, 25376, 9238, 7969, 333, 127, 6067, 6188, 177, 1471, 217, 141, 13232, 2800, 11, 16902, 141, 1205, 9, 582, 3853, 127, 6067, 30487, 10781, 141, 2652, 268, 141, 2947, 222, 676, 11, 25090, 141, 1448, 127, 4311, 9, 141, 13521, 493, 581, 2156, 516, 235, 177, 582, 3617, 1095, 3903, 162, 127, 5412, 285, 141, 6067, 1993, 3279, 644, 807, 222, 20192, 172, 141, 2947, 406, 606, 11], [36221, 27, 8474, 3674, 9, 2139, 11, 30165, 14112, 9, 701, 863, 162, 127, 16730, 11706, 2268, 1728, 26502, 3326, 168, 788, 7787, 1577, 959, 141, 2947, 406, 606, 11, 2143, 406, 20192, 268, 788, 6551, 9, 141, 21346, 12904, 6576, 177, 17224, 4987, 9414, 145, 11689, 18619, 661, 123, 9, 493, 748, 2502, 294, 16090, 285, 788, 2203, 26418, 11365, 63, 162, 788, 11376, 11], [36221, 15338, 222, 15667, 285, 2336, 9, 505, 581, 9317, 3103, 911, 141, 10792, 32032, 172, 2693, 3686, 6597, 9, 24595, 234, 275, 11, 1218, 5251, 22155, 141, 1453, 172, 7102, 1953, 382, 7746, 168, 4033, 671, 24595, 234, 275, 531, 17419, 177, 3377, 847, 767, 6239, 957, 1069, 4322, 162, 1685, 11], [36221, 28, 3528, 222, 26610, 8384, 172, 9170, 127, 2365, 374, 127, 3674, 177, 222, 3160, 840, 127, 25925, 11, 24163, 268, 35414, 177, 141, 3674, 350, 10110, 9, 141, 7537, 30997, 2601, 2894, 827, 177, 35414, 222, 4261, 3160, 1577, 374, 141, 3674, 168, 2455, 788, 2183, 11, 1781, 866, 9321, 159, 3509, 9, 141, 2183, 7746, 168, 3024, 35414, 4422, 729, 582, 1864, 168, 3146, 268, 382, 222, 1556, 168, 13449, 127, 2521, 1935, 172, 2351, 11], [36221, 11549, 3394, 644, 1471, 141, 6439, 6762, 162, 127, 32078, 2705, 9, 1911, 518, 2825, 175, 37, 14946, 11034, 151, 1664, 518, 14946, 492, 350, 7400, 285, 19257, 2351, 629, 31428, 493, 748, 8808, 217, 127, 19934, 16348, 345, 141, 606, 172, 141, 17389, 9, 141, 598, 268, 18374, 827, 127, 5191, 345, 127, 1191, 1152, 8008, 2072, 11], [36221, 563, 2452, 172, 17035, 281, 11, 18210, 9, 127, 27020, 17755, 9, 177, 581, 3164, 17035, 200, 11, 18210, 9, 127, 28903, 28203, 25822, 9, 222, 127, 21887, 177, 127, 5209, 217, 886, 645, 313, 217, 141, 26924, 6153, 177, 217, 2444, 11], [36221, 1124, 482, 9269, 3320, 4346, 21840, 9950, 1191, 1905, 168, 233, 127, 1244, 1268, 11, 5807, 581, 4780, 1578, 9, 21840, 3525, 1814, 172, 581, 19104, 25102, 4503, 9, 177, 382, 406, 141, 2253, 172, 3032, 476, 172, 581, 26517, 448, 4637, 235, 11, 1218, 2702, 276, 382, 3517, 235, 141, 3465, 9, 21840, 222, 14029, 127, 4311, 6087, 9140, 177, 17684, 172, 581, 602, 458, 11, 808, 406, 360, 2243, 382, 9750, 3895, 495, 168, 2153, 268, 382, 23751, 268, 6823, 127, 646, 2451, 13877, 644, 328, 1616, 350, 11], [36221, 23482, 14131, 6740, 9, 141, 25379, 646, 162, 141, 1399, 9, 33274, 127, 13094, 5482, 9, 8425, 1125, 11, 16630, 9, 582, 523, 491, 168, 7796, 268, 3843, 170, 275, 2944, 170, 3418, 233, 7021, 285, 2351, 11], [36221, 563, 3987, 3951, 1721, 2629, 375, 248, 1417, 899, 9, 1965, 1608, 11517, 11, 390, 866, 1417, 137, 222, 671, 127, 2578, 4396, 644, 26942, 7485, 333, 3895, 11, 941, 222, 8010, 177, 4860, 168, 3830, 9, 168, 22801, 671, 127, 6511, 9, 1039, 382, 9555, 382, 222, 671, 168, 438, 30958, 217, 19257, 11, 390, 1555, 1417, 137, 3951, 127, 20585, 6551, 3175, 168, 10610, 162, 127, 2153, 12406, 11, 1187, 141, 3436, 1417, 137, 3951, 127, 646, 3175, 168, 438, 7851, 959, 6048, 141, 20459, 878, 2228, 162, 581, 1685, 235, 127, 4067, 11], [36221, 36, 349, 10, 22995, 761, 878, 581, 8241, 168, 2801, 217, 2243, 997, 222, 29108, 16712, 11, 7703, 127, 14945, 168, 2620, 788, 5929, 168, 12758, 9, 382, 2905, 101, 2837, 127, 16687, 646, 9, 644, 15680, 168, 7969, 333, 141, 4226, 11, 941, 7746, 168, 9416, 127, 1640, 34068, 177, 8601, 294, 5320, 235, 101, 1069, 11, 6755, 428, 349, 10, 22995, 222, 7073, 12711, 268, 141, 34068, 222, 141, 13807, 9, 662, 598, 8605, 1069, 1168, 141, 34068, 222, 101, 4475, 141, 13534, 3519, 646, 162, 4349, 11, 1484, 382, 3675, 1107, 333, 127, 20972, 3674, 4756, 7641, 3959, 209, 644, 1658, 179, 147, 935, 938, 2023, 11, 7126, 101, 17081, 7746, 177, 7641, 3959, 209, 25233, 2607, 1805, 6511, 11]]\n",
            "Test loss: 1.8968461751937866\n",
            "1.9703948497772217\n"
          ]
        }
      ]
    },
    {
      "cell_type": "code",
      "source": [
        "# evaluate"
      ],
      "metadata": {
        "id": "F6ueg3qPlpx9"
      },
      "execution_count": null,
      "outputs": []
    },
    {
      "cell_type": "code",
      "source": [
        "# evaluate on the entire test set\n",
        "# predictions = model(test_hold)[0].argmax(dim=1)\n",
        "# (predictions == y_test).mean()"
      ],
      "metadata": {
        "id": "W5IzCZ8cXGqC"
      },
      "execution_count": null,
      "outputs": []
    },
    {
      "cell_type": "code",
      "source": [
        "plt.figure(figsize=(10,6))\n",
        "cm = confusion_matrix(y_test,predictions)\n",
        "sns.heatmap(cm, annot=True, fmt='d', cmap='Blues', cbar=True);"
      ],
      "metadata": {
        "id": "FfaBPXy3XbiK"
      },
      "execution_count": null,
      "outputs": []
    },
    {
      "cell_type": "markdown",
      "source": [
        "# Ignore the section below"
      ],
      "metadata": {
        "id": "6xlsoGhe58YL"
      }
    },
    {
      "cell_type": "code",
      "source": [
        "df_final[\"genres_count\"] = df_final[\"genres\"].apply(len)\n",
        "df_final[\"overview_len\"] = df_final[\"overview\"].apply(lambda x: len(x.split(\" \")))"
      ],
      "metadata": {
        "id": "EGLT648xtmgs",
        "colab": {
          "base_uri": "https://localhost:8080/",
          "height": 166
        },
        "outputId": "a2beb94c-0b87-4ba2-b350-b4742277bfe6"
      },
      "execution_count": null,
      "outputs": [
        {
          "output_type": "error",
          "ename": "NameError",
          "evalue": "name 'df_final' is not defined",
          "traceback": [
            "\u001b[0;31m---------------------------------------------------------------------------\u001b[0m",
            "\u001b[0;31mNameError\u001b[0m                                 Traceback (most recent call last)",
            "\u001b[0;32m<ipython-input-1-ad7ccc8d2d5d>\u001b[0m in \u001b[0;36m<cell line: 1>\u001b[0;34m()\u001b[0m\n\u001b[0;32m----> 1\u001b[0;31m \u001b[0mdf_final\u001b[0m\u001b[0;34m[\u001b[0m\u001b[0;34m\"genres_count\"\u001b[0m\u001b[0;34m]\u001b[0m \u001b[0;34m=\u001b[0m \u001b[0mdf_final\u001b[0m\u001b[0;34m[\u001b[0m\u001b[0;34m\"genres\"\u001b[0m\u001b[0;34m]\u001b[0m\u001b[0;34m.\u001b[0m\u001b[0mapply\u001b[0m\u001b[0;34m(\u001b[0m\u001b[0mlen\u001b[0m\u001b[0;34m)\u001b[0m\u001b[0;34m\u001b[0m\u001b[0;34m\u001b[0m\u001b[0m\n\u001b[0m\u001b[1;32m      2\u001b[0m \u001b[0mdf_final\u001b[0m\u001b[0;34m[\u001b[0m\u001b[0;34m\"overview_len\"\u001b[0m\u001b[0;34m]\u001b[0m \u001b[0;34m=\u001b[0m \u001b[0mdf_final\u001b[0m\u001b[0;34m[\u001b[0m\u001b[0;34m\"overview\"\u001b[0m\u001b[0;34m]\u001b[0m\u001b[0;34m.\u001b[0m\u001b[0mapply\u001b[0m\u001b[0;34m(\u001b[0m\u001b[0;32mlambda\u001b[0m \u001b[0mx\u001b[0m\u001b[0;34m:\u001b[0m \u001b[0mlen\u001b[0m\u001b[0;34m(\u001b[0m\u001b[0mx\u001b[0m\u001b[0;34m.\u001b[0m\u001b[0msplit\u001b[0m\u001b[0;34m(\u001b[0m\u001b[0;34m\" \"\u001b[0m\u001b[0;34m)\u001b[0m\u001b[0;34m)\u001b[0m\u001b[0;34m)\u001b[0m\u001b[0;34m\u001b[0m\u001b[0;34m\u001b[0m\u001b[0m\n",
            "\u001b[0;31mNameError\u001b[0m: name 'df_final' is not defined"
          ]
        }
      ]
    },
    {
      "cell_type": "code",
      "source": [
        "# check no genre movies => drop\n",
        "print(df_final.shape[0])\n",
        "print(f\"No of 0 genre movies: {df_final[df_final['genres_count'] == 0].shape[0]/df_final.shape[0]:.3f}%\")\n",
        "df_final = df_final[df_final[\"genres_count\"] > 0]\n",
        "print(df_final.shape[0])"
      ],
      "metadata": {
        "colab": {
          "base_uri": "https://localhost:8080/",
          "height": 221
        },
        "id": "dEIGk9NDuj7W",
        "outputId": "80a8fc6f-10e6-4be3-d9a9-a37ebb9f5395"
      },
      "execution_count": null,
      "outputs": [
        {
          "output_type": "error",
          "ename": "NameError",
          "evalue": "name 'df_final' is not defined",
          "traceback": [
            "\u001b[0;31m---------------------------------------------------------------------------\u001b[0m",
            "\u001b[0;31mNameError\u001b[0m                                 Traceback (most recent call last)",
            "\u001b[0;32m<ipython-input-2-2dd1ec3345aa>\u001b[0m in \u001b[0;36m<cell line: 2>\u001b[0;34m()\u001b[0m\n\u001b[1;32m      1\u001b[0m \u001b[0;31m# check no genre movies => drop\u001b[0m\u001b[0;34m\u001b[0m\u001b[0;34m\u001b[0m\u001b[0m\n\u001b[0;32m----> 2\u001b[0;31m \u001b[0mprint\u001b[0m\u001b[0;34m(\u001b[0m\u001b[0mdf_final\u001b[0m\u001b[0;34m.\u001b[0m\u001b[0mshape\u001b[0m\u001b[0;34m[\u001b[0m\u001b[0;36m0\u001b[0m\u001b[0;34m]\u001b[0m\u001b[0;34m)\u001b[0m\u001b[0;34m\u001b[0m\u001b[0;34m\u001b[0m\u001b[0m\n\u001b[0m\u001b[1;32m      3\u001b[0m \u001b[0mprint\u001b[0m\u001b[0;34m(\u001b[0m\u001b[0;34mf\"No of 0 genre movies: {df_final[df_final['genres_count'] == 0].shape[0]/df_final.shape[0]:.3f}%\"\u001b[0m\u001b[0;34m)\u001b[0m\u001b[0;34m\u001b[0m\u001b[0;34m\u001b[0m\u001b[0m\n\u001b[1;32m      4\u001b[0m \u001b[0mdf_final\u001b[0m \u001b[0;34m=\u001b[0m \u001b[0mdf_final\u001b[0m\u001b[0;34m[\u001b[0m\u001b[0mdf_final\u001b[0m\u001b[0;34m[\u001b[0m\u001b[0;34m\"genres_count\"\u001b[0m\u001b[0;34m]\u001b[0m \u001b[0;34m>\u001b[0m \u001b[0;36m0\u001b[0m\u001b[0;34m]\u001b[0m\u001b[0;34m\u001b[0m\u001b[0;34m\u001b[0m\u001b[0m\n\u001b[1;32m      5\u001b[0m \u001b[0mprint\u001b[0m\u001b[0;34m(\u001b[0m\u001b[0mdf_final\u001b[0m\u001b[0;34m.\u001b[0m\u001b[0mshape\u001b[0m\u001b[0;34m[\u001b[0m\u001b[0;36m0\u001b[0m\u001b[0;34m]\u001b[0m\u001b[0;34m)\u001b[0m\u001b[0;34m\u001b[0m\u001b[0;34m\u001b[0m\u001b[0m\n",
            "\u001b[0;31mNameError\u001b[0m: name 'df_final' is not defined"
          ]
        }
      ]
    },
    {
      "cell_type": "code",
      "source": [
        "# df_final.reset_index(inplace=True)\n",
        "# df_final.drop('index',axis=1,inplace=True)"
      ],
      "metadata": {
        "id": "IMq1G_zbyhQZ"
      },
      "execution_count": null,
      "outputs": []
    },
    {
      "cell_type": "code",
      "source": [
        "# distribution of genres_count, length by genres_count\n",
        "fig, axes = plt.subplots(1,2,figsize=(12,5))\n",
        "sns.histplot(df_final, x=\"genres_count\",ax=axes[0],color=\"lightblue\")\n",
        "axes[0].set_title(\"# of genres for each movie\")\n",
        "sns.boxplot(df_final,x=\"genres_count\",y=\"overview_len\",color=\"lightblue\",ax=axes[1])\n",
        "axes[1].set_title(\"Length of overview by counts of genre\");"
      ],
      "metadata": {
        "id": "nd1d7iOivzVM"
      },
      "execution_count": null,
      "outputs": []
    },
    {
      "cell_type": "code",
      "source": [
        "# vectorize genres\n",
        "encoder = MultiLabelBinarizer()\n",
        "encoded = encoder.fit_transform(df_final[\"genres\"])\n",
        "encoded_df = pd.DataFrame(encoded,columns=encoder.classes_)\n",
        "encoded_df.head()"
      ],
      "metadata": {
        "id": "Ro9xZHmzwRME"
      },
      "execution_count": null,
      "outputs": []
    },
    {
      "cell_type": "code",
      "source": [
        "df_merged = df_final.copy()\n",
        "df_merged = pd.merge(df_final, encoded_df, left_index=True, right_index=True)"
      ],
      "metadata": {
        "id": "VucL-tWvyI-L",
        "colab": {
          "base_uri": "https://localhost:8080/",
          "height": 166
        },
        "outputId": "2bdfc1e9-c698-47ee-e83b-1c798deef2e7"
      },
      "execution_count": null,
      "outputs": [
        {
          "output_type": "error",
          "ename": "NameError",
          "evalue": "name 'df_final' is not defined",
          "traceback": [
            "\u001b[0;31m---------------------------------------------------------------------------\u001b[0m",
            "\u001b[0;31mNameError\u001b[0m                                 Traceback (most recent call last)",
            "\u001b[0;32m<ipython-input-3-71678ce126f2>\u001b[0m in \u001b[0;36m<cell line: 1>\u001b[0;34m()\u001b[0m\n\u001b[0;32m----> 1\u001b[0;31m \u001b[0mdf_merged\u001b[0m \u001b[0;34m=\u001b[0m \u001b[0mdf_final\u001b[0m\u001b[0;34m.\u001b[0m\u001b[0mcopy\u001b[0m\u001b[0;34m(\u001b[0m\u001b[0;34m)\u001b[0m\u001b[0;34m\u001b[0m\u001b[0;34m\u001b[0m\u001b[0m\n\u001b[0m\u001b[1;32m      2\u001b[0m \u001b[0mdf_merged\u001b[0m \u001b[0;34m=\u001b[0m \u001b[0mpd\u001b[0m\u001b[0;34m.\u001b[0m\u001b[0mmerge\u001b[0m\u001b[0;34m(\u001b[0m\u001b[0mdf_final\u001b[0m\u001b[0;34m,\u001b[0m \u001b[0mencoded_df\u001b[0m\u001b[0;34m,\u001b[0m \u001b[0mleft_index\u001b[0m\u001b[0;34m=\u001b[0m\u001b[0;32mTrue\u001b[0m\u001b[0;34m,\u001b[0m \u001b[0mright_index\u001b[0m\u001b[0;34m=\u001b[0m\u001b[0;32mTrue\u001b[0m\u001b[0;34m)\u001b[0m\u001b[0;34m\u001b[0m\u001b[0;34m\u001b[0m\u001b[0m\n",
            "\u001b[0;31mNameError\u001b[0m: name 'df_final' is not defined"
          ]
        }
      ]
    },
    {
      "cell_type": "code",
      "source": [
        "df_merged.head()"
      ],
      "metadata": {
        "id": "NydzxTL0yQwJ"
      },
      "execution_count": null,
      "outputs": []
    },
    {
      "cell_type": "code",
      "source": [
        "# distribution of genres, multilabel allowed\n",
        "encoder.classes_"
      ],
      "metadata": {
        "id": "tiRzOfh3yoFy"
      },
      "execution_count": null,
      "outputs": []
    },
    {
      "cell_type": "code",
      "source": [
        "drop_genres = []\n",
        "for cls in encoder.classes_:\n",
        "  count = df_merged[cls].sum(axis=0)\n",
        "  if count == 1:\n",
        "    print(f\"{cls}: dropped\")\n",
        "    drop_genres.append(cls)\n",
        "  elif count != 1:\n",
        "    print(f\"{cls}: {count}, {count/df_merged.shape[0]:.3f}%\")"
      ],
      "metadata": {
        "id": "d-IsDiW-zfRa"
      },
      "execution_count": null,
      "outputs": []
    },
    {
      "cell_type": "code",
      "source": [
        "drop_genres"
      ],
      "metadata": {
        "id": "RylNaQGR0IRy"
      },
      "execution_count": null,
      "outputs": []
    },
    {
      "cell_type": "code",
      "source": [
        "df_merged.drop(drop_genres,axis=1,inplace=True)"
      ],
      "metadata": {
        "id": "rf_oYGGQ1ROZ"
      },
      "execution_count": null,
      "outputs": []
    },
    {
      "cell_type": "code",
      "source": [
        "gen_df = [cls for cls in encoder.classes_ if cls not in drop_genres]\n",
        "counts = [df_merged[gen].sum(axis=0) for gen in gen_df]\n",
        "gen_df = pd.DataFrame({'genre':gen_df,'counts':counts})"
      ],
      "metadata": {
        "id": "iwTghrIf1ULA"
      },
      "execution_count": null,
      "outputs": []
    },
    {
      "cell_type": "code",
      "source": [
        "plt.figure(figsize=(8,5))\n",
        "sns.barplot(gen_df.sort_values(by='counts',ascending=False),x='genre',y='counts',color='lightpink',edgecolor='black')\n",
        "plt.xticks(rotation=45)\n",
        "plt.title(\"Distribution of genres\"); # class imbalance problem"
      ],
      "metadata": {
        "id": "4BqC2fJz2Tzq"
      },
      "execution_count": null,
      "outputs": []
    },
    {
      "cell_type": "code",
      "source": [
        "# what genres usually go together? focus on the most common genre = drama\n",
        "df_merged[gen_df[\"genre\"]].corr()[\"drama\"].sort_values(ascending=False)[1:6]"
      ],
      "metadata": {
        "id": "NUAPNX1v1D0x"
      },
      "execution_count": null,
      "outputs": []
    },
    {
      "cell_type": "code",
      "source": [
        "df_merged[gen_df[\"genre\"]].corr()[\"action\"].sort_values(ascending=False)[1:6]"
      ],
      "metadata": {
        "id": "Jh3CwzAv2RjP"
      },
      "execution_count": null,
      "outputs": []
    },
    {
      "cell_type": "code",
      "source": [
        "df_merged[gen_df[\"genre\"]].corr()[\"comedy\"].sort_values(ascending=False)[1:5]"
      ],
      "metadata": {
        "id": "0DruZZdJ2ZXo"
      },
      "execution_count": null,
      "outputs": []
    },
    {
      "cell_type": "markdown",
      "source": [
        "Tokenization and Embedding"
      ],
      "metadata": {
        "id": "jRA1hn4sBAGG"
      }
    },
    {
      "cell_type": "code",
      "source": [
        "# total original vocab\n",
        "from itertools import chain\n",
        "flattened = list(chain.from_iterable(df_merged[\"overview\"].apply(lambda x: x.split(\" \")).tolist()))\n",
        "print(len(flattened))\n",
        "print(len(list(set(flattened)))) # before accpunting for stopwords?"
      ],
      "metadata": {
        "id": "qHqkfNP4Kibz"
      },
      "execution_count": null,
      "outputs": []
    },
    {
      "cell_type": "code",
      "source": [
        "# tfidf, use this as baseline benchmark\n",
        "tfidf = TfidfVectorizer(analyzer=\"word\",min_df=1,strip_accents='unicode',token_pattern=r'\\w{1,}', use_idf=True, smooth_idf=True, sublinear_tf=True, stop_words='english')\n",
        "overview_embedding = tfidf.fit_transform(df_merged[\"overview\"])\n",
        "overview_embedding.shape # too big"
      ],
      "metadata": {
        "id": "DlInbitX7B1J"
      },
      "execution_count": null,
      "outputs": []
    },
    {
      "cell_type": "code",
      "source": [
        "tfidf.get_feature_names_out()[10100:10200]"
      ],
      "metadata": {
        "id": "-ntudyun_5IP"
      },
      "execution_count": null,
      "outputs": []
    },
    {
      "cell_type": "markdown",
      "source": [
        "Loss function: multilabel log loss"
      ],
      "metadata": {
        "id": "v_yxNAmuK6NL"
      }
    },
    {
      "cell_type": "code",
      "source": [
        "def multilabel_logloss(y_true, y_pred):\n",
        "  y_pred = np.clip(y_pred, 1e-15, 1 - 1e-15)\n",
        "  log_loss = -np.mean(y_true * np.log(y_pred) + (1 - y_true) * np.log(1 - y_pred))\n",
        "  return log_loss"
      ],
      "metadata": {
        "id": "QsotRsw1Kngb"
      },
      "execution_count": null,
      "outputs": []
    },
    {
      "cell_type": "code",
      "source": [
        "# on average, logloss for 1 observation is ?\n",
        "print(f\"No of classes: {gen_df.shape[0]}\")\n",
        "print(f\"Initial loss guess: {-np.log(1/gen_df.shape[0])}\")"
      ],
      "metadata": {
        "id": "8m7LOBi-O_ip"
      },
      "execution_count": null,
      "outputs": []
    },
    {
      "cell_type": "markdown",
      "source": [
        "Fit logistic regression on input embeddings"
      ],
      "metadata": {
        "id": "tCSJPr1ePijD"
      }
    },
    {
      "cell_type": "code",
      "source": [
        "for genr in gen_df[\"genre\"].values:\n",
        "  print(f\"{genr}: {df_merged[genr].sum(axis=0)}\")"
      ],
      "metadata": {
        "id": "nglNGVINRvKJ"
      },
      "execution_count": null,
      "outputs": []
    },
    {
      "cell_type": "code",
      "source": [
        "# split data\n",
        "X = overview_embedding\n",
        "y = df_merged[gen_df['genre'].values]\n",
        "X_train, X_test, y_train, y_test = train_test_split(X,y,test_size=0.2,random_state=110598) # cant use stratify due to imbalance class"
      ],
      "metadata": {
        "id": "T6pfayYNQIUz"
      },
      "execution_count": null,
      "outputs": []
    },
    {
      "cell_type": "code",
      "source": [
        "print(X_train.shape, X_test.shape)"
      ],
      "metadata": {
        "id": "GCBqdSPWdvmW"
      },
      "execution_count": null,
      "outputs": []
    },
    {
      "cell_type": "code",
      "source": [
        "# check distribution of genres in 2 datasets\n",
        "def genre_dist(data):\n",
        "  for genre in data.columns:\n",
        "    print(f\"{genre}: {data[genre].sum(axis=0)}, {data[genre].sum(axis=0)/data.shape[0]:.3f}%\")"
      ],
      "metadata": {
        "id": "T31z3-QbSOav"
      },
      "execution_count": null,
      "outputs": []
    },
    {
      "cell_type": "code",
      "source": [
        "genre_dist(y_train)"
      ],
      "metadata": {
        "id": "NKCyFT3XSqpJ"
      },
      "execution_count": null,
      "outputs": []
    },
    {
      "cell_type": "code",
      "source": [
        "genre_dist(y_test)"
      ],
      "metadata": {
        "id": "g4mh0kjRStJ5"
      },
      "execution_count": null,
      "outputs": []
    },
    {
      "cell_type": "code",
      "source": [
        "# logistic regression\n",
        "clf = MultiOutputClassifier(LogisticRegression())\n",
        "clf.fit(X_train,y_train)\n",
        "predictions = np.array(clf.predict_proba(X_test))[:,:,1].transpose()\n",
        "print(f\"logloss: {multilabel_logloss(y_test,predictions):.3f}\")"
      ],
      "metadata": {
        "id": "febzylT4O0Nz"
      },
      "execution_count": null,
      "outputs": []
    },
    {
      "cell_type": "code",
      "source": [
        "# apply SVD to reduce to 120 components for our embeddings\n",
        "svd = TruncatedSVD(n_components=120)\n",
        "svd.fit(X_train)\n",
        "X_train_svd = svd.transform(X_train)\n",
        "X_test_svd = svd.transform(X_test)\n",
        "\n",
        "scl = StandardScaler()\n",
        "scl.fit(X_train_svd)\n",
        "X_train_scl = scl.transform(X_train_svd)\n",
        "X_test_scl = scl.transform(X_test_svd)"
      ],
      "metadata": {
        "id": "Kbv04uIqWSwN",
        "colab": {
          "base_uri": "https://localhost:8080/",
          "height": 221
        },
        "outputId": "51ff92e2-1890-4dc2-f189-993c12f0cd4e"
      },
      "execution_count": null,
      "outputs": [
        {
          "output_type": "error",
          "ename": "NameError",
          "evalue": "name 'TruncatedSVD' is not defined",
          "traceback": [
            "\u001b[0;31m---------------------------------------------------------------------------\u001b[0m",
            "\u001b[0;31mNameError\u001b[0m                                 Traceback (most recent call last)",
            "\u001b[0;32m<ipython-input-4-b672439b63e0>\u001b[0m in \u001b[0;36m<cell line: 2>\u001b[0;34m()\u001b[0m\n\u001b[1;32m      1\u001b[0m \u001b[0;31m# apply SVD to reduce to 120 components for our embeddings\u001b[0m\u001b[0;34m\u001b[0m\u001b[0;34m\u001b[0m\u001b[0m\n\u001b[0;32m----> 2\u001b[0;31m \u001b[0msvd\u001b[0m \u001b[0;34m=\u001b[0m \u001b[0mTruncatedSVD\u001b[0m\u001b[0;34m(\u001b[0m\u001b[0mn_components\u001b[0m\u001b[0;34m=\u001b[0m\u001b[0;36m120\u001b[0m\u001b[0;34m)\u001b[0m\u001b[0;34m\u001b[0m\u001b[0;34m\u001b[0m\u001b[0m\n\u001b[0m\u001b[1;32m      3\u001b[0m \u001b[0msvd\u001b[0m\u001b[0;34m.\u001b[0m\u001b[0mfit\u001b[0m\u001b[0;34m(\u001b[0m\u001b[0mX_train\u001b[0m\u001b[0;34m)\u001b[0m\u001b[0;34m\u001b[0m\u001b[0;34m\u001b[0m\u001b[0m\n\u001b[1;32m      4\u001b[0m \u001b[0mX_train_svd\u001b[0m \u001b[0;34m=\u001b[0m \u001b[0msvd\u001b[0m\u001b[0;34m.\u001b[0m\u001b[0mtransform\u001b[0m\u001b[0;34m(\u001b[0m\u001b[0mX_train\u001b[0m\u001b[0;34m)\u001b[0m\u001b[0;34m\u001b[0m\u001b[0;34m\u001b[0m\u001b[0m\n\u001b[1;32m      5\u001b[0m \u001b[0mX_test_svd\u001b[0m \u001b[0;34m=\u001b[0m \u001b[0msvd\u001b[0m\u001b[0;34m.\u001b[0m\u001b[0mtransform\u001b[0m\u001b[0;34m(\u001b[0m\u001b[0mX_test\u001b[0m\u001b[0;34m)\u001b[0m\u001b[0;34m\u001b[0m\u001b[0;34m\u001b[0m\u001b[0m\n",
            "\u001b[0;31mNameError\u001b[0m: name 'TruncatedSVD' is not defined"
          ]
        }
      ]
    },
    {
      "cell_type": "code",
      "source": [
        "print(X_train_scl.shape, X_test_scl.shape)"
      ],
      "metadata": {
        "id": "VQ4TbS2fDFdu"
      },
      "execution_count": null,
      "outputs": []
    },
    {
      "cell_type": "code",
      "source": [
        "# embedding distribution for the first 100 overviews, most are close to 0\n",
        "plt.imshow(X_train_scl[:100,:],cmap='viridis')\n",
        "plt.colorbar();"
      ],
      "metadata": {
        "id": "XNj7gC3WaZHj"
      },
      "execution_count": null,
      "outputs": []
    },
    {
      "cell_type": "code",
      "source": [
        "# do this later for BERT-produced embeddings\n",
        "# 2d embedding\n",
        "svd_2d = TruncatedSVD(n_components=2)\n",
        "X_train_svd2d = svd_2d.fit_transform(X_train)\n",
        "\n",
        "# plot the first 50 titles\n",
        "x,y = X_train_svd2d[:50,0], X_train_svd2d[:50,1]\n",
        "plt.scatter(x,y,alpha=0.7)\n",
        "for i, label in enumerate(df_merged[\"original_title\"][:50]):\n",
        "    plt.text(x[i], y[i], label, ha='right', va='bottom', fontsize=10, color='black',alpha=0.5);"
      ],
      "metadata": {
        "id": "9SsszGWndSh3"
      },
      "execution_count": null,
      "outputs": []
    },
    {
      "cell_type": "code",
      "source": [
        "# reapply logistic regression\n",
        "clf = MultiOutputClassifier(LogisticRegression())\n",
        "clf.fit(X_train_scl,y_train)\n",
        "predictions = np.array(clf.predict_proba(X_test_scl))[:,:,1].transpose()\n",
        "print(f\"logloss: {multilabel_logloss(y_test,predictions):.3f}\")"
      ],
      "metadata": {
        "id": "5qYkV38fX3h1"
      },
      "execution_count": null,
      "outputs": []
    },
    {
      "cell_type": "code",
      "source": [
        "# xgboost on lower dim data\n",
        "clf = MultiOutputClassifier(XGBClassifier(max_depth=7, n_estimators=150,colsample_bytree=0.8,subsample=0.8,learning_rate=0.1))\n",
        "clf.fit(X_train_scl,y_train)\n",
        "predictions = np.array(clf.predict_proba(X_test_scl))[:,:,1].transpose()\n",
        "print(f\"logloss: {multilabel_logloss(y_test,predictions):.3f}\")"
      ],
      "metadata": {
        "id": "bvrC7gZbZnnw"
      },
      "execution_count": null,
      "outputs": []
    },
    {
      "cell_type": "code",
      "source": [
        "# multilabel classification metrics, but need to determine decision threshold before that\n",
        "# for this problem, manually divide into N-genre classes and pick the top N probabilities and see if the true class is one of them\n",
        "prob_threshold = pd.DataFrame(predictions).apply(lambda x: np.sort(x.values)[::-1][4],axis=1)\n",
        "y_preds = np.where(predictions > prob_threshold.to_numpy().reshape(-1,1),1,0)"
      ],
      "metadata": {
        "id": "HFTTHDhKiVKd"
      },
      "execution_count": null,
      "outputs": []
    },
    {
      "cell_type": "code",
      "source": [
        "def Ngenre_metric(N):\n",
        "  subdf = y_test.apply(lambda x: x.sum()==N,axis=1)\n",
        "  prob_threshold = pd.DataFrame(predictions).apply(lambda x: np.sort(x.values)[::-1][N-1],axis=1)\n",
        "  y_preds = np.where(predictions > prob_threshold.to_numpy().reshape(-1,1),1,0)\n",
        "  print(f\"hamming loss: {hamming_loss(y_test,y_preds):.3f}\")\n",
        "  print(f\"subset accuracy: {accuracy_score(y_test,y_preds)*100:.3f}%\")\n",
        "  print(f\"f1 score: {f1_score(y_test, y_preds, average='weighted'):.3f}\")"
      ],
      "metadata": {
        "id": "qRuEX4acof18"
      },
      "execution_count": null,
      "outputs": []
    },
    {
      "cell_type": "code",
      "source": [
        "for n in range(1,9):\n",
        "  print(f\"Metrics for the {n}-genre group\")\n",
        "  Ngenre_metric(n)\n",
        "  print(\" \")"
      ],
      "metadata": {
        "id": "liHGPRtwqMVz"
      },
      "execution_count": null,
      "outputs": []
    },
    {
      "cell_type": "markdown",
      "source": [
        "Possible explanation for the model's terrible performance:\n",
        "- Imbalanced class distribution - consider grouping the highly correlated genres into 1, but this risks losing a lot of information\n",
        "- Multilabel complexity: dependency - use chained classifier if stick to logistic regresison, else migrate to transformer completely\n",
        "- Failure to capture information from text: better text tokenization and embedding, use BERT-like encoder to vectorize the overviews\n",
        "\n",
        "However, I decide to not move forward at this step due to the limited usability of this project. For example, LLM can already predict the genre very accurately when you provide it with a madeup overview. Furthermore, nowadays you don't need to know the genre in order to recommend what movies a new use will like anymore. Comparing between the overview texts themselves usually suffices."
      ],
      "metadata": {
        "id": "MrVgJodel1el"
      }
    },
    {
      "cell_type": "code",
      "source": [],
      "metadata": {
        "id": "3cYHDsgFAOPT"
      },
      "execution_count": null,
      "outputs": []
    }
  ]
}